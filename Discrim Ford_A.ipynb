{
 "cells": [
  {
   "cell_type": "code",
   "execution_count": 1,
   "metadata": {},
   "outputs": [],
   "source": [
    "import pandas as pd\n",
    "import numpy as np\n",
    "import matplotlib.pyplot as plt\n",
    "import torch\n",
    "from tqdm.notebook import tqdm\n",
    "import pickle\n",
    "import copy\n",
    "import os\n",
    "\n",
    "from torch.utils.data import Dataset, DataLoader\n",
    "from torch import nn\n",
    "from models.models import LSTM_net\n",
    "\n",
    "from ignite.handlers.param_scheduler import create_lr_scheduler_with_warmup\n",
    "\n",
    "from sklearn.metrics import mean_squared_error as MSE\n",
    "from sklearn.metrics import mean_absolute_error as MAE\n",
    "from sklearn.metrics import mean_absolute_percentage_error as MAPE\n",
    "\n",
    "from typing import Dict, Any, Tuple, List, Union, Sequence, Callable\n",
    "\n",
    "\n",
    "from sklearn.metrics import accuracy_score, precision_score, recall_score, f1_score, roc_auc_score, average_precision_score\n",
    "\n",
    "from utils.attacks import IterGradAttack, fgsm_attack, fgsm_reg_attack\n",
    "from utils.attacks import (fgsm_disc_attack, fgsm_attack, fgsm_reg_attack, \n",
    "simba_binary, simba_binary_reg, simba_binary_disc_reg)\n",
    "from utils.discrim_attack import HideAttackExp\n",
    "from utils.data import load_Ford_A, transform_Ford_A, MyDataset\n",
    "import warnings\n",
    "warnings.filterwarnings(\"ignore\")"
   ]
  },
  {
   "cell_type": "markdown",
   "metadata": {},
   "source": [
    "# Data Loading"
   ]
  },
  {
   "cell_type": "code",
   "execution_count": 2,
   "metadata": {},
   "outputs": [
    {
     "name": "stdout",
     "output_type": "stream",
     "text": [
      "(array([-1,  1]), array([1846, 1755]))\n",
      "(array([-1,  1]), array([681, 639]))\n"
     ]
    },
    {
     "data": {
      "text/plain": [
       "((3601, 500), (1320, 500), (3601,), (1320,))"
      ]
     },
     "execution_count": 2,
     "metadata": {},
     "output_type": "execute_result"
    }
   ],
   "source": [
    "col = 'FordA'\n",
    "\n",
    "import sktime\n",
    "from sktime.datasets import load_from_tsfile\n",
    "\n",
    "x_train, y_train = load_from_tsfile(\"data/Ford_A/FordA_TRAIN.ts\")\n",
    "x_test, y_test = load_from_tsfile(\"data/Ford_A/FordA_TEST.ts\")\n",
    "\n",
    "def readucr(filename):\n",
    "    data = np.loadtxt(filename, delimiter=\"\\t\")\n",
    "    y = data[:, 0]\n",
    "    x = data[:, 1:]\n",
    "    return x, y.astype(int)\n",
    "\n",
    "\n",
    "root_url = \"https://raw.githubusercontent.com/hfawaz/cd-diagram/master/FordA/\"\n",
    "\n",
    "x_train, y_train = readucr(root_url + \"FordA_TRAIN.tsv\")\n",
    "x_test, y_test = readucr(root_url + \"FordA_TEST.tsv\")\n",
    "\n",
    "print(np.unique(y_train, return_counts=True))\n",
    "print(np.unique(y_test, return_counts=True))\n",
    "\n",
    "x_train.shape, x_test.shape, y_train.shape, y_test.shape"
   ]
  },
  {
   "cell_type": "code",
   "execution_count": 3,
   "metadata": {},
   "outputs": [],
   "source": [
    "def transform_X(X):\n",
    "    np_data = []\n",
    "    lens = []\n",
    "    for i in range(len(X)):\n",
    "        line = X.iloc[i, 0]\n",
    "        lens.append(len(line))\n",
    "        np_data.append(line)\n",
    "        \n",
    "    #print(np.mean(lens), np.std(lens))\n",
    "    return np.array(np_data)"
   ]
  },
  {
   "cell_type": "code",
   "execution_count": 4,
   "metadata": {},
   "outputs": [
    {
     "name": "stdout",
     "output_type": "stream",
     "text": [
      "(36010, 50) (13200, 50) (36010, 1) (13200, 1)\n"
     ]
    },
    {
     "data": {
      "text/plain": [
       "[<matplotlib.lines.Line2D at 0x7f03cb46c070>]"
      ]
     },
     "execution_count": 4,
     "metadata": {},
     "output_type": "execute_result"
    },
    {
     "data": {
      "image/png": "[encoded data removed]",
      "text/plain": [
       "<Figure size 432x288 with 1 Axes>"
      ]
     },
     "metadata": {
      "needs_background": "light"
     },
     "output_type": "display_data"
    }
   ],
   "source": [
    "window = 50\n",
    "len_seq = x_train.shape[1]\n",
    "n_patches = len_seq//window\n",
    "\n",
    "X_train = np.vstack([x_train[:, i:i+window] for i in range(n_patches)])\n",
    "X_test = np.vstack([x_test[:, i:i+window] for i in range(n_patches)])\n",
    "\n",
    "y_train = np.array([(int(y)+1) // 2 for y in y_train])\n",
    "y_test = np.array([(int(y)+1) // 2 for y in y_test])\n",
    "\n",
    "y_train = np.vstack([y_train.reshape(-1, 1) for i in range(n_patches)])\n",
    "y_test = np.vstack([y_test.reshape(-1, 1) for i in range(n_patches)])\n",
    "\n",
    "print(X_train.shape, X_test.shape, y_train.shape, y_test.shape)\n",
    "\n",
    "plt.plot(X_train[1])"
   ]
  },
  {
   "cell_type": "code",
   "execution_count": 5,
   "metadata": {},
   "outputs": [],
   "source": [
    "X_train_tensor = torch.tensor(X_train, dtype=torch.float32)\n",
    "X_test_tensor =torch.tensor(X_test, dtype=torch.float32)\n",
    "\n",
    "y_train_tensor = torch.tensor(y_train, dtype=torch.int32)\n",
    "y_test_tensor = torch.tensor(y_test, dtype=torch.int32)"
   ]
  },
  {
   "cell_type": "markdown",
   "metadata": {},
   "source": [
    "# Modelling"
   ]
  },
  {
   "cell_type": "code",
   "execution_count": 6,
   "metadata": {},
   "outputs": [],
   "source": [
    "class MyDataset(Dataset):\n",
    "    def __init__(self, X, y, window=50):\n",
    "        super().__init__()\n",
    "        self.X = X\n",
    "        self.y = y\n",
    "        self.window=window\n",
    "\n",
    "    def __len__(self):\n",
    "        return len(self.y)\n",
    "    \n",
    "    def __getitem__(self, idx):\n",
    "        X = torch.tensor(self.X[idx], dtype=torch.float32)\n",
    "        \n",
    "#         start_ind = np.random.randint(0, len(X) - self.window)\n",
    "#         X = X[start_ind:start_ind+self.window]\n",
    "        X = X.reshape([-1, 1])\n",
    "        y = torch.tensor(self.y[idx], dtype=torch.float32)\n",
    "        return X, y\n",
    "\n",
    "    \n",
    "BS = 64    \n",
    "train_loader = DataLoader(MyDataset(X_train[50:], y_train[50:]), batch_size=BS, shuffle=True)\n",
    "test_loader = DataLoader(MyDataset(X_test[50:], y_test[50:]), batch_size=BS, shuffle=False)"
   ]
  },
  {
   "cell_type": "code",
   "execution_count": 7,
   "metadata": {},
   "outputs": [],
   "source": [
    "class LSTM_net(nn.Module):\n",
    "    def __init__(self, hidden_dim, n_layers, output_dim=1, dropout=0.2):\n",
    "        super().__init__()\n",
    "        self.rnn = nn.LSTM(1, \n",
    "                           hidden_dim, \n",
    "                           num_layers=n_layers, \n",
    "                           dropout=dropout,\n",
    "                           batch_first=True)\n",
    "        \n",
    "        self.fc1 = nn.Linear(hidden_dim, hidden_dim)\n",
    "        self.relu = nn.ReLU()\n",
    "        self.fc2 = nn.Linear(hidden_dim, output_dim)\n",
    "        self.dropout = nn.Dropout(dropout)\n",
    "        \n",
    "        \n",
    "    def forward(self, data):\n",
    "        \n",
    "        packed_output, (hidden, cell) = self.rnn(data)\n",
    "        hidden = hidden.reshape(hidden.shape[1], hidden.shape[2])\n",
    "        \n",
    "        hidden = self.dropout(hidden)\n",
    "        output = self.relu(self.fc1(hidden))\n",
    "        output = self.fc2(self.dropout(output))\n",
    "        output = torch.sigmoid(output)\n",
    "            \n",
    "        return output"
   ]
  },
  {
   "cell_type": "code",
   "execution_count": 8,
   "metadata": {},
   "outputs": [],
   "source": [
    "def train_step(model, loader, criterion, device, optimizer, scheduler=None):\n",
    "    losses, n_batches = 0, 0\n",
    "    model.train(True)\n",
    "    for x, labels in loader:\n",
    "\n",
    "        optimizer.zero_grad()\n",
    "        x = x.to(device)\n",
    "        labels = labels.reshape(-1, 1).to(device)\n",
    "        \n",
    "        y_out = model(x)\n",
    "        loss = criterion(y_out, labels) \n",
    "        \n",
    "        loss.backward()     \n",
    "        optimizer.step()\n",
    "        losses += loss\n",
    "        n_batches += 1\n",
    "\n",
    "    mean_loss = losses / n_batches\n",
    "\n",
    "    if scheduler:\n",
    "        scheduler.step()\n",
    "    \n",
    "    return mean_loss\n",
    "\n",
    "def valid_step(model, loader, criterion, device):\n",
    "    \n",
    "    losses, n_batches = 0, 0\n",
    "    model.eval()    \n",
    "    for x, labels in loader:\n",
    "        with torch.no_grad():\n",
    "            x = x.to(device)\n",
    "            labels = labels.reshape(-1, 1).to(device)\n",
    "\n",
    "            y_out = model(x)\n",
    "            loss = criterion(y_out, labels)\n",
    "            losses += loss\n",
    "\n",
    "            n_batches += 1\n",
    "\n",
    "    mean_loss = losses / n_batches\n",
    "    return mean_loss\n",
    "\n",
    "\n",
    "def calculate_metrics(y_true, y_pred):\n",
    "    acc = accuracy_score(y_true, y_pred)\n",
    "    pr = precision_score(y_true, y_pred)\n",
    "    rec = recall_score(y_true, y_pred)\n",
    "    f1 = f1_score(y_true, y_pred)\n",
    "    return acc, pr, rec, f1\n",
    "    \n",
    "def estimate_epoch(loader, model=None, device='cpu', round_=True, multiclass=False):\n",
    "    \n",
    "    y_all_pred = torch.tensor([])\n",
    "    y_all_true = torch.tensor([])\n",
    "    \n",
    "    for X, y_true in loader:\n",
    "        X = X.to(device)\n",
    "        y_pred = model(X)\n",
    "        \n",
    "        if multiclass:\n",
    "            y_pred = torch.argmax(y_pred, axis=1)\n",
    "        else:\n",
    "            y_pred = torch.round(y_pred)\n",
    "        \n",
    "        y_all_true = torch.cat((y_all_true, y_true.cpu().detach()), dim=0)\n",
    "        y_all_pred = torch.cat((y_all_pred, y_pred.cpu().detach()), dim=0)\n",
    "        \n",
    "    y_all_pred = y_all_pred.numpy().reshape([-1, 1])\n",
    "    y_all_true = y_all_true.numpy().reshape([-1, 1])\n",
    "    \n",
    "    acc, pr, rec, f1 = calculate_metrics(y_all_true, y_all_pred)\n",
    "    \n",
    "    return acc, pr, rec, f1\n",
    "\n",
    "def train_procedure(model, train_loader, test_loader, criterion, optimizer, scheduler=None,\n",
    "                   num_epochs=30, step_print=5):\n",
    "    \n",
    "    for epoch in tqdm(range(num_epochs)):\n",
    "        train_loss = train_step(model, train_loader, criterion, device, optimizer, scheduler)\n",
    "        test_loss = valid_step(model, test_loader, criterion, device) \n",
    "\n",
    "        acc_train, pr_train, rec_train, f1_train = estimate_epoch(train_loader, model, device=device)\n",
    "        acc_test, pr_test, rec_test, f1_test = estimate_epoch(test_loader, model, device=device)\n",
    "\n",
    "        if epoch % step_print == 0:\n",
    "            print(f'[Epoch {epoch + 1}] train loss: {train_loss:.3f}; acc_train {acc_train:.3f}; f1_train {f1_train:.3f}; test loss: {test_loss:.3f}; acc_test {acc_test:.3f}; f1_test {f1_test:.3f};')\n",
    "#             plt.hist(y_test_pred)\n",
    "#             plt.show()\n",
    "            \n",
    "    return model\n",
    "\n",
    "def calculate_metrics(y_true, y_pred):\n",
    "    acc = accuracy_score(y_true, y_pred)\n",
    "    pr = precision_score(y_true, y_pred)\n",
    "    rec = recall_score(y_true, y_pred)\n",
    "    f1 = f1_score(y_true, y_pred)\n",
    "    return acc, pr, rec, f1\n",
    "\n",
    "def plotting(y_true, y_pred, window=1000):\n",
    "    plt.figure(figsize=(8, 5))\n",
    "    plt.plot(y_true[-window:], label = 'True')\n",
    "    plt.plot(y_pred[-window:], label = 'Pred')\n",
    "    plt.grid()\n",
    "    plt.legend()\n",
    "    plt.show()\n"
   ]
  },
  {
   "cell_type": "code",
   "execution_count": 9,
   "metadata": {},
   "outputs": [],
   "source": [
    "X_train_tensor = torch.tensor(X_train, dtype=torch.float32)\n",
    "X_test_tensor =torch.tensor(X_test, dtype=torch.float32)\n",
    "X_train_tensor = X_train_tensor.reshape([X_train_tensor.shape[0],X_train_tensor.shape[1], 1])\n",
    "X_test_tensor = X_test_tensor.reshape([X_test_tensor.shape[0],X_test_tensor.shape[1], 1])\n",
    "\n",
    "y_train_tensor = torch.tensor(y_train, dtype=torch.int32)\n",
    "y_test_tensor = torch.tensor(y_test, dtype=torch.int32)"
   ]
  },
  {
   "cell_type": "markdown",
   "metadata": {},
   "source": [
    "## Stop here"
   ]
  },
  {
   "cell_type": "code",
   "execution_count": 11,
   "metadata": {},
   "outputs": [],
   "source": [
    "# device= torch.device('cuda:2' if torch.cuda.is_available() else 'cpu')\n",
    "# #device = 'cpu'\n",
    "\n",
    "# num_epochs = 15\n",
    "# #print(num_epochs)\n",
    "# LR = 0.001\n",
    "\n",
    "# HIDDEN_DIM = 50\n",
    "# OUTPUT_DIM = 1\n",
    "# N_LAYERS = 1\n",
    "# DROPOUT = 0.3\n",
    "\n",
    "# for model_id in range(5):\n",
    "#     print(model_id)\n",
    "#     torch.manual_seed(model_id)\n",
    "\n",
    "#     model = LSTM_net(HIDDEN_DIM, N_LAYERS, OUTPUT_DIM, DROPOUT).to(device)\n",
    "\n",
    "#     criterion = torch.nn.BCELoss()\n",
    "#     optimizer = torch.optim.Adam(model.parameters(), lr=LR)\n",
    "#     scheduler = torch.optim.lr_scheduler.StepLR(optimizer, 12, gamma=0.1)\n",
    "    \n",
    "#     model = train_procedure(model, train_loader, test_loader, criterion, optimizer,\n",
    "#                 num_epochs=15, step_print=5)\n",
    "    \n",
    "#     torch.save(model.state_dict(), f'checkpoints/Ford_A/model_{model_id}_{col}.pth') "
   ]
  },
  {
   "attachments": {},
   "cell_type": "markdown",
   "metadata": {},
   "source": [
    "# Experiment with discriminator model"
   ]
  },
  {
   "cell_type": "code",
   "execution_count": 12,
   "metadata": {},
   "outputs": [],
   "source": [
    "# def fgsm_attack(loss_val, x, eps):\n",
    "    \n",
    "#     grad_ = torch.autograd.grad(loss_val, x, retain_graph=True)[0]\n",
    "#     x_adv = x.data + eps * torch.sign(grad_)\n",
    "#     return x_adv\n",
    "    \n",
    "# def fgsm_reg_attack(loss_val, x, eps, alpha):\n",
    "    \n",
    "#     x_anchor = x[:, 1:-1]\n",
    "#     x_left = x[:, 2:]\n",
    "#     x_right = x[:, :-2]\n",
    "#     x_regular = (x_left + x_right) / 2\n",
    "#     loss_reg = torch.sum((x_anchor - x_regular.detach()) ** 2, dim=list(range(1, len(x.shape))))\n",
    "    \n",
    "#     loss = loss_val - alpha * torch.mean(loss_reg)\n",
    "#     grad_ = torch.autograd.grad(loss, x, retain_graph=True)[0]\n",
    "#     x_adv = x.data + eps * (torch.sign(grad_))\n",
    "\n",
    "#     return x_adv\n",
    "\n",
    "\n",
    "# def attack_one_iter(\n",
    "#         model: nn.Module,  # model for attack\n",
    "#         loader: DataLoader,  # dataloader with data\n",
    "#         criterion: nn.Module,\n",
    "#         attack_fun,\n",
    "#         attack_params,\n",
    "#         device='cpu',\n",
    "#         train_mode=False):  # params_dict with eps and iter number\n",
    "\n",
    "#     \"\"\"\n",
    "#     Applies 1 iteration of ifgsm adversarial attack to data\n",
    "#     :param model: model to get grad\n",
    "#     :param loader: dataloader with data\n",
    "#     :param criterion: loss function to calculate gradient for attack\n",
    "#     :param eps: the strengh of attack\n",
    "#     :param train_mode: bool to change mode of the model: should be False,\n",
    "#                        but RNN layers can't calculate grad with False value, so need to be set as True\n",
    "#     :return: x_adv_tensor - adversarial data,\n",
    "#             all_y_true - true labels,\n",
    "#             all_preds - predinctions before attack,\n",
    "#             all_preds_adv - predinctions on attacked data\n",
    "#     \"\"\"\n",
    "#     model.train(train_mode)\n",
    "#     req_grad(model, state=False)  # detach all model's parameters\n",
    "\n",
    "#     all_y_true = []  # logging y_true for rebuilding dataloader and calculation difference with preds\n",
    "#     all_preds = []  # logging predictions original for calculation difference with data\n",
    "#     all_preds_adv = []  # logging predictions for calculation difference with data\n",
    "#     x_adv_tensor = torch.FloatTensor([])  # logging x_adv for rebuilding dataloader\n",
    "\n",
    "#     for x, y_true in loader:\n",
    "#         all_y_true.extend(y_true.detach().data.numpy())\n",
    "\n",
    "#         x.grad = None\n",
    "#         x.requires_grad = True\n",
    "\n",
    "#         # prediction for original input\n",
    "#         x = x.to(device, non_blocking=True)\n",
    "#         y_true = y_true.to(device)\n",
    "        \n",
    "#         y_pred = model(x)\n",
    "\n",
    "#         # attack for adv input\n",
    "#         loss_val = criterion(y_pred, y_true.reshape(-1, 1))\n",
    "#         x_adv = attack_fun(loss_val, x, **attack_params)\n",
    "#         x_adv_tensor = torch.cat((x_adv_tensor, x_adv.cpu().detach()), dim=0)\n",
    "\n",
    "#         # assert (x_adv == x).sum() == 0, \"Data doesn't change after attack\"\n",
    "#         all_preds.extend(y_pred.cpu().detach().data.numpy())\n",
    "\n",
    "#         # prediction for adv input\n",
    "#         with torch.no_grad():\n",
    "#             y_pred_adv = model(x_adv)\n",
    "#             all_preds_adv.extend(y_pred_adv.cpu().detach().data.numpy())\n",
    "\n",
    "#         # assert (y_pred_adv == y_pred).sum() == 0, \"Predicitions doesn't change after attack\"\n",
    "\n",
    "#     return x_adv_tensor, all_y_true, all_preds, all_preds_adv\n",
    "\n",
    "\n",
    "# def attack_iterations_data(model: nn.Module,\n",
    "#                      loader: DataLoader,\n",
    "#                      dataset_class: Dataset,\n",
    "#                      criterion: nn.Module,\n",
    "#                      attack_fun,\n",
    "#                      attack_params,\n",
    "#                      n_steps: int,\n",
    "#                      device='cpu',\n",
    "#                      train_mode=False,\n",
    "#                      ):\n",
    "\n",
    "#     for iter_ in tqdm(range(n_steps)):\n",
    "\n",
    "#         # attack\n",
    "#         x_adv_tensor, y_true, preds_original, preds_adv = attack_one_iter(model=model, \n",
    "#                                                                           loader=loader, \n",
    "#                                                                           criterion=criterion, \n",
    "#                                                                           attack_fun=attack_fun,\n",
    "#                                                                           attack_params=attack_params, \n",
    "#                                                                           device=device, \n",
    "#                                                                           train_mode=train_mode)\n",
    "\n",
    "#         # rebuilding dataloader for new iteration\n",
    "#         it_dataset = dataset_class(x_adv_tensor, torch.tensor(y_true))\n",
    "#         loader = DataLoader(it_dataset, batch_size=loader.batch_size)\n",
    "\n",
    "#     return torch.tensor(x_adv_tensor).detach(), torch.tensor(y_true).detach()\n",
    "\n",
    "\n",
    "# def req_grad(model: nn.Module, state: bool = True) -> None:\n",
    "#     \"\"\"Set requires_grad of all model parameters to the desired value.\n",
    "\n",
    "#     :param model: the model\n",
    "#     :param state: desired value for requires_grad\n",
    "#     \"\"\"\n",
    "#     for param in model.parameters():\n",
    "#         param.requires_grad_(state)\n",
    "\n",
    "# def prepare_adv_data(\n",
    "#         model: nn.Module,  # model for attack\n",
    "#         loader: DataLoader,  # dataloader with data\n",
    "#         criterion: nn.Module,\n",
    "#         attack_func,\n",
    "#         attack_params,\n",
    "#         device='cpu',\n",
    "#         train_mode=False):  # params_dict with eps and iter number\n",
    "\n",
    "#     model.train(train_mode)\n",
    "#     req_grad(model, state=False)  # detach all model's parameters\n",
    "\n",
    "#     all_y_true = torch.tensor([]) # logging y_true for rebuilding dataloader and calculation difference with preds\n",
    "#     x_adv_tensor = torch.FloatTensor([])  # logging x_adv for rebuilding dataloader\n",
    "\n",
    "#     for x, y_true in loader:\n",
    "        \n",
    "#         all_y_true = torch.cat((all_y_true, y_true.cpu().detach()), dim=0)\n",
    "#         x.grad = None\n",
    "#         x.requires_grad = True\n",
    "\n",
    "#         # prediction for original input\n",
    "#         x = x.to(device, non_blocking=True)\n",
    "#         y_true = y_true.to(device)\n",
    "\n",
    "#         y_pred = model(x)\n",
    "\n",
    "#         # attack for adv input\n",
    "#         loss_val = criterion(y_pred, y_true.reshape(-1, 1))\n",
    "#         x_adv = attack_fun(loss_val, x, **attack_params)\n",
    "#         x_adv_tensor = torch.cat((x_adv_tensor, x_adv.cpu().detach()), dim=0)\n",
    "\n",
    "#     return x_adv_tensor.detach(), all_y_true.detach()\n",
    "\n",
    "\n",
    "# def prepare_disc_data(model, \n",
    "#                       loader, \n",
    "#                       dataset_class,\n",
    "#                       X_tensor, \n",
    "#                       criterion,\n",
    "#                       attack_fun,\n",
    "#                       attack_params, \n",
    "#                       n_steps,\n",
    "#                       device, \n",
    "#                       batch_size,\n",
    "#                       train_mode=True):\n",
    "    \n",
    "\n",
    "#     X_adv, y_adv = attack_iterations_data(model, loader, dataset_class, criterion, attack_fun, attack_params,\n",
    "#                                           n_steps, device, train_mode=train_mode)\n",
    "\n",
    "    \n",
    "    \n",
    "#     disc_labels_zeros = torch.zeros((len(X_tensor), 1)) #True label class\n",
    "#     disc_labels_ones = torch.ones(y_adv.shape) #True label class\n",
    "    \n",
    "#     new_x = torch.concat([X_tensor, X_adv], dim=0)\n",
    "#     new_y = torch.concat([disc_labels_zeros, disc_labels_ones], dim=0)\n",
    "    \n",
    "#     disc_loader = DataLoader(dataset_class(new_x, new_y), batch_size=BS, shuffle=True)\n",
    "    \n",
    "#     return disc_loader"
   ]
  },
  {
   "cell_type": "code",
   "execution_count": 14,
   "metadata": {},
   "outputs": [
    {
     "data": {
      "text/plain": [
       "<All keys matched successfully>"
      ]
     },
     "execution_count": 14,
     "metadata": {},
     "output_type": "execute_result"
    }
   ],
   "source": [
    "# attack model loading\n",
    "model_id = 0\n",
    "path_to_saves = 'checkpoints/Ford_A/'\n",
    "\n",
    "HIDDEN_DIM = 50\n",
    "OUTPUT_DIM = 1\n",
    "N_LAYERS = 1\n",
    "DROPOUT = 0.0\n",
    "\n",
    "device= torch.device('cuda:2' if torch.cuda.is_available() else 'cpu')\n",
    "\n",
    "attack_model = LSTM_net(HIDDEN_DIM, N_LAYERS, OUTPUT_DIM, DROPOUT).to(device)\n",
    "model_path = path_to_saves + f'model_{model_id}_{col}.pth'\n",
    "attack_model.load_state_dict(copy.deepcopy(torch.load(model_path)))"
   ]
  },
  {
   "cell_type": "code",
   "execution_count": 51,
   "metadata": {},
   "outputs": [
    {
     "name": "stdout",
     "output_type": "stream",
     "text": [
      "Generating adv data\n"
     ]
    },
    {
     "data": {
      "application/vnd.jupyter.widget-view+json": {
       "model_id": "72f84c50ce5b4500bc8398aae1d49547",
       "version_major": 2,
       "version_minor": 0
      },
      "text/plain": [
       "  0%|          | 0/10 [00:00<?, ?it/s]"
      ]
     },
     "metadata": {},
     "output_type": "display_data"
    },
    {
     "data": {
      "application/vnd.jupyter.widget-view+json": {
       "model_id": "ea3d037c1b3c4434a183d00d50ef6251",
       "version_major": 2,
       "version_minor": 0
      },
      "text/plain": [
       "  0%|          | 0/10 [00:00<?, ?it/s]"
      ]
     },
     "metadata": {},
     "output_type": "display_data"
    },
    {
     "name": "stdout",
     "output_type": "stream",
     "text": [
      "Train discriminator\n"
     ]
    },
    {
     "data": {
      "application/vnd.jupyter.widget-view+json": {
       "model_id": "bc62217347fb4d9b97330269a5068c4f",
       "version_major": 2,
       "version_minor": 0
      },
      "text/plain": [
       "  0%|          | 0/20 [00:00<?, ?it/s]"
      ]
     },
     "metadata": {},
     "output_type": "display_data"
    }
   ],
   "source": [
    "\n",
    "LR = 0.001\n",
    "step_lr = 12\n",
    "\n",
    "\n",
    "attack_train_params = {'attack_func':fgsm_reg_attack, \n",
    "                      'attack_params':{'eps':0.03, 'alpha':0.01}, \n",
    "                      'criterion':torch.nn.BCELoss(), \n",
    "                      'n_steps':10,\n",
    "                      'train_mode': True}\n",
    "attack_test_params = attack_train_params\n",
    "\n",
    "\n",
    "discriminator_model = LSTM_net(HIDDEN_DIM, N_LAYERS, OUTPUT_DIM, DROPOUT).to(device)\n",
    "optimizer = torch.optim.Adam(discriminator_model.parameters(), lr=LR)\n",
    "disc_train_params = {'n_epoch': 20,\n",
    "                    'optimizer': optimizer,\n",
    "                    'scheduler': torch.optim.lr_scheduler.StepLR(optimizer, step_lr, gamma=0.1)}      \n",
    "\n",
    "\n",
    "experiment = HideAttackExp(attack_model, train_loader, test_loader, attack_train_params, \n",
    "                           attack_test_params, discriminator_model, disc_train_params)\n",
    "experiment.run()\n",
    "\n",
    "with open(f'results/Ford_A/Gegular/Discriminator_pickle/fgsm_reg_eps={eps}_alpha={alpha}_nsteps={n_steps}.pickle', 'wb') as f:\n",
    "    pickle.dump(experiment, f)"
   ]
  },
  {
   "cell_type": "code",
   "execution_count": 12,
   "metadata": {},
   "outputs": [],
   "source": [
    "def one_id_experiment(function, nn_params, eps=0.03, alpha=0.01, n_steps=10, model_id=0):\n",
    "    path_to_saves = 'checkpoints/Ford_A/'\n",
    "\n",
    "    device= torch.device('cuda:2' if torch.cuda.is_available() else 'cpu')\n",
    "\n",
    "    attack_model = LSTM_net(*nn_params).to(device)\n",
    "    model_path = path_to_saves + f'model_{model_id}_FordA.pth'\n",
    "    attack_model.load_state_dict(copy.deepcopy(torch.load(model_path)))\n",
    "    \n",
    "    if \"reg\" in function.__name__:\n",
    "        attack_param_eps_alpha = {'eps':eps, 'alpha':alpha}\n",
    "    else:\n",
    "        attack_param_eps_alpha = {'eps':eps}\n",
    "    attack_train_params = {'attack_func':function, \n",
    "                     'attack_params':attack_param_eps_alpha, \n",
    "                     'criterion':torch.nn.BCELoss(), \n",
    "                     'n_steps':n_steps,\n",
    "                      'train_mode': True}\n",
    "    attack_test_params = attack_train_params\n",
    "\n",
    "    LR = 0.001\n",
    "    step_lr = 12\n",
    "    discriminator_model = LSTM_net(*nn_params).to(device)\n",
    "    optimizer = torch.optim.Adam(discriminator_model.parameters(), lr=LR)\n",
    "    disc_train_params = {'n_epoch': 40,\n",
    "                        'optimizer': optimizer,\n",
    "                        'scheduler': torch.optim.lr_scheduler.StepLR(optimizer, step_lr, gamma=0.1)}      \n",
    "\n",
    "\n",
    "    experiment = HideAttackExp(attack_model, train_loader, test_loader, attack_train_params, \n",
    "                               attack_test_params, discriminator_model, disc_train_params)\n",
    "    experiment.run()\n",
    "    \n",
    "    if \"reg\" in function.__name__:\n",
    "        exp_name = f\"{function.__name__}_eps={eps}_alpha={alpha}_nsteps={n_steps}\"\n",
    "    else:\n",
    "        exp_name = f\"{function.__name__}_eps={eps}_nsteps={n_steps}\"\n",
    "    \n",
    "    exp_path = 'results/Ford_A/SimBA/Discriminator_pickle/'\n",
    "    \n",
    "    if exp_name not in os.listdir(exp_path):\n",
    "        os.mkdir(exp_path+exp_name+'/')\n",
    "        \n",
    "    with open(exp_path+exp_name+'/' + f\"{model_id}.pickle\", 'wb') as f:\n",
    "        pickle.dump(experiment, f)\n",
    "    "
   ]
  },
  {
   "cell_type": "code",
   "execution_count": 13,
   "metadata": {},
   "outputs": [],
   "source": [
    "# list_experiments = [{'function': fgsm_reg_attack, 'eps':0.05, 'alpha': 0.01, 'n_steps':1},\n",
    "#                    {'function': fgsm_reg_attack, 'eps':0.005, 'alpha': 0.1, 'n_steps':10},\n",
    "#                    {'function': fgsm_reg_attack, 'eps':0.005, 'alpha': 0.01, 'n_steps':10},\n",
    "#                     {'function': fgsm_attack, 'eps':0.05, 'n_steps':1},\n",
    "#                    {'function': fgsm_attack, 'eps':0.005, 'n_steps':10},]\n",
    "\n",
    "\n",
    "# fgsm_disc_attack, fgsm_attack, fgsm_reg_attack, \n",
    "# simba_binary, simba_binary_reg, simba_binary_disc_reg\n",
    "\n",
    "list_experiments = [{'function': simba_binary, 'eps':0.1, 'n_steps':20},]\n",
    "                   #{'function': fgsm_attack, 'eps':0.01, 'n_steps':10},]"
   ]
  },
  {
   "cell_type": "code",
   "execution_count": 14,
   "metadata": {
    "scrolled": true
   },
   "outputs": [
    {
     "data": {
      "application/vnd.jupyter.widget-view+json": {
       "model_id": "01b7805981e44164be0c74389634b041",
       "version_major": 2,
       "version_minor": 0
      },
      "text/plain": [
       "  0%|          | 0/1 [00:00<?, ?it/s]"
      ]
     },
     "metadata": {},
     "output_type": "display_data"
    },
    {
     "data": {
      "application/vnd.jupyter.widget-view+json": {
       "model_id": "15a719b8b984430a93ea2780519f2bd2",
       "version_major": 2,
       "version_minor": 0
      },
      "text/plain": [
       "  0%|          | 0/3 [00:00<?, ?it/s]"
      ]
     },
     "metadata": {},
     "output_type": "display_data"
    },
    {
     "name": "stdout",
     "output_type": "stream",
     "text": [
      "Generating adv data\n"
     ]
    },
    {
     "data": {
      "application/vnd.jupyter.widget-view+json": {
       "model_id": "27187b0d13034c318dd209bf60b9a132",
       "version_major": 2,
       "version_minor": 0
      },
      "text/plain": [
       "  0%|          | 0/20 [00:00<?, ?it/s]"
      ]
     },
     "metadata": {},
     "output_type": "display_data"
    },
    {
     "data": {
      "application/vnd.jupyter.widget-view+json": {
       "model_id": "9fba17dbf6ff4ce9bf0ac9d9af81bdab",
       "version_major": 2,
       "version_minor": 0
      },
      "text/plain": [
       "  0%|          | 0/20 [00:00<?, ?it/s]"
      ]
     },
     "metadata": {},
     "output_type": "display_data"
    },
    {
     "name": "stdout",
     "output_type": "stream",
     "text": [
      "Train discriminator\n"
     ]
    },
    {
     "data": {
      "application/vnd.jupyter.widget-view+json": {
       "model_id": "f9a920054cec44e9835f0c9e2f4d2a93",
       "version_major": 2,
       "version_minor": 0
      },
      "text/plain": [
       "  0%|          | 0/40 [00:00<?, ?it/s]"
      ]
     },
     "metadata": {},
     "output_type": "display_data"
    },
    {
     "name": "stdout",
     "output_type": "stream",
     "text": [
      "Generating adv data\n"
     ]
    },
    {
     "data": {
      "application/vnd.jupyter.widget-view+json": {
       "model_id": "4635a36d062a405d8b16e7ae8a3a86c7",
       "version_major": 2,
       "version_minor": 0
      },
      "text/plain": [
       "  0%|          | 0/20 [00:00<?, ?it/s]"
      ]
     },
     "metadata": {},
     "output_type": "display_data"
    },
    {
     "data": {
      "application/vnd.jupyter.widget-view+json": {
       "model_id": "c4c45eeb70b442799eca8f5e8cdfcb6d",
       "version_major": 2,
       "version_minor": 0
      },
      "text/plain": [
       "  0%|          | 0/20 [00:00<?, ?it/s]"
      ]
     },
     "metadata": {},
     "output_type": "display_data"
    }
   ],
   "source": [
    "nn_params = [50, 1, 1, 0.0]\n",
    "\n",
    "for exp_params in tqdm(list_experiments):\n",
    "    for model_id in tqdm(range(3, 6)):\n",
    "        one_id_experiment(model_id=model_id, nn_params=nn_params, **exp_params)"
   ]
  },
  {
   "cell_type": "code",
   "execution_count": 10,
   "metadata": {},
   "outputs": [
    {
     "ename": "NameError",
     "evalue": "name 'exp_params' is not defined",
     "output_type": "error",
     "traceback": [
      "\u001b[0;31m---------------------------------------------------------------------------\u001b[0m",
      "\u001b[0;31mNameError\u001b[0m                                 Traceback (most recent call last)",
      "\u001b[0;32m<ipython-input-10-66da3f2cc59c>\u001b[0m in \u001b[0;36m<module>\u001b[0;34m\u001b[0m\n\u001b[0;32m----> 1\u001b[0;31m \u001b[0mexp_params\u001b[0m\u001b[0;34m\u001b[0m\u001b[0;34m\u001b[0m\u001b[0m\n\u001b[0m\u001b[1;32m      2\u001b[0m \u001b[0;34m\u001b[0m\u001b[0m\n\u001b[1;32m      3\u001b[0m \u001b[0;32mfor\u001b[0m \u001b[0mmodel_id\u001b[0m \u001b[0;32min\u001b[0m \u001b[0mtqdm\u001b[0m\u001b[0;34m(\u001b[0m\u001b[0mrange\u001b[0m\u001b[0;34m(\u001b[0m\u001b[0;36m10\u001b[0m\u001b[0;34m)\u001b[0m\u001b[0;34m)\u001b[0m\u001b[0;34m:\u001b[0m\u001b[0;34m\u001b[0m\u001b[0;34m\u001b[0m\u001b[0m\n\u001b[1;32m      4\u001b[0m     \u001b[0mone_id_experiment\u001b[0m\u001b[0;34m(\u001b[0m\u001b[0mmodel_id\u001b[0m\u001b[0;34m=\u001b[0m\u001b[0mmodel_id\u001b[0m\u001b[0;34m,\u001b[0m \u001b[0mnn_params\u001b[0m\u001b[0;34m=\u001b[0m\u001b[0mnn_params\u001b[0m\u001b[0;34m,\u001b[0m \u001b[0;34m**\u001b[0m\u001b[0mexp_params\u001b[0m\u001b[0;34m)\u001b[0m\u001b[0;34m\u001b[0m\u001b[0;34m\u001b[0m\u001b[0m\n",
      "\u001b[0;31mNameError\u001b[0m: name 'exp_params' is not defined"
     ]
    }
   ],
   "source": [
    "exp_params\n",
    "\n",
    "for model_id in tqdm(range(10)):\n",
    "    one_id_experiment(model_id=model_id, nn_params=nn_params, **exp_params)"
   ]
  },
  {
   "cell_type": "code",
   "execution_count": 97,
   "metadata": {
    "scrolled": true
   },
   "outputs": [
    {
     "name": "stdout",
     "output_type": "stream",
     "text": [
      "Generating adv data\n"
     ]
    },
    {
     "data": {
      "application/vnd.jupyter.widget-view+json": {
       "model_id": "62b244d9bf804a379ed9c8006b9d9adc",
       "version_major": 2,
       "version_minor": 0
      },
      "text/plain": [
       "  0%|          | 0/10 [00:00<?, ?it/s]"
      ]
     },
     "metadata": {},
     "output_type": "display_data"
    },
    {
     "data": {
      "application/vnd.jupyter.widget-view+json": {
       "model_id": "e2ed6229293549baaee2300fafb42d00",
       "version_major": 2,
       "version_minor": 0
      },
      "text/plain": [
       "  0%|          | 0/10 [00:00<?, ?it/s]"
      ]
     },
     "metadata": {},
     "output_type": "display_data"
    },
    {
     "name": "stdout",
     "output_type": "stream",
     "text": [
      "Train discriminator\n"
     ]
    },
    {
     "data": {
      "application/vnd.jupyter.widget-view+json": {
       "model_id": "5d116a1a4d304cb697faa6aa8bd5b458",
       "version_major": 2,
       "version_minor": 0
      },
      "text/plain": [
       "  0%|          | 0/20 [00:00<?, ?it/s]"
      ]
     },
     "metadata": {},
     "output_type": "display_data"
    }
   ],
   "source": [
    "one_id_experiment(model_id=0, nn_params=nn_params, **{'function': fgsm_attack, 'eps':0.03, 'n_steps':10})"
   ]
  },
  {
   "cell_type": "code",
   "execution_count": 12,
   "metadata": {},
   "outputs": [
    {
     "data": {
      "text/plain": [
       "<function HideAttackExp.__dir__()>"
      ]
     },
     "execution_count": 12,
     "metadata": {},
     "output_type": "execute_result"
    }
   ],
   "source": [
    "path = 'results/Ford_A/SimBA/Discriminator_pickle/simba_binary_eps=0.3_nsteps=20/0.pickle'\n",
    "\n",
    "with open(path, 'rb') as f:\n",
    "    experiment = pickle.load(f)\n",
    "\n",
    "experiment.__dir__"
   ]
  },
  {
   "cell_type": "code",
   "execution_count": 14,
   "metadata": {},
   "outputs": [
    {
     "data": {
      "text/plain": [
       "[0.5,\n",
       " 0.5,\n",
       " 0.5017490494296578,\n",
       " 0.5,\n",
       " 0.5,\n",
       " 0.5,\n",
       " 0.5021673003802282,\n",
       " 0.9533460076045628,\n",
       " 0.9950570342205323,\n",
       " 0.9918250950570342,\n",
       " 0.9936882129277567,\n",
       " 0.9941444866920152,\n",
       " 0.9973384030418251,\n",
       " 0.9973764258555133,\n",
       " 0.9978707224334601,\n",
       " 0.9977566539923954,\n",
       " 0.9979847908745247,\n",
       " 0.9980988593155894,\n",
       " 0.9981749049429658,\n",
       " 0.9980988593155894,\n",
       " 0.9981368821292775,\n",
       " 0.9980988593155894,\n",
       " 0.9980988593155894,\n",
       " 0.9981749049429658,\n",
       " 0.9981749049429658,\n",
       " 0.998212927756654,\n",
       " 0.9980988593155894,\n",
       " 0.9981749049429658,\n",
       " 0.9981368821292775,\n",
       " 0.9981749049429658,\n",
       " 0.9981368821292775,\n",
       " 0.9981749049429658,\n",
       " 0.9981368821292775,\n",
       " 0.9981749049429658,\n",
       " 0.9981749049429658,\n",
       " 0.9981368821292775,\n",
       " 0.9981368821292775,\n",
       " 0.9981368821292775,\n",
       " 0.9981368821292775,\n",
       " 0.9981368821292775]"
      ]
     },
     "execution_count": 14,
     "metadata": {},
     "output_type": "execute_result"
    }
   ],
   "source": [
    "experiment.dict_logging['test']['accuracy']"
   ]
  },
  {
   "cell_type": "markdown",
   "metadata": {},
   "source": [
    "## Visualization"
   ]
  },
  {
   "cell_type": "code",
   "execution_count": 4,
   "metadata": {},
   "outputs": [],
   "source": [
    "def visualization_differences(exp_name, exp_path, title='', viz_train=False, metric_name='f1', \n",
    "                              n_models=5, aggregation=np.mean):\n",
    "    exp_disc_metric = {'reg':[],\n",
    "                     'noreg':[]}\n",
    "    \n",
    "    exp_disc_loss = {'reg':[],\n",
    "                     'noreg':[]}\n",
    "    \n",
    "    \n",
    "    # loading data\n",
    "    for exp_type in ['reg', 'noreg']:\n",
    "        for model_id in range(n_models):\n",
    "            with open(exp_path+exp_name[exp_type]+'/' + f\"{model_id}.pickle\", 'rb') as f:\n",
    "                exp = pickle.load(f)\n",
    "            exp_disc_metric[exp_type].append(exp.dict_logging['test'][metric_name])\n",
    "            exp_disc_loss[exp_type].append(torch.tensor(exp.dict_logging['test']['loss']).numpy())\n",
    "            \n",
    "    print(f'{metric_name} final: ', exp.dict_logging['test'][metric_name][-1])\n",
    "            \n",
    "    difference = np.array(exp_disc_metric['noreg']) - np.array(exp_disc_metric['reg'])\n",
    "    iters = np.arange(len(difference[0]))\n",
    "    \n",
    "    if viz_train:\n",
    "        \n",
    "        plt.figure(figsize=(20, 8))\n",
    "        \n",
    "        plt.subplot(1, 2, 1)\n",
    "        \n",
    "        plt.plot(iters, aggregation(exp_disc_metric['noreg'], axis=0), label='not_reg', c='b')\n",
    "        plt.plot(iters, aggregation(exp_disc_metric['reg'], axis=0), label='reg', c='r')\n",
    "        plt.grid()\n",
    "        plt.legend()\n",
    "        plt.xlabel('iteration of training discriminator')\n",
    "        plt.ylabel(metric_name)\n",
    "        plt.title('test metrics')\n",
    "        \n",
    "#         plt.subplot(1, 2, 2)\n",
    "        \n",
    "#         plt.plot(iters, aggregation(exp_disc_loss['noreg'], axis=0), label='not_reg', c='b')\n",
    "#         plt.plot(iters, aggregation(exp_disc_loss['reg'], axis=0), label='reg', c='r')\n",
    "#         plt.grid()\n",
    "#         plt.legend()\n",
    "#         plt.xlabel('iteration of training discriminator')\n",
    "#         plt.ylabel('test loss')\n",
    "#         plt.title('test loss')\n",
    "            \n",
    "            \n",
    "        plt.subplot(1, 2, 2)\n",
    "        for model_id in range(5):\n",
    "            plt.plot(iters, difference[model_id],linewidth=0.7, label=model_id)\n",
    "\n",
    "        diff_avg = aggregation(difference, axis=0)\n",
    "        plt.plot(iters, diff_avg, linewidth=2, linestyle='--', label='Mean')    \n",
    "\n",
    "        plt.grid()\n",
    "        plt.legend()\n",
    "        plt.xlabel('iteration of training discriminator')\n",
    "        plt.ylabel(f'{metric_name} for difference nonreg and reg attack')\n",
    "        plt.title(title)\n",
    "    \n",
    "    else:\n",
    "        plt.figure(figsize=(8, 7))\n",
    "        for model_id in range(5):\n",
    "            plt.plot(iters, difference[model_id],linewidth=0.7, label=model_id)\n",
    "\n",
    "        diff_mean = aggregation(difference, axis=0)\n",
    "        plt.plot(iters, diff_mean, linewidth=2, linestyle='--', label='Mean')    \n",
    "\n",
    "        plt.grid()\n",
    "        plt.legend()\n",
    "        plt.xlabel('iteration of training discriminator')\n",
    "        plt.ylabel(f'{metric_name} difference for nonreg and reg attack')\n",
    "        plt.title(title)\n",
    "    plt.show()\n",
    "    \n"
   ]
  },
  {
   "cell_type": "code",
   "execution_count": 6,
   "metadata": {},
   "outputs": [
    {
     "ename": "FileNotFoundError",
     "evalue": "[Errno 2] No such file or directory: 'results/Ford_A/SimBA/Discriminator_pickle/fgsm_attack_eps=0.01_nsteps=10/0.pickle'",
     "output_type": "error",
     "traceback": [
      "\u001b[0;31m---------------------------------------------------------------------------\u001b[0m",
      "\u001b[0;31mFileNotFoundError\u001b[0m                         Traceback (most recent call last)",
      "\u001b[0;32m<ipython-input-6-f8a1c41fbdbd>\u001b[0m in \u001b[0;36m<module>\u001b[0;34m\u001b[0m\n\u001b[1;32m      8\u001b[0m             'noreg': f'fgsm_reg_attack_eps={eps}_alpha={alpha}_nsteps={n_steps}'}\n\u001b[1;32m      9\u001b[0m \u001b[0;34m\u001b[0m\u001b[0m\n\u001b[0;32m---> 10\u001b[0;31m visualization_differences(exp_name, exp_path, title=f'eps={eps}_alpha={alpha}_nsteps={n_steps}', \n\u001b[0m\u001b[1;32m     11\u001b[0m                           viz_train=True, metric_name='f1', n_models=10)\n",
      "\u001b[0;32m<ipython-input-4-5ba72ecccd68>\u001b[0m in \u001b[0;36mvisualization_differences\u001b[0;34m(exp_name, exp_path, title, viz_train, metric_name, n_models, aggregation)\u001b[0m\n\u001b[1;32m     11\u001b[0m     \u001b[0;32mfor\u001b[0m \u001b[0mexp_type\u001b[0m \u001b[0;32min\u001b[0m \u001b[0;34m[\u001b[0m\u001b[0;34m'reg'\u001b[0m\u001b[0;34m,\u001b[0m \u001b[0;34m'noreg'\u001b[0m\u001b[0;34m]\u001b[0m\u001b[0;34m:\u001b[0m\u001b[0;34m\u001b[0m\u001b[0;34m\u001b[0m\u001b[0m\n\u001b[1;32m     12\u001b[0m         \u001b[0;32mfor\u001b[0m \u001b[0mmodel_id\u001b[0m \u001b[0;32min\u001b[0m \u001b[0mrange\u001b[0m\u001b[0;34m(\u001b[0m\u001b[0mn_models\u001b[0m\u001b[0;34m)\u001b[0m\u001b[0;34m:\u001b[0m\u001b[0;34m\u001b[0m\u001b[0;34m\u001b[0m\u001b[0m\n\u001b[0;32m---> 13\u001b[0;31m             \u001b[0;32mwith\u001b[0m \u001b[0mopen\u001b[0m\u001b[0;34m(\u001b[0m\u001b[0mexp_path\u001b[0m\u001b[0;34m+\u001b[0m\u001b[0mexp_name\u001b[0m\u001b[0;34m[\u001b[0m\u001b[0mexp_type\u001b[0m\u001b[0;34m]\u001b[0m\u001b[0;34m+\u001b[0m\u001b[0;34m'/'\u001b[0m \u001b[0;34m+\u001b[0m \u001b[0;34mf\"{model_id}.pickle\"\u001b[0m\u001b[0;34m,\u001b[0m \u001b[0;34m'rb'\u001b[0m\u001b[0;34m)\u001b[0m \u001b[0;32mas\u001b[0m \u001b[0mf\u001b[0m\u001b[0;34m:\u001b[0m\u001b[0;34m\u001b[0m\u001b[0;34m\u001b[0m\u001b[0m\n\u001b[0m\u001b[1;32m     14\u001b[0m                 \u001b[0mexp\u001b[0m \u001b[0;34m=\u001b[0m \u001b[0mpickle\u001b[0m\u001b[0;34m.\u001b[0m\u001b[0mload\u001b[0m\u001b[0;34m(\u001b[0m\u001b[0mf\u001b[0m\u001b[0;34m)\u001b[0m\u001b[0;34m\u001b[0m\u001b[0;34m\u001b[0m\u001b[0m\n\u001b[1;32m     15\u001b[0m             \u001b[0mexp_disc_metric\u001b[0m\u001b[0;34m[\u001b[0m\u001b[0mexp_type\u001b[0m\u001b[0;34m]\u001b[0m\u001b[0;34m.\u001b[0m\u001b[0mappend\u001b[0m\u001b[0;34m(\u001b[0m\u001b[0mexp\u001b[0m\u001b[0;34m.\u001b[0m\u001b[0mdict_logging\u001b[0m\u001b[0;34m[\u001b[0m\u001b[0;34m'test'\u001b[0m\u001b[0;34m]\u001b[0m\u001b[0;34m[\u001b[0m\u001b[0mmetric_name\u001b[0m\u001b[0;34m]\u001b[0m\u001b[0;34m)\u001b[0m\u001b[0;34m\u001b[0m\u001b[0;34m\u001b[0m\u001b[0m\n",
      "\u001b[0;31mFileNotFoundError\u001b[0m: [Errno 2] No such file or directory: 'results/Ford_A/SimBA/Discriminator_pickle/fgsm_attack_eps=0.01_nsteps=10/0.pickle'"
     ]
    }
   ],
   "source": [
    "exp_path = 'results/Ford_A/SimBA/Discriminator_pickle/'\n",
    "\n",
    "alpha = 0.01\n",
    "eps = 0.01\n",
    "n_steps = 10\n",
    "\n",
    "exp_name = {'reg':f'fgsm_attack_eps={eps}_nsteps={n_steps}', \n",
    "            'noreg': f'fgsm_reg_attack_eps={eps}_alpha={alpha}_nsteps={n_steps}'}\n",
    "\n",
    "visualization_differences(exp_name, exp_path, title=f'eps={eps}_alpha={alpha}_nsteps={n_steps}', \n",
    "                          viz_train=True, metric_name='f1', n_models=10)"
   ]
  },
  {
   "cell_type": "markdown",
   "metadata": {},
   "source": [
    "### 1 step"
   ]
  },
  {
   "cell_type": "code",
   "execution_count": 38,
   "metadata": {},
   "outputs": [
    {
     "name": "stdout",
     "output_type": "stream",
     "text": [
      "f1 final:  1.0\n"
     ]
    },
    {
     "data": {
      "image/png": "[encoded data removed]",
      "text/plain": [
       "<Figure size 576x504 with 1 Axes>"
      ]
     },
     "metadata": {
      "needs_background": "light"
     },
     "output_type": "display_data"
    }
   ],
   "source": [
    "exp_path = 'results/Ford_A/Gegular/Discriminator_pickle/'\n",
    "\n",
    "alpha = 0.001\n",
    "eps = 0.3\n",
    "n_steps = 1\n",
    "\n",
    "exp_name = {'reg':f'fgsm_attack_eps={eps}_nsteps={n_steps}', \n",
    "            'noreg': f'fgsm_reg_attack_eps={eps}_alpha={alpha}_nsteps={n_steps}'}\n",
    "\n",
    "visualization_differences(exp_name, exp_path, title=f'eps={eps}_alpha={alpha}_nsteps={n_steps}')"
   ]
  },
  {
   "cell_type": "code",
   "execution_count": 39,
   "metadata": {},
   "outputs": [
    {
     "name": "stdout",
     "output_type": "stream",
     "text": [
      "f1 final:  1.0\n"
     ]
    },
    {
     "data": {
      "image/png": "[encoded data removed]",
      "text/plain": [
       "<Figure size 576x504 with 1 Axes>"
      ]
     },
     "metadata": {
      "needs_background": "light"
     },
     "output_type": "display_data"
    }
   ],
   "source": [
    "exp_path = 'results/Ford_A/Gegular/Discriminator_pickle/'\n",
    "\n",
    "alpha = 0.01\n",
    "eps = 0.3\n",
    "n_steps = 1\n",
    "\n",
    "exp_name = {'reg':f'fgsm_attack_eps={eps}_nsteps={n_steps}', \n",
    "            'noreg': f'fgsm_reg_attack_eps={eps}_alpha={alpha}_nsteps={n_steps}'}\n",
    "\n",
    "visualization_differences(exp_name, exp_path, title=f'eps={eps}_alpha={alpha}_nsteps={n_steps}')"
   ]
  },
  {
   "cell_type": "code",
   "execution_count": 40,
   "metadata": {},
   "outputs": [
    {
     "name": "stdout",
     "output_type": "stream",
     "text": [
      "f1 final:  1.0\n"
     ]
    },
    {
     "data": {
      "image/png": "[encoded data removed]",
      "text/plain": [
       "<Figure size 576x504 with 1 Axes>"
      ]
     },
     "metadata": {
      "needs_background": "light"
     },
     "output_type": "display_data"
    }
   ],
   "source": [
    "exp_path = 'results/Ford_A/Gegular/Discriminator_pickle/'\n",
    "\n",
    "alpha = 0.1\n",
    "eps = 0.3\n",
    "n_steps = 1\n",
    "\n",
    "exp_name = {'reg':f'fgsm_attack_eps={eps}_nsteps={n_steps}', \n",
    "            'noreg': f'fgsm_reg_attack_eps={eps}_alpha={alpha}_nsteps={n_steps}'}\n",
    "\n",
    "visualization_differences(exp_name, exp_path, title=f'eps={eps}_alpha={alpha}_nsteps={n_steps}')"
   ]
  },
  {
   "cell_type": "markdown",
   "metadata": {},
   "source": [
    "### many iteration"
   ]
  },
  {
   "cell_type": "code",
   "execution_count": 42,
   "metadata": {},
   "outputs": [
    {
     "name": "stdout",
     "output_type": "stream",
     "text": [
      "f1 final:  1.0\n"
     ]
    },
    {
     "data": {
      "image/png": "[encoded data removed]",
      "text/plain": [
       "<Figure size 576x504 with 1 Axes>"
      ]
     },
     "metadata": {
      "needs_background": "light"
     },
     "output_type": "display_data"
    }
   ],
   "source": [
    "exp_path = 'results/Ford_A/Gegular/Discriminator_pickle/'\n",
    "\n",
    "alpha = 0.0001\n",
    "eps = 0.03\n",
    "n_steps = 10\n",
    "\n",
    "exp_name = {'reg':f'fgsm_attack_eps={eps}_nsteps={n_steps}', \n",
    "            'noreg': f'fgsm_reg_attack_eps={eps}_alpha={alpha}_nsteps={n_steps}'}\n",
    "\n",
    "visualization_differences(exp_name, exp_path, title=f'eps={eps}_alpha={alpha}_nsteps={n_steps}')"
   ]
  },
  {
   "cell_type": "code",
   "execution_count": 43,
   "metadata": {},
   "outputs": [
    {
     "name": "stdout",
     "output_type": "stream",
     "text": [
      "f1 final:  0.9999619757405225\n"
     ]
    },
    {
     "data": {
      "image/png": "[encoded data removed]",
      "text/plain": [
       "<Figure size 576x504 with 1 Axes>"
      ]
     },
     "metadata": {
      "needs_background": "light"
     },
     "output_type": "display_data"
    }
   ],
   "source": [
    "exp_path = 'results/Ford_A/Gegular/Discriminator_pickle/'\n",
    "\n",
    "alpha = 0.001\n",
    "eps = 0.03\n",
    "n_steps = 10\n",
    "\n",
    "exp_name = {'reg':f'fgsm_attack_eps={eps}_nsteps={n_steps}', \n",
    "            'noreg': f'fgsm_reg_attack_eps={eps}_alpha={alpha}_nsteps={n_steps}'}\n",
    "\n",
    "visualization_differences(exp_name, exp_path, title=f'eps={eps}_alpha={alpha}_nsteps={n_steps}')"
   ]
  },
  {
   "cell_type": "code",
   "execution_count": 44,
   "metadata": {},
   "outputs": [
    {
     "name": "stdout",
     "output_type": "stream",
     "text": [
      "f1 final:  1.0\n"
     ]
    },
    {
     "data": {
      "image/png": "[encoded data removed]",
      "text/plain": [
       "<Figure size 576x504 with 1 Axes>"
      ]
     },
     "metadata": {
      "needs_background": "light"
     },
     "output_type": "display_data"
    }
   ],
   "source": [
    "exp_path = 'results/Ford_A/Gegular/Discriminator_pickle/'\n",
    "\n",
    "alpha = 0.01\n",
    "eps = 0.03\n",
    "n_steps = 10\n",
    "\n",
    "exp_name = {'reg':f'fgsm_attack_eps={eps}_nsteps={n_steps}', \n",
    "            'noreg': f'fgsm_reg_attack_eps={eps}_alpha={alpha}_nsteps={n_steps}'}\n",
    "\n",
    "visualization_differences(exp_name, exp_path, title=f'eps={eps}_alpha={alpha}_nsteps={n_steps}')"
   ]
  }
 ],
 "metadata": {
  "kernelspec": {
   "display_name": "Python 3",
   "language": "python",
   "name": "python3"
  },
  "language_info": {
   "codemirror_mode": {
    "name": "ipython",
    "version": 3
   },
   "file_extension": ".py",
   "mimetype": "text/x-python",
   "name": "python",
   "nbconvert_exporter": "python",
   "pygments_lexer": "ipython3",
   "version": "3.8.5"
  }
 },
 "nbformat": 4,
 "nbformat_minor": 4
}
