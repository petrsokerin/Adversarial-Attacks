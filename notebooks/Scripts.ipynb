{
 "cells": [
  {
   "attachments": {},
   "cell_type": "markdown",
   "metadata": {},
   "source": [
    "# imports"
   ]
  },
  {
   "cell_type": "code",
   "execution_count": 2,
   "metadata": {},
   "outputs": [],
   "source": [
    "import copy\n",
    "import warnings\n",
    "import pickle\n",
    "warnings.filterwarnings('ignore')\n",
    "import os\n",
    "\n",
    "import hydra\n",
    "from omegaconf import DictConfig\n",
    "\n",
    "from tqdm.auto import tqdm\n",
    "\n",
    "import matplotlib.pyplot as plt\n",
    "import torch\n",
    "from torch.utils.data import DataLoader\n",
    "\n",
    "from utils.data import load_Ford_A, transform_data, MyDataset\n",
    "from models.models import LSTM_net, TS2VecClassifier\n",
    "\n",
    "from utils.attacks import ifgsm_procedure\n",
    "from utils.utils import save_experiment, load_disc_model\n",
    "from utils.discrim_training import HideAttackExp\n",
    "from utils.config import get_attack, load_disc_config\n",
    "from utils.attacks import (fgsm_disc_attack, fgsm_attack, fgsm_reg_attack, \n",
    "simba_binary, simba_binary_reg, simba_binary_disc_reg)\n",
    "from utils.data import transform_data, MyDataset\n",
    "\n",
    "from utils.TS2Vec.datautils import load_UCR"
   ]
  },
  {
   "attachments": {},
   "cell_type": "markdown",
   "metadata": {},
   "source": [
    "# Data loading"
   ]
  },
  {
   "cell_type": "code",
   "execution_count": 11,
   "metadata": {},
   "outputs": [],
   "source": [
    "X_train, y_train, X_test, y_test = load_UCR('Strawberry')\n",
    "X_train = X_train.reshape(X_train.shape[0], X_train.shape[1])\n",
    "X_test = X_test.reshape(X_test.shape[0], X_test.shape[1])\n",
    "\n",
    "\n",
    "X_train, X_test, y_train, y_test = transform_data(X_train, X_test, y_train, y_test)"
   ]
  },
  {
   "cell_type": "code",
   "execution_count": 19,
   "metadata": {},
   "outputs": [],
   "source": [
    "bad_datasets = [\n",
    "        'AllGestureWiimoteX',\n",
    "        'AllGestureWiimoteY',\n",
    "        'AllGestureWiimoteZ',\n",
    "        'BME',\n",
    "        'Chinatown',\n",
    "        'Crop',\n",
    "        'EOGHorizontalSignal',\n",
    "        'EOGVerticalSignal',\n",
    "        'Fungi',\n",
    "        'GestureMidAirD1',\n",
    "        'GestureMidAirD2',\n",
    "        'GestureMidAirD3',\n",
    "        'GesturePebbleZ1',\n",
    "        'GesturePebbleZ2',\n",
    "        'GunPointAgeSpan',\n",
    "        'GunPointMaleVersusFemale',\n",
    "        'GunPointOldVersusYoung',\n",
    "        'HouseTwenty',\n",
    "        'InsectEPGRegularTrain',\n",
    "        'InsectEPGSmallTrain',\n",
    "        'MelbournePedestrian',\n",
    "        'PickupGestureWiimoteZ',\n",
    "        'PigAirwayPressure',\n",
    "        'PigArtPressure',\n",
    "        'PigCVP',\n",
    "        'PLAID',\n",
    "        'PowerCons',\n",
    "        'Rock',\n",
    "        'SemgHandGenderCh2',\n",
    "        'SemgHandMovementCh2',\n",
    "        'SemgHandSubjectCh2',\n",
    "        'ShakeGestureWiimoteZ',\n",
    "        'SmoothSubspace',\n",
    "        'UMD'\n",
    "    ]\n",
    "\n"
   ]
  },
  {
   "cell_type": "code",
   "execution_count": 24,
   "metadata": {},
   "outputs": [
    {
     "name": "stdout",
     "output_type": "stream",
     "text": [
      "PhalangesOutlinesCorrect 1800 858\n",
      "NonInvasiveFetalECGThorax1 1800 1965\n",
      "FordB 3636 810\n",
      "ElectricDevices 8926 7711\n",
      "FordA 3601 1320\n",
      "NonInvasiveFetalECGThorax2 1800 1965\n"
     ]
    }
   ],
   "source": [
    "all_datasets = os.listdir(f'data/TS2Vec/UCR')\n",
    "skip_list = ['Missing_value_and_variable_length_datasets_adjusted', 'UCRArchive_2018.zip', 'Descriptions',\n",
    "                'Multivariate2018_arff.zip', 'EigenWorms', 'Images']\n",
    "\n",
    "for dataset in all_datasets:\n",
    "    if dataset in bad_datasets or dataset in skip_list:\n",
    "        continue\n",
    "    X_train, y_train, X_test, y_test = load_UCR(dataset)\n",
    "    if len(X_train) > 1000:\n",
    "        print(dataset, len(X_train), len(X_test))"
   ]
  },
  {
   "cell_type": "code",
   "execution_count": 11,
   "metadata": {},
   "outputs": [
    {
     "data": {
      "text/plain": [
       "((28, 286), (28, 286), (28,))"
      ]
     },
     "execution_count": 11,
     "metadata": {},
     "output_type": "execute_result"
    }
   ],
   "source": [
    "X_train.shape, X_test.shape, y_train.shape"
   ]
  },
  {
   "cell_type": "code",
   "execution_count": 12,
   "metadata": {},
   "outputs": [
    {
     "data": {
      "text/plain": [
       "((3601, 500), (1320, 500), (3601,))"
      ]
     },
     "execution_count": 12,
     "metadata": {},
     "output_type": "execute_result"
    }
   ],
   "source": [
    "X_train, X_test, y_train, y_test = load_Ford_A()\n",
    "X_train.shape, X_test.shape, y_train.shape"
   ]
  },
  {
   "cell_type": "code",
   "execution_count": 5,
   "metadata": {},
   "outputs": [],
   "source": [
    "path = 'checkpoints/Coffee/model_1_Coffee_metrics.pickle'\n",
    "\n",
    "with open(path, 'rb') as f:\n",
    "    results_train = pickle.load(f)"
   ]
  },
  {
   "cell_type": "code",
   "execution_count": 11,
   "metadata": {},
   "outputs": [
    {
     "data": {
      "image/png": "[encoded data removed]",
      "text/plain": [
       "<Figure size 432x288 with 1 Axes>"
      ]
     },
     "metadata": {
      "needs_background": "light"
     },
     "output_type": "display_data"
    }
   ],
   "source": [
    "plt.plot(results_train['test']['f1'], label='f1')\n",
    "plt.plot(results_train['test']['accuracy'], label='accuracy')\n",
    "plt.plot(results_train['test']['balance'], label='balance')\n",
    "plt.grid()\n",
    "plt.show()"
   ]
  },
  {
   "attachments": {},
   "cell_type": "markdown",
   "metadata": {},
   "source": [
    "# resave ts2vec"
   ]
  },
  {
   "cell_type": "code",
   "execution_count": 3,
   "metadata": {},
   "outputs": [
    {
     "name": "stdout",
     "output_type": "stream",
     "text": [
      "checkpoints/TS2Vec/entire_model/UCR/FordA\n",
      "checkpoints/TS2Vec/entire_model/UCR/FordA\n",
      "checkpoints/TS2Vec/entire_model/UCR/FordA\n",
      "checkpoints/TS2Vec/entire_model/UCR/FordA\n",
      "checkpoints/TS2Vec/entire_model/UCR/FordA\n"
     ]
    }
   ],
   "source": [
    "#all_weights = sorted(os.listdir('checkpoints/TS2Vec/emb_models/UCR'))\n",
    "\n",
    "glob_dataset_name = 'UCR'\n",
    "dataset_name = 'FordA'\n",
    "adv = ''\n",
    "\n",
    "model = TS2VecClassifier()\n",
    "\n",
    "for model_id in range(5):\n",
    "    \n",
    "    path_emb = f'checkpoints/TS2Vec/emb_models{adv}/{glob_dataset_name}/{dataset_name}_{model_id}.pt'\n",
    "    path_head = f'checkpoints/TS2Vec/class_models{adv}/{glob_dataset_name}/{dataset_name}_{model_id}.pt'\n",
    "    path_save = f'checkpoints/TS2Vec/entire_model/{glob_dataset_name}/{dataset_name}/model_{model_id}_{dataset_name}.pth'\n",
    "\n",
    "    model.load_old(path_emb, path_head)\n",
    "\n",
    "    path = '/'.join(path_save.split('/')[:-1])\n",
    "    print(path)\n",
    "\n",
    "    if not os.path.isdir(path):\n",
    "        os.makedirs(path)\n",
    "    \n",
    "\n",
    "    model.save(path_save)\n"
   ]
  },
  {
   "attachments": {},
   "cell_type": "markdown",
   "metadata": {},
   "source": [
    "# check ts2vec metrics"
   ]
  },
  {
   "cell_type": "code",
   "execution_count": 2,
   "metadata": {},
   "outputs": [],
   "source": [
    "import os\n",
    "\n",
    "import numpy as np\n",
    "import torch\n",
    "from torch import nn\n",
    "\n",
    "from utils.TS2Vec.datautils import load_UCR\n",
    "from models.models import  TS2VecClassifier\n",
    "from utils.data import transform_data, MyDataset"
   ]
  },
  {
   "cell_type": "code",
   "execution_count": 3,
   "metadata": {},
   "outputs": [],
   "source": [
    "def req_grad(model: nn.Module, state: bool = True) -> None:\n",
    "    \"\"\"Set requires_grad of all model parameters to the desired value.\n",
    "\n",
    "    :param model: the model\n",
    "    :param state: desired value for requires_grad\n",
    "    \"\"\"\n",
    "    for param in model.parameters():\n",
    "        param.requires_grad_(state)"
   ]
  },
  {
   "cell_type": "code",
   "execution_count": 6,
   "metadata": {},
   "outputs": [
    {
     "name": "stdout",
     "output_type": "stream",
     "text": [
      "(28, 286, 1)\n",
      "(28, 286)\n",
      "torch.Size([28, 286]) torch.Size([28])\n"
     ]
    },
    {
     "data": {
      "text/plain": [
       "tensor(0.0496, dtype=torch.float64, grad_fn=<MeanBackward0>)"
      ]
     },
     "execution_count": 6,
     "metadata": {},
     "output_type": "execute_result"
    }
   ],
   "source": [
    "model_id = 0\n",
    "dataset_name = 'Coffee'\n",
    "disc_model_name = 'fgsm_reg_attack_eps=0.2_alpha=0.01_nsteps=4'\n",
    "glob_dataset_name = 'UCR'\n",
    "adv = ''\n",
    "\n",
    "X_train, y_train, X_test, y_test = load_UCR(dataset_name)\n",
    "\n",
    "print(X_test.shape)\n",
    "X_train = X_train.reshape(X_train.shape[0], X_train.shape[1])\n",
    "X_test = X_test.reshape(X_test.shape[0], X_test.shape[1])\n",
    "\n",
    "print(X_test.shape)\n",
    "\n",
    "X_train, X_test, y_train, y_test = transform_data(X_train, X_test, y_train, y_test, slice_data=False)\n",
    "\n",
    "# X_train = np.where(np.isnan(X_train), 0, X_train)\n",
    "# X_test = np.where(np.isnan(X_test), 0, X_test)\n",
    "\n",
    "# X_train, y_train = torch.from_numpy(X_train).to(torch.float), torch.from_numpy(y_train).to(torch.float)\n",
    "# X_test, y_test = torch.from_numpy(X_test).to(torch.float), torch.from_numpy(y_test).to(torch.float)\n",
    "\n",
    "print(X_test.shape, y_test.shape)\n",
    "\n",
    "model = TS2VecClassifier()\n",
    "path_save = f'checkpoints/TS2Vec/entire_model/{glob_dataset_name}/{dataset_name}/model_{model_id}_{dataset_name}.pth'\n",
    "model.load(path_save)\n",
    "model = model.eval()\n",
    "\n",
    "\n",
    "disc_model = TS2VecClassifier(dropout=0.1, n_layers=1, dropout_ts2vec=0.0)\n",
    "path_save = f'results/{dataset_name}/IFGSM/Discriminator_pickle/{disc_model_name}/{model_id}.pt'\n",
    "disc_model.load(path_save)\n",
    "disc_model = disc_model.eval()\n",
    "req_grad(model, state=True)\n",
    "\n",
    "y_pred = disc_model(X_test.unsqueeze(-1))\n",
    "disc_prediction = torch.mean(y_pred.to(float).cpu())\n",
    "disc_prediction"
   ]
  },
  {
   "cell_type": "code",
   "execution_count": 14,
   "metadata": {},
   "outputs": [
    {
     "data": {
      "text/plain": [
       "TS2VecClassifier(\n",
       "  (emd_model): AveragedModel(\n",
       "    (module): TSEncoder(\n",
       "      (input_fc): Linear(in_features=1, out_features=64, bias=True)\n",
       "      (feature_extractor): DilatedConvEncoder(\n",
       "        (net): Sequential(\n",
       "          (0): ConvBlock(\n",
       "            (conv1): SamePadConv(\n",
       "              (conv): Conv1d(64, 64, kernel_size=(3,), stride=(1,), padding=(1,))\n",
       "            )\n",
       "            (conv2): SamePadConv(\n",
       "              (conv): Conv1d(64, 64, kernel_size=(3,), stride=(1,), padding=(1,))\n",
       "            )\n",
       "          )\n",
       "          (1): ConvBlock(\n",
       "            (conv1): SamePadConv(\n",
       "              (conv): Conv1d(64, 64, kernel_size=(3,), stride=(1,), padding=(2,), dilation=(2,))\n",
       "            )\n",
       "            (conv2): SamePadConv(\n",
       "              (conv): Conv1d(64, 64, kernel_size=(3,), stride=(1,), padding=(2,), dilation=(2,))\n",
       "            )\n",
       "          )\n",
       "          (2): ConvBlock(\n",
       "            (conv1): SamePadConv(\n",
       "              (conv): Conv1d(64, 64, kernel_size=(3,), stride=(1,), padding=(4,), dilation=(4,))\n",
       "            )\n",
       "            (conv2): SamePadConv(\n",
       "              (conv): Conv1d(64, 64, kernel_size=(3,), stride=(1,), padding=(4,), dilation=(4,))\n",
       "            )\n",
       "          )\n",
       "          (3): ConvBlock(\n",
       "            (conv1): SamePadConv(\n",
       "              (conv): Conv1d(64, 64, kernel_size=(3,), stride=(1,), padding=(8,), dilation=(8,))\n",
       "            )\n",
       "            (conv2): SamePadConv(\n",
       "              (conv): Conv1d(64, 64, kernel_size=(3,), stride=(1,), padding=(8,), dilation=(8,))\n",
       "            )\n",
       "          )\n",
       "          (4): ConvBlock(\n",
       "            (conv1): SamePadConv(\n",
       "              (conv): Conv1d(64, 64, kernel_size=(3,), stride=(1,), padding=(16,), dilation=(16,))\n",
       "            )\n",
       "            (conv2): SamePadConv(\n",
       "              (conv): Conv1d(64, 64, kernel_size=(3,), stride=(1,), padding=(16,), dilation=(16,))\n",
       "            )\n",
       "          )\n",
       "          (5): ConvBlock(\n",
       "            (conv1): SamePadConv(\n",
       "              (conv): Conv1d(64, 64, kernel_size=(3,), stride=(1,), padding=(32,), dilation=(32,))\n",
       "            )\n",
       "            (conv2): SamePadConv(\n",
       "              (conv): Conv1d(64, 64, kernel_size=(3,), stride=(1,), padding=(32,), dilation=(32,))\n",
       "            )\n",
       "          )\n",
       "          (6): ConvBlock(\n",
       "            (conv1): SamePadConv(\n",
       "              (conv): Conv1d(64, 64, kernel_size=(3,), stride=(1,), padding=(64,), dilation=(64,))\n",
       "            )\n",
       "            (conv2): SamePadConv(\n",
       "              (conv): Conv1d(64, 64, kernel_size=(3,), stride=(1,), padding=(64,), dilation=(64,))\n",
       "            )\n",
       "          )\n",
       "          (7): ConvBlock(\n",
       "            (conv1): SamePadConv(\n",
       "              (conv): Conv1d(64, 64, kernel_size=(3,), stride=(1,), padding=(128,), dilation=(128,))\n",
       "            )\n",
       "            (conv2): SamePadConv(\n",
       "              (conv): Conv1d(64, 64, kernel_size=(3,), stride=(1,), padding=(128,), dilation=(128,))\n",
       "            )\n",
       "          )\n",
       "          (8): ConvBlock(\n",
       "            (conv1): SamePadConv(\n",
       "              (conv): Conv1d(64, 64, kernel_size=(3,), stride=(1,), padding=(256,), dilation=(256,))\n",
       "            )\n",
       "            (conv2): SamePadConv(\n",
       "              (conv): Conv1d(64, 64, kernel_size=(3,), stride=(1,), padding=(256,), dilation=(256,))\n",
       "            )\n",
       "          )\n",
       "          (9): ConvBlock(\n",
       "            (conv1): SamePadConv(\n",
       "              (conv): Conv1d(64, 64, kernel_size=(3,), stride=(1,), padding=(512,), dilation=(512,))\n",
       "            )\n",
       "            (conv2): SamePadConv(\n",
       "              (conv): Conv1d(64, 64, kernel_size=(3,), stride=(1,), padding=(512,), dilation=(512,))\n",
       "            )\n",
       "          )\n",
       "          (10): ConvBlock(\n",
       "            (conv1): SamePadConv(\n",
       "              (conv): Conv1d(64, 320, kernel_size=(3,), stride=(1,), padding=(1024,), dilation=(1024,))\n",
       "            )\n",
       "            (conv2): SamePadConv(\n",
       "              (conv): Conv1d(320, 320, kernel_size=(3,), stride=(1,), padding=(1024,), dilation=(1024,))\n",
       "            )\n",
       "            (projector): Conv1d(64, 320, kernel_size=(1,), stride=(1,))\n",
       "          )\n",
       "        )\n",
       "      )\n",
       "      (repr_dropout): Dropout(p=0.0, inplace=False)\n",
       "    )\n",
       "  )\n",
       "  (classifier): HeadClassifier(\n",
       "    (classifier): Sequential(\n",
       "      (0): Linear(in_features=320, out_features=64, bias=True)\n",
       "      (1): ReLU()\n",
       "      (2): BatchNorm1d(64, eps=1e-05, momentum=0.1, affine=True, track_running_stats=True)\n",
       "      (3): Linear(in_features=64, out_features=1, bias=True)\n",
       "    )\n",
       "    (sigm): Sigmoid()\n",
       "  )\n",
       ")"
      ]
     },
     "execution_count": 14,
     "metadata": {},
     "output_type": "execute_result"
    }
   ],
   "source": [
    "disc_model"
   ]
  },
  {
   "cell_type": "code",
   "execution_count": 3,
   "metadata": {},
   "outputs": [
    {
     "data": {
      "text/plain": [
       "torch.Size([1320, 500, 1])"
      ]
     },
     "execution_count": 3,
     "metadata": {},
     "output_type": "execute_result"
    }
   ],
   "source": [
    "X_test.unsqueeze(-1).shape"
   ]
  },
  {
   "cell_type": "markdown",
   "metadata": {},
   "source": []
  },
  {
   "cell_type": "code",
   "execution_count": 19,
   "metadata": {},
   "outputs": [
    {
     "data": {
      "text/plain": [
       "tensor(0.9295, dtype=torch.float64)"
      ]
     },
     "execution_count": 19,
     "metadata": {},
     "output_type": "execute_result"
    }
   ],
   "source": [
    "y_pred = model(X_test.unsqueeze(-1))\n",
    "y_pred_real = (y_pred.flatten() > 0.5).to(int).cpu()\n",
    "\n",
    "acc = torch.mean((y_pred_real == y_test).to(float))\n",
    "acc"
   ]
  },
  {
   "cell_type": "code",
   "execution_count": 20,
   "metadata": {},
   "outputs": [
    {
     "data": {
      "text/plain": [
       "tensor(0.1055, dtype=torch.float64, grad_fn=<MeanBackward0>)"
      ]
     },
     "execution_count": 20,
     "metadata": {},
     "output_type": "execute_result"
    }
   ],
   "source": [
    "y_pred = disc_model(X_test.unsqueeze(-1))\n",
    "disc_prediction = torch.mean(y_pred.to(float).cpu())\n",
    "disc_prediction"
   ]
  },
  {
   "cell_type": "code",
   "execution_count": 11,
   "metadata": {},
   "outputs": [
    {
     "data": {
      "text/plain": [
       "tensor(0.8929, dtype=torch.float64)"
      ]
     },
     "execution_count": 11,
     "metadata": {},
     "output_type": "execute_result"
    }
   ],
   "source": [
    "y_pred = model(X_test.unsqueeze(-1))\n",
    "y_pred_real = (y_pred.flatten() > 0.5).to(int).cpu()\n",
    "acc = torch.mean((y_pred_real == y_test).to(float))\n",
    "acc"
   ]
  },
  {
   "cell_type": "code",
   "execution_count": 16,
   "metadata": {},
   "outputs": [
    {
     "data": {
      "text/plain": [
       "tensor(0.5000, dtype=torch.float64)"
      ]
     },
     "execution_count": 16,
     "metadata": {},
     "output_type": "execute_result"
    }
   ],
   "source": [
    "y_pred = model(X_train.unsqueeze(-1))\n",
    "y_pred_real = (y_pred > 0.5).to(int)\n",
    "\n",
    "acc = torch.mean((y_pred_real == y_train).to(float))\n",
    "acc"
   ]
  },
  {
   "attachments": {},
   "cell_type": "markdown",
   "metadata": {},
   "source": [
    "# Resave disc models"
   ]
  },
  {
   "cell_type": "code",
   "execution_count": 3,
   "metadata": {},
   "outputs": [
    {
     "data": {
      "application/vnd.jupyter.widget-view+json": {
       "model_id": "a7c5013aad8d4c3f95dd92a5f7fa040c",
       "version_major": 2,
       "version_minor": 0
      },
      "text/plain": [
       "  0%|          | 0/16 [00:00<?, ?it/s]"
      ]
     },
     "metadata": {},
     "output_type": "display_data"
    },
    {
     "name": "stdout",
     "output_type": "stream",
     "text": [
      "FAIL results/Ford_A/IFGSM/Discriminator_pickle/fgsm_attack_eps=0.005_nsteps=10 0.pt\n",
      "FAIL results/Ford_A/IFGSM/Discriminator_pickle/fgsm_attack_eps=0.005_nsteps=10 1.pt\n",
      "FAIL results/Ford_A/IFGSM/Discriminator_pickle/fgsm_attack_eps=0.005_nsteps=10 2.pt\n",
      "FAIL results/Ford_A/IFGSM/Discriminator_pickle/fgsm_attack_eps=0.005_nsteps=10 3.pt\n",
      "FAIL results/Ford_A/IFGSM/Discriminator_pickle/fgsm_attack_eps=0.005_nsteps=10 4.pt\n",
      "FAIL results/Ford_A/IFGSM/Discriminator_pickle/fgsm_attack_eps=0.005_nsteps=10 5.pt\n",
      "FAIL results/Ford_A/IFGSM/Discriminator_pickle/fgsm_attack_eps=0.005_nsteps=10 6.pt\n",
      "FAIL results/Ford_A/IFGSM/Discriminator_pickle/fgsm_attack_eps=0.005_nsteps=10 7.pt\n",
      "FAIL results/Ford_A/IFGSM/Discriminator_pickle/fgsm_attack_eps=0.005_nsteps=10 8.pt\n",
      "FAIL results/Ford_A/IFGSM/Discriminator_pickle/fgsm_attack_eps=0.005_nsteps=10 9.pt\n",
      "FAIL results/Ford_A/IFGSM/Discriminator_pickle/fgsm_attack_eps=0.01_nsteps=10 0.pt\n",
      "FAIL results/Ford_A/IFGSM/Discriminator_pickle/fgsm_attack_eps=0.01_nsteps=10 1.pt\n",
      "FAIL results/Ford_A/IFGSM/Discriminator_pickle/fgsm_attack_eps=0.01_nsteps=10 2.pt\n",
      "FAIL results/Ford_A/IFGSM/Discriminator_pickle/fgsm_attack_eps=0.01_nsteps=10 3.pt\n",
      "FAIL results/Ford_A/IFGSM/Discriminator_pickle/fgsm_attack_eps=0.01_nsteps=10 4.pt\n",
      "FAIL results/Ford_A/IFGSM/Discriminator_pickle/fgsm_attack_eps=0.01_nsteps=10 5.pt\n",
      "FAIL results/Ford_A/IFGSM/Discriminator_pickle/fgsm_attack_eps=0.01_nsteps=10 6.pt\n",
      "FAIL results/Ford_A/IFGSM/Discriminator_pickle/fgsm_attack_eps=0.01_nsteps=10 7.pt\n",
      "FAIL results/Ford_A/IFGSM/Discriminator_pickle/fgsm_attack_eps=0.01_nsteps=10 8.pt\n",
      "FAIL results/Ford_A/IFGSM/Discriminator_pickle/fgsm_attack_eps=0.01_nsteps=10 9.pt\n",
      "FAIL results/Ford_A/IFGSM/Discriminator_pickle/fgsm_attack_eps=0.03_nsteps=10 0.pt\n",
      "FAIL results/Ford_A/IFGSM/Discriminator_pickle/fgsm_attack_eps=0.03_nsteps=10 1.pt\n",
      "FAIL results/Ford_A/IFGSM/Discriminator_pickle/fgsm_attack_eps=0.03_nsteps=10 2.pt\n",
      "FAIL results/Ford_A/IFGSM/Discriminator_pickle/fgsm_attack_eps=0.03_nsteps=10 3.pt\n",
      "FAIL results/Ford_A/IFGSM/Discriminator_pickle/fgsm_attack_eps=0.05_nsteps=1 0.pt\n",
      "FAIL results/Ford_A/IFGSM/Discriminator_pickle/fgsm_attack_eps=0.05_nsteps=1 1.pt\n",
      "FAIL results/Ford_A/IFGSM/Discriminator_pickle/fgsm_attack_eps=0.05_nsteps=1 2.pt\n",
      "FAIL results/Ford_A/IFGSM/Discriminator_pickle/fgsm_attack_eps=0.05_nsteps=1 3.pt\n",
      "FAIL results/Ford_A/IFGSM/Discriminator_pickle/fgsm_attack_eps=0.05_nsteps=1 4.pt\n",
      "FAIL results/Ford_A/IFGSM/Discriminator_pickle/fgsm_attack_eps=0.3_nsteps=1 0.pt\n",
      "FAIL results/Ford_A/IFGSM/Discriminator_pickle/fgsm_attack_eps=0.3_nsteps=1 1.pt\n",
      "FAIL results/Ford_A/IFGSM/Discriminator_pickle/fgsm_attack_eps=0.3_nsteps=1 2.pt\n",
      "FAIL results/Ford_A/IFGSM/Discriminator_pickle/fgsm_attack_eps=0.3_nsteps=1 3.pt\n",
      "FAIL results/Ford_A/IFGSM/Discriminator_pickle/fgsm_attack_eps=0.3_nsteps=1 4.pt\n",
      "FAIL results/Ford_A/IFGSM/Discriminator_pickle/fgsm_reg_attack_eps=0.005_alpha=0.01_nsteps=10 0.pt\n",
      "FAIL results/Ford_A/IFGSM/Discriminator_pickle/fgsm_reg_attack_eps=0.005_alpha=0.01_nsteps=10 1.pt\n",
      "FAIL results/Ford_A/IFGSM/Discriminator_pickle/fgsm_reg_attack_eps=0.005_alpha=0.01_nsteps=10 2.pt\n",
      "FAIL results/Ford_A/IFGSM/Discriminator_pickle/fgsm_reg_attack_eps=0.005_alpha=0.01_nsteps=10 3.pt\n",
      "FAIL results/Ford_A/IFGSM/Discriminator_pickle/fgsm_reg_attack_eps=0.005_alpha=0.01_nsteps=10 4.pt\n",
      "FAIL results/Ford_A/IFGSM/Discriminator_pickle/fgsm_reg_attack_eps=0.005_alpha=0.01_nsteps=10 5.pt\n",
      "FAIL results/Ford_A/IFGSM/Discriminator_pickle/fgsm_reg_attack_eps=0.005_alpha=0.01_nsteps=10 6.pt\n",
      "FAIL results/Ford_A/IFGSM/Discriminator_pickle/fgsm_reg_attack_eps=0.005_alpha=0.01_nsteps=10 7.pt\n",
      "FAIL results/Ford_A/IFGSM/Discriminator_pickle/fgsm_reg_attack_eps=0.005_alpha=0.01_nsteps=10 8.pt\n",
      "FAIL results/Ford_A/IFGSM/Discriminator_pickle/fgsm_reg_attack_eps=0.005_alpha=0.01_nsteps=10 9.pt\n",
      "FAIL results/Ford_A/IFGSM/Discriminator_pickle/fgsm_reg_attack_eps=0.005_alpha=0.1_nsteps=10 0.pt\n",
      "FAIL results/Ford_A/IFGSM/Discriminator_pickle/fgsm_reg_attack_eps=0.005_alpha=0.1_nsteps=10 1.pt\n",
      "FAIL results/Ford_A/IFGSM/Discriminator_pickle/fgsm_reg_attack_eps=0.005_alpha=0.1_nsteps=10 2.pt\n",
      "FAIL results/Ford_A/IFGSM/Discriminator_pickle/fgsm_reg_attack_eps=0.005_alpha=0.1_nsteps=10 3.pt\n",
      "FAIL results/Ford_A/IFGSM/Discriminator_pickle/fgsm_reg_attack_eps=0.005_alpha=0.1_nsteps=10 4.pt\n",
      "FAIL results/Ford_A/IFGSM/Discriminator_pickle/fgsm_reg_attack_eps=0.01_alpha=0.01_nsteps=10 0.pickle\n",
      "FAIL results/Ford_A/IFGSM/Discriminator_pickle/fgsm_reg_attack_eps=0.01_alpha=0.01_nsteps=10 1.pt\n",
      "FAIL results/Ford_A/IFGSM/Discriminator_pickle/fgsm_reg_attack_eps=0.01_alpha=0.01_nsteps=10 2.pt\n",
      "FAIL results/Ford_A/IFGSM/Discriminator_pickle/fgsm_reg_attack_eps=0.01_alpha=0.01_nsteps=10 3.pt\n"
     ]
    }
   ],
   "source": [
    "path = 'results/Ford_A/IFGSM/Discriminator_pickle'\n",
    "folders = sorted(os.listdir(path))\n",
    "folders = [fold for fold in folders if '.pickle' not in fold]\n",
    "\n",
    "\n",
    "for fold in tqdm(folders):\n",
    "    path_loc = path + '/' + fold\n",
    "    pickles = sorted(os.listdir(path_loc))\n",
    "    pickles = [file for file in pickles if 'log' not in file or 'pt' in file]\n",
    "\n",
    "    for pickle_file in pickles:\n",
    "        try:\n",
    "            with open(path_loc + '/' + pickle_file, 'rb') as f:\n",
    "                experiment = pickle.load(f)\n",
    "            \n",
    "            model_weights_name = path_loc + '/' + pickle_file.replace('pickle', 'pt')\n",
    "            torch.save(experiment.disc_model.state_dict(), model_weights_name)\n",
    "\n",
    "            logs_name =  path_loc + '/' + pickle_file.replace('.pickle', '_logs.pickle')\n",
    "            with open(logs_name, 'wb') as f:\n",
    "                pickle.dump(experiment.dict_logging, f)\n",
    "        except:\n",
    "            print('FAIL', path_loc, pickle_file)"
   ]
  },
  {
   "cell_type": "code",
   "execution_count": 2,
   "metadata": {},
   "outputs": [
    {
     "data": {
      "text/plain": [
       "array([0.001     , 0.00562341, 0.03162278, 0.17782794, 1.        ])"
      ]
     },
     "execution_count": 2,
     "metadata": {},
     "output_type": "execute_result"
    }
   ],
   "source": [
    "import numpy as np\n",
    "np.geomspace(0.001, 1.0, 5)"
   ]
  },
  {
   "cell_type": "code",
   "execution_count": null,
   "metadata": {},
   "outputs": [],
   "source": []
  }
 ],
 "metadata": {
  "kernelspec": {
   "display_name": "cuda10",
   "language": "python",
   "name": "python3"
  },
  "language_info": {
   "codemirror_mode": {
    "name": "ipython",
    "version": 3
   },
   "file_extension": ".py",
   "mimetype": "text/x-python",
   "name": "python",
   "nbconvert_exporter": "python",
   "pygments_lexer": "ipython3",
   "version": "3.8.5"
  },
  "orig_nbformat": 4
 },
 "nbformat": 4,
 "nbformat_minor": 2
}
