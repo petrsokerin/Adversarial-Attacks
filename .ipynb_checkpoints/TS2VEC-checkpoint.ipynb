{
 "cells": [
  {
   "cell_type": "markdown",
   "metadata": {},
   "source": [
    "# Attacks"
   ]
  },
  {
   "cell_type": "markdown",
   "metadata": {},
   "source": [
    "# imports"
   ]
  },
  {
   "cell_type": "code",
   "execution_count": 1,
   "metadata": {},
   "outputs": [],
   "source": [
    "from utils.TS2Vec.ts2vec import TS2Vec\n",
    "from utils.TS2Vec import datautils\n",
    "\n",
    "import os\n",
    "\n",
    "import numpy as np\n",
    "import pandas as pd\n",
    "from tqdm.notebook import tqdm\n",
    "import pickle\n",
    "\n",
    "import torch\n",
    "from torch.utils.data import Dataset, DataLoader\n",
    "from torch import nn\n",
    "import torch.nn.functional as F\n",
    "\n",
    "from sklearn.metrics import accuracy_score, precision_score, recall_score, f1_score, roc_auc_score, average_precision_score\n",
    "from sklearn.model_selection import train_test_split\n",
    "\n",
    "import warnings\n",
    "warnings.filterwarnings(\"ignore\")"
   ]
  },
  {
   "cell_type": "code",
   "execution_count": 2,
   "metadata": {},
   "outputs": [],
   "source": [
    "class CustomTrainDS(Dataset):\n",
    "    def __init__(self, X, y):\n",
    "        self.X = X\n",
    "        self.y = y\n",
    "        \n",
    "    def __len__(self):\n",
    "        return len(self.y)\n",
    "\n",
    "    def __getitem__(self, idx):\n",
    "        X = self.X[idx, :]\n",
    "        y = self.y[idx]\n",
    "        return X, y\n",
    "\n",
    "    \n",
    "    \n",
    "    \n",
    "class Net(nn.Module):\n",
    "    def __init__(self, emb_size, out_size):\n",
    "        super().__init__()\n",
    "        \n",
    "        self.classifier = nn.Sequential(\n",
    "            nn.Linear(emb_size, 128),\n",
    "            nn.ReLU(),\n",
    "            nn.BatchNorm1d(128),\n",
    "            nn.Linear(128, 32), \n",
    "            nn.ReLU(),\n",
    "            nn.BatchNorm1d(32),\n",
    "            nn.Linear(32, out_size)\n",
    "        )\n",
    "        self.sigm = nn.Sigmoid()\n",
    "        \n",
    "    def forward(self, x):\n",
    "        out = self.classifier(x)\n",
    "        return self.sigm(out)\n",
    "    \n",
    "class TS2VecClassifier(nn.Module):\n",
    "    def __init__(self, te2vec_model, emb_size, n_classes):\n",
    "        super().__init__()\n",
    "        \n",
    "        if n_classes == 2:\n",
    "            output_size = 1\n",
    "        else:\n",
    "            output_size = n_classes\n",
    "        \n",
    "        self.emd_model = te2vec_model\n",
    "        self.classifier = Net(emb_size, output_size)\n",
    "        \n",
    "    def forward(self, X, mask=None):\n",
    "        \n",
    "            emb_out = self.emd_model(X, mask)\n",
    "            emb_out = F.max_pool1d(emb_out.transpose(1, 2), kernel_size = emb_out.size(1))\n",
    "            emb_out = emb_out.transpose(1, 2).squeeze(1)\n",
    "            out = self.classifier(emb_out)\n",
    "            \n",
    "            return out\n",
    "        \n",
    "    def load(self, path_dict: dict):\n",
    "        self.emd_model.load_state_dict(torch.load(path_dict['emb']))\n",
    "        self.classifier.load_state_dict(torch.load(path_dict['class']))"
   ]
  },
  {
   "cell_type": "markdown",
   "metadata": {},
   "source": [
    "# Training models"
   ]
  },
  {
   "cell_type": "code",
   "execution_count": 3,
   "metadata": {},
   "outputs": [],
   "source": [
    "class MLP:\n",
    "    def __init__(self, device='cpu', def_save_path='MLP_weights/experiments/exp.pt', \n",
    "                 n_classes=2, emb_size=512, batch_size=1):\n",
    "        \n",
    "        \n",
    "        if n_classes > 2:\n",
    "            self.loss = nn.CrossEntropyLoss()\n",
    "            output_size = n_classes\n",
    "        else:\n",
    "            self.loss = nn.BCELoss()\n",
    "            output_size = 1\n",
    "        \n",
    "        \n",
    "        self.device = device\n",
    "        self.save_path = def_save_path\n",
    "        self.model = Net(emb_size, output_size).to(self.device)\n",
    "        self.batch_size = batch_size\n",
    "        self.n_classes = n_classes\n",
    "        \n",
    "\n",
    "        \n",
    "    def fit(self, X, y, batch_size=64, lr=0.001, sch_patience=17, \n",
    "            early_stop_patience=60, num_epochs=1000, verbose=False):\n",
    "        \n",
    "        \n",
    "        self.batch_size = batch_size\n",
    "        # data transformation\n",
    "        X = torch.tensor(X, dtype=torch.float32)\n",
    "        y = torch.tensor(y, dtype=torch.float32)\n",
    "        classes = torch.unique(y, return_counts=True)\n",
    "        \n",
    "        test_size = 0.2\n",
    "        #print()\n",
    "        if torch.min(classes[1]) == 1 or test_size*len(X) <= len(classes[0]) :\n",
    "            X_train, X_val, y_train, y_val = train_test_split(X, y, test_size=test_size)\n",
    "        else:\n",
    "            X_train, X_val, y_train, y_val = train_test_split(X, y, test_size=test_size, stratify=y)\n",
    "        \n",
    "        #print(self.batch_size, len(X_train), len(X_val))\n",
    "        if len(X_train) < self.batch_size or len(X_val) < self.batch_size:\n",
    "            self.batch_size = min(len(X_train), len(X_val))\n",
    "        \n",
    "        #print(type(self.batch_size))\n",
    "        train_set = CustomTrainDS(X_train, y_train)\n",
    "        train_loader = DataLoader(train_set, batch_size=self.batch_size, shuffle=True, drop_last=True)\n",
    "\n",
    "        test_set = CustomTrainDS(X_val, y_val)\n",
    "        test_loader = DataLoader(test_set, batch_size=self.batch_size, shuffle=False, drop_last=True)       \n",
    "        \n",
    "        \n",
    "        if self.n_classes > 2:\n",
    "            self.loss = nn.CrossEntropyLoss()\n",
    "            out_size = n_classes\n",
    "        else:\n",
    "            self.loss = nn.BCELoss()\n",
    "            out_size = 1\n",
    "            \n",
    "                #model inicialization\n",
    "        self.model = Net(X.shape[1], out_size).to(self.device)\n",
    "            \n",
    "        self.optimizer = torch.optim.Adam(self.model.parameters(), lr=lr)\n",
    "        self.scheduler = torch.optim.lr_scheduler.StepLR(self.optimizer, 1, gamma=0.1)\n",
    "        \n",
    "        \n",
    "        #model training\n",
    "        max_metric = 0\n",
    "        patient = 0\n",
    "        \n",
    "        self.save(self.save_path)\n",
    "        \n",
    "        for epoch in range(num_epochs):\n",
    "\n",
    "            train_loss, acc_train = self.train_step(train_loader)\n",
    "            test_loss, acc_test = self.valid_step(test_loader) \n",
    "            \n",
    "            if verbose:\n",
    "                print(f'[Epoch {epoch + 1}] train loss: {train_loss:.3f}; acc_train {acc_train:.3f}; test loss: {test_loss:.3f}; acc_test {acc_test:.3f}')\n",
    "            \n",
    "            if acc_test > max_metric:\n",
    "                max_metric = acc_test\n",
    "                patient = 0\n",
    "                self.save(self.save_path)\n",
    "            else:\n",
    "                patient += 1\n",
    "                \n",
    "            if patient == sch_patience:\n",
    "                self.scheduler.step()\n",
    "            \n",
    "            elif patient == early_stop_patience:\n",
    "                if verbose:\n",
    "                    print('EARLY STOP')\n",
    "                break\n",
    "        \n",
    "        self.load(self.save_path)\n",
    "\n",
    "            \n",
    "    def train_step(self, loader):\n",
    "        losses, n_batches = 0, 0\n",
    "        self.model.train(True)\n",
    "\n",
    "        all_y_true = []\n",
    "        all_y_pred = []\n",
    "        for x, labels in loader:\n",
    "\n",
    "            self.optimizer.zero_grad()\n",
    "            \n",
    "            x = x.to(self.device)\n",
    "            all_y_true.extend(labels.detach().numpy().tolist())\n",
    "            labels = labels.to(self.device)\n",
    "\n",
    "            y_out = self.model(x)\n",
    "            all_y_pred.extend(torch.argmax(y_out, axis=1).cpu().detach().numpy().astype(int).tolist())\n",
    "            \n",
    "            #print(y_out.device, labels.device)\n",
    "            loss = self.loss(y_out, labels) \n",
    "            loss.backward()     \n",
    "            self.optimizer.step()\n",
    "            \n",
    "            losses += loss\n",
    "            n_batches += 1\n",
    "\n",
    "        mean_loss = losses / n_batches\n",
    "        acc = accuracy_score(all_y_true, all_y_pred)\n",
    "        return mean_loss, acc\n",
    "    \n",
    "    \n",
    "    def valid_step(self, loader):\n",
    "    \n",
    "        losses, n_batches = 0, 0\n",
    "        self.model.eval()\n",
    "\n",
    "        all_y_true = []\n",
    "        all_y_pred = []\n",
    "    \n",
    "        for x, labels in loader:\n",
    "            with torch.no_grad():\n",
    "                x = x.to(self.device)\n",
    "                all_y_true.extend(labels.detach().numpy().tolist())\n",
    "                labels = labels.to(self.device)\n",
    "\n",
    "                y_out = self.model(x)\n",
    "                \n",
    "                if self.n_classes > 2:\n",
    "                    pred_class = torch.argmax(y_out, axis=1).cpu().detach().numpy().astype(int).tolist()\n",
    "                else:\n",
    "                    pred_class = torch.round_(y_out).cpu().detach().numpy().astype(int).tolist()\n",
    "                \n",
    "                all_y_pred.extend(pred_class)\n",
    "\n",
    "                loss = self.loss(y_out, labels)\n",
    "                losses += loss\n",
    "                n_batches += 1\n",
    "\n",
    "        mean_loss = losses / n_batches\n",
    "        acc = accuracy_score(all_y_true, all_y_pred)\n",
    "        return mean_loss, acc\n",
    "\n",
    "    def predict(self, X):\n",
    "        X = torch.tensor(X, dtype=torch.float32)\n",
    "        \n",
    "        test_set = CustomTestDS(X)\n",
    "        test_loader = DataLoader(test_set, batch_size=self.batch_size, \n",
    "                                 shuffle=False, drop_last=False)\n",
    "        \n",
    "        losses, n_batches = 0, 0\n",
    "        self.model.eval()\n",
    "\n",
    "        all_y_pred = []\n",
    "    \n",
    "        for x in test_loader:\n",
    "            with torch.no_grad():\n",
    "                x = x.to(self.device)\n",
    "                y_out = self.model(x)\n",
    "                \n",
    "                if self.n_classes > 2:\n",
    "                    pred_class = torch.argmax(y_out, axis=1).cpu().detach().numpy().astype(int).tolist()\n",
    "                else:\n",
    "                    pred_class = torch.round_(y_out).cpu().detach().numpy().astype(int).tolist()\n",
    "                \n",
    "                all_y_pred.extend(pred_class)\n",
    "        \n",
    "        return all_y_pred\n",
    "    \n",
    "    def predict_adv(self, X):\n",
    "                \n",
    "        losses, n_batches = 0, 0\n",
    "        self.model.train()\n",
    "        \n",
    "        x = X.to(self.device)\n",
    "        y_out = self.model(x)\n",
    "        \n",
    "        return y_out\n",
    "    \n",
    "    def save(self, path):\n",
    "        torch.save(self.model.state_dict(), path)\n",
    "    \n",
    "    def load(self, path):\n",
    "        self.model.load_state_dict(torch.load(path))\n",
    "        "
   ]
  },
  {
   "cell_type": "code",
   "execution_count": 4,
   "metadata": {},
   "outputs": [],
   "source": [
    "    \n",
    "class CustomTestDS(Dataset):\n",
    "    def __init__(self, X):\n",
    "        self.X = X        \n",
    "    def __len__(self):\n",
    "        return len(self.X)\n",
    "    def __getitem__(self, idx):\n",
    "        X = self.X[idx, :]\n",
    "        return X\n",
    "    \n",
    "def calculate_metrics(y_true, y_pred):\n",
    "    \n",
    "    method = 'binary'\n",
    "    \n",
    "    if len(np.unique(y_true)) > 2:\n",
    "        method = 'weighted'\n",
    "\n",
    "    acc = accuracy_score(y_true, y_pred)\n",
    "    prec = precision_score(y_true, y_pred, average=method)\n",
    "    recall = recall_score(y_true, y_pred, average=method)\n",
    "    f1 = f1_score(y_true, y_pred, average=method)\n",
    "    \n",
    "    return [acc, prec, recall, f1]"
   ]
  },
  {
   "cell_type": "code",
   "execution_count": 5,
   "metadata": {},
   "outputs": [],
   "source": [
    "def get_embeddings_dataset(dataset_name, glob_dataset_name='UCR', max_pooling=True, batch_size=8, device='cpu'):\n",
    "    \n",
    "    \n",
    "    if glob_dataset_name == 'UCR':\n",
    "        train_data, train_labels, test_data, test_labels = datautils.load_UCR(dataset_name)\n",
    "    elif glob_dataset_name == 'UEA':\n",
    "        train_data, train_labels, test_data, test_labels = datautils.load_UEA(dataset_name)\n",
    "    else:\n",
    "        raise ValueError('Incorrect global_dataset_name')\n",
    "\n",
    "    model = TS2Vec(\n",
    "        input_dims=train_data.shape[-1],\n",
    "        device=device,\n",
    "        output_dims=320,\n",
    "        batch_size = batch_size\n",
    "    )\n",
    "    \n",
    "    loss_log = model.fit(\n",
    "            train_data,\n",
    "            verbose=False\n",
    "        )\n",
    "    print('Trained')\n",
    "    if max_pooling:\n",
    "        train_repr = model.encode(train_data, casual=True, sliding_length=1, sliding_padding=50)\n",
    "        test_repr = model.encode(test_data, casual=True, sliding_length=1, sliding_padding=50)\n",
    "        train_repr = np.max(train_repr, axis=1)\n",
    "        test_repr = np.max(test_repr, axis=1)\n",
    "        \n",
    "    else:\n",
    "        train_repr = model.encode(train_data, encoding_window='full_series')\n",
    "        test_repr = model.encode(test_data, encoding_window='full_series')\n",
    "        \n",
    "\n",
    "    return (train_repr, train_labels, test_repr, test_labels), model"
   ]
  },
  {
   "cell_type": "code",
   "execution_count": 6,
   "metadata": {},
   "outputs": [],
   "source": [
    "def train_one_dataset(glob_dataset_name='UCR', \n",
    "                      dataset_name='Coffee',\n",
    "                      max_pooling=False, \n",
    "                      batch_size=8, \n",
    "                      device='cpu', \n",
    "                      model_id=0):\n",
    "        \n",
    "#         if device != 'cpu':\n",
    "#             torch.cuda.empty_cache()\n",
    "\n",
    "        save_name = f'{dataset_name}_{model_id}'\n",
    "        emb_name = f'checkpoints/TS2Vec/emb_models/{glob_dataset_name}/{save_name}.pt'\n",
    "        \n",
    "        res = get_embeddings_dataset(dataset_name, glob_dataset_name, max_pooling, batch_size, device)\n",
    "        data, emb_model = res\n",
    "        train_emb, train_labels, test_emb, test_labels = data\n",
    "        torch.save(emb_model.net.state_dict(), emb_name)\n",
    "\n",
    "        print('Training classifier')\n",
    "        mlp_save_path = f'checkpoints/TS2Vec/class_models/{glob_dataset_name}/{save_name}.pt'\n",
    "        class_model = MLP(device=device, def_save_path=mlp_save_path)\n",
    "        class_model.fit(train_emb, train_labels.reshape(-1, 1), verbose=False)\n",
    "        \n",
    "        test_pred = class_model.predict(test_emb)\n",
    "        metrics = calculate_metrics(test_labels, test_pred)\n",
    "        \n",
    "        return metrics\n",
    "        \n",
    "\n",
    "def experiments(glob_dataset_name='UCR', max_pooling=False, batch_size=8, device='cpu', model_id='0'):\n",
    "\n",
    "    all_datasets = os.listdir(f'data/TS2Vec/{glob_dataset_name}')\n",
    "\n",
    "    skip_list = ['Missing_value_and_variable_length_datasets_adjusted', 'UCRArchive_2018.zip', 'Descriptions',\n",
    "                'Multivariate2018_arff.zip', 'EigenWorms', 'Images']\n",
    "\n",
    "    with open(f'data/TS2Vec/dict_bin_datasets.pickle', 'rb') as f:\n",
    "        dict_bin_datasets = pickle.load(f)\n",
    "        \n",
    "    bin_datasets = dict_bin_datasets[glob_dataset_name]\n",
    "    \n",
    "    df_res = pd.DataFrame([], columns = ['Dataset', 'Acc', 'Pr', 'Rc', 'F1'])\n",
    "    for dataset_name in tqdm(bin_datasets):\n",
    "\n",
    "        if dataset_name in skip_list:\n",
    "            continue\n",
    "\n",
    "        print(f'******** {dataset_name} ********')\n",
    "        if device != 'cpu':\n",
    "            torch.cuda.empty_cache()\n",
    "\n",
    "        metrics = train_one_dataset(glob_dataset_name=glob_dataset_name, dataset_name=dataset_name, \n",
    "                                    max_pooling=max_pooling, batch_size=batch_size, device=device, model_id=model_id)\n",
    "        line = [dataset_name] + metrics\n",
    "        line = dict(zip(df_res.columns.tolist(), line))\n",
    "        df_res = df_res.append(line, ignore_index=True)\n",
    "\n",
    "        path_to_save = f'results/TS2Vec/df_metrics_{glob_dataset_name}_{model_id}.csv'\n",
    "        df_res.to_csv(path_to_save, index=False)\n",
    "        \n",
    "        print()\n",
    "        \n",
    "    return df_res"
   ]
  },
  {
   "cell_type": "code",
   "execution_count": 7,
   "metadata": {},
   "outputs": [
    {
     "data": {
      "application/vnd.jupyter.widget-view+json": {
       "model_id": "d86463150a6147c28570413f5d6166a5",
       "version_major": 2,
       "version_minor": 0
      },
      "text/plain": [
       "  0%|          | 0/5 [00:00<?, ?it/s]"
      ]
     },
     "metadata": {},
     "output_type": "display_data"
    },
    {
     "data": {
      "application/vnd.jupyter.widget-view+json": {
       "model_id": "ca58ba5323ed4374abc4da84ab87dbf7",
       "version_major": 2,
       "version_minor": 0
      },
      "text/plain": [
       "  0%|          | 0/6 [00:00<?, ?it/s]"
      ]
     },
     "metadata": {},
     "output_type": "display_data"
    },
    {
     "name": "stdout",
     "output_type": "stream",
     "text": [
      "******** MotorImagery ********\n",
      "64\n",
      "Trained\n",
      "Training classifier\n",
      "\n",
      "******** SelfRegulationSCP2 ********\n",
      "7\n",
      "Trained\n",
      "Training classifier\n",
      "\n",
      "******** SelfRegulationSCP1 ********\n",
      "6\n",
      "Trained\n",
      "Training classifier\n",
      "\n",
      "******** FingerMovements ********\n",
      "28\n",
      "Trained\n",
      "Training classifier\n",
      "\n",
      "******** FaceDetection ********\n",
      "144\n",
      "Trained\n",
      "Training classifier\n",
      "\n",
      "******** Heartbeat ********\n",
      "61\n",
      "Trained\n",
      "Training classifier\n",
      "\n"
     ]
    },
    {
     "data": {
      "application/vnd.jupyter.widget-view+json": {
       "model_id": "073678bcf3154168ba3bf2038b024722",
       "version_major": 2,
       "version_minor": 0
      },
      "text/plain": [
       "  0%|          | 0/6 [00:00<?, ?it/s]"
      ]
     },
     "metadata": {},
     "output_type": "display_data"
    },
    {
     "name": "stdout",
     "output_type": "stream",
     "text": [
      "******** MotorImagery ********\n",
      "64\n",
      "Trained\n",
      "Training classifier\n",
      "\n",
      "******** SelfRegulationSCP2 ********\n",
      "7\n",
      "Trained\n",
      "Training classifier\n",
      "\n",
      "******** SelfRegulationSCP1 ********\n",
      "6\n",
      "Trained\n",
      "Training classifier\n",
      "\n",
      "******** FingerMovements ********\n",
      "28\n",
      "Trained\n",
      "Training classifier\n",
      "\n",
      "******** FaceDetection ********\n",
      "144\n",
      "Trained\n",
      "Training classifier\n",
      "\n",
      "******** Heartbeat ********\n",
      "61\n",
      "Trained\n",
      "Training classifier\n",
      "\n"
     ]
    },
    {
     "data": {
      "application/vnd.jupyter.widget-view+json": {
       "model_id": "827a9c7b26584b72b881a6b6248c98f2",
       "version_major": 2,
       "version_minor": 0
      },
      "text/plain": [
       "  0%|          | 0/6 [00:00<?, ?it/s]"
      ]
     },
     "metadata": {},
     "output_type": "display_data"
    },
    {
     "name": "stdout",
     "output_type": "stream",
     "text": [
      "******** MotorImagery ********\n",
      "64\n",
      "Trained\n",
      "Training classifier\n",
      "\n",
      "******** SelfRegulationSCP2 ********\n",
      "7\n",
      "Trained\n",
      "Training classifier\n",
      "\n",
      "******** SelfRegulationSCP1 ********\n",
      "6\n",
      "Trained\n",
      "Training classifier\n",
      "\n",
      "******** FingerMovements ********\n",
      "28\n",
      "Trained\n",
      "Training classifier\n",
      "\n",
      "******** FaceDetection ********\n",
      "144\n",
      "Trained\n",
      "Training classifier\n",
      "\n",
      "******** Heartbeat ********\n",
      "61\n",
      "Trained\n",
      "Training classifier\n",
      "\n"
     ]
    },
    {
     "data": {
      "application/vnd.jupyter.widget-view+json": {
       "model_id": "c80491e0f1114723af96c01a136d98bf",
       "version_major": 2,
       "version_minor": 0
      },
      "text/plain": [
       "  0%|          | 0/6 [00:00<?, ?it/s]"
      ]
     },
     "metadata": {},
     "output_type": "display_data"
    },
    {
     "name": "stdout",
     "output_type": "stream",
     "text": [
      "******** MotorImagery ********\n",
      "64\n",
      "Trained\n",
      "Training classifier\n",
      "\n",
      "******** SelfRegulationSCP2 ********\n",
      "7\n",
      "Trained\n",
      "Training classifier\n",
      "\n",
      "******** SelfRegulationSCP1 ********\n",
      "6\n",
      "Trained\n",
      "Training classifier\n",
      "\n",
      "******** FingerMovements ********\n",
      "28\n",
      "Trained\n",
      "Training classifier\n",
      "\n",
      "******** FaceDetection ********\n",
      "144\n",
      "Trained\n",
      "Training classifier\n",
      "\n",
      "******** Heartbeat ********\n",
      "61\n",
      "Trained\n",
      "Training classifier\n",
      "\n"
     ]
    },
    {
     "data": {
      "application/vnd.jupyter.widget-view+json": {
       "model_id": "5b0497a19e0448ac972bc35a6b4d8c96",
       "version_major": 2,
       "version_minor": 0
      },
      "text/plain": [
       "  0%|          | 0/6 [00:00<?, ?it/s]"
      ]
     },
     "metadata": {},
     "output_type": "display_data"
    },
    {
     "name": "stdout",
     "output_type": "stream",
     "text": [
      "******** MotorImagery ********\n",
      "64\n",
      "Trained\n",
      "Training classifier\n",
      "\n",
      "******** SelfRegulationSCP2 ********\n",
      "7\n",
      "Trained\n",
      "Training classifier\n",
      "\n",
      "******** SelfRegulationSCP1 ********\n",
      "6\n",
      "Trained\n",
      "Training classifier\n",
      "\n",
      "******** FingerMovements ********\n",
      "28\n",
      "Trained\n",
      "Training classifier\n",
      "\n",
      "******** FaceDetection ********\n",
      "144\n",
      "Trained\n",
      "Training classifier\n",
      "\n",
      "******** Heartbeat ********\n",
      "61\n",
      "Trained\n",
      "Training classifier\n",
      "\n"
     ]
    }
   ],
   "source": [
    "glob_dataset_name = 'UEA'\n",
    "max_pooling = False\n",
    "\n",
    "device = 'cuda:1'\n",
    "batch_size=8\n",
    "for model_id in tqdm(range(5)):\n",
    "    torch.manual_seed(model_id)\n",
    "    df_res = experiments(glob_dataset_name=glob_dataset_name, max_pooling=max_pooling, \n",
    "                     batch_size=batch_size, device=device, model_id=model_id)\n",
    "    "
   ]
  },
  {
   "cell_type": "code",
   "execution_count": 8,
   "metadata": {},
   "outputs": [],
   "source": [
    "# glob_dataset_name = 'UEA'\n",
    "# dataset_name = 'SelfRegulationSCP1'\n",
    "# max_pooling = False\n",
    "\n",
    "# device = torch.device('cuda:1' if torch.cuda.is_available() else 'cpu')\n",
    "\n",
    "# batch_size=8\n",
    "    \n",
    "# for model_id in tqdm(range(5)):\n",
    "#     torch.manual_seed(model_id)\n",
    "#     res = train_one_dataset(glob_dataset_name=glob_dataset_name, dataset_name=dataset_name, max_pooling=max_pooling, \n",
    "#                                        batch_size=batch_size, device=device, model_id=model_id)\n",
    "\n",
    "#     print(res)"
   ]
  },
  {
   "cell_type": "code",
   "execution_count": 9,
   "metadata": {},
   "outputs": [
    {
     "name": "stdout",
     "output_type": "stream",
     "text": [
      "Thu Dec  1 01:55:18 2022       \n",
      "+-----------------------------------------------------------------------------+\n",
      "| NVIDIA-SMI 470.82.01    Driver Version: 470.82.01    CUDA Version: 11.4     |\n",
      "|-------------------------------+----------------------+----------------------+\n",
      "| GPU  Name        Persistence-M| Bus-Id        Disp.A | Volatile Uncorr. ECC |\n",
      "| Fan  Temp  Perf  Pwr:Usage/Cap|         Memory-Usage | GPU-Util  Compute M. |\n",
      "|                               |                      |               MIG M. |\n",
      "|===============================+======================+======================|\n",
      "|   0  Tesla V100-SXM2...  Off  | 00000000:1A:00.0 Off |                    0 |\n",
      "| N/A   39C    P0    55W / 300W |    804MiB / 16160MiB |      0%      Default |\n",
      "|                               |                      |                  N/A |\n",
      "+-------------------------------+----------------------+----------------------+\n",
      "|   1  Tesla V100-SXM2...  Off  | 00000000:1C:00.0 Off |                    0 |\n",
      "| N/A   33C    P0    54W / 300W |   3139MiB / 16160MiB |      0%      Default |\n",
      "|                               |                      |                  N/A |\n",
      "+-------------------------------+----------------------+----------------------+\n",
      "|   2  Tesla V100-SXM2...  Off  | 00000000:1D:00.0 Off |                    0 |\n",
      "| N/A   33C    P0    54W / 300W |   1306MiB / 16160MiB |      0%      Default |\n",
      "|                               |                      |                  N/A |\n",
      "+-------------------------------+----------------------+----------------------+\n",
      "|   3  Tesla V100-SXM2...  Off  | 00000000:1E:00.0 Off |                    0 |\n",
      "| N/A   38C    P0    55W / 300W |   1724MiB / 16160MiB |      0%      Default |\n",
      "|                               |                      |                  N/A |\n",
      "+-------------------------------+----------------------+----------------------+\n",
      "                                                                               \n",
      "+-----------------------------------------------------------------------------+\n",
      "| Processes:                                                                  |\n",
      "|  GPU   GI   CI        PID   Type   Process name                  GPU Memory |\n",
      "|        ID   ID                                                   Usage      |\n",
      "|=============================================================================|\n",
      "|    0   N/A  N/A    273546      C   ...a3/envs/cuda10/bin/python      801MiB |\n",
      "|    1   N/A  N/A    267546      C   ...a3/envs/cuda10/bin/python     1489MiB |\n",
      "|    1   N/A  N/A    273546      C   ...a3/envs/cuda10/bin/python     1647MiB |\n",
      "|    2   N/A  N/A    251522      C   ...a3/envs/cuda10/bin/python     1303MiB |\n",
      "|    3   N/A  N/A    267546      C   ...a3/envs/cuda10/bin/python     1721MiB |\n",
      "+-----------------------------------------------------------------------------+\n"
     ]
    }
   ],
   "source": [
    "!nvidia-smi"
   ]
  },
  {
   "cell_type": "markdown",
   "metadata": {},
   "source": [
    "# loading data and model"
   ]
  },
  {
   "cell_type": "code",
   "execution_count": 10,
   "metadata": {},
   "outputs": [],
   "source": [
    "from utils.estimation import (plot_aa_metrics, rejection_curves_procedure, \n",
    "                              build_basic_dict_curve, build_custom_dict_curve,\n",
    "                             draw_rejection_curves)\n",
    "from utils.attacks import ifgsm_procedure"
   ]
  },
  {
   "cell_type": "code",
   "execution_count": 11,
   "metadata": {},
   "outputs": [],
   "source": [
    "# Load the ECG200 dataset from UCR archive\n",
    "max_pooling = False\n",
    "\n",
    "model_id = 0\n",
    "\n",
    "glob_dataset_name = 'UCR'\n",
    "dataset_name = 'Wine'\n",
    "\n",
    "device = 'cuda:1'\n",
    "batch_size = 4 if glob_dataset_name == 'UEA' else 8\n",
    "    \n",
    "if glob_dataset_name == 'UCR':\n",
    "    train_data, train_labels, test_data, test_labels = datautils.load_UCR(dataset_name)\n",
    "    \n",
    "elif glob_dataset_name == 'UEA':\n",
    "    train_data, train_labels, test_data, test_labels = datautils.load_UEA(dataset_name)\n",
    "\n",
    "emb_model = TS2Vec(\n",
    "        input_dims=train_data.shape[-1],\n",
    "        device=device,\n",
    "        output_dims=320,\n",
    "        batch_size = batch_size\n",
    "    )\n",
    "\n",
    "model = TS2VecClassifier(emb_model.net, emb_size=320, n_classes=2)\n",
    "\n",
    "path_dict = {'emb': f'checkpoints/TS2Vec/emb_models/{glob_dataset_name}/{dataset_name}_{model_id}.pt',\n",
    "                'class': f'checkpoints/TS2Vec/class_models/{glob_dataset_name}/{dataset_name}_{model_id}.pt'}\n",
    "\n",
    "model.load(path_dict)\n",
    "model = model.to(device)\n",
    "\n",
    "dataset = CustomTrainDS(torch.from_numpy(test_data).to(torch.float), torch.from_numpy(test_labels).to(torch.float))\n",
    "dr_last = len(dataset) // batch_size != len(dataset) / batch_size\n",
    "test_loader = DataLoader(dataset, batch_size=batch_size, drop_last=False)"
   ]
  },
  {
   "cell_type": "markdown",
   "metadata": {},
   "source": [
    "# Attack"
   ]
  },
  {
   "cell_type": "code",
   "execution_count": 12,
   "metadata": {},
   "outputs": [
    {
     "data": {
      "application/vnd.jupyter.widget-view+json": {
       "model_id": "b1ee8f0bdebd4648be27f3dd3ac67759",
       "version_major": 2,
       "version_minor": 0
      },
      "text/plain": [
       "  0%|          | 0/5 [00:00<?, ?it/s]"
      ]
     },
     "metadata": {},
     "output_type": "display_data"
    },
    {
     "name": "stdout",
     "output_type": "stream",
     "text": [
      "*****************  EPS=0.001  ****************\n"
     ]
    },
    {
     "data": {
      "application/vnd.jupyter.widget-view+json": {
       "model_id": "c376af11fbe849a0a92e45a30a765942",
       "version_major": 2,
       "version_minor": 0
      },
      "text/plain": [
       "  0%|          | 0/50 [00:00<?, ?it/s]"
      ]
     },
     "metadata": {},
     "output_type": "display_data"
    },
    {
     "name": "stdout",
     "output_type": "stream",
     "text": [
      "*****************  EPS=0.005623413251903491  ****************\n"
     ]
    },
    {
     "data": {
      "application/vnd.jupyter.widget-view+json": {
       "model_id": "889c5d10143f44f68bdb1b16b533c120",
       "version_major": 2,
       "version_minor": 0
      },
      "text/plain": [
       "  0%|          | 0/50 [00:00<?, ?it/s]"
      ]
     },
     "metadata": {},
     "output_type": "display_data"
    },
    {
     "name": "stdout",
     "output_type": "stream",
     "text": [
      "*****************  EPS=0.03162277660168379  ****************\n"
     ]
    },
    {
     "data": {
      "application/vnd.jupyter.widget-view+json": {
       "model_id": "fde050957a7145df98d297b9f10d783e",
       "version_major": 2,
       "version_minor": 0
      },
      "text/plain": [
       "  0%|          | 0/50 [00:00<?, ?it/s]"
      ]
     },
     "metadata": {},
     "output_type": "display_data"
    },
    {
     "name": "stdout",
     "output_type": "stream",
     "text": [
      "*****************  EPS=0.1778279410038923  ****************\n"
     ]
    },
    {
     "data": {
      "application/vnd.jupyter.widget-view+json": {
       "model_id": "106f7413f4da4a7da1c9416809f61460",
       "version_major": 2,
       "version_minor": 0
      },
      "text/plain": [
       "  0%|          | 0/50 [00:00<?, ?it/s]"
      ]
     },
     "metadata": {},
     "output_type": "display_data"
    },
    {
     "name": "stdout",
     "output_type": "stream",
     "text": [
      "*****************  EPS=1.0  ****************\n"
     ]
    },
    {
     "data": {
      "application/vnd.jupyter.widget-view+json": {
       "model_id": "6d97ee9834644bbcb8424ca4fbeea31b",
       "version_major": 2,
       "version_minor": 0
      },
      "text/plain": [
       "  0%|          | 0/50 [00:00<?, ?it/s]"
      ]
     },
     "metadata": {},
     "output_type": "display_data"
    }
   ],
   "source": [
    "n_iters = 50\n",
    "eps_params = (1e-3, 1e0, 5)\n",
    "n_objects = test_labels.shape[0]\n",
    "criterion = torch.nn.BCELoss()\n",
    "\n",
    "device= torch.device('cuda:1' if torch.cuda.is_available() else 'cpu')\n",
    "device= torch.device('cpu')\n",
    "\n",
    "model = model.to(device)\n",
    "train_mode = False\n",
    "\n",
    "aa_res_df, rej_curves_dict = ifgsm_procedure(model=model, loader=test_loader, dataset=CustomTrainDS,\n",
    "                                             criterion=criterion, eps_params=eps_params, \n",
    "                                             n_steps=n_iters, batch_size=batch_size, \n",
    "                                             device=device, n_objects=n_objects, train_mode=train_mode)\n",
    "\n",
    "aa_res_df.to_csv(f'results/TS2Vec/{glob_dataset_name}/aa_res_{dataset_name}_{model_id}.csv')\n",
    "with open(f'results/TS2Vec/{glob_dataset_name}/rej_curves_dict_model_{dataset_name}_{model_id}.pickle', 'wb') as file:\n",
    "    pickle.dump(rej_curves_dict, file)"
   ]
  },
  {
   "cell_type": "code",
   "execution_count": 13,
   "metadata": {},
   "outputs": [],
   "source": [
    "# # Load the ECG200 dataset from UCR archive\n",
    "# max_pooling = False\n",
    "\n",
    "# glob_dataset_name = 'UCR'\n",
    "\n",
    "# dataset_name = 'Wine'\n",
    "\n",
    "# device = 'cuda:1'\n",
    "# batch_size = 4 if glob_dataset_name == 'UEA' else 8\n",
    "    \n",
    "# if glob_dataset_name == 'UCR':\n",
    "#     train_data, train_labels, test_data, test_labels = datautils.load_UCR(dataset_name)\n",
    "    \n",
    "# elif glob_dataset_name == 'UEA':\n",
    "#     train_data, train_labels, test_data, test_labels = datautils.load_UEA(dataset_name)\n",
    "\n",
    "# emb_model = TS2Vec(\n",
    "#         input_dims=train_data.shape[-1],\n",
    "#         device=device,\n",
    "#         output_dims=320,\n",
    "#         batch_size = batch_size\n",
    "#     )\n",
    "\n",
    "# model = TS2VecClassifier(emb_model.net, emb_size=320, n_classes=2)\n",
    "\n",
    "# n_iters = 50\n",
    "# eps_params = (1e-3, 1e0, 5)\n",
    "# n_objects = test_labels.shape[0]\n",
    "# criterion = torch.nn.BCELoss()\n",
    "\n",
    "# for model_id in tqdm(range(5)):\n",
    "    \n",
    "#     print(f'######################### model_id:{model_id} #########################')\n",
    "\n",
    "#     path_dict = {'emb': f'checkpoints/TS2Vec/emb_models/{glob_dataset_name}/{dataset_name}_{model_id}.pt',\n",
    "#                     'class': f'checkpoints/TS2Vec/class_models/{glob_dataset_name}/{dataset_name}_{model_id}.pt'}\n",
    "\n",
    "#     model.load(path_dict)\n",
    "#     model = model.to(device)\n",
    "\n",
    "#     dataset = CustomTrainDS(torch.from_numpy(test_data).to(torch.float), torch.from_numpy(test_labels).to(torch.float))\n",
    "#     dr_last = len(dataset) // batch_size != len(dataset) / batch_size\n",
    "#     test_loader = DataLoader(dataset, batch_size=batch_size, drop_last=False)\n",
    "    \n",
    "#     aa_res_df, rej_curves_dict = ifgsm_procedure(model=model, loader=test_loader, dataset=CustomTrainDS,\n",
    "#                                              criterion=criterion, eps_params=eps_params, \n",
    "#                                              n_steps=n_iters, device=device,\n",
    "#                                              batch_size=batch_size, n_objects=n_objects)\n",
    "\n",
    "#     aa_res_df.to_csv(f'results/TS2Vec/{glob_dataset_name}/aa_res_{dataset_name}_{model_id}.csv')\n",
    "#     with open(f'results/TS2Vec/{glob_dataset_name}/rej_curves_dict_model_{dataset_name}_{model_id}.pickle', 'wb') as file:\n",
    "#         pickle.dump(rej_curves_dict, file)"
   ]
  },
  {
   "cell_type": "code",
   "execution_count": null,
   "metadata": {},
   "outputs": [
    {
     "data": {
      "application/vnd.jupyter.widget-view+json": {
       "model_id": "4f4997c945d943c7af444361dfdbca1f",
       "version_major": 2,
       "version_minor": 0
      },
      "text/plain": [
       "  0%|          | 0/6 [00:00<?, ?it/s]"
      ]
     },
     "metadata": {},
     "output_type": "display_data"
    },
    {
     "name": "stdout",
     "output_type": "stream",
     "text": [
      "######################### dataset_name:MotorImagery #########################\n"
     ]
    },
    {
     "data": {
      "application/vnd.jupyter.widget-view+json": {
       "model_id": "4681e1a98b9b4b43a18026ed5ef1b570",
       "version_major": 2,
       "version_minor": 0
      },
      "text/plain": [
       "  0%|          | 0/5 [00:00<?, ?it/s]"
      ]
     },
     "metadata": {},
     "output_type": "display_data"
    },
    {
     "data": {
      "application/vnd.jupyter.widget-view+json": {
       "model_id": "05eda2ab4275440fb6287f573870ea5c",
       "version_major": 2,
       "version_minor": 0
      },
      "text/plain": [
       "  0%|          | 0/5 [00:00<?, ?it/s]"
      ]
     },
     "metadata": {},
     "output_type": "display_data"
    },
    {
     "name": "stdout",
     "output_type": "stream",
     "text": [
      "*****************  EPS=0.001  ****************\n"
     ]
    },
    {
     "data": {
      "application/vnd.jupyter.widget-view+json": {
       "model_id": "8a1f96ec2e1748c1b58e17480f00d59f",
       "version_major": 2,
       "version_minor": 0
      },
      "text/plain": [
       "  0%|          | 0/50 [00:00<?, ?it/s]"
      ]
     },
     "metadata": {},
     "output_type": "display_data"
    },
    {
     "name": "stdout",
     "output_type": "stream",
     "text": [
      "*****************  EPS=0.005623413251903491  ****************\n"
     ]
    },
    {
     "data": {
      "application/vnd.jupyter.widget-view+json": {
       "model_id": "9f72a542de53445785cf14d341f16b79",
       "version_major": 2,
       "version_minor": 0
      },
      "text/plain": [
       "  0%|          | 0/50 [00:00<?, ?it/s]"
      ]
     },
     "metadata": {},
     "output_type": "display_data"
    },
    {
     "name": "stdout",
     "output_type": "stream",
     "text": [
      "*****************  EPS=0.03162277660168379  ****************\n"
     ]
    },
    {
     "data": {
      "application/vnd.jupyter.widget-view+json": {
       "model_id": "6a3cceaf7613405c8405f55ffa7d97e0",
       "version_major": 2,
       "version_minor": 0
      },
      "text/plain": [
       "  0%|          | 0/50 [00:00<?, ?it/s]"
      ]
     },
     "metadata": {},
     "output_type": "display_data"
    },
    {
     "name": "stdout",
     "output_type": "stream",
     "text": [
      "*****************  EPS=0.1778279410038923  ****************\n"
     ]
    },
    {
     "data": {
      "application/vnd.jupyter.widget-view+json": {
       "model_id": "d74c2de7bdf34701ba18a785d7f07cc8",
       "version_major": 2,
       "version_minor": 0
      },
      "text/plain": [
       "  0%|          | 0/50 [00:00<?, ?it/s]"
      ]
     },
     "metadata": {},
     "output_type": "display_data"
    },
    {
     "name": "stdout",
     "output_type": "stream",
     "text": [
      "*****************  EPS=1.0  ****************\n"
     ]
    },
    {
     "data": {
      "application/vnd.jupyter.widget-view+json": {
       "model_id": "a76b83bfef994c9f979f561306293c70",
       "version_major": 2,
       "version_minor": 0
      },
      "text/plain": [
       "  0%|          | 0/50 [00:00<?, ?it/s]"
      ]
     },
     "metadata": {},
     "output_type": "display_data"
    },
    {
     "data": {
      "application/vnd.jupyter.widget-view+json": {
       "model_id": "2ceea22a17e6482e81fdac77fafbb0dd",
       "version_major": 2,
       "version_minor": 0
      },
      "text/plain": [
       "  0%|          | 0/5 [00:00<?, ?it/s]"
      ]
     },
     "metadata": {},
     "output_type": "display_data"
    },
    {
     "name": "stdout",
     "output_type": "stream",
     "text": [
      "*****************  EPS=0.001  ****************\n"
     ]
    },
    {
     "data": {
      "application/vnd.jupyter.widget-view+json": {
       "model_id": "284c9464cac943eeb0f14c1b70647cd7",
       "version_major": 2,
       "version_minor": 0
      },
      "text/plain": [
       "  0%|          | 0/50 [00:00<?, ?it/s]"
      ]
     },
     "metadata": {},
     "output_type": "display_data"
    },
    {
     "name": "stdout",
     "output_type": "stream",
     "text": [
      "*****************  EPS=0.005623413251903491  ****************\n"
     ]
    },
    {
     "data": {
      "application/vnd.jupyter.widget-view+json": {
       "model_id": "0f8b026d0d1a459b8b4a42274bbf3254",
       "version_major": 2,
       "version_minor": 0
      },
      "text/plain": [
       "  0%|          | 0/50 [00:00<?, ?it/s]"
      ]
     },
     "metadata": {},
     "output_type": "display_data"
    },
    {
     "name": "stdout",
     "output_type": "stream",
     "text": [
      "*****************  EPS=0.03162277660168379  ****************\n"
     ]
    },
    {
     "data": {
      "application/vnd.jupyter.widget-view+json": {
       "model_id": "436bcc72db13481a991b7b52fc5d9c9a",
       "version_major": 2,
       "version_minor": 0
      },
      "text/plain": [
       "  0%|          | 0/50 [00:00<?, ?it/s]"
      ]
     },
     "metadata": {},
     "output_type": "display_data"
    },
    {
     "name": "stdout",
     "output_type": "stream",
     "text": [
      "*****************  EPS=0.1778279410038923  ****************\n"
     ]
    },
    {
     "data": {
      "application/vnd.jupyter.widget-view+json": {
       "model_id": "69cc602c41d94defbc5c239d7644cf8b",
       "version_major": 2,
       "version_minor": 0
      },
      "text/plain": [
       "  0%|          | 0/50 [00:00<?, ?it/s]"
      ]
     },
     "metadata": {},
     "output_type": "display_data"
    },
    {
     "name": "stdout",
     "output_type": "stream",
     "text": [
      "*****************  EPS=1.0  ****************\n"
     ]
    },
    {
     "data": {
      "application/vnd.jupyter.widget-view+json": {
       "model_id": "fb30fd293f024e6896a7e6bbdc476c18",
       "version_major": 2,
       "version_minor": 0
      },
      "text/plain": [
       "  0%|          | 0/50 [00:00<?, ?it/s]"
      ]
     },
     "metadata": {},
     "output_type": "display_data"
    },
    {
     "data": {
      "application/vnd.jupyter.widget-view+json": {
       "model_id": "941644a4fb10409dacaa4f416c60d82a",
       "version_major": 2,
       "version_minor": 0
      },
      "text/plain": [
       "  0%|          | 0/5 [00:00<?, ?it/s]"
      ]
     },
     "metadata": {},
     "output_type": "display_data"
    },
    {
     "name": "stdout",
     "output_type": "stream",
     "text": [
      "*****************  EPS=0.001  ****************\n"
     ]
    },
    {
     "data": {
      "application/vnd.jupyter.widget-view+json": {
       "model_id": "c4713ce9c6e84b7f8b2e62bcbea27067",
       "version_major": 2,
       "version_minor": 0
      },
      "text/plain": [
       "  0%|          | 0/50 [00:00<?, ?it/s]"
      ]
     },
     "metadata": {},
     "output_type": "display_data"
    },
    {
     "name": "stdout",
     "output_type": "stream",
     "text": [
      "*****************  EPS=0.005623413251903491  ****************\n"
     ]
    },
    {
     "data": {
      "application/vnd.jupyter.widget-view+json": {
       "model_id": "f1ada1232dd642cbb5689e84e9fbc3d0",
       "version_major": 2,
       "version_minor": 0
      },
      "text/plain": [
       "  0%|          | 0/50 [00:00<?, ?it/s]"
      ]
     },
     "metadata": {},
     "output_type": "display_data"
    },
    {
     "name": "stdout",
     "output_type": "stream",
     "text": [
      "*****************  EPS=0.03162277660168379  ****************\n"
     ]
    },
    {
     "data": {
      "application/vnd.jupyter.widget-view+json": {
       "model_id": "fe3d2d532631401dae43374ff28357d6",
       "version_major": 2,
       "version_minor": 0
      },
      "text/plain": [
       "  0%|          | 0/50 [00:00<?, ?it/s]"
      ]
     },
     "metadata": {},
     "output_type": "display_data"
    },
    {
     "name": "stdout",
     "output_type": "stream",
     "text": [
      "*****************  EPS=0.1778279410038923  ****************\n"
     ]
    },
    {
     "data": {
      "application/vnd.jupyter.widget-view+json": {
       "model_id": "dc5ffadf48de4394bb0b18da08d66262",
       "version_major": 2,
       "version_minor": 0
      },
      "text/plain": [
       "  0%|          | 0/50 [00:00<?, ?it/s]"
      ]
     },
     "metadata": {},
     "output_type": "display_data"
    },
    {
     "name": "stdout",
     "output_type": "stream",
     "text": [
      "*****************  EPS=1.0  ****************\n"
     ]
    },
    {
     "data": {
      "application/vnd.jupyter.widget-view+json": {
       "model_id": "b14d2ed102194a10930c5a215e5a3a20",
       "version_major": 2,
       "version_minor": 0
      },
      "text/plain": [
       "  0%|          | 0/50 [00:00<?, ?it/s]"
      ]
     },
     "metadata": {},
     "output_type": "display_data"
    },
    {
     "data": {
      "application/vnd.jupyter.widget-view+json": {
       "model_id": "21a39e67013a496db102858ed9737f15",
       "version_major": 2,
       "version_minor": 0
      },
      "text/plain": [
       "  0%|          | 0/5 [00:00<?, ?it/s]"
      ]
     },
     "metadata": {},
     "output_type": "display_data"
    },
    {
     "name": "stdout",
     "output_type": "stream",
     "text": [
      "*****************  EPS=0.001  ****************\n"
     ]
    },
    {
     "data": {
      "application/vnd.jupyter.widget-view+json": {
       "model_id": "e6f5f9aea50b414898e0dd0cdf0231ac",
       "version_major": 2,
       "version_minor": 0
      },
      "text/plain": [
       "  0%|          | 0/50 [00:00<?, ?it/s]"
      ]
     },
     "metadata": {},
     "output_type": "display_data"
    },
    {
     "name": "stdout",
     "output_type": "stream",
     "text": [
      "*****************  EPS=0.005623413251903491  ****************\n"
     ]
    },
    {
     "data": {
      "application/vnd.jupyter.widget-view+json": {
       "model_id": "cc31529995594e3092f22048fa8c758d",
       "version_major": 2,
       "version_minor": 0
      },
      "text/plain": [
       "  0%|          | 0/50 [00:00<?, ?it/s]"
      ]
     },
     "metadata": {},
     "output_type": "display_data"
    },
    {
     "name": "stdout",
     "output_type": "stream",
     "text": [
      "*****************  EPS=0.03162277660168379  ****************\n"
     ]
    },
    {
     "data": {
      "application/vnd.jupyter.widget-view+json": {
       "model_id": "a3988112648c4f2c93d3b8317c42b871",
       "version_major": 2,
       "version_minor": 0
      },
      "text/plain": [
       "  0%|          | 0/50 [00:00<?, ?it/s]"
      ]
     },
     "metadata": {},
     "output_type": "display_data"
    },
    {
     "name": "stdout",
     "output_type": "stream",
     "text": [
      "*****************  EPS=0.1778279410038923  ****************\n"
     ]
    },
    {
     "data": {
      "application/vnd.jupyter.widget-view+json": {
       "model_id": "460775cc426746d094a23500e40e9202",
       "version_major": 2,
       "version_minor": 0
      },
      "text/plain": [
       "  0%|          | 0/50 [00:00<?, ?it/s]"
      ]
     },
     "metadata": {},
     "output_type": "display_data"
    },
    {
     "name": "stdout",
     "output_type": "stream",
     "text": [
      "*****************  EPS=1.0  ****************\n"
     ]
    },
    {
     "data": {
      "application/vnd.jupyter.widget-view+json": {
       "model_id": "92992c280eb34f57beb44137870e319b",
       "version_major": 2,
       "version_minor": 0
      },
      "text/plain": [
       "  0%|          | 0/50 [00:00<?, ?it/s]"
      ]
     },
     "metadata": {},
     "output_type": "display_data"
    },
    {
     "data": {
      "application/vnd.jupyter.widget-view+json": {
       "model_id": "afb629bb18014311bc3d2e90ff531d2c",
       "version_major": 2,
       "version_minor": 0
      },
      "text/plain": [
       "  0%|          | 0/5 [00:00<?, ?it/s]"
      ]
     },
     "metadata": {},
     "output_type": "display_data"
    },
    {
     "name": "stdout",
     "output_type": "stream",
     "text": [
      "*****************  EPS=0.001  ****************\n"
     ]
    },
    {
     "data": {
      "application/vnd.jupyter.widget-view+json": {
       "model_id": "ec00811543974f10a5004cf5e0fb1d22",
       "version_major": 2,
       "version_minor": 0
      },
      "text/plain": [
       "  0%|          | 0/50 [00:00<?, ?it/s]"
      ]
     },
     "metadata": {},
     "output_type": "display_data"
    },
    {
     "name": "stdout",
     "output_type": "stream",
     "text": [
      "*****************  EPS=0.005623413251903491  ****************\n"
     ]
    },
    {
     "data": {
      "application/vnd.jupyter.widget-view+json": {
       "model_id": "d1a15a262e374d0d9f2a010a54f6f1b5",
       "version_major": 2,
       "version_minor": 0
      },
      "text/plain": [
       "  0%|          | 0/50 [00:00<?, ?it/s]"
      ]
     },
     "metadata": {},
     "output_type": "display_data"
    },
    {
     "name": "stdout",
     "output_type": "stream",
     "text": [
      "*****************  EPS=0.03162277660168379  ****************\n"
     ]
    },
    {
     "data": {
      "application/vnd.jupyter.widget-view+json": {
       "model_id": "74ab499244894cf48ad0c3025a3256e4",
       "version_major": 2,
       "version_minor": 0
      },
      "text/plain": [
       "  0%|          | 0/50 [00:00<?, ?it/s]"
      ]
     },
     "metadata": {},
     "output_type": "display_data"
    },
    {
     "name": "stdout",
     "output_type": "stream",
     "text": [
      "*****************  EPS=0.1778279410038923  ****************\n"
     ]
    },
    {
     "data": {
      "application/vnd.jupyter.widget-view+json": {
       "model_id": "9a7be5e0fd8c4407ad56ed41f2189262",
       "version_major": 2,
       "version_minor": 0
      },
      "text/plain": [
       "  0%|          | 0/50 [00:00<?, ?it/s]"
      ]
     },
     "metadata": {},
     "output_type": "display_data"
    },
    {
     "name": "stdout",
     "output_type": "stream",
     "text": [
      "*****************  EPS=1.0  ****************\n"
     ]
    },
    {
     "data": {
      "application/vnd.jupyter.widget-view+json": {
       "model_id": "039c232e733347cea1aae3ee52f3a12f",
       "version_major": 2,
       "version_minor": 0
      },
      "text/plain": [
       "  0%|          | 0/50 [00:00<?, ?it/s]"
      ]
     },
     "metadata": {},
     "output_type": "display_data"
    },
    {
     "name": "stdout",
     "output_type": "stream",
     "text": [
      "######################### dataset_name:SelfRegulationSCP2 #########################\n"
     ]
    },
    {
     "data": {
      "application/vnd.jupyter.widget-view+json": {
       "model_id": "852ad8c0e3414f29965e836c1bba4f94",
       "version_major": 2,
       "version_minor": 0
      },
      "text/plain": [
       "  0%|          | 0/5 [00:00<?, ?it/s]"
      ]
     },
     "metadata": {},
     "output_type": "display_data"
    },
    {
     "data": {
      "application/vnd.jupyter.widget-view+json": {
       "model_id": "f15350fccc3e4cbc94a391ac06d0cbd0",
       "version_major": 2,
       "version_minor": 0
      },
      "text/plain": [
       "  0%|          | 0/5 [00:00<?, ?it/s]"
      ]
     },
     "metadata": {},
     "output_type": "display_data"
    },
    {
     "name": "stdout",
     "output_type": "stream",
     "text": [
      "*****************  EPS=0.001  ****************\n"
     ]
    },
    {
     "data": {
      "application/vnd.jupyter.widget-view+json": {
       "model_id": "95e18ee99cd44925a820dea3ec86bd66",
       "version_major": 2,
       "version_minor": 0
      },
      "text/plain": [
       "  0%|          | 0/50 [00:00<?, ?it/s]"
      ]
     },
     "metadata": {},
     "output_type": "display_data"
    },
    {
     "name": "stdout",
     "output_type": "stream",
     "text": [
      "*****************  EPS=0.005623413251903491  ****************\n"
     ]
    },
    {
     "data": {
      "application/vnd.jupyter.widget-view+json": {
       "model_id": "3a016bff47e74925a6ec58a3ff0f8dc0",
       "version_major": 2,
       "version_minor": 0
      },
      "text/plain": [
       "  0%|          | 0/50 [00:00<?, ?it/s]"
      ]
     },
     "metadata": {},
     "output_type": "display_data"
    },
    {
     "name": "stdout",
     "output_type": "stream",
     "text": [
      "*****************  EPS=0.03162277660168379  ****************\n"
     ]
    },
    {
     "data": {
      "application/vnd.jupyter.widget-view+json": {
       "model_id": "f3d85c264c854a39b20a1edd5f70de44",
       "version_major": 2,
       "version_minor": 0
      },
      "text/plain": [
       "  0%|          | 0/50 [00:00<?, ?it/s]"
      ]
     },
     "metadata": {},
     "output_type": "display_data"
    },
    {
     "name": "stdout",
     "output_type": "stream",
     "text": [
      "*****************  EPS=0.1778279410038923  ****************\n"
     ]
    },
    {
     "data": {
      "application/vnd.jupyter.widget-view+json": {
       "model_id": "37b2f1494e534dec9c21a6623668f955",
       "version_major": 2,
       "version_minor": 0
      },
      "text/plain": [
       "  0%|          | 0/50 [00:00<?, ?it/s]"
      ]
     },
     "metadata": {},
     "output_type": "display_data"
    },
    {
     "name": "stdout",
     "output_type": "stream",
     "text": [
      "*****************  EPS=1.0  ****************\n"
     ]
    },
    {
     "data": {
      "application/vnd.jupyter.widget-view+json": {
       "model_id": "c696fb55028a433e93a4cb5fef5bc941",
       "version_major": 2,
       "version_minor": 0
      },
      "text/plain": [
       "  0%|          | 0/50 [00:00<?, ?it/s]"
      ]
     },
     "metadata": {},
     "output_type": "display_data"
    },
    {
     "data": {
      "application/vnd.jupyter.widget-view+json": {
       "model_id": "38b92626f48341a4b25559f19ab14598",
       "version_major": 2,
       "version_minor": 0
      },
      "text/plain": [
       "  0%|          | 0/5 [00:00<?, ?it/s]"
      ]
     },
     "metadata": {},
     "output_type": "display_data"
    },
    {
     "name": "stdout",
     "output_type": "stream",
     "text": [
      "*****************  EPS=0.001  ****************\n"
     ]
    },
    {
     "data": {
      "application/vnd.jupyter.widget-view+json": {
       "model_id": "7ab208c74b9d4e328e627d156ae89578",
       "version_major": 2,
       "version_minor": 0
      },
      "text/plain": [
       "  0%|          | 0/50 [00:00<?, ?it/s]"
      ]
     },
     "metadata": {},
     "output_type": "display_data"
    },
    {
     "name": "stdout",
     "output_type": "stream",
     "text": [
      "*****************  EPS=0.005623413251903491  ****************\n"
     ]
    },
    {
     "data": {
      "application/vnd.jupyter.widget-view+json": {
       "model_id": "27bc44edf82b4b63984c24a5bef94062",
       "version_major": 2,
       "version_minor": 0
      },
      "text/plain": [
       "  0%|          | 0/50 [00:00<?, ?it/s]"
      ]
     },
     "metadata": {},
     "output_type": "display_data"
    },
    {
     "name": "stdout",
     "output_type": "stream",
     "text": [
      "*****************  EPS=0.03162277660168379  ****************\n"
     ]
    },
    {
     "data": {
      "application/vnd.jupyter.widget-view+json": {
       "model_id": "5f0d4d6a9ce14f28976bb736840fcf91",
       "version_major": 2,
       "version_minor": 0
      },
      "text/plain": [
       "  0%|          | 0/50 [00:00<?, ?it/s]"
      ]
     },
     "metadata": {},
     "output_type": "display_data"
    },
    {
     "name": "stdout",
     "output_type": "stream",
     "text": [
      "*****************  EPS=0.1778279410038923  ****************\n"
     ]
    },
    {
     "data": {
      "application/vnd.jupyter.widget-view+json": {
       "model_id": "2262c71d7a5f4ed5b592c5563a73b90d",
       "version_major": 2,
       "version_minor": 0
      },
      "text/plain": [
       "  0%|          | 0/50 [00:00<?, ?it/s]"
      ]
     },
     "metadata": {},
     "output_type": "display_data"
    },
    {
     "name": "stdout",
     "output_type": "stream",
     "text": [
      "*****************  EPS=1.0  ****************\n"
     ]
    },
    {
     "data": {
      "application/vnd.jupyter.widget-view+json": {
       "model_id": "6801cbad4ebb4a9c8275fc3a37526a74",
       "version_major": 2,
       "version_minor": 0
      },
      "text/plain": [
       "  0%|          | 0/50 [00:00<?, ?it/s]"
      ]
     },
     "metadata": {},
     "output_type": "display_data"
    },
    {
     "data": {
      "application/vnd.jupyter.widget-view+json": {
       "model_id": "79c897eceeeb4689a7c35f7bb52dc090",
       "version_major": 2,
       "version_minor": 0
      },
      "text/plain": [
       "  0%|          | 0/5 [00:00<?, ?it/s]"
      ]
     },
     "metadata": {},
     "output_type": "display_data"
    },
    {
     "name": "stdout",
     "output_type": "stream",
     "text": [
      "*****************  EPS=0.001  ****************\n"
     ]
    },
    {
     "data": {
      "application/vnd.jupyter.widget-view+json": {
       "model_id": "348201b49a4048139bc5747331d837b6",
       "version_major": 2,
       "version_minor": 0
      },
      "text/plain": [
       "  0%|          | 0/50 [00:00<?, ?it/s]"
      ]
     },
     "metadata": {},
     "output_type": "display_data"
    },
    {
     "name": "stdout",
     "output_type": "stream",
     "text": [
      "*****************  EPS=0.005623413251903491  ****************\n"
     ]
    },
    {
     "data": {
      "application/vnd.jupyter.widget-view+json": {
       "model_id": "b2621b6e9e714c0d8a02e77bae2207bc",
       "version_major": 2,
       "version_minor": 0
      },
      "text/plain": [
       "  0%|          | 0/50 [00:00<?, ?it/s]"
      ]
     },
     "metadata": {},
     "output_type": "display_data"
    },
    {
     "name": "stdout",
     "output_type": "stream",
     "text": [
      "*****************  EPS=0.03162277660168379  ****************\n"
     ]
    },
    {
     "data": {
      "application/vnd.jupyter.widget-view+json": {
       "model_id": "25174bbba31847f28f22dcf177661e6d",
       "version_major": 2,
       "version_minor": 0
      },
      "text/plain": [
       "  0%|          | 0/50 [00:00<?, ?it/s]"
      ]
     },
     "metadata": {},
     "output_type": "display_data"
    },
    {
     "name": "stdout",
     "output_type": "stream",
     "text": [
      "*****************  EPS=0.1778279410038923  ****************\n"
     ]
    },
    {
     "data": {
      "application/vnd.jupyter.widget-view+json": {
       "model_id": "e478b2ebc1e24efdaf71b5ee74bd56b3",
       "version_major": 2,
       "version_minor": 0
      },
      "text/plain": [
       "  0%|          | 0/50 [00:00<?, ?it/s]"
      ]
     },
     "metadata": {},
     "output_type": "display_data"
    },
    {
     "name": "stdout",
     "output_type": "stream",
     "text": [
      "*****************  EPS=1.0  ****************\n"
     ]
    },
    {
     "data": {
      "application/vnd.jupyter.widget-view+json": {
       "model_id": "b4643bbcdb1747d8a26e8043611966ad",
       "version_major": 2,
       "version_minor": 0
      },
      "text/plain": [
       "  0%|          | 0/50 [00:00<?, ?it/s]"
      ]
     },
     "metadata": {},
     "output_type": "display_data"
    },
    {
     "data": {
      "application/vnd.jupyter.widget-view+json": {
       "model_id": "a0007793c6774ae9ae4ffde67957e1e2",
       "version_major": 2,
       "version_minor": 0
      },
      "text/plain": [
       "  0%|          | 0/5 [00:00<?, ?it/s]"
      ]
     },
     "metadata": {},
     "output_type": "display_data"
    },
    {
     "name": "stdout",
     "output_type": "stream",
     "text": [
      "*****************  EPS=0.001  ****************\n"
     ]
    },
    {
     "data": {
      "application/vnd.jupyter.widget-view+json": {
       "model_id": "9ab2ff9d965d48edaa927ed21e678208",
       "version_major": 2,
       "version_minor": 0
      },
      "text/plain": [
       "  0%|          | 0/50 [00:00<?, ?it/s]"
      ]
     },
     "metadata": {},
     "output_type": "display_data"
    },
    {
     "name": "stdout",
     "output_type": "stream",
     "text": [
      "*****************  EPS=0.005623413251903491  ****************\n"
     ]
    },
    {
     "data": {
      "application/vnd.jupyter.widget-view+json": {
       "model_id": "6748f2c7520642de96380a1c8ccc0938",
       "version_major": 2,
       "version_minor": 0
      },
      "text/plain": [
       "  0%|          | 0/50 [00:00<?, ?it/s]"
      ]
     },
     "metadata": {},
     "output_type": "display_data"
    },
    {
     "name": "stdout",
     "output_type": "stream",
     "text": [
      "*****************  EPS=0.03162277660168379  ****************\n"
     ]
    },
    {
     "data": {
      "application/vnd.jupyter.widget-view+json": {
       "model_id": "79c859d6757f4405b03bde49d7f2372d",
       "version_major": 2,
       "version_minor": 0
      },
      "text/plain": [
       "  0%|          | 0/50 [00:00<?, ?it/s]"
      ]
     },
     "metadata": {},
     "output_type": "display_data"
    },
    {
     "name": "stdout",
     "output_type": "stream",
     "text": [
      "*****************  EPS=0.1778279410038923  ****************\n"
     ]
    },
    {
     "data": {
      "application/vnd.jupyter.widget-view+json": {
       "model_id": "c2d7039304ca4e2185798f5a4f29d92c",
       "version_major": 2,
       "version_minor": 0
      },
      "text/plain": [
       "  0%|          | 0/50 [00:00<?, ?it/s]"
      ]
     },
     "metadata": {},
     "output_type": "display_data"
    },
    {
     "name": "stdout",
     "output_type": "stream",
     "text": [
      "*****************  EPS=1.0  ****************\n"
     ]
    },
    {
     "data": {
      "application/vnd.jupyter.widget-view+json": {
       "model_id": "3536b5aeae4d42e39b0a3840463bd497",
       "version_major": 2,
       "version_minor": 0
      },
      "text/plain": [
       "  0%|          | 0/50 [00:00<?, ?it/s]"
      ]
     },
     "metadata": {},
     "output_type": "display_data"
    },
    {
     "data": {
      "application/vnd.jupyter.widget-view+json": {
       "model_id": "3d3924874d8d479d8515425238f0dea3",
       "version_major": 2,
       "version_minor": 0
      },
      "text/plain": [
       "  0%|          | 0/5 [00:00<?, ?it/s]"
      ]
     },
     "metadata": {},
     "output_type": "display_data"
    },
    {
     "name": "stdout",
     "output_type": "stream",
     "text": [
      "*****************  EPS=0.001  ****************\n"
     ]
    },
    {
     "data": {
      "application/vnd.jupyter.widget-view+json": {
       "model_id": "8b21761e72964be4bcd918bf4a5da2de",
       "version_major": 2,
       "version_minor": 0
      },
      "text/plain": [
       "  0%|          | 0/50 [00:00<?, ?it/s]"
      ]
     },
     "metadata": {},
     "output_type": "display_data"
    },
    {
     "name": "stdout",
     "output_type": "stream",
     "text": [
      "*****************  EPS=0.005623413251903491  ****************\n"
     ]
    },
    {
     "data": {
      "application/vnd.jupyter.widget-view+json": {
       "model_id": "aacb29e0707841b4a97646fa4530df26",
       "version_major": 2,
       "version_minor": 0
      },
      "text/plain": [
       "  0%|          | 0/50 [00:00<?, ?it/s]"
      ]
     },
     "metadata": {},
     "output_type": "display_data"
    },
    {
     "name": "stdout",
     "output_type": "stream",
     "text": [
      "*****************  EPS=0.03162277660168379  ****************\n"
     ]
    },
    {
     "data": {
      "application/vnd.jupyter.widget-view+json": {
       "model_id": "901918f211454ba8883cc77d95ff7834",
       "version_major": 2,
       "version_minor": 0
      },
      "text/plain": [
       "  0%|          | 0/50 [00:00<?, ?it/s]"
      ]
     },
     "metadata": {},
     "output_type": "display_data"
    },
    {
     "name": "stdout",
     "output_type": "stream",
     "text": [
      "*****************  EPS=0.1778279410038923  ****************\n"
     ]
    },
    {
     "data": {
      "application/vnd.jupyter.widget-view+json": {
       "model_id": "b090462ad7384fb28eaa6d3042f2f67e",
       "version_major": 2,
       "version_minor": 0
      },
      "text/plain": [
       "  0%|          | 0/50 [00:00<?, ?it/s]"
      ]
     },
     "metadata": {},
     "output_type": "display_data"
    },
    {
     "name": "stdout",
     "output_type": "stream",
     "text": [
      "*****************  EPS=1.0  ****************\n"
     ]
    },
    {
     "data": {
      "application/vnd.jupyter.widget-view+json": {
       "model_id": "fe9092dec8d443218cb54212c52e3b01",
       "version_major": 2,
       "version_minor": 0
      },
      "text/plain": [
       "  0%|          | 0/50 [00:00<?, ?it/s]"
      ]
     },
     "metadata": {},
     "output_type": "display_data"
    },
    {
     "name": "stdout",
     "output_type": "stream",
     "text": [
      "######################### dataset_name:SelfRegulationSCP1 #########################\n"
     ]
    },
    {
     "data": {
      "application/vnd.jupyter.widget-view+json": {
       "model_id": "e800088256f74c6ea7dd3dc5beb6ffe5",
       "version_major": 2,
       "version_minor": 0
      },
      "text/plain": [
       "  0%|          | 0/5 [00:00<?, ?it/s]"
      ]
     },
     "metadata": {},
     "output_type": "display_data"
    },
    {
     "data": {
      "application/vnd.jupyter.widget-view+json": {
       "model_id": "20965b708ab3478883db999dbd4138e1",
       "version_major": 2,
       "version_minor": 0
      },
      "text/plain": [
       "  0%|          | 0/5 [00:00<?, ?it/s]"
      ]
     },
     "metadata": {},
     "output_type": "display_data"
    },
    {
     "name": "stdout",
     "output_type": "stream",
     "text": [
      "*****************  EPS=0.001  ****************\n"
     ]
    },
    {
     "data": {
      "application/vnd.jupyter.widget-view+json": {
       "model_id": "5183b57d9b454e0690f7c352932df5e3",
       "version_major": 2,
       "version_minor": 0
      },
      "text/plain": [
       "  0%|          | 0/50 [00:00<?, ?it/s]"
      ]
     },
     "metadata": {},
     "output_type": "display_data"
    },
    {
     "name": "stdout",
     "output_type": "stream",
     "text": [
      "*****************  EPS=0.005623413251903491  ****************\n"
     ]
    },
    {
     "data": {
      "application/vnd.jupyter.widget-view+json": {
       "model_id": "6b5a0bbe126c46f28a3559487ce3340a",
       "version_major": 2,
       "version_minor": 0
      },
      "text/plain": [
       "  0%|          | 0/50 [00:00<?, ?it/s]"
      ]
     },
     "metadata": {},
     "output_type": "display_data"
    },
    {
     "name": "stdout",
     "output_type": "stream",
     "text": [
      "*****************  EPS=0.03162277660168379  ****************\n"
     ]
    },
    {
     "data": {
      "application/vnd.jupyter.widget-view+json": {
       "model_id": "513b3a1c483a484d8361f626430e74f6",
       "version_major": 2,
       "version_minor": 0
      },
      "text/plain": [
       "  0%|          | 0/50 [00:00<?, ?it/s]"
      ]
     },
     "metadata": {},
     "output_type": "display_data"
    },
    {
     "name": "stdout",
     "output_type": "stream",
     "text": [
      "*****************  EPS=0.1778279410038923  ****************\n"
     ]
    },
    {
     "data": {
      "application/vnd.jupyter.widget-view+json": {
       "model_id": "d3da85df7fc044e69763e364f1e009c6",
       "version_major": 2,
       "version_minor": 0
      },
      "text/plain": [
       "  0%|          | 0/50 [00:00<?, ?it/s]"
      ]
     },
     "metadata": {},
     "output_type": "display_data"
    },
    {
     "name": "stdout",
     "output_type": "stream",
     "text": [
      "*****************  EPS=1.0  ****************\n"
     ]
    },
    {
     "data": {
      "application/vnd.jupyter.widget-view+json": {
       "model_id": "a487db9270d64c7b8fc0060ae82b9d72",
       "version_major": 2,
       "version_minor": 0
      },
      "text/plain": [
       "  0%|          | 0/50 [00:00<?, ?it/s]"
      ]
     },
     "metadata": {},
     "output_type": "display_data"
    },
    {
     "data": {
      "application/vnd.jupyter.widget-view+json": {
       "model_id": "cc60f5112f3246b99984b1bc0ecc44ef",
       "version_major": 2,
       "version_minor": 0
      },
      "text/plain": [
       "  0%|          | 0/5 [00:00<?, ?it/s]"
      ]
     },
     "metadata": {},
     "output_type": "display_data"
    },
    {
     "name": "stdout",
     "output_type": "stream",
     "text": [
      "*****************  EPS=0.001  ****************\n"
     ]
    },
    {
     "data": {
      "application/vnd.jupyter.widget-view+json": {
       "model_id": "304ce80f02544612b6c82bc0161846f2",
       "version_major": 2,
       "version_minor": 0
      },
      "text/plain": [
       "  0%|          | 0/50 [00:00<?, ?it/s]"
      ]
     },
     "metadata": {},
     "output_type": "display_data"
    },
    {
     "name": "stdout",
     "output_type": "stream",
     "text": [
      "*****************  EPS=0.005623413251903491  ****************\n"
     ]
    },
    {
     "data": {
      "application/vnd.jupyter.widget-view+json": {
       "model_id": "5085fa8063aa46928d4ae1cffe8716bd",
       "version_major": 2,
       "version_minor": 0
      },
      "text/plain": [
       "  0%|          | 0/50 [00:00<?, ?it/s]"
      ]
     },
     "metadata": {},
     "output_type": "display_data"
    },
    {
     "name": "stdout",
     "output_type": "stream",
     "text": [
      "*****************  EPS=0.03162277660168379  ****************\n"
     ]
    },
    {
     "data": {
      "application/vnd.jupyter.widget-view+json": {
       "model_id": "764e3172cf264bcf9ca83a897e51887d",
       "version_major": 2,
       "version_minor": 0
      },
      "text/plain": [
       "  0%|          | 0/50 [00:00<?, ?it/s]"
      ]
     },
     "metadata": {},
     "output_type": "display_data"
    },
    {
     "name": "stdout",
     "output_type": "stream",
     "text": [
      "*****************  EPS=0.1778279410038923  ****************\n"
     ]
    },
    {
     "data": {
      "application/vnd.jupyter.widget-view+json": {
       "model_id": "055896ff59de4437a940d35072b957fe",
       "version_major": 2,
       "version_minor": 0
      },
      "text/plain": [
       "  0%|          | 0/50 [00:00<?, ?it/s]"
      ]
     },
     "metadata": {},
     "output_type": "display_data"
    },
    {
     "name": "stdout",
     "output_type": "stream",
     "text": [
      "*****************  EPS=1.0  ****************\n"
     ]
    },
    {
     "data": {
      "application/vnd.jupyter.widget-view+json": {
       "model_id": "5a07e7f393e24d47b1246f7419cfc74d",
       "version_major": 2,
       "version_minor": 0
      },
      "text/plain": [
       "  0%|          | 0/50 [00:00<?, ?it/s]"
      ]
     },
     "metadata": {},
     "output_type": "display_data"
    },
    {
     "data": {
      "application/vnd.jupyter.widget-view+json": {
       "model_id": "07262e9505a64b5fb10e42070d31ad8b",
       "version_major": 2,
       "version_minor": 0
      },
      "text/plain": [
       "  0%|          | 0/5 [00:00<?, ?it/s]"
      ]
     },
     "metadata": {},
     "output_type": "display_data"
    },
    {
     "name": "stdout",
     "output_type": "stream",
     "text": [
      "*****************  EPS=0.001  ****************\n"
     ]
    },
    {
     "data": {
      "application/vnd.jupyter.widget-view+json": {
       "model_id": "48b3d2a5837343f69d070971efa81acf",
       "version_major": 2,
       "version_minor": 0
      },
      "text/plain": [
       "  0%|          | 0/50 [00:00<?, ?it/s]"
      ]
     },
     "metadata": {},
     "output_type": "display_data"
    },
    {
     "name": "stdout",
     "output_type": "stream",
     "text": [
      "*****************  EPS=0.005623413251903491  ****************\n"
     ]
    },
    {
     "data": {
      "application/vnd.jupyter.widget-view+json": {
       "model_id": "96f9849595184df09976ea4b685a0d08",
       "version_major": 2,
       "version_minor": 0
      },
      "text/plain": [
       "  0%|          | 0/50 [00:00<?, ?it/s]"
      ]
     },
     "metadata": {},
     "output_type": "display_data"
    },
    {
     "name": "stdout",
     "output_type": "stream",
     "text": [
      "*****************  EPS=0.03162277660168379  ****************\n"
     ]
    },
    {
     "data": {
      "application/vnd.jupyter.widget-view+json": {
       "model_id": "76880102e6c14322b06a58b2631e79b9",
       "version_major": 2,
       "version_minor": 0
      },
      "text/plain": [
       "  0%|          | 0/50 [00:00<?, ?it/s]"
      ]
     },
     "metadata": {},
     "output_type": "display_data"
    },
    {
     "name": "stdout",
     "output_type": "stream",
     "text": [
      "*****************  EPS=0.1778279410038923  ****************\n"
     ]
    },
    {
     "data": {
      "application/vnd.jupyter.widget-view+json": {
       "model_id": "6c8ed119660d480f981785448db603ce",
       "version_major": 2,
       "version_minor": 0
      },
      "text/plain": [
       "  0%|          | 0/50 [00:00<?, ?it/s]"
      ]
     },
     "metadata": {},
     "output_type": "display_data"
    },
    {
     "name": "stdout",
     "output_type": "stream",
     "text": [
      "*****************  EPS=1.0  ****************\n"
     ]
    },
    {
     "data": {
      "application/vnd.jupyter.widget-view+json": {
       "model_id": "23047ff675f04815ac1e89d088e0acf6",
       "version_major": 2,
       "version_minor": 0
      },
      "text/plain": [
       "  0%|          | 0/50 [00:00<?, ?it/s]"
      ]
     },
     "metadata": {},
     "output_type": "display_data"
    },
    {
     "data": {
      "application/vnd.jupyter.widget-view+json": {
       "model_id": "a7ba31c308984b35bde1fd257362ac93",
       "version_major": 2,
       "version_minor": 0
      },
      "text/plain": [
       "  0%|          | 0/5 [00:00<?, ?it/s]"
      ]
     },
     "metadata": {},
     "output_type": "display_data"
    },
    {
     "name": "stdout",
     "output_type": "stream",
     "text": [
      "*****************  EPS=0.001  ****************\n"
     ]
    },
    {
     "data": {
      "application/vnd.jupyter.widget-view+json": {
       "model_id": "dde30d8ece924881a559c425b655aafe",
       "version_major": 2,
       "version_minor": 0
      },
      "text/plain": [
       "  0%|          | 0/50 [00:00<?, ?it/s]"
      ]
     },
     "metadata": {},
     "output_type": "display_data"
    },
    {
     "name": "stdout",
     "output_type": "stream",
     "text": [
      "*****************  EPS=0.005623413251903491  ****************\n"
     ]
    },
    {
     "data": {
      "application/vnd.jupyter.widget-view+json": {
       "model_id": "b97ee367e4e647a9b4e996d4d6aacf12",
       "version_major": 2,
       "version_minor": 0
      },
      "text/plain": [
       "  0%|          | 0/50 [00:00<?, ?it/s]"
      ]
     },
     "metadata": {},
     "output_type": "display_data"
    },
    {
     "name": "stdout",
     "output_type": "stream",
     "text": [
      "*****************  EPS=0.03162277660168379  ****************\n"
     ]
    },
    {
     "data": {
      "application/vnd.jupyter.widget-view+json": {
       "model_id": "fab3a5d60efb41f387dd4ded9f875c72",
       "version_major": 2,
       "version_minor": 0
      },
      "text/plain": [
       "  0%|          | 0/50 [00:00<?, ?it/s]"
      ]
     },
     "metadata": {},
     "output_type": "display_data"
    },
    {
     "name": "stdout",
     "output_type": "stream",
     "text": [
      "*****************  EPS=0.1778279410038923  ****************\n"
     ]
    },
    {
     "data": {
      "application/vnd.jupyter.widget-view+json": {
       "model_id": "27036452812c4b9c99a9033ffd494507",
       "version_major": 2,
       "version_minor": 0
      },
      "text/plain": [
       "  0%|          | 0/50 [00:00<?, ?it/s]"
      ]
     },
     "metadata": {},
     "output_type": "display_data"
    },
    {
     "name": "stdout",
     "output_type": "stream",
     "text": [
      "*****************  EPS=1.0  ****************\n"
     ]
    },
    {
     "data": {
      "application/vnd.jupyter.widget-view+json": {
       "model_id": "423264a4d8c14511aa654a8bbd24a261",
       "version_major": 2,
       "version_minor": 0
      },
      "text/plain": [
       "  0%|          | 0/50 [00:00<?, ?it/s]"
      ]
     },
     "metadata": {},
     "output_type": "display_data"
    },
    {
     "data": {
      "application/vnd.jupyter.widget-view+json": {
       "model_id": "e4cb24f8216949fe96d4cf997f18fcc9",
       "version_major": 2,
       "version_minor": 0
      },
      "text/plain": [
       "  0%|          | 0/5 [00:00<?, ?it/s]"
      ]
     },
     "metadata": {},
     "output_type": "display_data"
    },
    {
     "name": "stdout",
     "output_type": "stream",
     "text": [
      "*****************  EPS=0.001  ****************\n"
     ]
    },
    {
     "data": {
      "application/vnd.jupyter.widget-view+json": {
       "model_id": "376548d2238d4d52b74dac9a76c94e1d",
       "version_major": 2,
       "version_minor": 0
      },
      "text/plain": [
       "  0%|          | 0/50 [00:00<?, ?it/s]"
      ]
     },
     "metadata": {},
     "output_type": "display_data"
    },
    {
     "name": "stdout",
     "output_type": "stream",
     "text": [
      "*****************  EPS=0.005623413251903491  ****************\n"
     ]
    },
    {
     "data": {
      "application/vnd.jupyter.widget-view+json": {
       "model_id": "fb63de1e7f384d40b9a57e84fc2c7e12",
       "version_major": 2,
       "version_minor": 0
      },
      "text/plain": [
       "  0%|          | 0/50 [00:00<?, ?it/s]"
      ]
     },
     "metadata": {},
     "output_type": "display_data"
    },
    {
     "name": "stdout",
     "output_type": "stream",
     "text": [
      "*****************  EPS=0.03162277660168379  ****************\n"
     ]
    },
    {
     "data": {
      "application/vnd.jupyter.widget-view+json": {
       "model_id": "990701c910dd4e0b8aee54c9d7f32178",
       "version_major": 2,
       "version_minor": 0
      },
      "text/plain": [
       "  0%|          | 0/50 [00:00<?, ?it/s]"
      ]
     },
     "metadata": {},
     "output_type": "display_data"
    },
    {
     "name": "stdout",
     "output_type": "stream",
     "text": [
      "*****************  EPS=0.1778279410038923  ****************\n"
     ]
    },
    {
     "data": {
      "application/vnd.jupyter.widget-view+json": {
       "model_id": "47128e6071364a0598048fdd7010532d",
       "version_major": 2,
       "version_minor": 0
      },
      "text/plain": [
       "  0%|          | 0/50 [00:00<?, ?it/s]"
      ]
     },
     "metadata": {},
     "output_type": "display_data"
    },
    {
     "name": "stdout",
     "output_type": "stream",
     "text": [
      "*****************  EPS=1.0  ****************\n"
     ]
    },
    {
     "data": {
      "application/vnd.jupyter.widget-view+json": {
       "model_id": "f8ba9b32b49340868910d939c9563392",
       "version_major": 2,
       "version_minor": 0
      },
      "text/plain": [
       "  0%|          | 0/50 [00:00<?, ?it/s]"
      ]
     },
     "metadata": {},
     "output_type": "display_data"
    },
    {
     "name": "stdout",
     "output_type": "stream",
     "text": [
      "######################### dataset_name:FingerMovements #########################\n"
     ]
    },
    {
     "data": {
      "application/vnd.jupyter.widget-view+json": {
       "model_id": "4770372dfff0436b99813f04e4479000",
       "version_major": 2,
       "version_minor": 0
      },
      "text/plain": [
       "  0%|          | 0/5 [00:00<?, ?it/s]"
      ]
     },
     "metadata": {},
     "output_type": "display_data"
    },
    {
     "data": {
      "application/vnd.jupyter.widget-view+json": {
       "model_id": "1e0a714ae71e4564878c8abbbbcec4bc",
       "version_major": 2,
       "version_minor": 0
      },
      "text/plain": [
       "  0%|          | 0/5 [00:00<?, ?it/s]"
      ]
     },
     "metadata": {},
     "output_type": "display_data"
    },
    {
     "name": "stdout",
     "output_type": "stream",
     "text": [
      "*****************  EPS=0.001  ****************\n"
     ]
    },
    {
     "data": {
      "application/vnd.jupyter.widget-view+json": {
       "model_id": "33fe5750845e42529cd1204e1045e47e",
       "version_major": 2,
       "version_minor": 0
      },
      "text/plain": [
       "  0%|          | 0/50 [00:00<?, ?it/s]"
      ]
     },
     "metadata": {},
     "output_type": "display_data"
    },
    {
     "name": "stdout",
     "output_type": "stream",
     "text": [
      "*****************  EPS=0.005623413251903491  ****************\n"
     ]
    },
    {
     "data": {
      "application/vnd.jupyter.widget-view+json": {
       "model_id": "cfddbf847e794ce7b88c21edadb77a6a",
       "version_major": 2,
       "version_minor": 0
      },
      "text/plain": [
       "  0%|          | 0/50 [00:00<?, ?it/s]"
      ]
     },
     "metadata": {},
     "output_type": "display_data"
    },
    {
     "name": "stdout",
     "output_type": "stream",
     "text": [
      "*****************  EPS=0.03162277660168379  ****************\n"
     ]
    },
    {
     "data": {
      "application/vnd.jupyter.widget-view+json": {
       "model_id": "382df6f2acd24d73ba94be96cd6a7d8a",
       "version_major": 2,
       "version_minor": 0
      },
      "text/plain": [
       "  0%|          | 0/50 [00:00<?, ?it/s]"
      ]
     },
     "metadata": {},
     "output_type": "display_data"
    },
    {
     "name": "stdout",
     "output_type": "stream",
     "text": [
      "*****************  EPS=0.1778279410038923  ****************\n"
     ]
    },
    {
     "data": {
      "application/vnd.jupyter.widget-view+json": {
       "model_id": "ab6fe71c8d014642ad63dde668edb433",
       "version_major": 2,
       "version_minor": 0
      },
      "text/plain": [
       "  0%|          | 0/50 [00:00<?, ?it/s]"
      ]
     },
     "metadata": {},
     "output_type": "display_data"
    },
    {
     "name": "stdout",
     "output_type": "stream",
     "text": [
      "*****************  EPS=1.0  ****************\n"
     ]
    },
    {
     "data": {
      "application/vnd.jupyter.widget-view+json": {
       "model_id": "6569f59f86d34d2fbf6c4ffea3fa685f",
       "version_major": 2,
       "version_minor": 0
      },
      "text/plain": [
       "  0%|          | 0/50 [00:00<?, ?it/s]"
      ]
     },
     "metadata": {},
     "output_type": "display_data"
    },
    {
     "name": "stdout",
     "output_type": "stream",
     "text": [
      "*****************  EPS=0.03162277660168379  ****************\n"
     ]
    },
    {
     "data": {
      "application/vnd.jupyter.widget-view+json": {
       "model_id": "081dff06e4944be0941dcecefb5022c9",
       "version_major": 2,
       "version_minor": 0
      },
      "text/plain": [
       "  0%|          | 0/50 [00:00<?, ?it/s]"
      ]
     },
     "metadata": {},
     "output_type": "display_data"
    },
    {
     "name": "stdout",
     "output_type": "stream",
     "text": [
      "*****************  EPS=0.1778279410038923  ****************\n"
     ]
    },
    {
     "data": {
      "application/vnd.jupyter.widget-view+json": {
       "model_id": "5510933257d14465b75884f1cef35fb8",
       "version_major": 2,
       "version_minor": 0
      },
      "text/plain": [
       "  0%|          | 0/50 [00:00<?, ?it/s]"
      ]
     },
     "metadata": {},
     "output_type": "display_data"
    },
    {
     "name": "stdout",
     "output_type": "stream",
     "text": [
      "*****************  EPS=1.0  ****************\n"
     ]
    },
    {
     "data": {
      "application/vnd.jupyter.widget-view+json": {
       "model_id": "275e35517e3d4d0982983c2347c10474",
       "version_major": 2,
       "version_minor": 0
      },
      "text/plain": [
       "  0%|          | 0/50 [00:00<?, ?it/s]"
      ]
     },
     "metadata": {},
     "output_type": "display_data"
    },
    {
     "data": {
      "application/vnd.jupyter.widget-view+json": {
       "model_id": "c5b670ef0b474cbab34445db83ec418b",
       "version_major": 2,
       "version_minor": 0
      },
      "text/plain": [
       "  0%|          | 0/5 [00:00<?, ?it/s]"
      ]
     },
     "metadata": {},
     "output_type": "display_data"
    },
    {
     "name": "stdout",
     "output_type": "stream",
     "text": [
      "*****************  EPS=0.001  ****************\n"
     ]
    },
    {
     "data": {
      "application/vnd.jupyter.widget-view+json": {
       "model_id": "80848d58dcf041f294d094cd85f0aaeb",
       "version_major": 2,
       "version_minor": 0
      },
      "text/plain": [
       "  0%|          | 0/50 [00:00<?, ?it/s]"
      ]
     },
     "metadata": {},
     "output_type": "display_data"
    },
    {
     "name": "stdout",
     "output_type": "stream",
     "text": [
      "*****************  EPS=0.005623413251903491  ****************\n"
     ]
    },
    {
     "data": {
      "application/vnd.jupyter.widget-view+json": {
       "model_id": "93540e981df742b896cbaa7d78fd6b5d",
       "version_major": 2,
       "version_minor": 0
      },
      "text/plain": [
       "  0%|          | 0/50 [00:00<?, ?it/s]"
      ]
     },
     "metadata": {},
     "output_type": "display_data"
    },
    {
     "name": "stdout",
     "output_type": "stream",
     "text": [
      "*****************  EPS=0.03162277660168379  ****************\n"
     ]
    },
    {
     "data": {
      "application/vnd.jupyter.widget-view+json": {
       "model_id": "7bcfa00adbf14b73ae19265297d28c67",
       "version_major": 2,
       "version_minor": 0
      },
      "text/plain": [
       "  0%|          | 0/50 [00:00<?, ?it/s]"
      ]
     },
     "metadata": {},
     "output_type": "display_data"
    },
    {
     "name": "stdout",
     "output_type": "stream",
     "text": [
      "*****************  EPS=0.1778279410038923  ****************\n"
     ]
    },
    {
     "data": {
      "application/vnd.jupyter.widget-view+json": {
       "model_id": "4ad0b53b24e944ce944127939efd8f79",
       "version_major": 2,
       "version_minor": 0
      },
      "text/plain": [
       "  0%|          | 0/50 [00:00<?, ?it/s]"
      ]
     },
     "metadata": {},
     "output_type": "display_data"
    },
    {
     "name": "stdout",
     "output_type": "stream",
     "text": [
      "*****************  EPS=1.0  ****************\n"
     ]
    },
    {
     "data": {
      "application/vnd.jupyter.widget-view+json": {
       "model_id": "2206ec7ed702422d8c424f67f5261f64",
       "version_major": 2,
       "version_minor": 0
      },
      "text/plain": [
       "  0%|          | 0/50 [00:00<?, ?it/s]"
      ]
     },
     "metadata": {},
     "output_type": "display_data"
    },
    {
     "data": {
      "application/vnd.jupyter.widget-view+json": {
       "model_id": "cf0c106b185c4671b543d087fa63a0c5",
       "version_major": 2,
       "version_minor": 0
      },
      "text/plain": [
       "  0%|          | 0/5 [00:00<?, ?it/s]"
      ]
     },
     "metadata": {},
     "output_type": "display_data"
    },
    {
     "name": "stdout",
     "output_type": "stream",
     "text": [
      "*****************  EPS=0.001  ****************\n"
     ]
    },
    {
     "data": {
      "application/vnd.jupyter.widget-view+json": {
       "model_id": "3c0342f2d4c44920a3529bf61b98d95f",
       "version_major": 2,
       "version_minor": 0
      },
      "text/plain": [
       "  0%|          | 0/50 [00:00<?, ?it/s]"
      ]
     },
     "metadata": {},
     "output_type": "display_data"
    },
    {
     "name": "stdout",
     "output_type": "stream",
     "text": [
      "*****************  EPS=0.005623413251903491  ****************\n"
     ]
    },
    {
     "data": {
      "application/vnd.jupyter.widget-view+json": {
       "model_id": "1d7b9bb762584f4e8871227c35d40aac",
       "version_major": 2,
       "version_minor": 0
      },
      "text/plain": [
       "  0%|          | 0/50 [00:00<?, ?it/s]"
      ]
     },
     "metadata": {},
     "output_type": "display_data"
    },
    {
     "name": "stdout",
     "output_type": "stream",
     "text": [
      "*****************  EPS=0.03162277660168379  ****************\n"
     ]
    },
    {
     "data": {
      "application/vnd.jupyter.widget-view+json": {
       "model_id": "5a9a242115c54921912468729d185f80",
       "version_major": 2,
       "version_minor": 0
      },
      "text/plain": [
       "  0%|          | 0/50 [00:00<?, ?it/s]"
      ]
     },
     "metadata": {},
     "output_type": "display_data"
    },
    {
     "name": "stdout",
     "output_type": "stream",
     "text": [
      "*****************  EPS=0.1778279410038923  ****************\n"
     ]
    },
    {
     "data": {
      "application/vnd.jupyter.widget-view+json": {
       "model_id": "f696d118c89048bd9e9a6b63c86e465c",
       "version_major": 2,
       "version_minor": 0
      },
      "text/plain": [
       "  0%|          | 0/50 [00:00<?, ?it/s]"
      ]
     },
     "metadata": {},
     "output_type": "display_data"
    },
    {
     "name": "stdout",
     "output_type": "stream",
     "text": [
      "*****************  EPS=1.0  ****************\n"
     ]
    },
    {
     "data": {
      "application/vnd.jupyter.widget-view+json": {
       "model_id": "67c976d455ea4b00a2b06bfb4c1e703d",
       "version_major": 2,
       "version_minor": 0
      },
      "text/plain": [
       "  0%|          | 0/50 [00:00<?, ?it/s]"
      ]
     },
     "metadata": {},
     "output_type": "display_data"
    },
    {
     "data": {
      "application/vnd.jupyter.widget-view+json": {
       "model_id": "74f3a044b2054e499ff0fefa8b5fd63b",
       "version_major": 2,
       "version_minor": 0
      },
      "text/plain": [
       "  0%|          | 0/5 [00:00<?, ?it/s]"
      ]
     },
     "metadata": {},
     "output_type": "display_data"
    },
    {
     "name": "stdout",
     "output_type": "stream",
     "text": [
      "*****************  EPS=0.001  ****************\n"
     ]
    },
    {
     "data": {
      "application/vnd.jupyter.widget-view+json": {
       "model_id": "5337a582651541fc98266ce9f466f1fb",
       "version_major": 2,
       "version_minor": 0
      },
      "text/plain": [
       "  0%|          | 0/50 [00:00<?, ?it/s]"
      ]
     },
     "metadata": {},
     "output_type": "display_data"
    },
    {
     "name": "stdout",
     "output_type": "stream",
     "text": [
      "*****************  EPS=0.005623413251903491  ****************\n"
     ]
    },
    {
     "data": {
      "application/vnd.jupyter.widget-view+json": {
       "model_id": "430771e6df3d42f4b191affb90e1b75c",
       "version_major": 2,
       "version_minor": 0
      },
      "text/plain": [
       "  0%|          | 0/50 [00:00<?, ?it/s]"
      ]
     },
     "metadata": {},
     "output_type": "display_data"
    },
    {
     "name": "stdout",
     "output_type": "stream",
     "text": [
      "*****************  EPS=0.03162277660168379  ****************\n"
     ]
    },
    {
     "data": {
      "application/vnd.jupyter.widget-view+json": {
       "model_id": "c66f989c751543b29f0ea46a7c3d4723",
       "version_major": 2,
       "version_minor": 0
      },
      "text/plain": [
       "  0%|          | 0/50 [00:00<?, ?it/s]"
      ]
     },
     "metadata": {},
     "output_type": "display_data"
    },
    {
     "name": "stdout",
     "output_type": "stream",
     "text": [
      "*****************  EPS=0.1778279410038923  ****************\n"
     ]
    },
    {
     "data": {
      "application/vnd.jupyter.widget-view+json": {
       "model_id": "1372ced6a54a43cabcecf9913d80cc0f",
       "version_major": 2,
       "version_minor": 0
      },
      "text/plain": [
       "  0%|          | 0/50 [00:00<?, ?it/s]"
      ]
     },
     "metadata": {},
     "output_type": "display_data"
    },
    {
     "name": "stdout",
     "output_type": "stream",
     "text": [
      "*****************  EPS=1.0  ****************\n"
     ]
    },
    {
     "data": {
      "application/vnd.jupyter.widget-view+json": {
       "model_id": "f45ceaa8c15f4060bcaa896b2a610cf2",
       "version_major": 2,
       "version_minor": 0
      },
      "text/plain": [
       "  0%|          | 0/50 [00:00<?, ?it/s]"
      ]
     },
     "metadata": {},
     "output_type": "display_data"
    },
    {
     "name": "stdout",
     "output_type": "stream",
     "text": [
      "######################### dataset_name:FaceDetection #########################\n"
     ]
    },
    {
     "data": {
      "application/vnd.jupyter.widget-view+json": {
       "model_id": "e01bd41a2d134bd390cb5086ad3e6b6a",
       "version_major": 2,
       "version_minor": 0
      },
      "text/plain": [
       "  0%|          | 0/5 [00:00<?, ?it/s]"
      ]
     },
     "metadata": {},
     "output_type": "display_data"
    },
    {
     "data": {
      "application/vnd.jupyter.widget-view+json": {
       "model_id": "5ebf0504ee6340f69f02d71d1338a829",
       "version_major": 2,
       "version_minor": 0
      },
      "text/plain": [
       "  0%|          | 0/5 [00:00<?, ?it/s]"
      ]
     },
     "metadata": {},
     "output_type": "display_data"
    },
    {
     "name": "stdout",
     "output_type": "stream",
     "text": [
      "*****************  EPS=0.001  ****************\n"
     ]
    },
    {
     "data": {
      "application/vnd.jupyter.widget-view+json": {
       "model_id": "9d1b234d6e4c4098b6e90bfb9cd8ba02",
       "version_major": 2,
       "version_minor": 0
      },
      "text/plain": [
       "  0%|          | 0/50 [00:00<?, ?it/s]"
      ]
     },
     "metadata": {},
     "output_type": "display_data"
    },
    {
     "name": "stderr",
     "output_type": "stream",
     "text": [
      "IOPub message rate exceeded.\n",
      "The notebook server will temporarily stop sending output\n",
      "to the client in order to avoid crashing it.\n",
      "To change this limit, set the config variable\n",
      "`--NotebookApp.iopub_msg_rate_limit`.\n",
      "\n",
      "Current values:\n",
      "NotebookApp.iopub_msg_rate_limit=1000.0 (msgs/sec)\n",
      "NotebookApp.rate_limit_window=3.0 (secs)\n",
      "\n"
     ]
    },
    {
     "name": "stdout",
     "output_type": "stream",
     "text": [
      "*****************  EPS=0.005623413251903491  ****************\n"
     ]
    },
    {
     "data": {
      "application/vnd.jupyter.widget-view+json": {
       "model_id": "d6c0717b947343c8a721e6b85b5b3c9c",
       "version_major": 2,
       "version_minor": 0
      },
      "text/plain": [
       "  0%|          | 0/50 [00:00<?, ?it/s]"
      ]
     },
     "metadata": {},
     "output_type": "display_data"
    },
    {
     "name": "stdout",
     "output_type": "stream",
     "text": [
      "*****************  EPS=0.03162277660168379  ****************\n"
     ]
    },
    {
     "data": {
      "application/vnd.jupyter.widget-view+json": {
       "model_id": "39e0ca228a5a4a4bbafecc0d04d8a4fa",
       "version_major": 2,
       "version_minor": 0
      },
      "text/plain": [
       "  0%|          | 0/50 [00:00<?, ?it/s]"
      ]
     },
     "metadata": {},
     "output_type": "display_data"
    },
    {
     "name": "stdout",
     "output_type": "stream",
     "text": [
      "*****************  EPS=0.1778279410038923  ****************\n"
     ]
    },
    {
     "data": {
      "application/vnd.jupyter.widget-view+json": {
       "model_id": "5ce6ca6895e9434d9fc57885b6802707",
       "version_major": 2,
       "version_minor": 0
      },
      "text/plain": [
       "  0%|          | 0/50 [00:00<?, ?it/s]"
      ]
     },
     "metadata": {},
     "output_type": "display_data"
    },
    {
     "name": "stdout",
     "output_type": "stream",
     "text": [
      "*****************  EPS=1.0  ****************\n"
     ]
    },
    {
     "data": {
      "application/vnd.jupyter.widget-view+json": {
       "model_id": "6a599ae14ebc403ebe7cc500cb746301",
       "version_major": 2,
       "version_minor": 0
      },
      "text/plain": [
       "  0%|          | 0/50 [00:00<?, ?it/s]"
      ]
     },
     "metadata": {},
     "output_type": "display_data"
    }
   ],
   "source": [
    "# Load the ECG200 dataset from UCR archive\n",
    "max_pooling = False\n",
    "\n",
    "glob_dataset_name = 'UEA'\n",
    "\n",
    "all_datasets = os.listdir(f'data/TS2Vec/{glob_dataset_name}')\n",
    "\n",
    "device = 'cuda:1'\n",
    "batch_size = 4 if glob_dataset_name == 'UEA' else 8\n",
    "    \n",
    "with open(f'data/TS2Vec/dict_bin_datasets.pickle', 'rb') as f:\n",
    "    dict_bin_datasets = pickle.load(f)\n",
    "\n",
    "bin_datasets = dict_bin_datasets[glob_dataset_name]\n",
    "\n",
    "for dataset_name in tqdm(bin_datasets):\n",
    "    print(f'######################### dataset_name:{dataset_name} #########################')\n",
    "\n",
    "    if glob_dataset_name == 'UCR':\n",
    "        train_data, train_labels, test_data, test_labels = datautils.load_UCR(dataset_name)\n",
    "\n",
    "    elif glob_dataset_name == 'UEA':\n",
    "        train_data, train_labels, test_data, test_labels = datautils.load_UEA(dataset_name)\n",
    "\n",
    "    emb_model = TS2Vec(\n",
    "            input_dims=train_data.shape[-1],\n",
    "            device=device,\n",
    "            output_dims=320,\n",
    "            batch_size = batch_size\n",
    "        )\n",
    "\n",
    "    model = TS2VecClassifier(emb_model.net, emb_size=320, n_classes=2)\n",
    "\n",
    "    n_iters = 50\n",
    "    eps_params = (1e-3, 1e0, 5)\n",
    "    n_objects = test_labels.shape[0]\n",
    "    criterion = torch.nn.BCELoss()\n",
    "\n",
    "    for model_id in tqdm(range(5)):\n",
    "\n",
    "        path_dict = {'emb': f'checkpoints/TS2Vec/emb_models/{glob_dataset_name}/{dataset_name}_{model_id}.pt',\n",
    "                        'class': f'checkpoints/TS2Vec/class_models/{glob_dataset_name}/{dataset_name}_{model_id}.pt'}\n",
    "\n",
    "        model.load(path_dict)\n",
    "        model = model.to(device)\n",
    "\n",
    "        dataset = CustomTrainDS(torch.from_numpy(test_data).to(torch.float), torch.from_numpy(test_labels).to(torch.float))\n",
    "        dr_last = len(dataset) // batch_size != len(dataset) / batch_size\n",
    "        test_loader = DataLoader(dataset, batch_size=batch_size, drop_last=False)\n",
    "\n",
    "        aa_res_df, rej_curves_dict = ifgsm_procedure(model=model, loader=test_loader, dataset=CustomTrainDS,\n",
    "                                                 criterion=criterion, eps_params=eps_params, \n",
    "                                                 n_steps=n_iters, device=device,\n",
    "                                                 batch_size=batch_size, n_objects=n_objects)\n",
    "\n",
    "        aa_res_df.to_csv(f'results/TS2Vec/{glob_dataset_name}/aa_res_{dataset_name}_{model_id}.csv')\n",
    "        with open(f'results/TS2Vec/{glob_dataset_name}/rej_curves_dict_model_{dataset_name}_{model_id}.pickle', 'wb') as file:\n",
    "            pickle.dump(rej_curves_dict, file)"
   ]
  },
  {
   "cell_type": "code",
   "execution_count": 25,
   "metadata": {},
   "outputs": [
    {
     "data": {
      "text/html": [
       "<div>\n",
       "<style scoped>\n",
       "    .dataframe tbody tr th:only-of-type {\n",
       "        vertical-align: middle;\n",
       "    }\n",
       "\n",
       "    .dataframe tbody tr th {\n",
       "        vertical-align: top;\n",
       "    }\n",
       "\n",
       "    .dataframe thead th {\n",
       "        text-align: right;\n",
       "    }\n",
       "</style>\n",
       "<table border=\"1\" class=\"dataframe\">\n",
       "  <thead>\n",
       "    <tr style=\"text-align: right;\">\n",
       "      <th>metric</th>\n",
       "      <th>n steps</th>\n",
       "      <th>ACC</th>\n",
       "      <th>ROC AUC</th>\n",
       "      <th>PR AUC</th>\n",
       "      <th>eps</th>\n",
       "    </tr>\n",
       "  </thead>\n",
       "  <tbody>\n",
       "    <tr>\n",
       "      <th>0</th>\n",
       "      <td>0</td>\n",
       "      <td>0.726829</td>\n",
       "      <td>0.519559</td>\n",
       "      <td>0.294994</td>\n",
       "      <td>0.001</td>\n",
       "    </tr>\n",
       "    <tr>\n",
       "      <th>1</th>\n",
       "      <td>1</td>\n",
       "      <td>0.726829</td>\n",
       "      <td>0.519559</td>\n",
       "      <td>0.294994</td>\n",
       "      <td>0.001</td>\n",
       "    </tr>\n",
       "    <tr>\n",
       "      <th>2</th>\n",
       "      <td>2</td>\n",
       "      <td>0.726829</td>\n",
       "      <td>0.519559</td>\n",
       "      <td>0.294994</td>\n",
       "      <td>0.001</td>\n",
       "    </tr>\n",
       "    <tr>\n",
       "      <th>3</th>\n",
       "      <td>3</td>\n",
       "      <td>0.721951</td>\n",
       "      <td>0.516181</td>\n",
       "      <td>0.289730</td>\n",
       "      <td>0.001</td>\n",
       "    </tr>\n",
       "    <tr>\n",
       "      <th>4</th>\n",
       "      <td>4</td>\n",
       "      <td>0.721951</td>\n",
       "      <td>0.516181</td>\n",
       "      <td>0.289730</td>\n",
       "      <td>0.001</td>\n",
       "    </tr>\n",
       "    <tr>\n",
       "      <th>...</th>\n",
       "      <td>...</td>\n",
       "      <td>...</td>\n",
       "      <td>...</td>\n",
       "      <td>...</td>\n",
       "      <td>...</td>\n",
       "    </tr>\n",
       "    <tr>\n",
       "      <th>46</th>\n",
       "      <td>46</td>\n",
       "      <td>0.000000</td>\n",
       "      <td>0.000000</td>\n",
       "      <td>0.278049</td>\n",
       "      <td>1.000</td>\n",
       "    </tr>\n",
       "    <tr>\n",
       "      <th>47</th>\n",
       "      <td>47</td>\n",
       "      <td>0.000000</td>\n",
       "      <td>0.000000</td>\n",
       "      <td>0.278049</td>\n",
       "      <td>1.000</td>\n",
       "    </tr>\n",
       "    <tr>\n",
       "      <th>48</th>\n",
       "      <td>48</td>\n",
       "      <td>0.000000</td>\n",
       "      <td>0.000000</td>\n",
       "      <td>0.278049</td>\n",
       "      <td>1.000</td>\n",
       "    </tr>\n",
       "    <tr>\n",
       "      <th>49</th>\n",
       "      <td>49</td>\n",
       "      <td>0.000000</td>\n",
       "      <td>0.000000</td>\n",
       "      <td>0.278049</td>\n",
       "      <td>1.000</td>\n",
       "    </tr>\n",
       "    <tr>\n",
       "      <th>50</th>\n",
       "      <td>50</td>\n",
       "      <td>0.000000</td>\n",
       "      <td>0.000000</td>\n",
       "      <td>0.278049</td>\n",
       "      <td>1.000</td>\n",
       "    </tr>\n",
       "  </tbody>\n",
       "</table>\n",
       "<p>255 rows × 5 columns</p>\n",
       "</div>"
      ],
      "text/plain": [
       "metric  n steps       ACC   ROC AUC    PR AUC    eps\n",
       "0             0  0.726829  0.519559  0.294994  0.001\n",
       "1             1  0.726829  0.519559  0.294994  0.001\n",
       "2             2  0.726829  0.519559  0.294994  0.001\n",
       "3             3  0.721951  0.516181  0.289730  0.001\n",
       "4             4  0.721951  0.516181  0.289730  0.001\n",
       "..          ...       ...       ...       ...    ...\n",
       "46           46  0.000000  0.000000  0.278049  1.000\n",
       "47           47  0.000000  0.000000  0.278049  1.000\n",
       "48           48  0.000000  0.000000  0.278049  1.000\n",
       "49           49  0.000000  0.000000  0.278049  1.000\n",
       "50           50  0.000000  0.000000  0.278049  1.000\n",
       "\n",
       "[255 rows x 5 columns]"
      ]
     },
     "execution_count": 25,
     "metadata": {},
     "output_type": "execute_result"
    }
   ],
   "source": [
    "aa_res_df"
   ]
  },
  {
   "cell_type": "code",
   "execution_count": 16,
   "metadata": {},
   "outputs": [
    {
     "data": {
      "image/png": "[encoded data removed]",
      "text/plain": [
       "<Figure size 1080x864 with 5 Axes>"
      ]
     },
     "metadata": {
      "needs_background": "light"
     },
     "output_type": "display_data"
    }
   ],
   "source": [
    "plot_aa_metrics(aa_res_df, method='eps')"
   ]
  },
  {
   "cell_type": "markdown",
   "metadata": {},
   "source": [
    "# Rejection Curves"
   ]
  },
  {
   "cell_type": "code",
   "execution_count": 17,
   "metadata": {},
   "outputs": [],
   "source": [
    "def build_load_path(glob_dataset_name, dataset_name, n_models=5):\n",
    "    \n",
    "    list_load = []\n",
    "    \n",
    "    for model_id in range(n_models):\n",
    "        path_dict = {'emb': f'checkpoints/TS2Vec/emb_models/{glob_dataset_name}/{dataset_name}_{model_id}.pt',\n",
    "                'class': f'checkpoints/TS2Vec/class_models/{glob_dataset_name}/{dataset_name}_{model_id}.pt'}\n",
    "        list_load.append(path_dict)\n",
    "        \n",
    "    return list_load"
   ]
  },
  {
   "cell_type": "code",
   "execution_count": 18,
   "metadata": {},
   "outputs": [],
   "source": [
    "# Load the ECG200 dataset from UCR archive\n",
    "max_pooling = False\n",
    "random_state = 0\n",
    "\n",
    "glob_dataset_name = 'UCR'\n",
    "dataset_name = 'Wine'\n",
    "\n",
    "device = 'cuda:1'\n",
    "batch_size = 4 if glob_dataset_name == 'UEA' else 8\n",
    "    \n",
    "if glob_dataset_name == 'UCR':\n",
    "    train_data, train_labels, test_data, test_labels = datautils.load_UCR(dataset_name)\n",
    "    \n",
    "elif glob_dataset_name == 'UEA':\n",
    "    train_data, train_labels, test_data, test_labels = datautils.load_UEA(dataset_name)\n",
    "\n",
    "emb_model = TS2Vec(\n",
    "        input_dims=train_data.shape[-1],\n",
    "        device=device,\n",
    "        output_dims=320,\n",
    "        batch_size = batch_size\n",
    "    )\n",
    "\n",
    "model = TS2VecClassifier(emb_model.net, emb_size=320, n_classes=2)\n",
    "\n",
    "X_correct = torch.from_numpy(test_data).to(torch.float)\n",
    "y_correct = torch.from_numpy(test_labels).to(torch.float).reshape(-1, 1)\n",
    "\n",
    "dataset = CustomTrainDS(X_correct, y_correct)\n",
    "dr_last = len(dataset) // batch_size != len(dataset) / batch_size\n",
    "test_loader = DataLoader(dataset, batch_size=batch_size, drop_last=False)"
   ]
  },
  {
   "cell_type": "code",
   "execution_count": 19,
   "metadata": {},
   "outputs": [
    {
     "name": "stdout",
     "output_type": "stream",
     "text": [
      "0th models Accuracy 0.704, ROC-AUC 0.704, PR-AUC 0.636\n",
      "1th models Accuracy 0.796, ROC-AUC 0.796, PR-AUC 0.767\n",
      "2th models Accuracy 0.833, ROC-AUC 0.833, PR-AUC 0.817\n",
      "3th models Accuracy 0.741, ROC-AUC 0.741, PR-AUC 0.665\n",
      "4th models Accuracy 0.833, ROC-AUC 0.833, PR-AUC 0.833\n"
     ]
    }
   ],
   "source": [
    "def load_TS2Vec(model, model_path):\n",
    "    model.load(model_path)\n",
    "    return model\n",
    "\n",
    "y_test = test_labels.reshape(-1, 1)\n",
    "\n",
    "load_path = build_load_path(glob_dataset_name, dataset_name)\n",
    "\n",
    "\n",
    "preds, norms = rejection_curves_procedure(model, test_loader,\n",
    "                               criterion, load_TS2Vec, load_path, y_test, device,\n",
    "                               n_models=5)"
   ]
  },
  {
   "cell_type": "code",
   "execution_count": 20,
   "metadata": {},
   "outputs": [
    {
     "data": {
      "image/png": "[encoded data removed]",
      "text/plain": [
       "<Figure size 1224x648 with 2 Axes>"
      ]
     },
     "metadata": {
      "needs_background": "light"
     },
     "output_type": "display_data"
    }
   ],
   "source": [
    "model_id = 0\n",
    "\n",
    "with open(f'results/TS2Vec/{glob_dataset_name}/rej_curves_dict_model_{dataset_name}_{model_id}.pickle', 'rb') as file:\n",
    "    rej_curves_dict = pickle.load(file)\n",
    "\n",
    "\n",
    "rejection_rates = np.linspace(0, 1.0, 20)\n",
    "iter_to_break = 49\n",
    "dict_metrics = {'Acc':accuracy_score,\n",
    "               #'ROC AUC':roc_auc_score,\n",
    "               'PR AUC':average_precision_score\n",
    "               }\n",
    "\n",
    "all_eps = list(rej_curves_dict.keys())\n",
    "\n",
    "\n",
    "dict_curves = build_basic_dict_curve(y_test, preds, norms, rejection_rates, dict_metrics)\n",
    "dict_curves = build_custom_dict_curve(dict_curves, y_test, preds, norms, rejection_rates, \n",
    "                                     dict_metrics, rej_curves_dict, all_eps, iter_to_break)\n",
    "\n",
    "draw_rejection_curves(dict_curves, rejection_rates)"
   ]
  },
  {
   "cell_type": "markdown",
   "metadata": {},
   "source": [
    "# ADV training"
   ]
  },
  {
   "cell_type": "code",
   "execution_count": null,
   "metadata": {},
   "outputs": [],
   "source": [
    "def req_grad(model: nn.Module, state: bool = True) -> None:\n",
    "    \"\"\"Set requires_grad of all model parameters to the desired value.\n",
    "\n",
    "    :param model: the model\n",
    "    :param state: desired value for requires_grad\n",
    "    \"\"\"\n",
    "    for param in model.parameters():\n",
    "        param.requires_grad_(state)\n",
    "\n",
    "def prepare_adv_data(\n",
    "        model: nn.Module,  # model for attack\n",
    "        loader: DataLoader,  # dataloader with data\n",
    "        criterion: nn.Module,\n",
    "        eps: float,\n",
    "        device='cpu',\n",
    "        train_mode=False):  # params_dict with eps and iter number\n",
    "\n",
    "    model.train(train_mode)\n",
    "    req_grad(model, state=False)  # detach all model's parameters\n",
    "\n",
    "    all_y_true = torch.tensor([]) # logging y_true for rebuilding dataloader and calculation difference with preds\n",
    "    x_adv_tensor = torch.FloatTensor([])  # logging x_adv for rebuilding dataloader\n",
    "\n",
    "    for x, y_true in loader:\n",
    "        \n",
    "        all_y_true = torch.cat((all_y_true, y_true.cpu().detach()), dim=0)\n",
    "        x.grad = None\n",
    "        x.requires_grad = True\n",
    "\n",
    "        # prediction for original input\n",
    "        x = x.to(device, non_blocking=True)\n",
    "        y_true = y_true.to(device)\n",
    "\n",
    "        y_pred = model(x)\n",
    "\n",
    "        # attack for adv input\n",
    "        loss_val = criterion(y_pred, y_true.reshape(-1, 1))\n",
    "        grad_ = torch.autograd.grad(loss_val, x, retain_graph=True)[0]\n",
    "        x_adv = x.data + eps * torch.sign(grad_)\n",
    "        x_adv_tensor = torch.cat((x_adv_tensor, x_adv.cpu().detach()), dim=0)\n",
    "\n",
    "    return x_adv_tensor.detach(), all_y_true.detach()\n",
    "\n",
    "def train_procedure_TS2Vec(model, train_loader, test_loader, criterion, optimizer,\n",
    "                    num_epochs=15, step_print=3):\n",
    "    \n",
    "    save_name = f'{dataset_name}_{model_id}'\n",
    "    emb_name = f'checkpoints/TS2Vec/emb_models/{glob_dataset_name}/{save_name}.pt'\n",
    "\n",
    "    res = get_embeddings_dataset(dataset_name, glob_dataset_name, max_pooling, batch_size, device)\n",
    "    data, emb_model = res\n",
    "    train_emb, train_labels, test_emb, test_labels = data\n",
    "    torch.save(emb_model.net.state_dict(), emb_name)\n",
    "\n",
    "    print('Training classifier')\n",
    "    mlp_save_path = f'checkpoints/TS2Vec/class_models/{glob_dataset_name}/{save_name}.pt'\n",
    "    class_model = MLP(device=device, def_save_path=mlp_save_path)\n",
    "    class_model.fit(train_emb, train_labels.reshape(-1, 1), verbose=False)\n",
    "    \n",
    "    \n",
    "def retrain_one_dataset(glob_dataset_name, dataset_name, criterion, n_classes=2,\n",
    "                        n_iters=50, eps_params=(1e-3, 1e0, 5), n_models=5):\n",
    "    \n",
    "    print(f'######################### dataset_name:{dataset_name} #########################')\n",
    "\n",
    "    if glob_dataset_name == 'UCR':\n",
    "        train_data, train_labels, test_data, test_labels = datautils.load_UCR(dataset_name)\n",
    "\n",
    "    elif glob_dataset_name == 'UEA':\n",
    "        train_data, train_labels, test_data, test_labels = datautils.load_UEA(dataset_name)\n",
    "\n",
    "    emb_model = TS2Vec(\n",
    "            input_dims=train_data.shape[-1],\n",
    "            device=device,\n",
    "            output_dims=320,\n",
    "            batch_size = batch_size\n",
    "        )\n",
    "\n",
    "    model = TS2VecClassifier(emb_model.net, emb_size=320, n_classes=n_classes)\n",
    "\n",
    "    n_iters = 50\n",
    "    eps_params = (1e-3, 1e0, 5)\n",
    "    n_objects = test_labels.shape[0]\n",
    "    criterion = torch.nn.BCELoss()\n",
    "\n",
    "    for model_id in tqdm(range(n_models)):\n",
    "\n",
    "        path_dict = {'emb': f'checkpoints/TS2Vec/emb_models/{glob_dataset_name}/{dataset_name}_{model_id}.pt',\n",
    "                        'class': f'checkpoints/TS2Vec/class_models/{glob_dataset_name}/{dataset_name}_{model_id}.pt'}\n",
    "\n",
    "        model.load(path_dict)\n",
    "        model = model.to(device)\n",
    "        \n",
    "        X_train_tensor = torch.from_numpy(train_data).to(torch.float)\n",
    "        y_train_tensor = torch.from_numpy(train_labels).to(torch.float)\n",
    "        \n",
    "        dataset = CustomTrainDS(X_train_tensor, y_train_tensor)\n",
    "        train_loader = DataLoader(dataset, batch_size=batch_size, drop_last=False)\n",
    "        \n",
    "        #attack\n",
    "        X_adv, y_adv = prepare_adv_data(model, train_loader, criterion, eps, device, train_mode=train_mode)\n",
    "\n",
    "        #rebuild dataset and dataloader\n",
    "        new_x_train, new_y_train = torch.concat([X_train_tensor, X_adv], dim=0), torch.concat([y_train_tensor, y_adv], dim=0)\n",
    "        train_adv_loader = DataLoader(MyDataset(new_x_train, new_y_train), batch_size=BS, shuffle=True)\n",
    "        \n",
    "        train_data, test_data = (new_x_train, new_y_train), (test_data, test_labels)\n",
    "\n",
    "        #train model on attacked data\n",
    "        torch.manual_seed(model_id)\n",
    "        model = TS2VecClassifier(emb_model.net, emb_size=320, n_classes=n_classes).to(device)\n",
    "        optimizer = torch.optim.Adam(model.parameters(), lr=LR)\n",
    "        scheduler = torch.optim.lr_scheduler.StepLR(optimizer, 12, gamma=0.1)\n",
    "\n",
    "        model = train_procedure(model, new_x_train, test_loader, criterion, optimizer,\n",
    "                    num_epochs=15, step_print=3)\n",
    "        \n",
    "        #save model\n",
    "        torch.save(model.state_dict(), f'checkpoints/Ford_A/model_{model_id}_{col}_adv.pth') \n",
    "    "
   ]
  },
  {
   "cell_type": "code",
   "execution_count": null,
   "metadata": {},
   "outputs": [],
   "source": [
    "# Load the ECG200 dataset from UCR archive\n",
    "max_pooling = False\n",
    "\n",
    "glob_dataset_name = 'UEA'\n",
    "\n",
    "all_datasets = os.listdir(f'data/TS2Vec/{glob_dataset_name}')\n",
    "\n",
    "device = 'cuda:1'\n",
    "batch_size = 4 if glob_dataset_name == 'UEA' else 8\n",
    "    \n",
    "with open(f'data/TS2Vec/dict_bin_datasets.pickle', 'rb') as f:\n",
    "    dict_bin_datasets = pickle.load(f)\n",
    "\n",
    "bin_datasets = dict_bin_datasets[glob_dataset_name]\n",
    "\n",
    "for dataset_name in tqdm(bin_datasets):\n",
    "    print(f'######################### dataset_name:{dataset_name} #########################')\n",
    "\n",
    "    if glob_dataset_name == 'UCR':\n",
    "        train_data, train_labels, test_data, test_labels = datautils.load_UCR(dataset_name)\n",
    "\n",
    "    elif glob_dataset_name == 'UEA':\n",
    "        train_data, train_labels, test_data, test_labels = datautils.load_UEA(dataset_name)\n",
    "\n",
    "    emb_model = TS2Vec(\n",
    "            input_dims=train_data.shape[-1],\n",
    "            device=device,\n",
    "            output_dims=320,\n",
    "            batch_size = batch_size\n",
    "        )\n",
    "\n",
    "    model = TS2VecClassifier(emb_model.net, emb_size=320, n_classes=2)\n",
    "\n",
    "    n_iters = 50\n",
    "    eps_params = (1e-3, 1e0, 5)\n",
    "    n_objects = test_labels.shape[0]\n",
    "    criterion = torch.nn.BCELoss()\n",
    "\n",
    "    for model_id in tqdm(range(5)):\n",
    "\n",
    "        path_dict = {'emb': f'checkpoints/TS2Vec/emb_models/{glob_dataset_name}/{dataset_name}_{model_id}.pt',\n",
    "                        'class': f'checkpoints/TS2Vec/class_models/{glob_dataset_name}/{dataset_name}_{model_id}.pt'}\n",
    "\n",
    "        model.load(path_dict)\n",
    "        model = model.to(device)\n",
    "        \n",
    "        X_train_tensor = torch.from_numpy(train_data).to(torch.float)\n",
    "        y_train_tensor = torch.from_numpy(train_labels).to(torch.float)\n",
    "        dataset = CustomTrainDS(X_train_tensor, y_train_tensor)\n",
    "        dr_last = len(dataset) // batch_size != len(dataset) / batch_size\n",
    "        train_loader = DataLoader(dataset, batch_size=batch_size, drop_last=False)\n",
    "        \n",
    "        #attack\n",
    "        X_adv, y_adv = prepare_adv_data(model, train_loader, criterion, eps, device, train_mode=train_mode)\n",
    "\n",
    "        #rebuild dataset and dataloader\n",
    "        new_x_train, new_y_train = torch.concat([X_train_tensor, X_adv], dim=0), torch.concat([y_train_tensor, y_adv], dim=0)\n",
    "        train_adv_loader = DataLoader(MyDataset(new_x_train, new_y_train), batch_size=BS, shuffle=True)\n",
    "        \n",
    "#         train_data, test_data = (new_x_train, new_y_train), ()\n",
    "\n",
    "#         #train model on attacked data\n",
    "#         torch.manual_seed(model_id)\n",
    "#         model = LSTM_net(HIDDEN_DIM, N_LAYERS, OUTPUT_DIM, DROPOUT).to(device)\n",
    "#         optimizer = torch.optim.Adam(model.parameters(), lr=LR)\n",
    "#         scheduler = torch.optim.lr_scheduler.StepLR(optimizer, 12, gamma=0.1)\n",
    "\n",
    "#         model = train_procedure(model, new_x_train, test_loader, criterion, optimizer,\n",
    "#                     num_epochs=15, step_print=3)\n",
    "        \n",
    "#         #save model\n",
    "#         torch.save(model.state_dict(), f'checkpoints/Ford_A/model_{model_id}_{col}_adv.pth') "
   ]
  }
 ],
 "metadata": {
  "kernelspec": {
   "display_name": "Python 3",
   "language": "python",
   "name": "python3"
  },
  "language_info": {
   "codemirror_mode": {
    "name": "ipython",
    "version": 3
   },
   "file_extension": ".py",
   "mimetype": "text/x-python",
   "name": "python",
   "nbconvert_exporter": "python",
   "pygments_lexer": "ipython3",
   "version": "3.8.5"
  }
 },
 "nbformat": 4,
 "nbformat_minor": 4
}
