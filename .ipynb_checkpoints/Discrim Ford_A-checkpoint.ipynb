{
 "cells": [
  {
   "cell_type": "code",
   "execution_count": 1,
   "metadata": {},
   "outputs": [],
   "source": [
    "import pandas as pd\n",
    "import numpy as np\n",
    "import matplotlib.pyplot as plt\n",
    "import torch\n",
    "from tqdm.notebook import tqdm\n",
    "import pickle\n",
    "import copy\n",
    "\n",
    "from torch.utils.data import Dataset, DataLoader\n",
    "from torch import nn\n",
    "\n",
    "from ignite.handlers.param_scheduler import create_lr_scheduler_with_warmup\n",
    "\n",
    "from sklearn.metrics import mean_squared_error as MSE\n",
    "from sklearn.metrics import mean_absolute_error as MAE\n",
    "from sklearn.metrics import mean_absolute_percentage_error as MAPE\n",
    "\n",
    "from typing import Dict, Any, Tuple, List, Union, Sequence, Callable\n",
    "\n",
    "from sklearn.metrics import accuracy_score, precision_score, recall_score, f1_score, roc_auc_score, average_precision_score\n",
    "\n",
    "from utils.attacks import IterGradAttack, fgsm_attack, fgsm_reg_attack\n",
    "import warnings\n",
    "warnings.filterwarnings(\"ignore\")"
   ]
  },
  {
   "cell_type": "markdown",
   "metadata": {},
   "source": [
    "# Data Loading"
   ]
  },
  {
   "cell_type": "code",
   "execution_count": 2,
   "metadata": {},
   "outputs": [
    {
     "name": "stdout",
     "output_type": "stream",
     "text": [
      "(array([-1,  1]), array([1846, 1755]))\n",
      "(array([-1,  1]), array([681, 639]))\n"
     ]
    },
    {
     "data": {
      "text/plain": [
       "((3601, 500), (1320, 500), (3601,), (1320,))"
      ]
     },
     "execution_count": 2,
     "metadata": {},
     "output_type": "execute_result"
    }
   ],
   "source": [
    "col = 'FordA'\n",
    "\n",
    "import sktime\n",
    "from sktime.datasets import load_from_tsfile\n",
    "\n",
    "x_train, y_train = load_from_tsfile(\"data/Ford_A/FordA_TRAIN.ts\")\n",
    "x_test, y_test = load_from_tsfile(\"data/Ford_A/FordA_TEST.ts\")\n",
    "\n",
    "def readucr(filename):\n",
    "    data = np.loadtxt(filename, delimiter=\"\\t\")\n",
    "    y = data[:, 0]\n",
    "    x = data[:, 1:]\n",
    "    return x, y.astype(int)\n",
    "\n",
    "\n",
    "root_url = \"https://raw.githubusercontent.com/hfawaz/cd-diagram/master/FordA/\"\n",
    "\n",
    "x_train, y_train = readucr(root_url + \"FordA_TRAIN.tsv\")\n",
    "x_test, y_test = readucr(root_url + \"FordA_TEST.tsv\")\n",
    "\n",
    "print(np.unique(y_train, return_counts=True))\n",
    "print(np.unique(y_test, return_counts=True))\n",
    "\n",
    "x_train.shape, x_test.shape, y_train.shape, y_test.shape"
   ]
  },
  {
   "cell_type": "code",
   "execution_count": 3,
   "metadata": {},
   "outputs": [],
   "source": [
    "def transform_X(X):\n",
    "    np_data = []\n",
    "    lens = []\n",
    "    for i in range(len(X)):\n",
    "        line = X.iloc[i, 0]\n",
    "        lens.append(len(line))\n",
    "        np_data.append(line)\n",
    "        \n",
    "    #print(np.mean(lens), np.std(lens))\n",
    "    return np.array(np_data)"
   ]
  },
  {
   "cell_type": "code",
   "execution_count": 4,
   "metadata": {},
   "outputs": [
    {
     "name": "stdout",
     "output_type": "stream",
     "text": [
      "(36010, 50) (13200, 50) (36010, 1) (13200, 1)\n"
     ]
    },
    {
     "data": {
      "text/plain": [
       "[<matplotlib.lines.Line2D at 0x7f55e2986610>]"
      ]
     },
     "execution_count": 4,
     "metadata": {},
     "output_type": "execute_result"
    },
    {
     "data": {
      "image/png": "[encoded data removed]",
      "text/plain": [
       "<Figure size 432x288 with 1 Axes>"
      ]
     },
     "metadata": {
      "needs_background": "light"
     },
     "output_type": "display_data"
    }
   ],
   "source": [
    "window = 50\n",
    "len_seq = x_train.shape[1]\n",
    "n_patches = len_seq//window\n",
    "\n",
    "X_train = np.vstack([x_train[:, i:i+window] for i in range(n_patches)])\n",
    "X_test = np.vstack([x_test[:, i:i+window] for i in range(n_patches)])\n",
    "\n",
    "y_train = np.array([(int(y)+1) // 2 for y in y_train])\n",
    "y_test = np.array([(int(y)+1) // 2 for y in y_test])\n",
    "\n",
    "y_train = np.vstack([y_train.reshape(-1, 1) for i in range(n_patches)])\n",
    "y_test = np.vstack([y_test.reshape(-1, 1) for i in range(n_patches)])\n",
    "\n",
    "print(X_train.shape, X_test.shape, y_train.shape, y_test.shape)\n",
    "\n",
    "plt.plot(X_train[1])"
   ]
  },
  {
   "cell_type": "code",
   "execution_count": 5,
   "metadata": {},
   "outputs": [],
   "source": [
    "X_train_tensor = torch.tensor(X_train, dtype=torch.float32)\n",
    "X_test_tensor =torch.tensor(X_test, dtype=torch.float32)\n",
    "\n",
    "y_train_tensor = torch.tensor(y_train, dtype=torch.int32)\n",
    "y_test_tensor = torch.tensor(y_test, dtype=torch.int32)"
   ]
  },
  {
   "cell_type": "markdown",
   "metadata": {},
   "source": [
    "# Modelling"
   ]
  },
  {
   "cell_type": "code",
   "execution_count": 6,
   "metadata": {},
   "outputs": [],
   "source": [
    "class MyDataset(Dataset):\n",
    "    def __init__(self, X, y, window=50):\n",
    "        super().__init__()\n",
    "        self.X = X\n",
    "        self.y = y\n",
    "        self.window=window\n",
    "\n",
    "    def __len__(self):\n",
    "        return len(self.y)\n",
    "    \n",
    "    def __getitem__(self, idx):\n",
    "        X = torch.tensor(self.X[idx], dtype=torch.float32)\n",
    "        \n",
    "#         start_ind = np.random.randint(0, len(X) - self.window)\n",
    "#         X = X[start_ind:start_ind+self.window]\n",
    "        X = X.reshape([-1, 1])\n",
    "        y = torch.tensor(self.y[idx], dtype=torch.float32)\n",
    "        return X, y\n",
    "\n",
    "    \n",
    "BS = 64    \n",
    "train_loader = DataLoader(MyDataset(X_train[50:], y_train[50:]), batch_size=BS, shuffle=True)\n",
    "test_loader = DataLoader(MyDataset(X_test[50:], y_test[50:]), batch_size=BS, shuffle=False)"
   ]
  },
  {
   "cell_type": "code",
   "execution_count": 7,
   "metadata": {},
   "outputs": [],
   "source": [
    "class LSTM_net(nn.Module):\n",
    "    def __init__(self, hidden_dim, n_layers, output_dim=1, dropout=0.2):\n",
    "        super().__init__()\n",
    "        self.rnn = nn.LSTM(1, \n",
    "                           hidden_dim, \n",
    "                           num_layers=n_layers, \n",
    "                           dropout=dropout,\n",
    "                           batch_first=True)\n",
    "        \n",
    "        self.fc1 = nn.Linear(hidden_dim, hidden_dim)\n",
    "        self.relu = nn.ReLU()\n",
    "        self.fc2 = nn.Linear(hidden_dim, output_dim)\n",
    "        self.dropout = nn.Dropout(dropout)\n",
    "        \n",
    "        \n",
    "    def forward(self, data):\n",
    "        \n",
    "        packed_output, (hidden, cell) = self.rnn(data)\n",
    "        hidden = hidden.reshape(hidden.shape[1], hidden.shape[2])\n",
    "        \n",
    "        hidden = self.dropout(hidden)\n",
    "        output = self.relu(self.fc1(hidden))\n",
    "        output = self.fc2(self.dropout(output))\n",
    "        output = torch.sigmoid(output)\n",
    "            \n",
    "        return output"
   ]
  },
  {
   "cell_type": "code",
   "execution_count": 8,
   "metadata": {},
   "outputs": [],
   "source": [
    "def train_step(model, loader, criterion, device, optimizer, scheduler=None):\n",
    "    losses, n_batches = 0, 0\n",
    "    model.train(True)\n",
    "    for x, labels in loader:\n",
    "\n",
    "        optimizer.zero_grad()\n",
    "        x = x.to(device)\n",
    "        labels = labels.reshape(-1, 1).to(device)\n",
    "        \n",
    "        y_out = model(x)\n",
    "        loss = criterion(y_out, labels) \n",
    "        \n",
    "        loss.backward()     \n",
    "        optimizer.step()\n",
    "        losses += loss\n",
    "        n_batches += 1\n",
    "\n",
    "    mean_loss = losses / n_batches\n",
    "\n",
    "    if scheduler:\n",
    "        scheduler.step()\n",
    "    \n",
    "    return mean_loss\n",
    "\n",
    "def valid_step(model, loader, criterion, device):\n",
    "    \n",
    "    losses, n_batches = 0, 0\n",
    "    model.eval()    \n",
    "    for x, labels in loader:\n",
    "        with torch.no_grad():\n",
    "            x = x.to(device)\n",
    "            labels = labels.reshape(-1, 1).to(device)\n",
    "\n",
    "            y_out = model(x)\n",
    "            loss = criterion(y_out, labels)\n",
    "            losses += loss\n",
    "\n",
    "            n_batches += 1\n",
    "\n",
    "    mean_loss = losses / n_batches\n",
    "    return mean_loss\n",
    "\n",
    "\n",
    "def calculate_metrics(y_true, y_pred):\n",
    "    acc = accuracy_score(y_true, y_pred)\n",
    "    pr = precision_score(y_true, y_pred)\n",
    "    rec = recall_score(y_true, y_pred)\n",
    "    f1 = f1_score(y_true, y_pred)\n",
    "    return acc, pr, rec, f1\n",
    "    \n",
    "def estimate_epoch(loader, model=None, device='cpu', round_=True, multiclass=False):\n",
    "    \n",
    "    y_all_pred = torch.tensor([])\n",
    "    y_all_true = torch.tensor([])\n",
    "    \n",
    "    for X, y_true in loader:\n",
    "        X = X.to(device)\n",
    "        y_pred = model(X)\n",
    "        \n",
    "        if multiclass:\n",
    "            y_pred = torch.argmax(y_pred, axis=1)\n",
    "        else:\n",
    "            y_pred = torch.round(y_pred)\n",
    "        \n",
    "        y_all_true = torch.cat((y_all_true, y_true.cpu().detach()), dim=0)\n",
    "        y_all_pred = torch.cat((y_all_pred, y_pred.cpu().detach()), dim=0)\n",
    "        \n",
    "    y_all_pred = y_all_pred.numpy().reshape([-1, 1])\n",
    "    y_all_true = y_all_true.numpy().reshape([-1, 1])\n",
    "    \n",
    "    acc, pr, rec, f1 = calculate_metrics(y_all_true, y_all_pred)\n",
    "    \n",
    "    return acc, pr, rec, f1\n",
    "\n",
    "def train_procedure(model, train_loader, test_loader, criterion, optimizer, scheduler=None,\n",
    "                   num_epochs=30, step_print=5):\n",
    "    \n",
    "    for epoch in tqdm(range(num_epochs)):\n",
    "        train_loss = train_step(model, train_loader, criterion, device, optimizer, scheduler)\n",
    "        test_loss = valid_step(model, test_loader, criterion, device) \n",
    "\n",
    "        acc_train, pr_train, rec_train, f1_train = estimate_epoch(train_loader, model, device=device)\n",
    "        acc_test, pr_test, rec_test, f1_test = estimate_epoch(test_loader, model, device=device)\n",
    "\n",
    "        if epoch % step_print == 0:\n",
    "            print(f'[Epoch {epoch + 1}] train loss: {train_loss:.3f}; acc_train {acc_train:.3f}; f1_train {f1_train:.3f}; test loss: {test_loss:.3f}; acc_test {acc_test:.3f}; f1_test {f1_test:.3f};')\n",
    "#             plt.hist(y_test_pred)\n",
    "#             plt.show()\n",
    "            \n",
    "    return model\n",
    "\n",
    "def calculate_metrics(y_true, y_pred):\n",
    "    acc = accuracy_score(y_true, y_pred)\n",
    "    pr = precision_score(y_true, y_pred)\n",
    "    rec = recall_score(y_true, y_pred)\n",
    "    f1 = f1_score(y_true, y_pred)\n",
    "    return acc, pr, rec, f1\n",
    "\n",
    "def plotting(y_true, y_pred, window=1000):\n",
    "    plt.figure(figsize=(8, 5))\n",
    "    plt.plot(y_true[-window:], label = 'True')\n",
    "    plt.plot(y_pred[-window:], label = 'Pred')\n",
    "    plt.grid()\n",
    "    plt.legend()\n",
    "    plt.show()\n"
   ]
  },
  {
   "cell_type": "code",
   "execution_count": 9,
   "metadata": {},
   "outputs": [],
   "source": [
    "X_train_tensor = torch.tensor(X_train, dtype=torch.float32)\n",
    "X_test_tensor =torch.tensor(X_test, dtype=torch.float32)\n",
    "X_train_tensor = X_train_tensor.reshape([X_train_tensor.shape[0],X_train_tensor.shape[1], 1])\n",
    "X_test_tensor = X_test_tensor.reshape([X_test_tensor.shape[0],X_test_tensor.shape[1], 1])\n",
    "\n",
    "y_train_tensor = torch.tensor(y_train, dtype=torch.int32)\n",
    "y_test_tensor = torch.tensor(y_test, dtype=torch.int32)"
   ]
  },
  {
   "cell_type": "markdown",
   "metadata": {},
   "source": [
    "## Stop here"
   ]
  },
  {
   "cell_type": "code",
   "execution_count": 10,
   "metadata": {},
   "outputs": [],
   "source": [
    "# device= torch.device('cuda:2' if torch.cuda.is_available() else 'cpu')\n",
    "# #device = 'cpu'\n",
    "\n",
    "# num_epochs = 15\n",
    "# #print(num_epochs)\n",
    "# LR = 0.001\n",
    "\n",
    "# HIDDEN_DIM = 50\n",
    "# OUTPUT_DIM = 1\n",
    "# N_LAYERS = 1\n",
    "# DROPOUT = 0.3\n",
    "\n",
    "# for model_id in range(5):\n",
    "#     print(model_id)\n",
    "#     torch.manual_seed(model_id)\n",
    "\n",
    "#     model = LSTM_net(HIDDEN_DIM, N_LAYERS, OUTPUT_DIM, DROPOUT).to(device)\n",
    "\n",
    "#     criterion = torch.nn.BCELoss()\n",
    "#     optimizer = torch.optim.Adam(model.parameters(), lr=LR)\n",
    "#     scheduler = torch.optim.lr_scheduler.StepLR(optimizer, 12, gamma=0.1)\n",
    "    \n",
    "#     model = train_procedure(model, train_loader, test_loader, criterion, optimizer,\n",
    "#                 num_epochs=15, step_print=5)\n",
    "    \n",
    "#     torch.save(model.state_dict(), f'checkpoints/Ford_A/model_{model_id}_{col}.pth') "
   ]
  },
  {
   "cell_type": "markdown",
   "metadata": {},
   "source": [
    "# Getting adv Data"
   ]
  },
  {
   "cell_type": "code",
   "execution_count": 21,
   "metadata": {},
   "outputs": [],
   "source": [
    "def fgsm_attack(loss_val, x, eps):\n",
    "    \n",
    "    grad_ = torch.autograd.grad(loss_val, x, retain_graph=True)[0]\n",
    "    x_adv = x.data + eps * torch.sign(grad_)\n",
    "    return x_adv\n",
    "    \n",
    "def fgsm_reg_attack(loss_val, x, eps, alpha):\n",
    "    \n",
    "    x_anchor = x[:, 1:-1]\n",
    "    x_left = x[:, 2:]\n",
    "    x_right = x[:, :-2]\n",
    "    x_regular = (x_left + x_right) / 2\n",
    "    loss_reg = torch.sum((x_anchor - x_regular.detach()) ** 2, dim=list(range(1, len(x.shape))))\n",
    "    \n",
    "    loss = loss_val - alpha * torch.mean(loss_reg)\n",
    "    grad_ = torch.autograd.grad(loss, x, retain_graph=True)[0]\n",
    "    x_adv = x.data + eps * (torch.sign(grad_))\n",
    "\n",
    "    return x_adv\n",
    "\n",
    "\n",
    "def attack_one_iter(\n",
    "        model: nn.Module,  # model for attack\n",
    "        loader: DataLoader,  # dataloader with data\n",
    "        criterion: nn.Module,\n",
    "        attack_fun,\n",
    "        attack_params,\n",
    "        device='cpu',\n",
    "        train_mode=False):  # params_dict with eps and iter number\n",
    "\n",
    "    \"\"\"\n",
    "    Applies 1 iteration of ifgsm adversarial attack to data\n",
    "    :param model: model to get grad\n",
    "    :param loader: dataloader with data\n",
    "    :param criterion: loss function to calculate gradient for attack\n",
    "    :param eps: the strengh of attack\n",
    "    :param train_mode: bool to change mode of the model: should be False,\n",
    "                       but RNN layers can't calculate grad with False value, so need to be set as True\n",
    "    :return: x_adv_tensor - adversarial data,\n",
    "            all_y_true - true labels,\n",
    "            all_preds - predinctions before attack,\n",
    "            all_preds_adv - predinctions on attacked data\n",
    "    \"\"\"\n",
    "    model.train(train_mode)\n",
    "    req_grad(model, state=False)  # detach all model's parameters\n",
    "\n",
    "    all_y_true = []  # logging y_true for rebuilding dataloader and calculation difference with preds\n",
    "    all_preds = []  # logging predictions original for calculation difference with data\n",
    "    all_preds_adv = []  # logging predictions for calculation difference with data\n",
    "    x_adv_tensor = torch.FloatTensor([])  # logging x_adv for rebuilding dataloader\n",
    "\n",
    "    for x, y_true in loader:\n",
    "        all_y_true.extend(y_true.detach().data.numpy())\n",
    "\n",
    "        x.grad = None\n",
    "        x.requires_grad = True\n",
    "\n",
    "        # prediction for original input\n",
    "        x = x.to(device, non_blocking=True)\n",
    "        y_true = y_true.to(device)\n",
    "        \n",
    "        y_pred = model(x)\n",
    "\n",
    "        # attack for adv input\n",
    "        loss_val = criterion(y_pred, y_true.reshape(-1, 1))\n",
    "        x_adv = attack_fun(loss_val, x, **attack_params)\n",
    "        x_adv_tensor = torch.cat((x_adv_tensor, x_adv.cpu().detach()), dim=0)\n",
    "\n",
    "        # assert (x_adv == x).sum() == 0, \"Data doesn't change after attack\"\n",
    "        all_preds.extend(y_pred.cpu().detach().data.numpy())\n",
    "\n",
    "        # prediction for adv input\n",
    "        with torch.no_grad():\n",
    "            y_pred_adv = model(x_adv)\n",
    "            all_preds_adv.extend(y_pred_adv.cpu().detach().data.numpy())\n",
    "\n",
    "        # assert (y_pred_adv == y_pred).sum() == 0, \"Predicitions doesn't change after attack\"\n",
    "\n",
    "    return x_adv_tensor, all_y_true, all_preds, all_preds_adv\n",
    "\n",
    "\n",
    "def attack_iterations_data(model: nn.Module,\n",
    "                     loader: DataLoader,\n",
    "                     dataset_class: Dataset,\n",
    "                     criterion: nn.Module,\n",
    "                     attack_fun,\n",
    "                     attack_params,\n",
    "                     n_steps: int,\n",
    "                     device='cpu',\n",
    "                     train_mode=False,\n",
    "                     ):\n",
    "\n",
    "    for iter_ in tqdm(range(n_steps)):\n",
    "\n",
    "        # attack\n",
    "        x_adv_tensor, y_true, preds_original, preds_adv = attack_one_iter(model=model, \n",
    "                                                                          loader=loader, \n",
    "                                                                          criterion=criterion, \n",
    "                                                                          attack_fun=attack_fun,\n",
    "                                                                          attack_params=attack_params, \n",
    "                                                                          device=device, \n",
    "                                                                          train_mode=train_mode)\n",
    "\n",
    "        # rebuilding dataloader for new iteration\n",
    "        it_dataset = dataset_class(x_adv_tensor, torch.tensor(y_true))\n",
    "        loader = DataLoader(it_dataset, batch_size=loader.batch_size)\n",
    "\n",
    "    return torch.tensor(x_adv_tensor).detach(), torch.tensor(y_true).detach()\n",
    "\n",
    "\n",
    "def req_grad(model: nn.Module, state: bool = True) -> None:\n",
    "    \"\"\"Set requires_grad of all model parameters to the desired value.\n",
    "\n",
    "    :param model: the model\n",
    "    :param state: desired value for requires_grad\n",
    "    \"\"\"\n",
    "    for param in model.parameters():\n",
    "        param.requires_grad_(state)\n",
    "\n",
    "def prepare_adv_data(\n",
    "        model: nn.Module,  # model for attack\n",
    "        loader: DataLoader,  # dataloader with data\n",
    "        criterion: nn.Module,\n",
    "        attack_func,\n",
    "        attack_params,\n",
    "        device='cpu',\n",
    "        train_mode=False):  # params_dict with eps and iter number\n",
    "\n",
    "    model.train(train_mode)\n",
    "    req_grad(model, state=False)  # detach all model's parameters\n",
    "\n",
    "    all_y_true = torch.tensor([]) # logging y_true for rebuilding dataloader and calculation difference with preds\n",
    "    x_adv_tensor = torch.FloatTensor([])  # logging x_adv for rebuilding dataloader\n",
    "\n",
    "    for x, y_true in loader:\n",
    "        \n",
    "        all_y_true = torch.cat((all_y_true, y_true.cpu().detach()), dim=0)\n",
    "        x.grad = None\n",
    "        x.requires_grad = True\n",
    "\n",
    "        # prediction for original input\n",
    "        x = x.to(device, non_blocking=True)\n",
    "        y_true = y_true.to(device)\n",
    "\n",
    "        y_pred = model(x)\n",
    "\n",
    "        # attack for adv input\n",
    "        loss_val = criterion(y_pred, y_true.reshape(-1, 1))\n",
    "        x_adv = attack_fun(loss_val, x, **attack_params)\n",
    "        x_adv_tensor = torch.cat((x_adv_tensor, x_adv.cpu().detach()), dim=0)\n",
    "\n",
    "    return x_adv_tensor.detach(), all_y_true.detach()\n",
    "\n",
    "\n",
    "def prepare_disc_data(model, \n",
    "                      loader, \n",
    "                      dataset_class,\n",
    "                      X_tensor, \n",
    "                      criterion,\n",
    "                      attack_fun,\n",
    "                      attack_params, \n",
    "                      n_steps,\n",
    "                      device, \n",
    "                      batch_size,\n",
    "                      train_mode=True):\n",
    "    \n",
    "\n",
    "    X_adv, y_adv = attack_iterations_data(model, loader, dataset_class, criterion, attack_fun, attack_params,\n",
    "                                          n_steps, device, train_mode=train_mode)\n",
    "\n",
    "    \n",
    "    \n",
    "    disc_labels_zeros = torch.zeros((len(X_tensor), 1)) #True label class\n",
    "    disc_labels_ones = torch.ones(y_adv.shape) #True label class\n",
    "    \n",
    "    new_x = torch.concat([X_tensor, X_adv], dim=0)\n",
    "    new_y = torch.concat([disc_labels_zeros, disc_labels_ones], dim=0)\n",
    "    \n",
    "    disc_loader = DataLoader(dataset_class(new_x, new_y), batch_size=BS, shuffle=True)\n",
    "    \n",
    "    return disc_loader"
   ]
  },
  {
   "cell_type": "code",
   "execution_count": 22,
   "metadata": {},
   "outputs": [],
   "source": [
    "class HideAttackExp:\n",
    "    def __init__(self, attack_model, train_loader, test_loader, attack_train_params, \n",
    "                 attack_test_params, discriminator_model, disc_train_params, multiclass=False):\n",
    "        \n",
    "        self.attack_loaders = {'train': train_loader,\n",
    "                       'test': test_loader}\n",
    "        self.attack_train = {'train':IterGradAttack(attack_model, train_loader, **attack_train_params),\n",
    "                             'test': IterGradAttack(attack_model, test_loader, **attack_test_params)}\n",
    "        self.disc_loaders = dict()\n",
    "        \n",
    "        self.attack_train_params = attack_train_params\n",
    "        self.attack_test_params = attack_test_params\n",
    "        \n",
    "        \n",
    "        self.eps = attack_train_params['attack_params']['eps']\n",
    "        self.alpha = None\n",
    "        if 'alpha' in attack_train_params['attack_params']:\n",
    "            self.alpha = attack_train_params['attack_params']['alpha']\n",
    "        self.n_steps = attack_train_params['n_steps']\n",
    "        self.multiclass = multiclass\n",
    "\n",
    "        \n",
    "        self.attack_model = attack_model\n",
    "        self.disc_model = discriminator_model\n",
    "        \n",
    "        self.disc_criterion = torch.nn.BCELoss()\n",
    "        self.disc_n_epoch = disc_train_params['n_epoch']\n",
    "        self.disc_batch_size = 64\n",
    "        self.disc_optimizer = disc_train_params['optimizer']\n",
    "        if 'scheduler' in disc_train_params.keys():\n",
    "            self.disc_scheduler = disc_train_params['scheduler']\n",
    "        else:\n",
    "            self.disc_scheduler = None\n",
    "\n",
    "        self.attack_device = next(attack_model.parameters()).device\n",
    "        self.disc_device = next(discriminator_model.parameters()).device\n",
    "        \n",
    "    def run(self):\n",
    "        print(\"Generating adv data\")\n",
    "        self.get_disc_dataloaders()\n",
    "        print(\"Train discriminator\")\n",
    "        self.train_discriminator()\n",
    "    \n",
    "    def _generate_adv_data(self, mode='train', batch_size=64):\n",
    "        \n",
    "        self.disc_batch_size = batch_size\n",
    "        dataset_class = self.attack_train[mode].dataset_class\n",
    "\n",
    "        X_adv, y_adv = self.attack_train[mode].run_iterations()\n",
    "        X_orig = torch.tensor(self.attack_loaders[mode].dataset.X)\n",
    "        X_adv = X_adv.squeeze(-1)\n",
    "    \n",
    "        disc_labels_zeros = torch.zeros((len(X_orig), 1)) #True label class\n",
    "        disc_labels_ones = torch.ones(y_adv.shape) #True label class\n",
    "        \n",
    "        new_x = torch.concat([X_orig, X_adv], dim=0)\n",
    "        new_y = torch.concat([disc_labels_zeros, disc_labels_ones], dim=0)\n",
    "\n",
    "        suffle_status = mode == 'train'\n",
    "        disc_loader = DataLoader(dataset_class(new_x, new_y), batch_size=batch_size, shuffle=suffle_status)\n",
    "        self.disc_loaders[mode] = disc_loader\n",
    "        return disc_loader\n",
    "    \n",
    "    def get_disc_dataloaders(self):\n",
    "        self._generate_adv_data('train')\n",
    "        self._generate_adv_data('test')\n",
    "        \n",
    "    def _logging_train_disc(self, data, mode='train'):\n",
    "        \n",
    "        for metric in self.dict_logging[mode].keys():\n",
    "            self.dict_logging[mode][metric].append(data[metric])\n",
    "    \n",
    "    def train_discriminator(self):\n",
    "        metric_names = ['loss', 'accuracy', 'precision', 'recall', 'f1', 'balance']\n",
    "        self.dict_logging = {'train': {metric:[] for metric in metric_names},\n",
    "                       'test': {metric:[] for metric in metric_names}}\n",
    "\n",
    "        for epoch in tqdm(range(self.disc_n_epoch)):\n",
    "            train_metrics_epoch = self._train_step()\n",
    "            train_metrics_epoch = {met_name:met_val for met_name, met_val\n",
    "                                   in zip(metric_names, train_metrics_epoch)}\n",
    "            self._logging_train_disc(train_metrics_epoch, mode='train')\n",
    "            \n",
    "            test_metrics_epoch = self._valid_step() \n",
    "            test_metrics_epoch = {met_name:met_val for met_name, met_val \n",
    "                       in zip(metric_names, test_metrics_epoch)}\n",
    "            self._logging_train_disc(test_metrics_epoch, mode='test')\n",
    "                    \n",
    "    \n",
    "    def _train_step(self):\n",
    "        losses, n_batches = 0, 0\n",
    "        \n",
    "        y_all_pred = torch.tensor([])\n",
    "        y_all_true = torch.tensor([])\n",
    "        \n",
    "        self.disc_model.train(True)\n",
    "        for x, labels in self.disc_loaders['train']:\n",
    "\n",
    "            self.disc_optimizer.zero_grad()\n",
    "            x = x.to(self.disc_device)\n",
    "            labels = labels.reshape(-1, 1).to(self.disc_device)\n",
    "\n",
    "            y_out = self.disc_model(x)\n",
    "            \n",
    "            loss = self.disc_criterion(y_out, labels) \n",
    "\n",
    "            loss.backward()     \n",
    "            self.disc_optimizer.step()\n",
    "            losses += loss\n",
    "            n_batches += 1\n",
    "            \n",
    "            if self.multiclass:\n",
    "                y_pred = torch.argmax(y_out, axis=1)\n",
    "            else:\n",
    "                y_pred = torch.round(y_out)\n",
    "\n",
    "            y_all_true = torch.cat((y_all_true, labels.cpu().detach()), dim=0)\n",
    "            y_all_pred = torch.cat((y_all_pred, y_pred.cpu().detach()), dim=0)\n",
    "\n",
    "        mean_loss = losses / n_batches\n",
    "\n",
    "        if self.disc_scheduler:\n",
    "            self.disc_scheduler.step()\n",
    "            \n",
    "        y_all_pred = y_all_pred.numpy().reshape([-1, 1])\n",
    "        y_all_true = y_all_true.numpy().reshape([-1, 1])\n",
    "\n",
    "        acc, pr, rec, f1 = self.calculate_metrics(y_all_true, y_all_pred)\n",
    "        balance = np.sum(y_all_pred) / len(y_all_pred)\n",
    "        return mean_loss, acc, pr, rec, f1, balance\n",
    "\n",
    "\n",
    "    def _valid_step(self):\n",
    "        \n",
    "        y_all_pred = torch.tensor([])\n",
    "        y_all_true = torch.tensor([])\n",
    "        \n",
    "        losses, n_batches = 0, 0\n",
    "        self.disc_model.eval()    \n",
    "        for x, labels in self.disc_loaders['test']:\n",
    "            with torch.no_grad():\n",
    "                x = x.to(self.disc_device)\n",
    "                labels = labels.reshape(-1, 1).to(self.disc_device)\n",
    "\n",
    "                y_out = self.disc_model(x)\n",
    "                loss = self.disc_criterion(y_out, labels)\n",
    "                losses += loss\n",
    "                n_batches += 1\n",
    "                \n",
    "                if self.multiclass:\n",
    "                    y_pred = torch.argmax(y_out, axis=1)\n",
    "                else:\n",
    "                    y_pred = torch.round(y_out)\n",
    "\n",
    "            y_all_true = torch.cat((y_all_true, labels.cpu().detach()), dim=0)\n",
    "            y_all_pred = torch.cat((y_all_pred, y_pred.cpu().detach()), dim=0)\n",
    "\n",
    "        mean_loss = losses / n_batches\n",
    "        \n",
    "        y_all_pred = y_all_pred.numpy().reshape([-1, 1])\n",
    "        y_all_true = y_all_true.numpy().reshape([-1, 1])\n",
    "\n",
    "        acc, pr, rec, f1 = self.calculate_metrics(y_all_true, y_all_pred)\n",
    "        balance = np.sum(y_all_pred) / len(y_all_pred)\n",
    "        return mean_loss, acc, pr, rec, f1, balance\n",
    "\n",
    "\n",
    "    def calculate_metrics(self, y_true, y_pred):\n",
    "        acc = accuracy_score(y_true, y_pred)\n",
    "        pr = precision_score(y_true, y_pred)\n",
    "        rec = recall_score(y_true, y_pred)\n",
    "        f1 = f1_score(y_true, y_pred)\n",
    "        return acc, pr, rec, f1\n"
   ]
  },
  {
   "cell_type": "code",
   "execution_count": 13,
   "metadata": {},
   "outputs": [
    {
     "data": {
      "text/plain": [
       "<All keys matched successfully>"
      ]
     },
     "execution_count": 13,
     "metadata": {},
     "output_type": "execute_result"
    }
   ],
   "source": [
    "# attack model loading\n",
    "model_id = 0\n",
    "path_to_saves = 'checkpoints/Ford_A/'\n",
    "\n",
    "HIDDEN_DIM = 50\n",
    "OUTPUT_DIM = 1\n",
    "N_LAYERS = 1\n",
    "DROPOUT = 0.0\n",
    "\n",
    "device= torch.device('cuda:2' if torch.cuda.is_available() else 'cpu')\n",
    "\n",
    "attack_model = LSTM_net(HIDDEN_DIM, N_LAYERS, OUTPUT_DIM, DROPOUT).to(device)\n",
    "model_path = path_to_saves + f'model_{model_id}_{col}.pth'\n",
    "attack_model.load_state_dict(copy.deepcopy(torch.load(model_path)))"
   ]
  },
  {
   "cell_type": "code",
   "execution_count": null,
   "metadata": {},
   "outputs": [],
   "source": []
  },
  {
   "cell_type": "code",
   "execution_count": 51,
   "metadata": {},
   "outputs": [
    {
     "name": "stdout",
     "output_type": "stream",
     "text": [
      "Generating adv data\n"
     ]
    },
    {
     "data": {
      "application/vnd.jupyter.widget-view+json": {
       "model_id": "72f84c50ce5b4500bc8398aae1d49547",
       "version_major": 2,
       "version_minor": 0
      },
      "text/plain": [
       "  0%|          | 0/10 [00:00<?, ?it/s]"
      ]
     },
     "metadata": {},
     "output_type": "display_data"
    },
    {
     "data": {
      "application/vnd.jupyter.widget-view+json": {
       "model_id": "ea3d037c1b3c4434a183d00d50ef6251",
       "version_major": 2,
       "version_minor": 0
      },
      "text/plain": [
       "  0%|          | 0/10 [00:00<?, ?it/s]"
      ]
     },
     "metadata": {},
     "output_type": "display_data"
    },
    {
     "name": "stdout",
     "output_type": "stream",
     "text": [
      "Train discriminator\n"
     ]
    },
    {
     "data": {
      "application/vnd.jupyter.widget-view+json": {
       "model_id": "bc62217347fb4d9b97330269a5068c4f",
       "version_major": 2,
       "version_minor": 0
      },
      "text/plain": [
       "  0%|          | 0/20 [00:00<?, ?it/s]"
      ]
     },
     "metadata": {},
     "output_type": "display_data"
    }
   ],
   "source": [
    "\n",
    "LR = 0.001\n",
    "step_lr = 12\n",
    "\n",
    "\n",
    "attack_train_params = {'attack_func':fgsm_reg_attack, \n",
    "                      'attack_params':{'eps':0.03, 'alpha':0.01}, \n",
    "                      'criterion':torch.nn.BCELoss(), \n",
    "                      'n_steps':10,\n",
    "                      'train_mode': True}\n",
    "attack_test_params = attack_train_params\n",
    "\n",
    "\n",
    "discriminator_model = LSTM_net(HIDDEN_DIM, N_LAYERS, OUTPUT_DIM, DROPOUT).to(device)\n",
    "optimizer = torch.optim.Adam(discriminator_model.parameters(), lr=LR)\n",
    "disc_train_params = {'n_epoch': 20,\n",
    "                    'optimizer': optimizer,\n",
    "                    'scheduler': torch.optim.lr_scheduler.StepLR(optimizer, step_lr, gamma=0.1)}      \n",
    "\n",
    "\n",
    "experiment = HideAttackExp(attack_model, train_loader, test_loader, attack_train_params, \n",
    "                           attack_test_params, discriminator_model, disc_train_params)\n",
    "experiment.run()\n",
    "\n",
    "with open(f'results/Ford_A/Gegular/Discriminator_pickle/fgsm_reg_eps={eps}_alpha={alpha}_nsteps={n_steps}.pickle', 'wb') as f:\n",
    "    pickle.dump(experiment, f)"
   ]
  },
  {
   "cell_type": "code",
   "execution_count": 69,
   "metadata": {},
   "outputs": [],
   "source": [
    "def one_id_experiment(function, nn_params, eps=0.03, alpha=0.01, n_steps=10, model_id=0):\n",
    "    path_to_saves = 'checkpoints/Ford_A/'\n",
    "\n",
    "    device= torch.device('cuda:2' if torch.cuda.is_available() else 'cpu')\n",
    "\n",
    "    attack_model = LSTM_net(*nn_params).to(device)\n",
    "    model_path = path_to_saves + f'model_{model_id}_{col}.pth'\n",
    "    attack_model.load_state_dict(copy.deepcopy(torch.load(model_path)))\n",
    "    \n",
    "    if \"reg\" in function.__name__:\n",
    "        attack_param_eps_alpha = {'eps':eps, 'alpha':alpha}\n",
    "    else:\n",
    "        attack_param_eps_alpha = {'eps':eps}\n",
    "    attack_train_params = {'attack_func':function, \n",
    "                     'attack_params':attack_param_eps_alpha, \n",
    "                     'criterion':torch.nn.BCELoss(), \n",
    "                     'n_steps':n_steps,\n",
    "                      'train_mode': True}\n",
    "    attack_test_params = attack_train_params\n",
    "\n",
    "    LR = 0.001\n",
    "    step_lr = 12\n",
    "    discriminator_model = LSTM_net(HIDDEN_DIM, N_LAYERS, OUTPUT_DIM, DROPOUT).to(device)\n",
    "    optimizer = torch.optim.Adam(discriminator_model.parameters(), lr=LR)\n",
    "    disc_train_params = {'n_epoch': 20,\n",
    "                        'optimizer': optimizer,\n",
    "                        'scheduler': torch.optim.lr_scheduler.StepLR(optimizer, step_lr, gamma=0.1)}      \n",
    "\n",
    "\n",
    "    experiment = HideAttackExp(attack_model, train_loader, test_loader, attack_train_params, \n",
    "                               attack_test_params, discriminator_model, disc_train_params)\n",
    "    experiment.run()\n",
    "    \n",
    "    if \"reg\" in function.__name__:\n",
    "        exp_name = f\"{function.__name__}_eps={eps}_alpha={alpha}_nsteps={n_steps}\"\n",
    "    else:\n",
    "        exp_name = f\"{function.__name__}_eps={eps}_nsteps={n_steps}\"\n",
    "    \n",
    "    exp_path = 'results/Ford_A/Gegular/Discriminator_pickle/'\n",
    "    \n",
    "    if exp_name not in os.listdir(exp_path):\n",
    "        os.mkdir(exp_path+exp_name+'/')\n",
    "        \n",
    "    with open(exp_path+exp_name+'/' + f\"{model_id}.pickle\", 'wb') as f:\n",
    "        pickle.dump(experiment, f)\n",
    "    "
   ]
  },
  {
   "cell_type": "code",
   "execution_count": 70,
   "metadata": {},
   "outputs": [],
   "source": [
    "# list_experiments = [{'function': fgsm_reg_attack, 'eps':0.3, 'alpha': 0.01, 'n_steps':1},\n",
    "#                    {'function': fgsm_reg_attack, 'eps':0.03, 'alpha': 0.01, 'n_steps':10},\n",
    "#                    {'function': fgsm_reg_attack, 'eps':0.03, 'alpha': 0.001, 'n_steps':10},\n",
    "#                     {'function': fgsm_reg_attack, 'eps':0.03, 'alpha': 0.001, 'n_steps':10},\n",
    "list_experiments = [{'function': fgsm_attack, 'eps':0.3, 'n_steps':1},\n",
    "                   {'function': fgsm_attack, 'eps':0.03, 'n_steps':10},\n",
    "                    {'function': fgsm_reg_attack, 'eps':0.03, 'n_steps':10},]"
   ]
  },
  {
   "cell_type": "code",
   "execution_count": 71,
   "metadata": {
    "scrolled": true
   },
   "outputs": [
    {
     "data": {
      "application/vnd.jupyter.widget-view+json": {
       "model_id": "fffed93d8a3e498d83b1dac7cfb1b816",
       "version_major": 2,
       "version_minor": 0
      },
      "text/plain": [
       "  0%|          | 0/3 [00:00<?, ?it/s]"
      ]
     },
     "metadata": {},
     "output_type": "display_data"
    },
    {
     "data": {
      "application/vnd.jupyter.widget-view+json": {
       "model_id": "027c784f6698480cb74ac840f8e28cba",
       "version_major": 2,
       "version_minor": 0
      },
      "text/plain": [
       "  0%|          | 0/5 [00:00<?, ?it/s]"
      ]
     },
     "metadata": {},
     "output_type": "display_data"
    },
    {
     "name": "stdout",
     "output_type": "stream",
     "text": [
      "Generating adv data\n"
     ]
    },
    {
     "data": {
      "application/vnd.jupyter.widget-view+json": {
       "model_id": "8d0a0ac0b1264f79a68232fccacfc83c",
       "version_major": 2,
       "version_minor": 0
      },
      "text/plain": [
       "  0%|          | 0/1 [00:00<?, ?it/s]"
      ]
     },
     "metadata": {},
     "output_type": "display_data"
    },
    {
     "data": {
      "application/vnd.jupyter.widget-view+json": {
       "model_id": "34cc343ddc7b455b88de1566e5149bfb",
       "version_major": 2,
       "version_minor": 0
      },
      "text/plain": [
       "  0%|          | 0/1 [00:00<?, ?it/s]"
      ]
     },
     "metadata": {},
     "output_type": "display_data"
    },
    {
     "name": "stdout",
     "output_type": "stream",
     "text": [
      "Train discriminator\n"
     ]
    },
    {
     "data": {
      "application/vnd.jupyter.widget-view+json": {
       "model_id": "055687d12d7b4d4687e7b348201d8131",
       "version_major": 2,
       "version_minor": 0
      },
      "text/plain": [
       "  0%|          | 0/20 [00:00<?, ?it/s]"
      ]
     },
     "metadata": {},
     "output_type": "display_data"
    },
    {
     "name": "stdout",
     "output_type": "stream",
     "text": [
      "Generating adv data\n"
     ]
    },
    {
     "data": {
      "application/vnd.jupyter.widget-view+json": {
       "model_id": "d4dac9c67dac46b9a0e5d66918586163",
       "version_major": 2,
       "version_minor": 0
      },
      "text/plain": [
       "  0%|          | 0/1 [00:00<?, ?it/s]"
      ]
     },
     "metadata": {},
     "output_type": "display_data"
    },
    {
     "data": {
      "application/vnd.jupyter.widget-view+json": {
       "model_id": "f6cf099ac9564cbfaec48e756bc103ff",
       "version_major": 2,
       "version_minor": 0
      },
      "text/plain": [
       "  0%|          | 0/1 [00:00<?, ?it/s]"
      ]
     },
     "metadata": {},
     "output_type": "display_data"
    },
    {
     "name": "stdout",
     "output_type": "stream",
     "text": [
      "Train discriminator\n"
     ]
    },
    {
     "data": {
      "application/vnd.jupyter.widget-view+json": {
       "model_id": "a93e80b5d74b4408874f8d682c4d7ff4",
       "version_major": 2,
       "version_minor": 0
      },
      "text/plain": [
       "  0%|          | 0/20 [00:00<?, ?it/s]"
      ]
     },
     "metadata": {},
     "output_type": "display_data"
    },
    {
     "name": "stdout",
     "output_type": "stream",
     "text": [
      "Generating adv data\n"
     ]
    },
    {
     "data": {
      "application/vnd.jupyter.widget-view+json": {
       "model_id": "54375b93cd6d42f0b6fdcfdaad925b82",
       "version_major": 2,
       "version_minor": 0
      },
      "text/plain": [
       "  0%|          | 0/1 [00:00<?, ?it/s]"
      ]
     },
     "metadata": {},
     "output_type": "display_data"
    },
    {
     "data": {
      "application/vnd.jupyter.widget-view+json": {
       "model_id": "bf8b6d0ce0cf4521a114130417304b23",
       "version_major": 2,
       "version_minor": 0
      },
      "text/plain": [
       "  0%|          | 0/1 [00:00<?, ?it/s]"
      ]
     },
     "metadata": {},
     "output_type": "display_data"
    },
    {
     "name": "stdout",
     "output_type": "stream",
     "text": [
      "Train discriminator\n"
     ]
    },
    {
     "data": {
      "application/vnd.jupyter.widget-view+json": {
       "model_id": "3427d2153deb465b995ba869b2e5152b",
       "version_major": 2,
       "version_minor": 0
      },
      "text/plain": [
       "  0%|          | 0/20 [00:00<?, ?it/s]"
      ]
     },
     "metadata": {},
     "output_type": "display_data"
    },
    {
     "name": "stdout",
     "output_type": "stream",
     "text": [
      "Generating adv data\n"
     ]
    },
    {
     "data": {
      "application/vnd.jupyter.widget-view+json": {
       "model_id": "a758f08941734249a9fe127faceb6fd6",
       "version_major": 2,
       "version_minor": 0
      },
      "text/plain": [
       "  0%|          | 0/1 [00:00<?, ?it/s]"
      ]
     },
     "metadata": {},
     "output_type": "display_data"
    },
    {
     "data": {
      "application/vnd.jupyter.widget-view+json": {
       "model_id": "a68f88363dec49cb86c2110a3ffe6edf",
       "version_major": 2,
       "version_minor": 0
      },
      "text/plain": [
       "  0%|          | 0/1 [00:00<?, ?it/s]"
      ]
     },
     "metadata": {},
     "output_type": "display_data"
    },
    {
     "name": "stdout",
     "output_type": "stream",
     "text": [
      "Train discriminator\n"
     ]
    },
    {
     "data": {
      "application/vnd.jupyter.widget-view+json": {
       "model_id": "da5c7bacdc2f4473b538274dec4cd97a",
       "version_major": 2,
       "version_minor": 0
      },
      "text/plain": [
       "  0%|          | 0/20 [00:00<?, ?it/s]"
      ]
     },
     "metadata": {},
     "output_type": "display_data"
    },
    {
     "name": "stdout",
     "output_type": "stream",
     "text": [
      "Generating adv data\n"
     ]
    },
    {
     "data": {
      "application/vnd.jupyter.widget-view+json": {
       "model_id": "a19f7a80736f41f387b35241424500ac",
       "version_major": 2,
       "version_minor": 0
      },
      "text/plain": [
       "  0%|          | 0/1 [00:00<?, ?it/s]"
      ]
     },
     "metadata": {},
     "output_type": "display_data"
    },
    {
     "data": {
      "application/vnd.jupyter.widget-view+json": {
       "model_id": "5a0b79da196c422e8e120358fd2c4c40",
       "version_major": 2,
       "version_minor": 0
      },
      "text/plain": [
       "  0%|          | 0/1 [00:00<?, ?it/s]"
      ]
     },
     "metadata": {},
     "output_type": "display_data"
    },
    {
     "name": "stdout",
     "output_type": "stream",
     "text": [
      "Train discriminator\n"
     ]
    },
    {
     "data": {
      "application/vnd.jupyter.widget-view+json": {
       "model_id": "0b0f07f45b9246b6aef2dc279e9b1b1f",
       "version_major": 2,
       "version_minor": 0
      },
      "text/plain": [
       "  0%|          | 0/20 [00:00<?, ?it/s]"
      ]
     },
     "metadata": {},
     "output_type": "display_data"
    },
    {
     "data": {
      "application/vnd.jupyter.widget-view+json": {
       "model_id": "a4709bac20da4650b4e0bb3a8664d269",
       "version_major": 2,
       "version_minor": 0
      },
      "text/plain": [
       "  0%|          | 0/5 [00:00<?, ?it/s]"
      ]
     },
     "metadata": {},
     "output_type": "display_data"
    },
    {
     "name": "stdout",
     "output_type": "stream",
     "text": [
      "Generating adv data\n"
     ]
    },
    {
     "data": {
      "application/vnd.jupyter.widget-view+json": {
       "model_id": "d913ce1ac0834efda041e36c6c0d4864",
       "version_major": 2,
       "version_minor": 0
      },
      "text/plain": [
       "  0%|          | 0/10 [00:00<?, ?it/s]"
      ]
     },
     "metadata": {},
     "output_type": "display_data"
    },
    {
     "data": {
      "application/vnd.jupyter.widget-view+json": {
       "model_id": "7cef2aec5aa3450dae79c35a983048b6",
       "version_major": 2,
       "version_minor": 0
      },
      "text/plain": [
       "  0%|          | 0/10 [00:00<?, ?it/s]"
      ]
     },
     "metadata": {},
     "output_type": "display_data"
    },
    {
     "name": "stdout",
     "output_type": "stream",
     "text": [
      "Train discriminator\n"
     ]
    },
    {
     "data": {
      "application/vnd.jupyter.widget-view+json": {
       "model_id": "dd898ee1ed73471e81185488f7e00d19",
       "version_major": 2,
       "version_minor": 0
      },
      "text/plain": [
       "  0%|          | 0/20 [00:00<?, ?it/s]"
      ]
     },
     "metadata": {},
     "output_type": "display_data"
    },
    {
     "name": "stdout",
     "output_type": "stream",
     "text": [
      "Generating adv data\n"
     ]
    },
    {
     "data": {
      "application/vnd.jupyter.widget-view+json": {
       "model_id": "2c8ad66b6a8b4734876cff2d6a55be95",
       "version_major": 2,
       "version_minor": 0
      },
      "text/plain": [
       "  0%|          | 0/10 [00:00<?, ?it/s]"
      ]
     },
     "metadata": {},
     "output_type": "display_data"
    },
    {
     "data": {
      "application/vnd.jupyter.widget-view+json": {
       "model_id": "b4ddb9cf39994afe8a666c149b0538b9",
       "version_major": 2,
       "version_minor": 0
      },
      "text/plain": [
       "  0%|          | 0/10 [00:00<?, ?it/s]"
      ]
     },
     "metadata": {},
     "output_type": "display_data"
    },
    {
     "name": "stdout",
     "output_type": "stream",
     "text": [
      "Train discriminator\n"
     ]
    },
    {
     "data": {
      "application/vnd.jupyter.widget-view+json": {
       "model_id": "a364856aff854008aaae3b96308b46f2",
       "version_major": 2,
       "version_minor": 0
      },
      "text/plain": [
       "  0%|          | 0/20 [00:00<?, ?it/s]"
      ]
     },
     "metadata": {},
     "output_type": "display_data"
    },
    {
     "name": "stdout",
     "output_type": "stream",
     "text": [
      "Generating adv data\n"
     ]
    },
    {
     "data": {
      "application/vnd.jupyter.widget-view+json": {
       "model_id": "dc41c2ccb8ed447f8ba427440dfe0afe",
       "version_major": 2,
       "version_minor": 0
      },
      "text/plain": [
       "  0%|          | 0/10 [00:00<?, ?it/s]"
      ]
     },
     "metadata": {},
     "output_type": "display_data"
    },
    {
     "data": {
      "application/vnd.jupyter.widget-view+json": {
       "model_id": "b71e650287be4bccbb28c94f36372d29",
       "version_major": 2,
       "version_minor": 0
      },
      "text/plain": [
       "  0%|          | 0/10 [00:00<?, ?it/s]"
      ]
     },
     "metadata": {},
     "output_type": "display_data"
    },
    {
     "name": "stdout",
     "output_type": "stream",
     "text": [
      "Train discriminator\n"
     ]
    },
    {
     "data": {
      "application/vnd.jupyter.widget-view+json": {
       "model_id": "6ffc83cc7d964d93a496fc3e92cd8934",
       "version_major": 2,
       "version_minor": 0
      },
      "text/plain": [
       "  0%|          | 0/20 [00:00<?, ?it/s]"
      ]
     },
     "metadata": {},
     "output_type": "display_data"
    },
    {
     "name": "stdout",
     "output_type": "stream",
     "text": [
      "Generating adv data\n"
     ]
    },
    {
     "data": {
      "application/vnd.jupyter.widget-view+json": {
       "model_id": "4e6f3dd802704f70a9750733d2aa58b6",
       "version_major": 2,
       "version_minor": 0
      },
      "text/plain": [
       "  0%|          | 0/10 [00:00<?, ?it/s]"
      ]
     },
     "metadata": {},
     "output_type": "display_data"
    },
    {
     "data": {
      "application/vnd.jupyter.widget-view+json": {
       "model_id": "14cc90610fb94957adf9ae50a86214b3",
       "version_major": 2,
       "version_minor": 0
      },
      "text/plain": [
       "  0%|          | 0/10 [00:00<?, ?it/s]"
      ]
     },
     "metadata": {},
     "output_type": "display_data"
    },
    {
     "name": "stdout",
     "output_type": "stream",
     "text": [
      "Train discriminator\n"
     ]
    },
    {
     "data": {
      "application/vnd.jupyter.widget-view+json": {
       "model_id": "c15e2e76785f4ae48249812e7a4ac6b1",
       "version_major": 2,
       "version_minor": 0
      },
      "text/plain": [
       "  0%|          | 0/20 [00:00<?, ?it/s]"
      ]
     },
     "metadata": {},
     "output_type": "display_data"
    },
    {
     "name": "stdout",
     "output_type": "stream",
     "text": [
      "Generating adv data\n"
     ]
    },
    {
     "data": {
      "application/vnd.jupyter.widget-view+json": {
       "model_id": "d492ac2348ef480f978efa76db76ef49",
       "version_major": 2,
       "version_minor": 0
      },
      "text/plain": [
       "  0%|          | 0/10 [00:00<?, ?it/s]"
      ]
     },
     "metadata": {},
     "output_type": "display_data"
    },
    {
     "data": {
      "application/vnd.jupyter.widget-view+json": {
       "model_id": "bc0c4e515e8c4dffbacba0658cfa000b",
       "version_major": 2,
       "version_minor": 0
      },
      "text/plain": [
       "  0%|          | 0/10 [00:00<?, ?it/s]"
      ]
     },
     "metadata": {},
     "output_type": "display_data"
    },
    {
     "name": "stdout",
     "output_type": "stream",
     "text": [
      "Train discriminator\n"
     ]
    },
    {
     "data": {
      "application/vnd.jupyter.widget-view+json": {
       "model_id": "3cd5471f5bdb40c2a9b2a8bbe7b4a123",
       "version_major": 2,
       "version_minor": 0
      },
      "text/plain": [
       "  0%|          | 0/20 [00:00<?, ?it/s]"
      ]
     },
     "metadata": {},
     "output_type": "display_data"
    },
    {
     "data": {
      "application/vnd.jupyter.widget-view+json": {
       "model_id": "b6317fc283084c78a09df481357048dd",
       "version_major": 2,
       "version_minor": 0
      },
      "text/plain": [
       "  0%|          | 0/5 [00:00<?, ?it/s]"
      ]
     },
     "metadata": {},
     "output_type": "display_data"
    },
    {
     "name": "stdout",
     "output_type": "stream",
     "text": [
      "Generating adv data\n"
     ]
    },
    {
     "data": {
      "application/vnd.jupyter.widget-view+json": {
       "model_id": "06e6648fc39849bdbba26979ef1a412b",
       "version_major": 2,
       "version_minor": 0
      },
      "text/plain": [
       "  0%|          | 0/10 [00:00<?, ?it/s]"
      ]
     },
     "metadata": {},
     "output_type": "display_data"
    },
    {
     "data": {
      "application/vnd.jupyter.widget-view+json": {
       "model_id": "2c92cbf282c840f0a03579ceb07b013b",
       "version_major": 2,
       "version_minor": 0
      },
      "text/plain": [
       "  0%|          | 0/10 [00:00<?, ?it/s]"
      ]
     },
     "metadata": {},
     "output_type": "display_data"
    },
    {
     "name": "stdout",
     "output_type": "stream",
     "text": [
      "Train discriminator\n"
     ]
    },
    {
     "data": {
      "application/vnd.jupyter.widget-view+json": {
       "model_id": "68e90af4e76d4b318d61bf5ba43fcdd9",
       "version_major": 2,
       "version_minor": 0
      },
      "text/plain": [
       "  0%|          | 0/20 [00:00<?, ?it/s]"
      ]
     },
     "metadata": {},
     "output_type": "display_data"
    },
    {
     "name": "stdout",
     "output_type": "stream",
     "text": [
      "Generating adv data\n"
     ]
    },
    {
     "data": {
      "application/vnd.jupyter.widget-view+json": {
       "model_id": "2dd4f926feca44378cdf3c1470485c43",
       "version_major": 2,
       "version_minor": 0
      },
      "text/plain": [
       "  0%|          | 0/10 [00:00<?, ?it/s]"
      ]
     },
     "metadata": {},
     "output_type": "display_data"
    },
    {
     "data": {
      "application/vnd.jupyter.widget-view+json": {
       "model_id": "8da871ab5c5a46ada4a79fe839b6a8db",
       "version_major": 2,
       "version_minor": 0
      },
      "text/plain": [
       "  0%|          | 0/10 [00:00<?, ?it/s]"
      ]
     },
     "metadata": {},
     "output_type": "display_data"
    },
    {
     "name": "stdout",
     "output_type": "stream",
     "text": [
      "Train discriminator\n"
     ]
    },
    {
     "data": {
      "application/vnd.jupyter.widget-view+json": {
       "model_id": "426830b0163a4ee687d760480ed1ef8a",
       "version_major": 2,
       "version_minor": 0
      },
      "text/plain": [
       "  0%|          | 0/20 [00:00<?, ?it/s]"
      ]
     },
     "metadata": {},
     "output_type": "display_data"
    },
    {
     "name": "stdout",
     "output_type": "stream",
     "text": [
      "Generating adv data\n"
     ]
    },
    {
     "data": {
      "application/vnd.jupyter.widget-view+json": {
       "model_id": "0862e3241b894c89bd32325d32fbab94",
       "version_major": 2,
       "version_minor": 0
      },
      "text/plain": [
       "  0%|          | 0/10 [00:00<?, ?it/s]"
      ]
     },
     "metadata": {},
     "output_type": "display_data"
    },
    {
     "data": {
      "application/vnd.jupyter.widget-view+json": {
       "model_id": "155e3c1ca4c34a2c91cadbc6328e9ddf",
       "version_major": 2,
       "version_minor": 0
      },
      "text/plain": [
       "  0%|          | 0/10 [00:00<?, ?it/s]"
      ]
     },
     "metadata": {},
     "output_type": "display_data"
    },
    {
     "name": "stdout",
     "output_type": "stream",
     "text": [
      "Train discriminator\n"
     ]
    },
    {
     "data": {
      "application/vnd.jupyter.widget-view+json": {
       "model_id": "934676bac7fd435f913506b1b3540cff",
       "version_major": 2,
       "version_minor": 0
      },
      "text/plain": [
       "  0%|          | 0/20 [00:00<?, ?it/s]"
      ]
     },
     "metadata": {},
     "output_type": "display_data"
    },
    {
     "name": "stdout",
     "output_type": "stream",
     "text": [
      "Generating adv data\n"
     ]
    },
    {
     "data": {
      "application/vnd.jupyter.widget-view+json": {
       "model_id": "b96a2bdf492341598100190eb019789d",
       "version_major": 2,
       "version_minor": 0
      },
      "text/plain": [
       "  0%|          | 0/10 [00:00<?, ?it/s]"
      ]
     },
     "metadata": {},
     "output_type": "display_data"
    },
    {
     "data": {
      "application/vnd.jupyter.widget-view+json": {
       "model_id": "4eb0e890ddf8499ebf6e2d3bc062d774",
       "version_major": 2,
       "version_minor": 0
      },
      "text/plain": [
       "  0%|          | 0/10 [00:00<?, ?it/s]"
      ]
     },
     "metadata": {},
     "output_type": "display_data"
    },
    {
     "name": "stdout",
     "output_type": "stream",
     "text": [
      "Train discriminator\n"
     ]
    },
    {
     "data": {
      "application/vnd.jupyter.widget-view+json": {
       "model_id": "a107e43f6bb24a74916d129de82fad31",
       "version_major": 2,
       "version_minor": 0
      },
      "text/plain": [
       "  0%|          | 0/20 [00:00<?, ?it/s]"
      ]
     },
     "metadata": {},
     "output_type": "display_data"
    },
    {
     "name": "stdout",
     "output_type": "stream",
     "text": [
      "Generating adv data\n"
     ]
    },
    {
     "data": {
      "application/vnd.jupyter.widget-view+json": {
       "model_id": "b480400bfb314c5cb013742973646d00",
       "version_major": 2,
       "version_minor": 0
      },
      "text/plain": [
       "  0%|          | 0/10 [00:00<?, ?it/s]"
      ]
     },
     "metadata": {},
     "output_type": "display_data"
    },
    {
     "data": {
      "application/vnd.jupyter.widget-view+json": {
       "model_id": "19e116d9d537438f887dbd87fc713654",
       "version_major": 2,
       "version_minor": 0
      },
      "text/plain": [
       "  0%|          | 0/10 [00:00<?, ?it/s]"
      ]
     },
     "metadata": {},
     "output_type": "display_data"
    },
    {
     "name": "stdout",
     "output_type": "stream",
     "text": [
      "Train discriminator\n"
     ]
    },
    {
     "data": {
      "application/vnd.jupyter.widget-view+json": {
       "model_id": "1981a0d1962649b1929f2fec2ba948f5",
       "version_major": 2,
       "version_minor": 0
      },
      "text/plain": [
       "  0%|          | 0/20 [00:00<?, ?it/s]"
      ]
     },
     "metadata": {},
     "output_type": "display_data"
    }
   ],
   "source": [
    "nn_params = [50, 1, 1, 0.0]\n",
    "\n",
    "for exp_params in tqdm(list_experiments):\n",
    "    for model_id in tqdm(range(5)):\n",
    "        one_id_experiment(model_id=model_id, nn_params=nn_params, **exp_params)"
   ]
  },
  {
   "cell_type": "code",
   "execution_count": null,
   "metadata": {
    "scrolled": false
   },
   "outputs": [
    {
     "name": "stdout",
     "output_type": "stream",
     "text": [
      "Generating adv data\n"
     ]
    },
    {
     "data": {
      "application/vnd.jupyter.widget-view+json": {
       "model_id": "62b244d9bf804a379ed9c8006b9d9adc",
       "version_major": 2,
       "version_minor": 0
      },
      "text/plain": [
       "  0%|          | 0/10 [00:00<?, ?it/s]"
      ]
     },
     "metadata": {},
     "output_type": "display_data"
    }
   ],
   "source": [
    "one_id_experiment(model_id=0, nn_params=nn_params, **{'function': fgsm_attack, 'eps':0.03, 'n_steps':10})"
   ]
  },
  {
   "cell_type": "markdown",
   "metadata": {},
   "source": [
    "## Visualization"
   ]
  },
  {
   "cell_type": "code",
   "execution_count": null,
   "metadata": {},
   "outputs": [],
   "source": [
    "def visualization_differences(exp_name)"
   ]
  },
  {
   "cell_type": "code",
   "execution_count": 91,
   "metadata": {},
   "outputs": [],
   "source": [
    "exp_path = 'results/Ford_A/Gegular/Discriminator_pickle/'\n",
    "\n",
    "exp_name = {'reg':'fgsm_attack_eps=0.3_nsteps=1', \n",
    "            'noreg': 'fgsm_reg_attack_eps=0.3_alpha=0.01_nsteps=1'}\n",
    "\n",
    "exp_disc_loss = {'reg':[],\n",
    "                 'noreg':[]}\n",
    "\n",
    "for exp_type in ['reg', 'noreg']:\n",
    "    for model_id in range(5):\n",
    "        with open(exp_path+exp_name[exp_type]+'/' + f\"{model_id}.pickle\", 'rb') as f:\n",
    "            exp = pickle.load(f)\n",
    "        exp_disc_loss[exp_type].append(exp.dict_logging['test']['f1'])"
   ]
  },
  {
   "cell_type": "code",
   "execution_count": 96,
   "metadata": {},
   "outputs": [
    {
     "data": {
      "image/png": "[encoded data removed]",
      "text/plain": [
       "<Figure size 432x288 with 1 Axes>"
      ]
     },
     "metadata": {
      "needs_background": "light"
     },
     "output_type": "display_data"
    }
   ],
   "source": [
    "difference = np.array(exp_disc_loss['noreg']) - np.array(exp_disc_loss['reg'])\n",
    "iters = np.arange(len(difference[0]))\n",
    "\n",
    "for model_id in range(5):\n",
    "    plt.plot(iters, difference[model_id],linewidth=0.5, label=model_id)\n",
    "    \n",
    "diff_mean = np.mean(difference, axis=0)\n",
    "plt.plot(iters, diff_mean, linewidth=2, linestyle='--', label='Mean')    \n",
    "\n",
    "plt.grid()\n",
    "plt.legend()\n",
    "plt.show()"
   ]
  },
  {
   "cell_type": "code",
   "execution_count": null,
   "metadata": {},
   "outputs": [],
   "source": [
    "metric_name = 'test_f1'\n",
    "plt.figure(figsize=(10, 7))\n",
    "\n",
    "metrics_diff_list = list()\n",
    "\n",
    "for model_id in range(5):\n",
    "\n",
    "    plt.plot(iters, metric_diff, label=model_id)\n",
    "    \n",
    "    \n",
    "metrics_diff_mean = np.mean(np.array(metrics_diff_list), axis=0)\n",
    "plt.plot(iters, metrics_diff_mean, linewidth=2, linestyle='--', label='Mean')    \n",
    "\n",
    "plt.grid()\n",
    "plt.legend()\n",
    "plt.show()"
   ]
  },
  {
   "cell_type": "code",
   "execution_count": null,
   "metadata": {},
   "outputs": [],
   "source": []
  },
  {
   "cell_type": "code",
   "execution_count": null,
   "metadata": {},
   "outputs": [],
   "source": []
  },
  {
   "cell_type": "markdown",
   "metadata": {},
   "source": [
    "# old"
   ]
  },
  {
   "cell_type": "code",
   "execution_count": 26,
   "metadata": {},
   "outputs": [
    {
     "data": {
      "application/vnd.jupyter.widget-view+json": {
       "model_id": "e9acf173aaa4471988530a0169c4d50a",
       "version_major": 2,
       "version_minor": 0
      },
      "text/plain": [
       "  0%|          | 0/1 [00:00<?, ?it/s]"
      ]
     },
     "metadata": {},
     "output_type": "display_data"
    },
    {
     "data": {
      "application/vnd.jupyter.widget-view+json": {
       "model_id": "c79a372b960f4a379f6dd043e89611d3",
       "version_major": 2,
       "version_minor": 0
      },
      "text/plain": [
       "  0%|          | 0/1 [00:00<?, ?it/s]"
      ]
     },
     "metadata": {},
     "output_type": "display_data"
    }
   ],
   "source": [
    "eps = 0.03\n",
    "alpha = 0.001 \n",
    "\n",
    "n_steps = 1\n",
    "\n",
    "dataset = MyDataset\n",
    "criterion = torch.nn.BCELoss()\n",
    "batch_size = 256\n",
    "n_objects = y_train.shape[0]\n",
    "device= torch.device('cuda:2' if torch.cuda.is_available() else 'cpu')\n",
    "train_mode=True\n",
    "\n",
    "HIDDEN_DIM = 50\n",
    "OUTPUT_DIM = 1\n",
    "N_LAYERS = 1\n",
    "DROPOUT = 0.0\n",
    "\n",
    "attack_fun = fgsm_attack\n",
    "attack_params = {'eps':eps}\n",
    "\n",
    "attack_fun_test = fgsm_attack\n",
    "attack_params_test = {'eps':eps}\n",
    "\n",
    "model_id = 0\n",
    "    \n",
    "path_to_saves = 'checkpoints/Ford_A/'\n",
    "\n",
    "model = LSTM_net(HIDDEN_DIM, N_LAYERS, OUTPUT_DIM, DROPOUT).to(device)\n",
    "model_path = path_to_saves + f'model_{model_id}_{col}.pth'\n",
    "model.load_state_dict(copy.deepcopy(torch.load(model_path)))\n",
    "\n",
    "train_disc_loader = prepare_disc_data(model, train_loader, dataset, X_train_tensor, criterion, \n",
    "                                      attack_fun, attack_params, n_steps=n_steps, device=device, \n",
    "                                      batch_size=batch_size, train_mode=train_mode)\n",
    "\n",
    "\n",
    "test_disc_loader = prepare_disc_data(model, test_loader, dataset, X_test_tensor, criterion, \n",
    "                                     attack_fun_test, attack_params_test, n_steps=n_steps, device=device, \n",
    "                                     batch_size=batch_size, train_mode=train_mode)\n",
    "    "
   ]
  },
  {
   "cell_type": "code",
   "execution_count": 27,
   "metadata": {},
   "outputs": [
    {
     "data": {
      "application/vnd.jupyter.widget-view+json": {
       "model_id": "ff4c3fdcd9e349148f703b4098c58e1c",
       "version_major": 2,
       "version_minor": 0
      },
      "text/plain": [
       "  0%|          | 0/1 [00:00<?, ?it/s]"
      ]
     },
     "metadata": {},
     "output_type": "display_data"
    },
    {
     "data": {
      "application/vnd.jupyter.widget-view+json": {
       "model_id": "0c88cc7f4bd64933b6c98e5ebdb3a927",
       "version_major": 2,
       "version_minor": 0
      },
      "text/plain": [
       "  0%|          | 0/1 [00:00<?, ?it/s]"
      ]
     },
     "metadata": {},
     "output_type": "display_data"
    }
   ],
   "source": [
    "attack_fun = fgsm_reg_attack\n",
    "attack_params = {'eps':eps, 'alpha':alpha}\n",
    "\n",
    "attack_fun_test = fgsm_reg_attack\n",
    "attack_params_test = {'eps':eps, 'alpha':alpha}\n",
    "\n",
    "\n",
    "path_to_saves = 'checkpoints/Ford_A/'\n",
    "\n",
    "model = LSTM_net(HIDDEN_DIM, N_LAYERS, OUTPUT_DIM, DROPOUT).to(device)\n",
    "model_path = path_to_saves + f'model_{model_id}_{col}.pth'\n",
    "model.load_state_dict(copy.deepcopy(torch.load(model_path)))\n",
    "\n",
    "train_disc_loader_reg = prepare_disc_data(model, train_loader, dataset, X_train_tensor, criterion, \n",
    "                                      attack_fun, attack_params, n_steps=n_steps, device=device, \n",
    "                                      batch_size=batch_size, train_mode=train_mode)\n",
    "\n",
    "test_disc_loader_reg = prepare_disc_data(model, test_loader, dataset, X_test_tensor, criterion, \n",
    "                                     attack_fun_test, attack_params_test, n_steps=n_steps, device=device, \n",
    "                                     batch_size=batch_size, train_mode=train_mode)"
   ]
  },
  {
   "cell_type": "code",
   "execution_count": 28,
   "metadata": {},
   "outputs": [],
   "source": [
    "# params for training\n",
    "\n",
    "model_id = 0\n",
    "torch.manual_seed(model_id)\n",
    "\n",
    "device= torch.device('cuda:2' if torch.cuda.is_available() else 'cpu')\n",
    "#device = 'cpu'\n",
    "\n",
    "num_epochs = 20\n",
    "LR = 0.001\n",
    "step_lr = 12\n",
    "\n",
    "HIDDEN_DIM = 50\n",
    "OUTPUT_DIM = 1\n",
    "N_LAYERS = 1\n",
    "DROPOUT = 0.3"
   ]
  },
  {
   "cell_type": "code",
   "execution_count": 29,
   "metadata": {},
   "outputs": [],
   "source": [
    "def train_procedure_log(model, train_loader, test_loader, criterion, optimizer, scheduler=None,\n",
    "                   num_epochs=30, step_print=5):\n",
    "    \n",
    "    dict_logging = {'test_acc':[], 'test_f1':[]}\n",
    "    \n",
    "    for epoch in tqdm(range(num_epochs)):\n",
    "        train_loss = train_step(model, train_loader, criterion, device, optimizer, scheduler)\n",
    "        test_loss = valid_step(model, test_loader, criterion, device) \n",
    "\n",
    "        acc_train, pr_train, rec_train, f1_train = estimate_epoch(train_loader, model, device=device)\n",
    "        acc_test, pr_test, rec_test, f1_test = estimate_epoch(test_loader, model, device=device)\n",
    "        \n",
    "        dict_logging['test_acc'].append(acc_test)\n",
    "        dict_logging['test_f1'].append(f1_test)\n",
    "\n",
    "        if epoch % step_print == 0:\n",
    "            print(f'[Epoch {epoch + 1}] train loss: {train_loss:.3f}; acc_train {acc_train:.3f}; f1_train {f1_train:.3f}; test loss: {test_loss:.3f}; acc_test {acc_test:.3f}; f1_test {f1_test:.3f};')\n",
    "            \n",
    "    return model, dict_logging"
   ]
  },
  {
   "cell_type": "code",
   "execution_count": 30,
   "metadata": {},
   "outputs": [
    {
     "data": {
      "application/vnd.jupyter.widget-view+json": {
       "model_id": "9c08d5952b1c4251816ce4ad7087ac34",
       "version_major": 2,
       "version_minor": 0
      },
      "text/plain": [
       "  0%|          | 0/5 [00:00<?, ?it/s]"
      ]
     },
     "metadata": {},
     "output_type": "display_data"
    },
    {
     "data": {
      "application/vnd.jupyter.widget-view+json": {
       "model_id": "a75e5b3c71804c68901872d0ee3b84b2",
       "version_major": 2,
       "version_minor": 0
      },
      "text/plain": [
       "  0%|          | 0/20 [00:00<?, ?it/s]"
      ]
     },
     "metadata": {},
     "output_type": "display_data"
    },
    {
     "name": "stdout",
     "output_type": "stream",
     "text": [
      "[Epoch 1] train loss: 0.693; acc_train 0.500; f1_train 0.666; test loss: 0.693; acc_test 0.499; f1_test 0.666;\n"
     ]
    },
    {
     "ename": "KeyboardInterrupt",
     "evalue": "",
     "output_type": "error",
     "traceback": [
      "\u001b[0;31m---------------------------------------------------------------------------\u001b[0m",
      "\u001b[0;31mKeyboardInterrupt\u001b[0m                         Traceback (most recent call last)",
      "\u001b[0;32m<ipython-input-30-4944386e8505>\u001b[0m in \u001b[0;36m<module>\u001b[0;34m\u001b[0m\n\u001b[1;32m     10\u001b[0m     \u001b[0mscheduler\u001b[0m \u001b[0;34m=\u001b[0m \u001b[0mtorch\u001b[0m\u001b[0;34m.\u001b[0m\u001b[0moptim\u001b[0m\u001b[0;34m.\u001b[0m\u001b[0mlr_scheduler\u001b[0m\u001b[0;34m.\u001b[0m\u001b[0mStepLR\u001b[0m\u001b[0;34m(\u001b[0m\u001b[0moptimizer\u001b[0m\u001b[0;34m,\u001b[0m \u001b[0mstep_lr\u001b[0m\u001b[0;34m,\u001b[0m \u001b[0mgamma\u001b[0m\u001b[0;34m=\u001b[0m\u001b[0;36m0.1\u001b[0m\u001b[0;34m)\u001b[0m\u001b[0;34m\u001b[0m\u001b[0;34m\u001b[0m\u001b[0m\n\u001b[1;32m     11\u001b[0m \u001b[0;34m\u001b[0m\u001b[0m\n\u001b[0;32m---> 12\u001b[0;31m     model, dict_metrics_orig = train_procedure_log(model, train_disc_loader, test_disc_loader, \n\u001b[0m\u001b[1;32m     13\u001b[0m                              criterion, optimizer, num_epochs=num_epochs, step_print=20)\n\u001b[1;32m     14\u001b[0m \u001b[0;34m\u001b[0m\u001b[0m\n",
      "\u001b[0;32m<ipython-input-29-4b9cfc6173df>\u001b[0m in \u001b[0;36mtrain_procedure_log\u001b[0;34m(model, train_loader, test_loader, criterion, optimizer, scheduler, num_epochs, step_print)\u001b[0m\n\u001b[1;32m      9\u001b[0m \u001b[0;34m\u001b[0m\u001b[0m\n\u001b[1;32m     10\u001b[0m         \u001b[0macc_train\u001b[0m\u001b[0;34m,\u001b[0m \u001b[0mpr_train\u001b[0m\u001b[0;34m,\u001b[0m \u001b[0mrec_train\u001b[0m\u001b[0;34m,\u001b[0m \u001b[0mf1_train\u001b[0m \u001b[0;34m=\u001b[0m \u001b[0mestimate_epoch\u001b[0m\u001b[0;34m(\u001b[0m\u001b[0mtrain_loader\u001b[0m\u001b[0;34m,\u001b[0m \u001b[0mmodel\u001b[0m\u001b[0;34m,\u001b[0m \u001b[0mdevice\u001b[0m\u001b[0;34m=\u001b[0m\u001b[0mdevice\u001b[0m\u001b[0;34m)\u001b[0m\u001b[0;34m\u001b[0m\u001b[0;34m\u001b[0m\u001b[0m\n\u001b[0;32m---> 11\u001b[0;31m         \u001b[0macc_test\u001b[0m\u001b[0;34m,\u001b[0m \u001b[0mpr_test\u001b[0m\u001b[0;34m,\u001b[0m \u001b[0mrec_test\u001b[0m\u001b[0;34m,\u001b[0m \u001b[0mf1_test\u001b[0m \u001b[0;34m=\u001b[0m \u001b[0mestimate_epoch\u001b[0m\u001b[0;34m(\u001b[0m\u001b[0mtest_loader\u001b[0m\u001b[0;34m,\u001b[0m \u001b[0mmodel\u001b[0m\u001b[0;34m,\u001b[0m \u001b[0mdevice\u001b[0m\u001b[0;34m=\u001b[0m\u001b[0mdevice\u001b[0m\u001b[0;34m)\u001b[0m\u001b[0;34m\u001b[0m\u001b[0;34m\u001b[0m\u001b[0m\n\u001b[0m\u001b[1;32m     12\u001b[0m \u001b[0;34m\u001b[0m\u001b[0m\n\u001b[1;32m     13\u001b[0m         \u001b[0mdict_logging\u001b[0m\u001b[0;34m[\u001b[0m\u001b[0;34m'test_acc'\u001b[0m\u001b[0;34m]\u001b[0m\u001b[0;34m.\u001b[0m\u001b[0mappend\u001b[0m\u001b[0;34m(\u001b[0m\u001b[0macc_test\u001b[0m\u001b[0;34m)\u001b[0m\u001b[0;34m\u001b[0m\u001b[0;34m\u001b[0m\u001b[0m\n",
      "\u001b[0;32m<ipython-input-8-c620c59f0206>\u001b[0m in \u001b[0;36mestimate_epoch\u001b[0;34m(loader, model, device, round_, multiclass)\u001b[0m\n\u001b[1;32m     54\u001b[0m     \u001b[0my_all_true\u001b[0m \u001b[0;34m=\u001b[0m \u001b[0mtorch\u001b[0m\u001b[0;34m.\u001b[0m\u001b[0mtensor\u001b[0m\u001b[0;34m(\u001b[0m\u001b[0;34m[\u001b[0m\u001b[0;34m]\u001b[0m\u001b[0;34m)\u001b[0m\u001b[0;34m\u001b[0m\u001b[0;34m\u001b[0m\u001b[0m\n\u001b[1;32m     55\u001b[0m \u001b[0;34m\u001b[0m\u001b[0m\n\u001b[0;32m---> 56\u001b[0;31m     \u001b[0;32mfor\u001b[0m \u001b[0mX\u001b[0m\u001b[0;34m,\u001b[0m \u001b[0my_true\u001b[0m \u001b[0;32min\u001b[0m \u001b[0mloader\u001b[0m\u001b[0;34m:\u001b[0m\u001b[0;34m\u001b[0m\u001b[0;34m\u001b[0m\u001b[0m\n\u001b[0m\u001b[1;32m     57\u001b[0m         \u001b[0mX\u001b[0m \u001b[0;34m=\u001b[0m \u001b[0mX\u001b[0m\u001b[0;34m.\u001b[0m\u001b[0mto\u001b[0m\u001b[0;34m(\u001b[0m\u001b[0mdevice\u001b[0m\u001b[0;34m)\u001b[0m\u001b[0;34m\u001b[0m\u001b[0;34m\u001b[0m\u001b[0m\n\u001b[1;32m     58\u001b[0m         \u001b[0my_pred\u001b[0m \u001b[0;34m=\u001b[0m \u001b[0mmodel\u001b[0m\u001b[0;34m(\u001b[0m\u001b[0mX\u001b[0m\u001b[0;34m)\u001b[0m\u001b[0;34m\u001b[0m\u001b[0;34m\u001b[0m\u001b[0m\n",
      "\u001b[0;32m~/.local/lib/python3.8/site-packages/torch/utils/data/dataloader.py\u001b[0m in \u001b[0;36m__next__\u001b[0;34m(self)\u001b[0m\n\u001b[1;32m    626\u001b[0m                 \u001b[0;31m# TODO(https://github.com/pytorch/pytorch/issues/76750)\u001b[0m\u001b[0;34m\u001b[0m\u001b[0;34m\u001b[0m\u001b[0;34m\u001b[0m\u001b[0m\n\u001b[1;32m    627\u001b[0m                 \u001b[0mself\u001b[0m\u001b[0;34m.\u001b[0m\u001b[0m_reset\u001b[0m\u001b[0;34m(\u001b[0m\u001b[0;34m)\u001b[0m  \u001b[0;31m# type: ignore[call-arg]\u001b[0m\u001b[0;34m\u001b[0m\u001b[0;34m\u001b[0m\u001b[0m\n\u001b[0;32m--> 628\u001b[0;31m             \u001b[0mdata\u001b[0m \u001b[0;34m=\u001b[0m \u001b[0mself\u001b[0m\u001b[0;34m.\u001b[0m\u001b[0m_next_data\u001b[0m\u001b[0;34m(\u001b[0m\u001b[0;34m)\u001b[0m\u001b[0;34m\u001b[0m\u001b[0;34m\u001b[0m\u001b[0m\n\u001b[0m\u001b[1;32m    629\u001b[0m             \u001b[0mself\u001b[0m\u001b[0;34m.\u001b[0m\u001b[0m_num_yielded\u001b[0m \u001b[0;34m+=\u001b[0m \u001b[0;36m1\u001b[0m\u001b[0;34m\u001b[0m\u001b[0;34m\u001b[0m\u001b[0m\n\u001b[1;32m    630\u001b[0m             \u001b[0;32mif\u001b[0m \u001b[0mself\u001b[0m\u001b[0;34m.\u001b[0m\u001b[0m_dataset_kind\u001b[0m \u001b[0;34m==\u001b[0m \u001b[0m_DatasetKind\u001b[0m\u001b[0;34m.\u001b[0m\u001b[0mIterable\u001b[0m \u001b[0;32mand\u001b[0m\u001b[0;31m \u001b[0m\u001b[0;31m\\\u001b[0m\u001b[0;34m\u001b[0m\u001b[0;34m\u001b[0m\u001b[0m\n",
      "\u001b[0;32m~/.local/lib/python3.8/site-packages/torch/utils/data/dataloader.py\u001b[0m in \u001b[0;36m_next_data\u001b[0;34m(self)\u001b[0m\n\u001b[1;32m    669\u001b[0m     \u001b[0;32mdef\u001b[0m \u001b[0m_next_data\u001b[0m\u001b[0;34m(\u001b[0m\u001b[0mself\u001b[0m\u001b[0;34m)\u001b[0m\u001b[0;34m:\u001b[0m\u001b[0;34m\u001b[0m\u001b[0;34m\u001b[0m\u001b[0m\n\u001b[1;32m    670\u001b[0m         \u001b[0mindex\u001b[0m \u001b[0;34m=\u001b[0m \u001b[0mself\u001b[0m\u001b[0;34m.\u001b[0m\u001b[0m_next_index\u001b[0m\u001b[0;34m(\u001b[0m\u001b[0;34m)\u001b[0m  \u001b[0;31m# may raise StopIteration\u001b[0m\u001b[0;34m\u001b[0m\u001b[0;34m\u001b[0m\u001b[0m\n\u001b[0;32m--> 671\u001b[0;31m         \u001b[0mdata\u001b[0m \u001b[0;34m=\u001b[0m \u001b[0mself\u001b[0m\u001b[0;34m.\u001b[0m\u001b[0m_dataset_fetcher\u001b[0m\u001b[0;34m.\u001b[0m\u001b[0mfetch\u001b[0m\u001b[0;34m(\u001b[0m\u001b[0mindex\u001b[0m\u001b[0;34m)\u001b[0m  \u001b[0;31m# may raise StopIteration\u001b[0m\u001b[0;34m\u001b[0m\u001b[0;34m\u001b[0m\u001b[0m\n\u001b[0m\u001b[1;32m    672\u001b[0m         \u001b[0;32mif\u001b[0m \u001b[0mself\u001b[0m\u001b[0;34m.\u001b[0m\u001b[0m_pin_memory\u001b[0m\u001b[0;34m:\u001b[0m\u001b[0;34m\u001b[0m\u001b[0;34m\u001b[0m\u001b[0m\n\u001b[1;32m    673\u001b[0m             \u001b[0mdata\u001b[0m \u001b[0;34m=\u001b[0m \u001b[0m_utils\u001b[0m\u001b[0;34m.\u001b[0m\u001b[0mpin_memory\u001b[0m\u001b[0;34m.\u001b[0m\u001b[0mpin_memory\u001b[0m\u001b[0;34m(\u001b[0m\u001b[0mdata\u001b[0m\u001b[0;34m,\u001b[0m \u001b[0mself\u001b[0m\u001b[0;34m.\u001b[0m\u001b[0m_pin_memory_device\u001b[0m\u001b[0;34m)\u001b[0m\u001b[0;34m\u001b[0m\u001b[0;34m\u001b[0m\u001b[0m\n",
      "\u001b[0;32m~/.local/lib/python3.8/site-packages/torch/utils/data/_utils/fetch.py\u001b[0m in \u001b[0;36mfetch\u001b[0;34m(self, possibly_batched_index)\u001b[0m\n\u001b[1;32m     59\u001b[0m         \u001b[0;32melse\u001b[0m\u001b[0;34m:\u001b[0m\u001b[0;34m\u001b[0m\u001b[0;34m\u001b[0m\u001b[0m\n\u001b[1;32m     60\u001b[0m             \u001b[0mdata\u001b[0m \u001b[0;34m=\u001b[0m \u001b[0mself\u001b[0m\u001b[0;34m.\u001b[0m\u001b[0mdataset\u001b[0m\u001b[0;34m[\u001b[0m\u001b[0mpossibly_batched_index\u001b[0m\u001b[0;34m]\u001b[0m\u001b[0;34m\u001b[0m\u001b[0;34m\u001b[0m\u001b[0m\n\u001b[0;32m---> 61\u001b[0;31m         \u001b[0;32mreturn\u001b[0m \u001b[0mself\u001b[0m\u001b[0;34m.\u001b[0m\u001b[0mcollate_fn\u001b[0m\u001b[0;34m(\u001b[0m\u001b[0mdata\u001b[0m\u001b[0;34m)\u001b[0m\u001b[0;34m\u001b[0m\u001b[0;34m\u001b[0m\u001b[0m\n\u001b[0m",
      "\u001b[0;32m~/.local/lib/python3.8/site-packages/torch/utils/data/_utils/collate.py\u001b[0m in \u001b[0;36mdefault_collate\u001b[0;34m(batch)\u001b[0m\n\u001b[1;32m    263\u001b[0m             \u001b[0;34m>>\u001b[0m\u001b[0;34m>\u001b[0m \u001b[0mdefault_collate\u001b[0m\u001b[0;34m(\u001b[0m\u001b[0mbatch\u001b[0m\u001b[0;34m)\u001b[0m  \u001b[0;31m# Handle `CustomType` automatically\u001b[0m\u001b[0;34m\u001b[0m\u001b[0;34m\u001b[0m\u001b[0m\n\u001b[1;32m    264\u001b[0m     \"\"\"\n\u001b[0;32m--> 265\u001b[0;31m     \u001b[0;32mreturn\u001b[0m \u001b[0mcollate\u001b[0m\u001b[0;34m(\u001b[0m\u001b[0mbatch\u001b[0m\u001b[0;34m,\u001b[0m \u001b[0mcollate_fn_map\u001b[0m\u001b[0;34m=\u001b[0m\u001b[0mdefault_collate_fn_map\u001b[0m\u001b[0;34m)\u001b[0m\u001b[0;34m\u001b[0m\u001b[0;34m\u001b[0m\u001b[0m\n\u001b[0m",
      "\u001b[0;32m~/.local/lib/python3.8/site-packages/torch/utils/data/_utils/collate.py\u001b[0m in \u001b[0;36mcollate\u001b[0;34m(batch, collate_fn_map)\u001b[0m\n\u001b[1;32m    124\u001b[0m                 \u001b[0;32mreturn\u001b[0m \u001b[0mcollate_fn_map\u001b[0m\u001b[0;34m[\u001b[0m\u001b[0mcollate_type\u001b[0m\u001b[0;34m]\u001b[0m\u001b[0;34m(\u001b[0m\u001b[0mbatch\u001b[0m\u001b[0;34m,\u001b[0m \u001b[0mcollate_fn_map\u001b[0m\u001b[0;34m=\u001b[0m\u001b[0mcollate_fn_map\u001b[0m\u001b[0;34m)\u001b[0m\u001b[0;34m\u001b[0m\u001b[0;34m\u001b[0m\u001b[0m\n\u001b[1;32m    125\u001b[0m \u001b[0;34m\u001b[0m\u001b[0m\n\u001b[0;32m--> 126\u001b[0;31m     \u001b[0;32mif\u001b[0m \u001b[0misinstance\u001b[0m\u001b[0;34m(\u001b[0m\u001b[0melem\u001b[0m\u001b[0;34m,\u001b[0m \u001b[0mcollections\u001b[0m\u001b[0;34m.\u001b[0m\u001b[0mabc\u001b[0m\u001b[0;34m.\u001b[0m\u001b[0mMapping\u001b[0m\u001b[0;34m)\u001b[0m\u001b[0;34m:\u001b[0m\u001b[0;34m\u001b[0m\u001b[0;34m\u001b[0m\u001b[0m\n\u001b[0m\u001b[1;32m    127\u001b[0m         \u001b[0;32mtry\u001b[0m\u001b[0;34m:\u001b[0m\u001b[0;34m\u001b[0m\u001b[0;34m\u001b[0m\u001b[0m\n\u001b[1;32m    128\u001b[0m             \u001b[0;32mreturn\u001b[0m \u001b[0melem_type\u001b[0m\u001b[0;34m(\u001b[0m\u001b[0;34m{\u001b[0m\u001b[0mkey\u001b[0m\u001b[0;34m:\u001b[0m \u001b[0mcollate\u001b[0m\u001b[0;34m(\u001b[0m\u001b[0;34m[\u001b[0m\u001b[0md\u001b[0m\u001b[0;34m[\u001b[0m\u001b[0mkey\u001b[0m\u001b[0;34m]\u001b[0m \u001b[0;32mfor\u001b[0m \u001b[0md\u001b[0m \u001b[0;32min\u001b[0m \u001b[0mbatch\u001b[0m\u001b[0;34m]\u001b[0m\u001b[0;34m,\u001b[0m \u001b[0mcollate_fn_map\u001b[0m\u001b[0;34m=\u001b[0m\u001b[0mcollate_fn_map\u001b[0m\u001b[0;34m)\u001b[0m \u001b[0;32mfor\u001b[0m \u001b[0mkey\u001b[0m \u001b[0;32min\u001b[0m \u001b[0melem\u001b[0m\u001b[0;34m}\u001b[0m\u001b[0;34m)\u001b[0m\u001b[0;34m\u001b[0m\u001b[0;34m\u001b[0m\u001b[0m\n",
      "\u001b[0;32m/opt/anaconda3/envs/cuda10/lib/python3.8/abc.py\u001b[0m in \u001b[0;36m__instancecheck__\u001b[0;34m(cls, instance)\u001b[0m\n\u001b[1;32m     96\u001b[0m         \u001b[0;32mdef\u001b[0m \u001b[0m__instancecheck__\u001b[0m\u001b[0;34m(\u001b[0m\u001b[0mcls\u001b[0m\u001b[0;34m,\u001b[0m \u001b[0minstance\u001b[0m\u001b[0;34m)\u001b[0m\u001b[0;34m:\u001b[0m\u001b[0;34m\u001b[0m\u001b[0;34m\u001b[0m\u001b[0m\n\u001b[1;32m     97\u001b[0m             \u001b[0;34m\"\"\"Override for isinstance(instance, cls).\"\"\"\u001b[0m\u001b[0;34m\u001b[0m\u001b[0;34m\u001b[0m\u001b[0m\n\u001b[0;32m---> 98\u001b[0;31m             \u001b[0;32mreturn\u001b[0m \u001b[0m_abc_instancecheck\u001b[0m\u001b[0;34m(\u001b[0m\u001b[0mcls\u001b[0m\u001b[0;34m,\u001b[0m \u001b[0minstance\u001b[0m\u001b[0;34m)\u001b[0m\u001b[0;34m\u001b[0m\u001b[0;34m\u001b[0m\u001b[0m\n\u001b[0m\u001b[1;32m     99\u001b[0m \u001b[0;34m\u001b[0m\u001b[0m\n\u001b[1;32m    100\u001b[0m         \u001b[0;32mdef\u001b[0m \u001b[0m__subclasscheck__\u001b[0m\u001b[0;34m(\u001b[0m\u001b[0mcls\u001b[0m\u001b[0;34m,\u001b[0m \u001b[0msubclass\u001b[0m\u001b[0;34m)\u001b[0m\u001b[0;34m:\u001b[0m\u001b[0;34m\u001b[0m\u001b[0;34m\u001b[0m\u001b[0m\n",
      "\u001b[0;31mKeyboardInterrupt\u001b[0m: "
     ]
    }
   ],
   "source": [
    "dict_metr_all_orig = dict()\n",
    "\n",
    "for model_id in tqdm(range(5)):\n",
    "    torch.manual_seed(model_id)\n",
    "\n",
    "    model = LSTM_net(HIDDEN_DIM, N_LAYERS, OUTPUT_DIM, DROPOUT).to(device)\n",
    "\n",
    "    criterion = torch.nn.BCELoss()\n",
    "    optimizer = torch.optim.Adam(model.parameters(), lr=LR)\n",
    "    scheduler = torch.optim.lr_scheduler.StepLR(optimizer, step_lr, gamma=0.1)\n",
    "\n",
    "    model, dict_metrics_orig = train_procedure_log(model, train_disc_loader, test_disc_loader, \n",
    "                             criterion, optimizer, num_epochs=num_epochs, step_print=20)\n",
    "    \n",
    "    dict_metr_all_orig[model_id] = dict_metrics_orig"
   ]
  },
  {
   "cell_type": "code",
   "execution_count": null,
   "metadata": {},
   "outputs": [],
   "source": [
    "dict_metr_all_reg = dict()\n",
    "\n",
    "for model_id in tqdm(range(5)):\n",
    "    torch.manual_seed(model_id)\n",
    "    \n",
    "    model = LSTM_net(HIDDEN_DIM, N_LAYERS, OUTPUT_DIM, DROPOUT).to(device)\n",
    "\n",
    "    criterion = torch.nn.BCELoss()\n",
    "    optimizer = torch.optim.Adam(model.parameters(), lr=LR)\n",
    "    scheduler = torch.optim.lr_scheduler.StepLR(optimizer, step_lr, gamma=0.1)\n",
    "\n",
    "    model, dict_metrics_reg = train_procedure_log(model, train_disc_loader_reg, test_disc_loader_reg, \n",
    "                             criterion, optimizer, num_epochs=num_epochs, step_print=20)\n",
    "    dict_metr_all_reg[model_id] = dict_metrics_reg\n",
    "## reg_params"
   ]
  },
  {
   "cell_type": "code",
   "execution_count": null,
   "metadata": {},
   "outputs": [],
   "source": [
    "# TO DO: графики для 5 экспериментов"
   ]
  },
  {
   "cell_type": "code",
   "execution_count": null,
   "metadata": {},
   "outputs": [],
   "source": [
    "metric_name = 'test_f1'\n",
    "\n",
    "plt.figure(figsize=(10, 7))\n",
    "\n",
    "metrics_diff_list = list()\n",
    "\n",
    "for model_id in range(5):\n",
    "    metric_orig = dict_metr_all_orig[model_id][metric_name]\n",
    "    metric_reg = dict_metr_all_reg[model_id][metric_name]\n",
    "    \n",
    "    iters = list(range(len(metric_reg)))\n",
    "    metric_diff = np.array(metric_orig) - np.array(metric_reg)\n",
    "    metrics_diff_list.append(metric_diff)\n",
    "    \n",
    "    plt.plot(iters, metric_diff, label=model_id)\n",
    "    \n",
    "    \n",
    "metrics_diff_mean = np.mean(np.array(metrics_diff_list), axis=0)\n",
    "plt.plot(iters, metrics_diff_mean, linewidth=2, linestyle='--', label='Mean')    \n",
    "\n",
    "plt.grid()\n",
    "plt.legend()\n",
    "plt.show()"
   ]
  },
  {
   "cell_type": "markdown",
   "metadata": {},
   "source": [
    "# Эксперимент с силой атаки"
   ]
  },
  {
   "cell_type": "code",
   "execution_count": null,
   "metadata": {},
   "outputs": [],
   "source": [
    "# to do одношаговая iFGSM\n",
    "# to do взять более сильную alpha"
   ]
  },
  {
   "cell_type": "code",
   "execution_count": null,
   "metadata": {},
   "outputs": [],
   "source": [
    "generation_params = {'dataset': MyDataset(),\n",
    "                     'criterion': torch.nn.BCELoss(),\n",
    "                     'train_loader': train_loader,\n",
    "                     'test_loader': train_loader,\n",
    "                     \n",
    "                     ''}\n",
    "\n",
    "attack_fun = {'train': fgsm_attack,\n",
    "             'test': fgsm_attack\n",
    "             }\n",
    "\n",
    "\n",
    "attack_params = {'train': {'eps': eps, 'n_steps': n_steps},\n",
    "                'test': {'eps': eps, 'n_steps': n_steps},\n",
    "                }\n",
    "\n",
    "def experiment_disc(attack_fun: Dict,\n",
    "               attack_params: Dict,\n",
    "                    loaders: Dict,\n",
    "               model_for_attack,\n",
    "               model_disc,\n",
    "               train_params):\n",
    "    \n",
    "    train_disc_loader = prepare_disc_data(model, train_loader, dataset, criterion, \n",
    "                                      attack_fun, attack_params, n_steps=n_steps, device=device, \n",
    "                                      batch_size=batch_size, train_mode=train_mode)\n",
    "\n",
    "    test_disc_loader = prepare_disc_data(model, test_loader, dataset, criterion, \n",
    "                                     attack_fun_test, attack_params_test, n_steps=n_steps, device=device, \n",
    "                                     batch_size=batch_size, train_mode=train_mode)\n",
    "    \n",
    "    "
   ]
  },
  {
   "cell_type": "code",
   "execution_count": null,
   "metadata": {},
   "outputs": [],
   "source": [
    "eps = 0.03\n",
    "alpha = 0.01 \n",
    "\n",
    "n_steps = 10\n",
    "\n",
    "dataset = MyDataset\n",
    "criterion = torch.nn.BCELoss()\n",
    "batch_size = 256\n",
    "n_objects = y_train.shape[0]\n",
    "device= torch.device('cuda:2' if torch.cuda.is_available() else 'cpu')\n",
    "train_mode=True\n",
    "\n",
    "HIDDEN_DIM = 50\n",
    "OUTPUT_DIM = 1\n",
    "N_LAYERS = 1\n",
    "DROPOUT = 0.0\n",
    "\n",
    "attack_fun = fgsm_attack\n",
    "attack_params = {'eps':eps}\n",
    "\n",
    "attack_fun_test = fgsm_attack\n",
    "attack_params_test = {'eps':eps}\n",
    "\n",
    "model_id = 0\n",
    "    \n",
    "path_to_saves = 'checkpoints/Ford_A/'\n",
    "\n",
    "model = LSTM_net(HIDDEN_DIM, N_LAYERS, OUTPUT_DIM, DROPOUT).to(device)\n",
    "model_path = path_to_saves + f'model_{model_id}_{col}.pth'\n",
    "model.load_state_dict(copy.deepcopy(torch.load(model_path)))\n",
    "\n",
    "train_disc_loader = prepare_disc_data(model, train_loader, dataset, X_train_tensor, criterion, \n",
    "                                      attack_fun, attack_params, n_steps=n_steps, device=device, \n",
    "                                      batch_size=batch_size, train_mode=train_mode)\n",
    "\n",
    "test_disc_loader = prepare_disc_data(model, test_loader, dataset, X_test_tensor, criterion, \n",
    "                                     attack_fun_test, attack_params_test, n_steps=n_steps, device=device, \n",
    "                                     batch_size=batch_size, train_mode=train_mode)\n",
    "    "
   ]
  }
 ],
 "metadata": {
  "kernelspec": {
   "display_name": "Python 3",
   "language": "python",
   "name": "python3"
  },
  "language_info": {
   "codemirror_mode": {
    "name": "ipython",
    "version": 3
   },
   "file_extension": ".py",
   "mimetype": "text/x-python",
   "name": "python",
   "nbconvert_exporter": "python",
   "pygments_lexer": "ipython3",
   "version": "3.8.5"
  }
 },
 "nbformat": 4,
 "nbformat_minor": 4
}
