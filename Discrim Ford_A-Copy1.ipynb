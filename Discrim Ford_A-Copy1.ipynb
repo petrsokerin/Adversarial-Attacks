{
 "cells": [
  {
   "cell_type": "code",
   "execution_count": 7,
   "metadata": {},
   "outputs": [],
   "source": [
    "import pandas as pd\n",
    "import numpy as np\n",
    "import matplotlib.pyplot as plt\n",
    "import torch\n",
    "from tqdm.notebook import tqdm\n",
    "import pickle\n",
    "import copy\n",
    "\n",
    "from torch.utils.data import Dataset, DataLoader\n",
    "from torch import nn\n",
    "\n",
    "from ignite.handlers.param_scheduler import create_lr_scheduler_with_warmup\n",
    "\n",
    "from sklearn.metrics import mean_squared_error as MSE\n",
    "from sklearn.metrics import mean_absolute_error as MAE\n",
    "from sklearn.metrics import mean_absolute_percentage_error as MAPE\n",
    "\n",
    "from typing import Dict, Any, Tuple, List, Union, Sequence, Callable\n",
    "\n",
    "from sklearn.metrics import accuracy_score, precision_score, recall_score, f1_score, roc_auc_score, average_precision_score\n",
    "\n",
    "\n",
    "import warnings\n",
    "warnings.filterwarnings(\"ignore\")"
   ]
  },
  {
   "cell_type": "markdown",
   "metadata": {},
   "source": [
    "# Data Loading"
   ]
  },
  {
   "cell_type": "code",
   "execution_count": 8,
   "metadata": {},
   "outputs": [
    {
     "name": "stdout",
     "output_type": "stream",
     "text": [
      "(array([-1,  1]), array([1846, 1755]))\n",
      "(array([-1,  1]), array([681, 639]))\n"
     ]
    },
    {
     "data": {
      "text/plain": [
       "((3601, 500), (1320, 500), (3601,), (1320,))"
      ]
     },
     "execution_count": 8,
     "metadata": {},
     "output_type": "execute_result"
    }
   ],
   "source": [
    "col = 'FordA'\n",
    "\n",
    "import sktime\n",
    "from sktime.datasets import load_from_tsfile\n",
    "\n",
    "x_train, y_train = load_from_tsfile(\"data/Ford_A/FordA_TRAIN.ts\")\n",
    "x_test, y_test = load_from_tsfile(\"data/Ford_A/FordA_TEST.ts\")\n",
    "\n",
    "def readucr(filename):\n",
    "    data = np.loadtxt(filename, delimiter=\"\\t\")\n",
    "    y = data[:, 0]\n",
    "    x = data[:, 1:]\n",
    "    return x, y.astype(int)\n",
    "\n",
    "\n",
    "root_url = \"https://raw.githubusercontent.com/hfawaz/cd-diagram/master/FordA/\"\n",
    "\n",
    "x_train, y_train = readucr(root_url + \"FordA_TRAIN.tsv\")\n",
    "x_test, y_test = readucr(root_url + \"FordA_TEST.tsv\")\n",
    "\n",
    "print(np.unique(y_train, return_counts=True))\n",
    "print(np.unique(y_test, return_counts=True))\n",
    "\n",
    "x_train.shape, x_test.shape, y_train.shape, y_test.shape"
   ]
  },
  {
   "cell_type": "code",
   "execution_count": 9,
   "metadata": {},
   "outputs": [],
   "source": [
    "def transform_X(X):\n",
    "    np_data = []\n",
    "    lens = []\n",
    "    for i in range(len(X)):\n",
    "        line = X.iloc[i, 0]\n",
    "        lens.append(len(line))\n",
    "        np_data.append(line)\n",
    "        \n",
    "    #print(np.mean(lens), np.std(lens))\n",
    "    return np.array(np_data)"
   ]
  },
  {
   "cell_type": "code",
   "execution_count": 10,
   "metadata": {},
   "outputs": [
    {
     "name": "stdout",
     "output_type": "stream",
     "text": [
      "(36010, 50) (13200, 50) (36010, 1) (13200, 1)\n"
     ]
    },
    {
     "data": {
      "text/plain": [
       "[<matplotlib.lines.Line2D at 0x7fb3c91362b0>]"
      ]
     },
     "execution_count": 10,
     "metadata": {},
     "output_type": "execute_result"
    },
    {
     "data": {
      "image/png": "[encoded data removed]",
      "text/plain": [
       "<Figure size 432x288 with 1 Axes>"
      ]
     },
     "metadata": {
      "needs_background": "light"
     },
     "output_type": "display_data"
    }
   ],
   "source": [
    "window = 50\n",
    "len_seq = x_train.shape[1]\n",
    "n_patches = len_seq//window\n",
    "\n",
    "X_train = np.vstack([x_train[:, i:i+window] for i in range(n_patches)])\n",
    "X_test = np.vstack([x_test[:, i:i+window] for i in range(n_patches)])\n",
    "\n",
    "y_train = np.array([(int(y)+1) // 2 for y in y_train])\n",
    "y_test = np.array([(int(y)+1) // 2 for y in y_test])\n",
    "\n",
    "y_train = np.vstack([y_train.reshape(-1, 1) for i in range(n_patches)])\n",
    "y_test = np.vstack([y_test.reshape(-1, 1) for i in range(n_patches)])\n",
    "\n",
    "print(X_train.shape, X_test.shape, y_train.shape, y_test.shape)\n",
    "\n",
    "plt.plot(X_train[1])"
   ]
  },
  {
   "cell_type": "code",
   "execution_count": 11,
   "metadata": {},
   "outputs": [],
   "source": [
    "X_train_tensor = torch.tensor(X_train, dtype=torch.float32)\n",
    "X_test_tensor =torch.tensor(X_test, dtype=torch.float32)\n",
    "\n",
    "y_train_tensor = torch.tensor(y_train, dtype=torch.int32)\n",
    "y_test_tensor = torch.tensor(y_test, dtype=torch.int32)"
   ]
  },
  {
   "cell_type": "markdown",
   "metadata": {},
   "source": [
    "# Modelling"
   ]
  },
  {
   "cell_type": "code",
   "execution_count": 12,
   "metadata": {},
   "outputs": [],
   "source": [
    "class MyDataset(Dataset):\n",
    "    def __init__(self, X, y, window=50):\n",
    "        super().__init__()\n",
    "        self.X = X\n",
    "        self.y = y\n",
    "        self.window=window\n",
    "\n",
    "    def __len__(self):\n",
    "        return len(self.y)\n",
    "    \n",
    "    def __getitem__(self, idx):\n",
    "        X = torch.tensor(self.X[idx], dtype=torch.float32)\n",
    "        \n",
    "#         start_ind = np.random.randint(0, len(X) - self.window)\n",
    "#         X = X[start_ind:start_ind+self.window]\n",
    "        X = X.reshape([-1, 1])\n",
    "        y = torch.tensor(self.y[idx], dtype=torch.float32)\n",
    "        return X, y\n",
    "\n",
    "    \n",
    "BS = 64    \n",
    "train_loader = DataLoader(MyDataset(X_train, y_train), batch_size=BS, shuffle=True)\n",
    "test_loader = DataLoader(MyDataset(X_test, y_test), batch_size=BS, shuffle=False)"
   ]
  },
  {
   "cell_type": "code",
   "execution_count": 13,
   "metadata": {},
   "outputs": [],
   "source": [
    "class LSTM_net(nn.Module):\n",
    "    def __init__(self, hidden_dim, n_layers, output_dim=1, dropout=0.2):\n",
    "        super().__init__()\n",
    "        self.rnn = nn.LSTM(1, \n",
    "                           hidden_dim, \n",
    "                           num_layers=n_layers, \n",
    "                           dropout=dropout,\n",
    "                           batch_first=True)\n",
    "        \n",
    "        self.fc1 = nn.Linear(hidden_dim, hidden_dim)\n",
    "        self.relu = nn.ReLU()\n",
    "        self.fc2 = nn.Linear(hidden_dim, output_dim)\n",
    "        self.dropout = nn.Dropout(dropout)\n",
    "        \n",
    "        \n",
    "    def forward(self, data):\n",
    "        \n",
    "        packed_output, (hidden, cell) = self.rnn(data)\n",
    "        hidden = hidden.reshape(hidden.shape[1], hidden.shape[2])\n",
    "        \n",
    "        hidden = self.dropout(hidden)\n",
    "        output = self.relu(self.fc1(hidden))\n",
    "        output = self.fc2(self.dropout(output))\n",
    "        output = torch.sigmoid(output)\n",
    "            \n",
    "        return output"
   ]
  },
  {
   "cell_type": "code",
   "execution_count": 14,
   "metadata": {},
   "outputs": [],
   "source": [
    "def train_step(model, loader, criterion, device, optimizer, scheduler=None):\n",
    "    losses, n_batches = 0, 0\n",
    "    model.train(True)\n",
    "    for x, labels in loader:\n",
    "\n",
    "        optimizer.zero_grad()\n",
    "        x = x.to(device)\n",
    "        labels = labels.reshape(-1, 1).to(device)\n",
    "        \n",
    "        y_out = model(x)\n",
    "        loss = criterion(y_out, labels) \n",
    "        \n",
    "        loss.backward()     \n",
    "        optimizer.step()\n",
    "        losses += loss\n",
    "        n_batches += 1\n",
    "\n",
    "    mean_loss = losses / n_batches\n",
    "\n",
    "    if scheduler:\n",
    "        scheduler.step()\n",
    "    \n",
    "    return mean_loss\n",
    "\n",
    "def valid_step(model, loader, criterion, device):\n",
    "    \n",
    "    losses, n_batches = 0, 0\n",
    "    model.eval()    \n",
    "    for x, labels in loader:\n",
    "        with torch.no_grad():\n",
    "            x = x.to(device)\n",
    "            labels = labels.reshape(-1, 1).to(device)\n",
    "\n",
    "            y_out = model(x)\n",
    "            loss = criterion(y_out, labels)\n",
    "            losses += loss\n",
    "\n",
    "            n_batches += 1\n",
    "\n",
    "    mean_loss = losses / n_batches\n",
    "    return mean_loss\n",
    "\n",
    "\n",
    "def calculate_metrics(y_true, y_pred):\n",
    "    acc = accuracy_score(y_true, y_pred)\n",
    "    pr = precision_score(y_true, y_pred)\n",
    "    rec = recall_score(y_true, y_pred)\n",
    "    f1 = f1_score(y_true, y_pred)\n",
    "    return acc, pr, rec, f1\n",
    "    \n",
    "def estimate_epoch(loader, model=None, device='cpu', round_=True, multiclass=False):\n",
    "    \n",
    "    y_all_pred = torch.tensor([])\n",
    "    y_all_true = torch.tensor([])\n",
    "    \n",
    "    for X, y_true in loader:\n",
    "        X = X.to(device)\n",
    "        y_pred = model(X)\n",
    "        \n",
    "        if multiclass:\n",
    "            y_pred = torch.argmax(y_pred, axis=1)\n",
    "        else:\n",
    "            y_pred = torch.round(y_pred)\n",
    "        \n",
    "        y_all_true = torch.cat((y_all_true, y_true.cpu().detach()), dim=0)\n",
    "        y_all_pred = torch.cat((y_all_pred, y_pred.cpu().detach()), dim=0)\n",
    "        \n",
    "    y_all_pred = y_all_pred.numpy().reshape([-1, 1])\n",
    "    y_all_true = y_all_true.numpy().reshape([-1, 1])\n",
    "    \n",
    "    acc, pr, rec, f1 = calculate_metrics(y_all_true, y_all_pred)\n",
    "    \n",
    "    return acc, pr, rec, f1\n",
    "\n",
    "def train_procedure(model, train_loader, test_loader, criterion, optimizer, scheduler=None,\n",
    "                   num_epochs=30, step_print=5):\n",
    "    \n",
    "    for epoch in tqdm(range(num_epochs)):\n",
    "        train_loss = train_step(model, train_loader, criterion, device, optimizer, scheduler)\n",
    "        test_loss = valid_step(model, test_loader, criterion, device) \n",
    "\n",
    "        acc_train, pr_train, rec_train, f1_train = estimate_epoch(train_loader, model, device=device)\n",
    "        acc_test, pr_test, rec_test, f1_test = estimate_epoch(test_loader, model, device=device)\n",
    "\n",
    "        if epoch % step_print == 0:\n",
    "            print(f'[Epoch {epoch + 1}] train loss: {train_loss:.3f}; acc_train {acc_train:.3f}; f1_train {f1_train:.3f}; test loss: {test_loss:.3f}; acc_test {acc_test:.3f}; f1_test {f1_test:.3f};')\n",
    "#             plt.hist(y_test_pred)\n",
    "#             plt.show()\n",
    "            \n",
    "    return model\n",
    "\n",
    "def calculate_metrics(y_true, y_pred):\n",
    "    acc = accuracy_score(y_true, y_pred)\n",
    "    pr = precision_score(y_true, y_pred)\n",
    "    rec = recall_score(y_true, y_pred)\n",
    "    f1 = f1_score(y_true, y_pred)\n",
    "    return acc, pr, rec, f1\n",
    "\n",
    "def plotting(y_true, y_pred, window=1000):\n",
    "    plt.figure(figsize=(8, 5))\n",
    "    plt.plot(y_true[-window:], label = 'True')\n",
    "    plt.plot(y_pred[-window:], label = 'Pred')\n",
    "    plt.grid()\n",
    "    plt.legend()\n",
    "    plt.show()\n"
   ]
  },
  {
   "cell_type": "code",
   "execution_count": 15,
   "metadata": {},
   "outputs": [],
   "source": [
    "X_train_tensor = torch.tensor(X_train, dtype=torch.float32)\n",
    "X_test_tensor =torch.tensor(X_test, dtype=torch.float32)\n",
    "X_train_tensor = X_train_tensor.reshape([X_train_tensor.shape[0],X_train_tensor.shape[1], 1])\n",
    "X_test_tensor = X_test_tensor.reshape([X_test_tensor.shape[0],X_test_tensor.shape[1], 1])\n",
    "\n",
    "y_train_tensor = torch.tensor(y_train, dtype=torch.int32)\n",
    "y_test_tensor = torch.tensor(y_test, dtype=torch.int32)"
   ]
  },
  {
   "cell_type": "markdown",
   "metadata": {},
   "source": [
    "## Stop here"
   ]
  },
  {
   "cell_type": "code",
   "execution_count": 2,
   "metadata": {},
   "outputs": [],
   "source": [
    "# device= torch.device('cuda:2' if torch.cuda.is_available() else 'cpu')\n",
    "# #device = 'cpu'\n",
    "\n",
    "# num_epochs = 15\n",
    "# #print(num_epochs)\n",
    "# LR = 0.001\n",
    "\n",
    "# HIDDEN_DIM = 50\n",
    "# OUTPUT_DIM = 1\n",
    "# N_LAYERS = 1\n",
    "# DROPOUT = 0.3\n",
    "\n",
    "# for model_id in range(5):\n",
    "#     print(model_id)\n",
    "#     torch.manual_seed(model_id)\n",
    "\n",
    "#     model = LSTM_net(HIDDEN_DIM, N_LAYERS, OUTPUT_DIM, DROPOUT).to(device)\n",
    "\n",
    "#     criterion = torch.nn.BCELoss()\n",
    "#     optimizer = torch.optim.Adam(model.parameters(), lr=LR)\n",
    "#     scheduler = torch.optim.lr_scheduler.StepLR(optimizer, 12, gamma=0.1)\n",
    "    \n",
    "#     model = train_procedure(model, train_loader, test_loader, criterion, optimizer,\n",
    "#                 num_epochs=15, step_print=5)\n",
    "    \n",
    "#     torch.save(model.state_dict(), f'checkpoints/Ford_A/model_{model_id}_{col}.pth') "
   ]
  },
  {
   "cell_type": "markdown",
   "metadata": {},
   "source": [
    "# Getting adv Data"
   ]
  },
  {
   "cell_type": "code",
   "execution_count": 16,
   "metadata": {},
   "outputs": [],
   "source": [
    "def fgsm_attack(loss_val, x, eps):\n",
    "    \n",
    "    grad_ = torch.autograd.grad(loss_val, x, retain_graph=True)[0]\n",
    "    x_adv = x.data + eps * torch.sign(grad_)\n",
    "    return x_adv\n",
    "    \n",
    "def fgsm_reg_attack(loss_val, x, eps, alpha):\n",
    "    \n",
    "    x_anchor = x[:, 1:-1]\n",
    "    x_left = x[:, 2:]\n",
    "    x_right = x[:, :-2]\n",
    "    x_regular = (x_left + x_right) / 2\n",
    "    loss_reg = torch.sum((x_anchor - x_regular.detach()) ** 2, dim=list(range(1, len(x.shape))))\n",
    "    \n",
    "    loss = loss_val - alpha * torch.mean(loss_reg)\n",
    "    grad_ = torch.autograd.grad(loss, x, retain_graph=True)[0]\n",
    "    x_adv = x.data + eps * (torch.sign(grad_))\n",
    "\n",
    "    return x_adv\n",
    "\n",
    "\n",
    "def attack_one_iter(\n",
    "        model: nn.Module,  # model for attack\n",
    "        loader: DataLoader,  # dataloader with data\n",
    "        criterion: nn.Module,\n",
    "        attack_fun,\n",
    "        attack_params,\n",
    "        device='cpu',\n",
    "        train_mode=False):  # params_dict with eps and iter number\n",
    "\n",
    "    \"\"\"\n",
    "    Applies 1 iteration of ifgsm adversarial attack to data\n",
    "    :param model: model to get grad\n",
    "    :param loader: dataloader with data\n",
    "    :param criterion: loss function to calculate gradient for attack\n",
    "    :param eps: the strengh of attack\n",
    "    :param train_mode: bool to change mode of the model: should be False,\n",
    "                       but RNN layers can't calculate grad with False value, so need to be set as True\n",
    "    :return: x_adv_tensor - adversarial data,\n",
    "            all_y_true - true labels,\n",
    "            all_preds - predinctions before attack,\n",
    "            all_preds_adv - predinctions on attacked data\n",
    "    \"\"\"\n",
    "    model.train(train_mode)\n",
    "    req_grad(model, state=False)  # detach all model's parameters\n",
    "\n",
    "    all_y_true = []  # logging y_true for rebuilding dataloader and calculation difference with preds\n",
    "    all_preds = []  # logging predictions original for calculation difference with data\n",
    "    all_preds_adv = []  # logging predictions for calculation difference with data\n",
    "    x_adv_tensor = torch.FloatTensor([])  # logging x_adv for rebuilding dataloader\n",
    "\n",
    "    for x, y_true in loader:\n",
    "        all_y_true.extend(y_true.detach().data.numpy())\n",
    "\n",
    "        x.grad = None\n",
    "        x.requires_grad = True\n",
    "\n",
    "        # prediction for original input\n",
    "        x = x.to(device, non_blocking=True)\n",
    "        y_true = y_true.to(device)\n",
    "        \n",
    "        y_pred = model(x)\n",
    "\n",
    "        # attack for adv input\n",
    "        loss_val = criterion(y_pred, y_true.reshape(-1, 1))\n",
    "        x_adv = attack_fun(loss_val, x, **attack_params)\n",
    "        x_adv_tensor = torch.cat((x_adv_tensor, x_adv.cpu().detach()), dim=0)\n",
    "\n",
    "        # assert (x_adv == x).sum() == 0, \"Data doesn't change after attack\"\n",
    "        all_preds.extend(y_pred.cpu().detach().data.numpy())\n",
    "\n",
    "        # prediction for adv input\n",
    "        with torch.no_grad():\n",
    "            y_pred_adv = model(x_adv)\n",
    "            all_preds_adv.extend(y_pred_adv.cpu().detach().data.numpy())\n",
    "\n",
    "        # assert (y_pred_adv == y_pred).sum() == 0, \"Predicitions doesn't change after attack\"\n",
    "\n",
    "    return x_adv_tensor, all_y_true, all_preds, all_preds_adv\n",
    "\n",
    "\n",
    "def attack_iterations_data(model: nn.Module,\n",
    "                     loader: DataLoader,\n",
    "                     dataset_class: Dataset,\n",
    "                     criterion: nn.Module,\n",
    "                     attack_fun,\n",
    "                     attack_params,\n",
    "                     n_steps: int,\n",
    "                     device='cpu',\n",
    "                     train_mode=False,\n",
    "                     ):\n",
    "\n",
    "    for iter_ in tqdm(range(n_steps)):\n",
    "\n",
    "        # attack\n",
    "        x_adv_tensor, y_true, preds_original, preds_adv = attack_one_iter(model=model, \n",
    "                                                                          loader=loader, \n",
    "                                                                          criterion=criterion, \n",
    "                                                                          attack_fun=attack_fun,\n",
    "                                                                          attack_params=attack_params, \n",
    "                                                                          device=device, \n",
    "                                                                          train_mode=train_mode)\n",
    "\n",
    "        # rebuilding dataloader for new iteration\n",
    "        it_dataset = dataset_class(x_adv_tensor, torch.tensor(y_true))\n",
    "        loader = DataLoader(it_dataset, batch_size=loader.batch_size)\n",
    "\n",
    "    return torch.tensor(x_adv_tensor).detach(), torch.tensor(y_true).detach()\n",
    "\n",
    "\n",
    "def req_grad(model: nn.Module, state: bool = True) -> None:\n",
    "    \"\"\"Set requires_grad of all model parameters to the desired value.\n",
    "\n",
    "    :param model: the model\n",
    "    :param state: desired value for requires_grad\n",
    "    \"\"\"\n",
    "    for param in model.parameters():\n",
    "        param.requires_grad_(state)\n",
    "\n",
    "def prepare_adv_data(\n",
    "        model: nn.Module,  # model for attack\n",
    "        loader: DataLoader,  # dataloader with data\n",
    "        criterion: nn.Module,\n",
    "        attack_func,\n",
    "        attack_params,\n",
    "        device='cpu',\n",
    "        train_mode=False):  # params_dict with eps and iter number\n",
    "\n",
    "    model.train(train_mode)\n",
    "    req_grad(model, state=False)  # detach all model's parameters\n",
    "\n",
    "    all_y_true = torch.tensor([]) # logging y_true for rebuilding dataloader and calculation difference with preds\n",
    "    x_adv_tensor = torch.FloatTensor([])  # logging x_adv for rebuilding dataloader\n",
    "\n",
    "    for x, y_true in loader:\n",
    "        \n",
    "        all_y_true = torch.cat((all_y_true, y_true.cpu().detach()), dim=0)\n",
    "        x.grad = None\n",
    "        x.requires_grad = True\n",
    "\n",
    "        # prediction for original input\n",
    "        x = x.to(device, non_blocking=True)\n",
    "        y_true = y_true.to(device)\n",
    "\n",
    "        y_pred = model(x)\n",
    "\n",
    "        # attack for adv input\n",
    "        loss_val = criterion(y_pred, y_true.reshape(-1, 1))\n",
    "        x_adv = attack_fun(loss_val, x, **attack_params)\n",
    "        x_adv_tensor = torch.cat((x_adv_tensor, x_adv.cpu().detach()), dim=0)\n",
    "\n",
    "    return x_adv_tensor.detach(), all_y_true.detach()\n",
    "\n",
    "\n",
    "def prepare_disc_data(model, \n",
    "                      loader, \n",
    "                      dataset_class,\n",
    "                      X_tensor, \n",
    "                      criterion,\n",
    "                      attack_fun,\n",
    "                      attack_params, \n",
    "                      n_steps,\n",
    "                      device, \n",
    "                      batch_size,\n",
    "                      train_mode=True):\n",
    "    \n",
    "\n",
    "    X_adv, y_adv = attack_iterations_data(model, loader, dataset_class, criterion, attack_fun, attack_params,\n",
    "                                          n_steps, device, batch_size, train_mode=train_mode)\n",
    "    \n",
    "    \n",
    "    disc_labels_zeros = torch.zeros((len(X_tensor), 1)) #True label class\n",
    "    disc_labels_ones = torch.ones(y_adv.shape) #True label class\n",
    "    \n",
    "    new_x = torch.concat([X_tensor, X_adv], dim=0)\n",
    "    new_y = torch.concat([disc_labels_zeros, disc_labels_ones], dim=0)\n",
    "    \n",
    "    disc_loader = DataLoader(dataset_class(new_x, new_y), batch_size=BS, shuffle=True)\n",
    "    \n",
    "    return disc_loader"
   ]
  },
  {
   "cell_type": "code",
   "execution_count": 17,
   "metadata": {},
   "outputs": [
    {
     "ename": "SyntaxError",
     "evalue": "invalid syntax (<ipython-input-17-9244b749d221>, line 17)",
     "output_type": "error",
     "traceback": [
      "\u001b[0;36m  File \u001b[0;32m\"<ipython-input-17-9244b749d221>\"\u001b[0;36m, line \u001b[0;32m17\u001b[0m\n\u001b[0;31m    if 'alpha' in\u001b[0m\n\u001b[0m                  ^\u001b[0m\n\u001b[0;31mSyntaxError\u001b[0m\u001b[0;31m:\u001b[0m invalid syntax\n"
     ]
    }
   ],
   "source": [
    "class HideAttackExp:\n",
    "    def __init__(self, attack_model, train_loader, test_loader, attack_train_params, \n",
    "                 attack_test_params, discriminator_model, disc_train_params, multiclass=False):\n",
    "        \n",
    "        self.attack_loaders = {'train': train_loader,\n",
    "                       'test': test_loader}\n",
    "        self.attack_train = {'train':IterGradAttack(attack_model, train_loader, **attack_train_params),\n",
    "                             'test': IterGradAttack(attack_model, test_loader, **attack_test_params)}\n",
    "        self.disc_loaders = dict()\n",
    "        \n",
    "        self.attack_train_params = attack_train_params\n",
    "        self.attack_test_params = attack_test_params\n",
    "        \n",
    "        #TO DO\n",
    "        self.eps = attack_train_params\n",
    "        self.alpha = None\n",
    "        if 'alpha' in \n",
    "        self.n_iters = n_iters\n",
    "        self.multiclass = multiclass\n",
    "        \n",
    "        self.attack_model = attack_model\n",
    "        self.disc_model = discriminator_model\n",
    "        \n",
    "        self.disc_criterion = torch.nn.BCELoss()\n",
    "        self_disc_n_epoch = disc_train_params['n_epoch']\n",
    "        self.disc_batch_size = 64\n",
    "        self.disc_optimizer = disc_train_params['optimizer']\n",
    "        if 'scheduler' in disc_train_params.keys():\n",
    "            self.disc_scheduler = disc_train_params['scheduler']\n",
    "        else:\n",
    "            self.disc_scheduler = None\n",
    "\n",
    "        self.attack_device = next(classic_model.parameters()).device\n",
    "        self.disc_device = next(discriminator_model.parameters()).device\n",
    "    \n",
    "    def _generate_adv_data(self, mode='train', batch_size=64):\n",
    "        \n",
    "        self.disc_batch_size = batch_size\n",
    "\n",
    "        X_adv, y_adv = self.attack_train[mode].run_iterations()\n",
    "        X_orig = self.loaders[mode].dataset.X\n",
    "    \n",
    "        disc_labels_zeros = torch.zeros((len(X_orig), 1)) #True label class\n",
    "        disc_labels_ones = torch.ones(y_adv.shape) #True label class\n",
    "\n",
    "        new_x = torch.concat([X_orig, X_adv], dim=0)\n",
    "        new_y = torch.concat([disc_labels_zeros, disc_labels_ones], dim=0)\n",
    "\n",
    "        suffle_status = mode == 'train'\n",
    "        disc_loader = DataLoader(dataset_class(new_x, new_y), batch_size=batch_size, shuffle=suffle_status)\n",
    "        self.disc_loaders[mode] = disc_loader\n",
    "        return disc_loader\n",
    "    \n",
    "    def get_disc_dataloaders(self):\n",
    "        self._generate_adv_data('train')\n",
    "        self._generate_adv_data('test')\n",
    "        \n",
    "    def _logging_train_disc(self, data, mode='train'):\n",
    "        \n",
    "        for metric in self.dict_logging[mode].keys():\n",
    "            self.dict_logging[mode][metric].append(data[metric])\n",
    "    \n",
    "    def train_discriminator(self):\n",
    "        metric_names = ['loss', 'accuracy', 'precision', 'recall', 'f1', 'balance']\n",
    "        self.dict_logging = {'train': {metric:[] for metric in metric_names},\n",
    "                       'test': {metric:[] for metric in metric_names}}\n",
    "\n",
    "        for epoch in tqdm(range(self.disc_num_epochs)):\n",
    "            train_metrics_epoch = self._train_step()\n",
    "            train_metrics_epoch = {met_name:met_val for met_name, met_val\n",
    "                                   in zip(metric_names, train_metrics_epoch)}\n",
    "            self._logging_train_disc(train_metrics_epoch, mode='train')\n",
    "            \n",
    "            test_metrics_epoch = self._valid_step() \n",
    "            test_metrics_epoch = {met_name:met_val for met_name, met_val \n",
    "                       in zip(metric_names, test_metrics_epoch)}\n",
    "            self._logging_train_disc(test_metrics_epoch, mode='test')\n",
    "            \n",
    "    \n",
    "    def _train_step(self):\n",
    "        losses, n_batches = 0, 0\n",
    "        \n",
    "        y_all_pred = torch.tensor([])\n",
    "        y_all_true = torch.tensor([])\n",
    "        \n",
    "        model.train(True)\n",
    "        for x, labels in self.disc_loaders['train']:\n",
    "\n",
    "            self.disc_optimizer.zero_grad()\n",
    "            x = x.to(self.disc_device)\n",
    "            labels = labels.reshape(-1, 1).to(self.disc_device)\n",
    "\n",
    "            y_out = self.disc_model(x)\n",
    "            \n",
    "            loss = self.disc_criterion(y_out, labels) \n",
    "\n",
    "            loss.backward()     \n",
    "            self.disc_optimizer.step()\n",
    "            losses += loss\n",
    "            n_batches += 1\n",
    "            \n",
    "            if multiclass:\n",
    "                y_pred = torch.argmax(y_pred, axis=1)\n",
    "            else:\n",
    "                y_pred = torch.round(y_pred)\n",
    "\n",
    "            y_all_true = torch.cat((y_all_true, y_true.cpu().detach()), dim=0)\n",
    "            y_all_pred = torch.cat((y_all_pred, y_pred.cpu().detach()), dim=0)\n",
    "\n",
    "        mean_loss = losses / n_batches\n",
    "\n",
    "        if self.disc_scheduler:\n",
    "            self.disc_scheduler.step()\n",
    "            \n",
    "        y_all_pred = y_all_pred.numpy().reshape([-1, 1])\n",
    "        y_all_true = y_all_true.numpy().reshape([-1, 1])\n",
    "\n",
    "        acc, pr, rec, f1 = self.calculate_metrics(y_all_true, y_all_pred)\n",
    "        balance = np.sum(y_all_pred) / len(y_all_pred)\n",
    "        return mean_loss, acc, pr, rec, f1, balance\n",
    "\n",
    "\n",
    "    def _valid_step(self):\n",
    "        \n",
    "        y_all_pred = torch.tensor([])\n",
    "        y_all_true = torch.tensor([])\n",
    "        \n",
    "        losses, n_batches = 0, 0\n",
    "        model.eval()    \n",
    "        for x, labels in self.disc_loaders['test']:\n",
    "            with torch.no_grad():\n",
    "                x = x.to(self.disc_device)\n",
    "                labels = labels.reshape(-1, 1).to(self.disc_device)\n",
    "\n",
    "                y_out = self.disc_model(x)\n",
    "                loss = self.disc_criterion(y_out, labels)\n",
    "                losses += loss\n",
    "\n",
    "                n_batches += 1\n",
    "\n",
    "        mean_loss = losses / n_batches\n",
    "        \n",
    "        y_all_pred = y_all_pred.numpy().reshape([-1, 1])\n",
    "        y_all_true = y_all_true.numpy().reshape([-1, 1])\n",
    "\n",
    "        acc, pr, rec, f1 = self.calculate_metrics(y_all_true, y_all_pred)\n",
    "        balance = np.sum(y_all_pred) / len(y_all_pred)\n",
    "        return mean_loss, acc, pr, rec, f1, balance\n",
    "\n",
    "\n",
    "    def calculate_metrics(y_true, y_pred):\n",
    "        acc = accuracy_score(y_true, y_pred)\n",
    "        pr = precision_score(y_true, y_pred)\n",
    "        rec = recall_score(y_true, y_pred)\n",
    "        f1 = f1_score(y_true, y_pred)\n",
    "        return acc, pr, rec, f1\n"
   ]
  },
  {
   "cell_type": "code",
   "execution_count": 18,
   "metadata": {},
   "outputs": [
    {
     "data": {
      "text/plain": [
       "<All keys matched successfully>"
      ]
     },
     "execution_count": 18,
     "metadata": {},
     "output_type": "execute_result"
    }
   ],
   "source": [
    "# attack model loading\n",
    "model_id = 0\n",
    "path_to_saves = 'checkpoints/Ford_A/'\n",
    "\n",
    "HIDDEN_DIM = 50\n",
    "OUTPUT_DIM = 1\n",
    "N_LAYERS = 1\n",
    "DROPOUT = 0.0\n",
    "\n",
    "device= torch.device('cuda:2' if torch.cuda.is_available() else 'cpu')\n",
    "\n",
    "attack_model = LSTM_net(HIDDEN_DIM, N_LAYERS, OUTPUT_DIM, DROPOUT).to(device)\n",
    "model_path = path_to_saves + f'model_{model_id}_{col}.pth'\n",
    "attack_model.load_state_dict(copy.deepcopy(torch.load(model_path)))"
   ]
  },
  {
   "cell_type": "code",
   "execution_count": null,
   "metadata": {},
   "outputs": [],
   "source": [
    "attack_train_params = {'attack_func':fgsm_attack, \n",
    "                     'attack_params':{'eps':0.03}, \n",
    "                     'criterion':torch.nn.BCELoss(), \n",
    "                     'n_steps':10}\n",
    "attack_test_params = attack_train_params\n",
    "\n",
    "\n",
    "\n",
    "experiment = HideAttackExp(attack_model, train_loader, test_loader, attack_train_params, \n",
    "                           attack_test_params, discriminator_model, disc_train_params):"
   ]
  },
  {
   "cell_type": "code",
   "execution_count": 20,
   "metadata": {},
   "outputs": [],
   "source": [
    "# old"
   ]
  },
  {
   "cell_type": "code",
   "execution_count": 19,
   "metadata": {},
   "outputs": [
    {
     "ename": "TypeError",
     "evalue": "attack_iterations_data() got multiple values for argument 'train_mode'",
     "output_type": "error",
     "traceback": [
      "\u001b[0;31m---------------------------------------------------------------------------\u001b[0m",
      "\u001b[0;31mTypeError\u001b[0m                                 Traceback (most recent call last)",
      "\u001b[0;32m<ipython-input-19-e49734635b35>\u001b[0m in \u001b[0;36m<module>\u001b[0;34m\u001b[0m\n\u001b[1;32m     30\u001b[0m \u001b[0mmodel\u001b[0m\u001b[0;34m.\u001b[0m\u001b[0mload_state_dict\u001b[0m\u001b[0;34m(\u001b[0m\u001b[0mcopy\u001b[0m\u001b[0;34m.\u001b[0m\u001b[0mdeepcopy\u001b[0m\u001b[0;34m(\u001b[0m\u001b[0mtorch\u001b[0m\u001b[0;34m.\u001b[0m\u001b[0mload\u001b[0m\u001b[0;34m(\u001b[0m\u001b[0mmodel_path\u001b[0m\u001b[0;34m)\u001b[0m\u001b[0;34m)\u001b[0m\u001b[0;34m)\u001b[0m\u001b[0;34m\u001b[0m\u001b[0;34m\u001b[0m\u001b[0m\n\u001b[1;32m     31\u001b[0m \u001b[0;34m\u001b[0m\u001b[0m\n\u001b[0;32m---> 32\u001b[0;31m train_disc_loader = prepare_disc_data(model, train_loader, dataset, X_train_tensor, criterion, \n\u001b[0m\u001b[1;32m     33\u001b[0m                                       \u001b[0mattack_fun\u001b[0m\u001b[0;34m,\u001b[0m \u001b[0mattack_params\u001b[0m\u001b[0;34m,\u001b[0m \u001b[0mn_steps\u001b[0m\u001b[0;34m=\u001b[0m\u001b[0mn_steps\u001b[0m\u001b[0;34m,\u001b[0m \u001b[0mdevice\u001b[0m\u001b[0;34m=\u001b[0m\u001b[0mdevice\u001b[0m\u001b[0;34m,\u001b[0m\u001b[0;34m\u001b[0m\u001b[0;34m\u001b[0m\u001b[0m\n\u001b[1;32m     34\u001b[0m                                       batch_size=batch_size, train_mode=train_mode)\n",
      "\u001b[0;32m<ipython-input-16-9931abf2f09e>\u001b[0m in \u001b[0;36mprepare_disc_data\u001b[0;34m(model, loader, dataset_class, X_tensor, criterion, attack_fun, attack_params, n_steps, device, batch_size, train_mode)\u001b[0m\n\u001b[1;32m    166\u001b[0m \u001b[0;34m\u001b[0m\u001b[0m\n\u001b[1;32m    167\u001b[0m \u001b[0;34m\u001b[0m\u001b[0m\n\u001b[0;32m--> 168\u001b[0;31m     X_adv, y_adv = attack_iterations_data(model, loader, dataset_class, criterion, attack_fun, attack_params,\n\u001b[0m\u001b[1;32m    169\u001b[0m                                           n_steps, device, batch_size, train_mode=train_mode)\n\u001b[1;32m    170\u001b[0m \u001b[0;34m\u001b[0m\u001b[0m\n",
      "\u001b[0;31mTypeError\u001b[0m: attack_iterations_data() got multiple values for argument 'train_mode'"
     ]
    }
   ],
   "source": [
    "eps = 0.03\n",
    "alpha = 0.001 \n",
    "\n",
    "n_steps = 1\n",
    "\n",
    "dataset = MyDataset\n",
    "criterion = torch.nn.BCELoss()\n",
    "batch_size = 256\n",
    "n_objects = y_train.shape[0]\n",
    "device= torch.device('cuda:2' if torch.cuda.is_available() else 'cpu')\n",
    "train_mode=True\n",
    "\n",
    "HIDDEN_DIM = 50\n",
    "OUTPUT_DIM = 1\n",
    "N_LAYERS = 1\n",
    "DROPOUT = 0.0\n",
    "\n",
    "attack_fun = fgsm_attack\n",
    "attack_params = {'eps':eps}\n",
    "\n",
    "attack_fun_test = fgsm_attack\n",
    "attack_params_test = {'eps':eps}\n",
    "\n",
    "model_id = 0\n",
    "    \n",
    "path_to_saves = 'checkpoints/Ford_A/'\n",
    "\n",
    "model = LSTM_net(HIDDEN_DIM, N_LAYERS, OUTPUT_DIM, DROPOUT).to(device)\n",
    "model_path = path_to_saves + f'model_{model_id}_{col}.pth'\n",
    "model.load_state_dict(copy.deepcopy(torch.load(model_path)))\n",
    "\n",
    "train_disc_loader = prepare_disc_data(model, train_loader, dataset, X_train_tensor, criterion, \n",
    "                                      attack_fun, attack_params, n_steps=n_steps, device=device, \n",
    "                                      batch_size=batch_size, train_mode=train_mode)\n",
    "\n",
    "test_disc_loader = prepare_disc_data(model, test_loader, dataset, X_test_tensor, criterion, \n",
    "                                     attack_fun_test, attack_params_test, n_steps=n_steps, device=device, \n",
    "                                     batch_size=batch_size, train_mode=train_mode)\n",
    "    "
   ]
  },
  {
   "cell_type": "code",
   "execution_count": 158,
   "metadata": {},
   "outputs": [
    {
     "data": {
      "application/vnd.jupyter.widget-view+json": {
       "model_id": "8dc8371e2a784a4ca5d6b8462a8860cf",
       "version_major": 2,
       "version_minor": 0
      },
      "text/plain": [
       "  0%|          | 0/1 [00:00<?, ?it/s]"
      ]
     },
     "metadata": {},
     "output_type": "display_data"
    },
    {
     "data": {
      "application/vnd.jupyter.widget-view+json": {
       "model_id": "862423d2adc5427aae812b8e29732a2d",
       "version_major": 2,
       "version_minor": 0
      },
      "text/plain": [
       "  0%|          | 0/1 [00:00<?, ?it/s]"
      ]
     },
     "metadata": {},
     "output_type": "display_data"
    }
   ],
   "source": [
    "attack_fun = fgsm_reg_attack\n",
    "attack_params = {'eps':eps, 'alpha':alpha}\n",
    "\n",
    "attack_fun_test = fgsm_reg_attack\n",
    "attack_params_test = {'eps':eps, 'alpha':alpha}\n",
    "\n",
    "\n",
    "path_to_saves = 'checkpoints/Ford_A/'\n",
    "\n",
    "model = LSTM_net(HIDDEN_DIM, N_LAYERS, OUTPUT_DIM, DROPOUT).to(device)\n",
    "model_path = path_to_saves + f'model_{model_id}_{col}.pth'\n",
    "model.load_state_dict(copy.deepcopy(torch.load(model_path)))\n",
    "\n",
    "train_disc_loader_reg = prepare_disc_data(model, train_loader, dataset, X_train_tensor, criterion, \n",
    "                                      attack_fun, attack_params, n_steps=n_steps, device=device, \n",
    "                                      batch_size=batch_size, train_mode=train_mode)\n",
    "\n",
    "test_disc_loader_reg = prepare_disc_data(model, test_loader, dataset, X_test_tensor, criterion, \n",
    "                                     attack_fun_test, attack_params_test, n_steps=n_steps, device=device, \n",
    "                                     batch_size=batch_size, train_mode=train_mode)"
   ]
  },
  {
   "cell_type": "code",
   "execution_count": 159,
   "metadata": {},
   "outputs": [],
   "source": [
    "# params for training\n",
    "\n",
    "model_id = 0\n",
    "torch.manual_seed(model_id)\n",
    "\n",
    "device= torch.device('cuda:2' if torch.cuda.is_available() else 'cpu')\n",
    "#device = 'cpu'\n",
    "\n",
    "num_epochs = 20\n",
    "LR = 0.001\n",
    "step_lr = 12\n",
    "\n",
    "HIDDEN_DIM = 50\n",
    "OUTPUT_DIM = 1\n",
    "N_LAYERS = 1\n",
    "DROPOUT = 0.3"
   ]
  },
  {
   "cell_type": "code",
   "execution_count": 160,
   "metadata": {},
   "outputs": [],
   "source": [
    "def train_procedure_log(model, train_loader, test_loader, criterion, optimizer, scheduler=None,\n",
    "                   num_epochs=30, step_print=5):\n",
    "    \n",
    "    dict_logging = {'test_acc':[], 'test_f1':[]}\n",
    "    \n",
    "    for epoch in tqdm(range(num_epochs)):\n",
    "        train_loss = train_step(model, train_loader, criterion, device, optimizer, scheduler)\n",
    "        test_loss = valid_step(model, test_loader, criterion, device) \n",
    "\n",
    "        acc_train, pr_train, rec_train, f1_train = estimate_epoch(train_loader, model, device=device)\n",
    "        acc_test, pr_test, rec_test, f1_test = estimate_epoch(test_loader, model, device=device)\n",
    "        \n",
    "        dict_logging['test_acc'].append(acc_test)\n",
    "        dict_logging['test_f1'].append(f1_test)\n",
    "\n",
    "        if epoch % step_print == 0:\n",
    "            print(f'[Epoch {epoch + 1}] train loss: {train_loss:.3f}; acc_train {acc_train:.3f}; f1_train {f1_train:.3f}; test loss: {test_loss:.3f}; acc_test {acc_test:.3f}; f1_test {f1_test:.3f};')\n",
    "            \n",
    "    return model, dict_logging"
   ]
  },
  {
   "cell_type": "code",
   "execution_count": null,
   "metadata": {},
   "outputs": [
    {
     "data": {
      "application/vnd.jupyter.widget-view+json": {
       "model_id": "09220772a56948759d4cb0be291bee7e",
       "version_major": 2,
       "version_minor": 0
      },
      "text/plain": [
       "  0%|          | 0/5 [00:00<?, ?it/s]"
      ]
     },
     "metadata": {},
     "output_type": "display_data"
    },
    {
     "data": {
      "application/vnd.jupyter.widget-view+json": {
       "model_id": "8c767f7874b94441bc25fb43738e07f8",
       "version_major": 2,
       "version_minor": 0
      },
      "text/plain": [
       "  0%|          | 0/20 [00:00<?, ?it/s]"
      ]
     },
     "metadata": {},
     "output_type": "display_data"
    },
    {
     "name": "stdout",
     "output_type": "stream",
     "text": [
      "[Epoch 1] train loss: 0.693; acc_train 0.500; f1_train 0.667; test loss: 0.693; acc_test 0.500; f1_test 0.667;\n"
     ]
    },
    {
     "data": {
      "application/vnd.jupyter.widget-view+json": {
       "model_id": "b29f02fd3cd242d89543c365adc26db8",
       "version_major": 2,
       "version_minor": 0
      },
      "text/plain": [
       "  0%|          | 0/20 [00:00<?, ?it/s]"
      ]
     },
     "metadata": {},
     "output_type": "display_data"
    },
    {
     "name": "stdout",
     "output_type": "stream",
     "text": [
      "[Epoch 1] train loss: 0.693; acc_train 0.500; f1_train 0.667; test loss: 0.693; acc_test 0.500; f1_test 0.667;\n"
     ]
    },
    {
     "data": {
      "application/vnd.jupyter.widget-view+json": {
       "model_id": "028ed0d4ba8a4d35831b74fa19a9bbb1",
       "version_major": 2,
       "version_minor": 0
      },
      "text/plain": [
       "  0%|          | 0/20 [00:00<?, ?it/s]"
      ]
     },
     "metadata": {},
     "output_type": "display_data"
    },
    {
     "name": "stdout",
     "output_type": "stream",
     "text": [
      "[Epoch 1] train loss: 0.694; acc_train 0.500; f1_train 0.664; test loss: 0.693; acc_test 0.500; f1_test 0.664;\n"
     ]
    },
    {
     "data": {
      "application/vnd.jupyter.widget-view+json": {
       "model_id": "28bf6fdc0bdc442482662037d4163708",
       "version_major": 2,
       "version_minor": 0
      },
      "text/plain": [
       "  0%|          | 0/20 [00:00<?, ?it/s]"
      ]
     },
     "metadata": {},
     "output_type": "display_data"
    },
    {
     "name": "stdout",
     "output_type": "stream",
     "text": [
      "[Epoch 1] train loss: 0.693; acc_train 0.500; f1_train 0.418; test loss: 0.693; acc_test 0.500; f1_test 0.410;\n"
     ]
    }
   ],
   "source": [
    "dict_metr_all_orig = dict()\n",
    "\n",
    "for model_id in tqdm(range(5)):\n",
    "    torch.manual_seed(model_id)\n",
    "\n",
    "    model = LSTM_net(HIDDEN_DIM, N_LAYERS, OUTPUT_DIM, DROPOUT).to(device)\n",
    "\n",
    "    criterion = torch.nn.BCELoss()\n",
    "    optimizer = torch.optim.Adam(model.parameters(), lr=LR)\n",
    "    scheduler = torch.optim.lr_scheduler.StepLR(optimizer, step_lr, gamma=0.1)\n",
    "\n",
    "    model, dict_metrics_orig = train_procedure_log(model, train_disc_loader, test_disc_loader, \n",
    "                             criterion, optimizer, num_epochs=num_epochs, step_print=20)\n",
    "    \n",
    "    dict_metr_all_orig[model_id] = dict_metrics_orig"
   ]
  },
  {
   "cell_type": "code",
   "execution_count": null,
   "metadata": {},
   "outputs": [],
   "source": [
    "dict_metr_all_reg = dict()\n",
    "\n",
    "for model_id in tqdm(range(5)):\n",
    "    torch.manual_seed(model_id)\n",
    "    \n",
    "    model = LSTM_net(HIDDEN_DIM, N_LAYERS, OUTPUT_DIM, DROPOUT).to(device)\n",
    "\n",
    "    criterion = torch.nn.BCELoss()\n",
    "    optimizer = torch.optim.Adam(model.parameters(), lr=LR)\n",
    "    scheduler = torch.optim.lr_scheduler.StepLR(optimizer, step_lr, gamma=0.1)\n",
    "\n",
    "    model, dict_metrics_reg = train_procedure_log(model, train_disc_loader_reg, test_disc_loader_reg, \n",
    "                             criterion, optimizer, num_epochs=num_epochs, step_print=20)\n",
    "    dict_metr_all_reg[model_id] = dict_metrics_reg\n",
    "## reg_params"
   ]
  },
  {
   "cell_type": "code",
   "execution_count": null,
   "metadata": {},
   "outputs": [],
   "source": [
    "# TO DO: графики для 5 экспериментов"
   ]
  },
  {
   "cell_type": "code",
   "execution_count": null,
   "metadata": {},
   "outputs": [],
   "source": [
    "metric_name = 'test_f1'\n",
    "\n",
    "plt.figure(figsize=(10, 7))\n",
    "\n",
    "metrics_diff_list = list()\n",
    "\n",
    "for model_id in range(5):\n",
    "    metric_orig = dict_metr_all_orig[model_id][metric_name]\n",
    "    metric_reg = dict_metr_all_reg[model_id][metric_name]\n",
    "    \n",
    "    iters = list(range(len(metric_reg)))\n",
    "    metric_diff = np.array(metric_orig) - np.array(metric_reg)\n",
    "    metrics_diff_list.append(metric_diff)\n",
    "    \n",
    "    plt.plot(iters, metric_diff, label=model_id)\n",
    "    \n",
    "    \n",
    "metrics_diff_mean = np.mean(np.array(metrics_diff_list), axis=0)\n",
    "plt.plot(iters, metrics_diff_mean, linewidth=2, linestyle='--', label='Mean')    \n",
    "\n",
    "plt.grid()\n",
    "plt.legend()\n",
    "plt.show()"
   ]
  },
  {
   "cell_type": "markdown",
   "metadata": {},
   "source": [
    "# Эксперимент с силой атаки"
   ]
  },
  {
   "cell_type": "code",
   "execution_count": null,
   "metadata": {},
   "outputs": [],
   "source": [
    "# to do одношаговая iFGSM\n",
    "# to do взять более сильную alpha"
   ]
  },
  {
   "cell_type": "code",
   "execution_count": null,
   "metadata": {},
   "outputs": [],
   "source": [
    "generation_params = {'dataset': MyDataset(),\n",
    "                     'criterion': torch.nn.BCELoss(),\n",
    "                     'train_loader': train_loader,\n",
    "                     'test_loader': train_loader,\n",
    "                     \n",
    "                     ''}\n",
    "\n",
    "attack_fun = {'train': fgsm_attack,\n",
    "             'test': fgsm_attack\n",
    "             }\n",
    "\n",
    "\n",
    "attack_params = {'train': {'eps': eps, 'n_steps': n_steps},\n",
    "                'test': {'eps': eps, 'n_steps': n_steps},\n",
    "                }\n",
    "\n",
    "def experiment_disc(attack_fun: Dict,\n",
    "               attack_params: Dict,\n",
    "                    loaders: Dict,\n",
    "               model_for_attack,\n",
    "               model_disc,\n",
    "               train_params):\n",
    "    \n",
    "    train_disc_loader = prepare_disc_data(model, train_loader, dataset, criterion, \n",
    "                                      attack_fun, attack_params, n_steps=n_steps, device=device, \n",
    "                                      batch_size=batch_size, train_mode=train_mode)\n",
    "\n",
    "    test_disc_loader = prepare_disc_data(model, test_loader, dataset, criterion, \n",
    "                                     attack_fun_test, attack_params_test, n_steps=n_steps, device=device, \n",
    "                                     batch_size=batch_size, train_mode=train_mode)\n",
    "    \n",
    "    "
   ]
  },
  {
   "cell_type": "code",
   "execution_count": null,
   "metadata": {},
   "outputs": [],
   "source": [
    "eps = 0.03\n",
    "alpha = 0.01 \n",
    "\n",
    "n_steps = 10\n",
    "\n",
    "dataset = MyDataset\n",
    "criterion = torch.nn.BCELoss()\n",
    "batch_size = 256\n",
    "n_objects = y_train.shape[0]\n",
    "device= torch.device('cuda:2' if torch.cuda.is_available() else 'cpu')\n",
    "train_mode=True\n",
    "\n",
    "HIDDEN_DIM = 50\n",
    "OUTPUT_DIM = 1\n",
    "N_LAYERS = 1\n",
    "DROPOUT = 0.0\n",
    "\n",
    "attack_fun = fgsm_attack\n",
    "attack_params = {'eps':eps}\n",
    "\n",
    "attack_fun_test = fgsm_attack\n",
    "attack_params_test = {'eps':eps}\n",
    "\n",
    "model_id = 0\n",
    "    \n",
    "path_to_saves = 'checkpoints/Ford_A/'\n",
    "\n",
    "model = LSTM_net(HIDDEN_DIM, N_LAYERS, OUTPUT_DIM, DROPOUT).to(device)\n",
    "model_path = path_to_saves + f'model_{model_id}_{col}.pth'\n",
    "model.load_state_dict(copy.deepcopy(torch.load(model_path)))\n",
    "\n",
    "train_disc_loader = prepare_disc_data(model, train_loader, dataset, X_train_tensor, criterion, \n",
    "                                      attack_fun, attack_params, n_steps=n_steps, device=device, \n",
    "                                      batch_size=batch_size, train_mode=train_mode)\n",
    "\n",
    "test_disc_loader = prepare_disc_data(model, test_loader, dataset, X_test_tensor, criterion, \n",
    "                                     attack_fun_test, attack_params_test, n_steps=n_steps, device=device, \n",
    "                                     batch_size=batch_size, train_mode=train_mode)\n",
    "    "
   ]
  }
 ],
 "metadata": {
  "kernelspec": {
   "display_name": "Python 3",
   "language": "python",
   "name": "python3"
  },
  "language_info": {
   "codemirror_mode": {
    "name": "ipython",
    "version": 3
   },
   "file_extension": ".py",
   "mimetype": "text/x-python",
   "name": "python",
   "nbconvert_exporter": "python",
   "pygments_lexer": "ipython3",
   "version": "3.8.5"
  }
 },
 "nbformat": 4,
 "nbformat_minor": 4
}
