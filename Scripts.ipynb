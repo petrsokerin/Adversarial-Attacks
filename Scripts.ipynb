{
 "cells": [
  {
   "attachments": {},
   "cell_type": "markdown",
   "metadata": {},
   "source": [
    "# imports"
   ]
  },
  {
   "cell_type": "code",
   "execution_count": 2,
   "metadata": {},
   "outputs": [],
   "source": [
    "import copy\n",
    "import warnings\n",
    "import pickle\n",
    "warnings.filterwarnings('ignore')\n",
    "import os\n",
    "\n",
    "import hydra\n",
    "from omegaconf import DictConfig\n",
    "\n",
    "from tqdm.auto import tqdm\n",
    "\n",
    "import matplotlib.pyplot as plt\n",
    "import torch\n",
    "from torch.utils.data import DataLoader\n",
    "\n",
    "from utils.data import load_Ford_A, transform_data, MyDataset\n",
    "from models.models import LSTM_net, TS2VecClassifier\n",
    "\n",
    "from utils.attacks import ifgsm_procedure\n",
    "from utils.utils import save_experiment, load_disc_model\n",
    "from utils.discrim_training import HideAttackExp\n",
    "from utils.config import get_attack, load_disc_config\n",
    "from utils.attacks import (fgsm_disc_attack, fgsm_attack, fgsm_reg_attack, \n",
    "simba_binary, simba_binary_reg, simba_binary_disc_reg)\n",
    "from utils.data import transform_data, MyDataset\n",
    "\n",
    "from utils.TS2Vec.datautils import load_UCR"
   ]
  },
  {
   "attachments": {},
   "cell_type": "markdown",
   "metadata": {},
   "source": [
    "# Data loading"
   ]
  },
  {
   "cell_type": "code",
   "execution_count": 11,
   "metadata": {},
   "outputs": [],
   "source": [
    "X_train, y_train, X_test, y_test = load_UCR('Strawberry')\n",
    "X_train = X_train.reshape(X_train.shape[0], X_train.shape[1])\n",
    "X_test = X_test.reshape(X_test.shape[0], X_test.shape[1])\n",
    "\n",
    "\n",
    "X_train, X_test, y_train, y_test = transform_data(X_train, X_test, y_train, y_test)"
   ]
  },
  {
   "cell_type": "code",
   "execution_count": 19,
   "metadata": {},
   "outputs": [],
   "source": [
    "bad_datasets = [\n",
    "        'AllGestureWiimoteX',\n",
    "        'AllGestureWiimoteY',\n",
    "        'AllGestureWiimoteZ',\n",
    "        'BME',\n",
    "        'Chinatown',\n",
    "        'Crop',\n",
    "        'EOGHorizontalSignal',\n",
    "        'EOGVerticalSignal',\n",
    "        'Fungi',\n",
    "        'GestureMidAirD1',\n",
    "        'GestureMidAirD2',\n",
    "        'GestureMidAirD3',\n",
    "        'GesturePebbleZ1',\n",
    "        'GesturePebbleZ2',\n",
    "        'GunPointAgeSpan',\n",
    "        'GunPointMaleVersusFemale',\n",
    "        'GunPointOldVersusYoung',\n",
    "        'HouseTwenty',\n",
    "        'InsectEPGRegularTrain',\n",
    "        'InsectEPGSmallTrain',\n",
    "        'MelbournePedestrian',\n",
    "        'PickupGestureWiimoteZ',\n",
    "        'PigAirwayPressure',\n",
    "        'PigArtPressure',\n",
    "        'PigCVP',\n",
    "        'PLAID',\n",
    "        'PowerCons',\n",
    "        'Rock',\n",
    "        'SemgHandGenderCh2',\n",
    "        'SemgHandMovementCh2',\n",
    "        'SemgHandSubjectCh2',\n",
    "        'ShakeGestureWiimoteZ',\n",
    "        'SmoothSubspace',\n",
    "        'UMD'\n",
    "    ]\n",
    "\n"
   ]
  },
  {
   "cell_type": "code",
   "execution_count": 24,
   "metadata": {},
   "outputs": [
    {
     "name": "stdout",
     "output_type": "stream",
     "text": [
      "PhalangesOutlinesCorrect 1800 858\n",
      "NonInvasiveFetalECGThorax1 1800 1965\n",
      "FordB 3636 810\n",
      "ElectricDevices 8926 7711\n",
      "FordA 3601 1320\n",
      "NonInvasiveFetalECGThorax2 1800 1965\n"
     ]
    }
   ],
   "source": [
    "all_datasets = os.listdir(f'data/TS2Vec/UCR')\n",
    "skip_list = ['Missing_value_and_variable_length_datasets_adjusted', 'UCRArchive_2018.zip', 'Descriptions',\n",
    "                'Multivariate2018_arff.zip', 'EigenWorms', 'Images']\n",
    "\n",
    "for dataset in all_datasets:\n",
    "    if dataset in bad_datasets or dataset in skip_list:\n",
    "        continue\n",
    "    X_train, y_train, X_test, y_test = load_UCR(dataset)\n",
    "    if len(X_train) > 1000:\n",
    "        print(dataset, len(X_train), len(X_test))"
   ]
  },
  {
   "cell_type": "code",
   "execution_count": 11,
   "metadata": {},
   "outputs": [
    {
     "data": {
      "text/plain": [
       "((28, 286), (28, 286), (28,))"
      ]
     },
     "execution_count": 11,
     "metadata": {},
     "output_type": "execute_result"
    }
   ],
   "source": [
    "X_train.shape, X_test.shape, y_train.shape"
   ]
  },
  {
   "cell_type": "code",
   "execution_count": 12,
   "metadata": {},
   "outputs": [
    {
     "data": {
      "text/plain": [
       "((3601, 500), (1320, 500), (3601,))"
      ]
     },
     "execution_count": 12,
     "metadata": {},
     "output_type": "execute_result"
    }
   ],
   "source": [
    "X_train, X_test, y_train, y_test = load_Ford_A()\n",
    "X_train.shape, X_test.shape, y_train.shape"
   ]
  },
  {
   "cell_type": "code",
   "execution_count": 5,
   "metadata": {},
   "outputs": [],
   "source": [
    "path = 'checkpoints/Coffee/model_1_Coffee_metrics.pickle'\n",
    "\n",
    "with open(path, 'rb') as f:\n",
    "    results_train = pickle.load(f)"
   ]
  },
  {
   "cell_type": "code",
   "execution_count": 11,
   "metadata": {},
   "outputs": [
    {
     "data": {
      "image/png": "[encoded data removed]",
      "text/plain": [
       "<Figure size 432x288 with 1 Axes>"
      ]
     },
     "metadata": {
      "needs_background": "light"
     },
     "output_type": "display_data"
    }
   ],
   "source": [
    "plt.plot(results_train['test']['f1'], label='f1')\n",
    "plt.plot(results_train['test']['accuracy'], label='accuracy')\n",
    "plt.plot(results_train['test']['balance'], label='balance')\n",
    "plt.grid()\n",
    "plt.show()"
   ]
  },
  {
   "attachments": {},
   "cell_type": "markdown",
   "metadata": {},
   "source": [
    "# resave ts2vec"
   ]
  },
  {
   "cell_type": "code",
   "execution_count": 3,
   "metadata": {},
   "outputs": [
    {
     "name": "stdout",
     "output_type": "stream",
     "text": [
      "checkpoints/TS2Vec/entire_model/UCR/FordA\n",
      "checkpoints/TS2Vec/entire_model/UCR/FordA\n",
      "checkpoints/TS2Vec/entire_model/UCR/FordA\n",
      "checkpoints/TS2Vec/entire_model/UCR/FordA\n",
      "checkpoints/TS2Vec/entire_model/UCR/FordA\n"
     ]
    }
   ],
   "source": [
    "#all_weights = sorted(os.listdir('checkpoints/TS2Vec/emb_models/UCR'))\n",
    "\n",
    "glob_dataset_name = 'UCR'\n",
    "dataset_name = 'FordA'\n",
    "adv = ''\n",
    "\n",
    "model = TS2VecClassifier()\n",
    "\n",
    "for model_id in range(5):\n",
    "    \n",
    "    path_emb = f'checkpoints/TS2Vec/emb_models{adv}/{glob_dataset_name}/{dataset_name}_{model_id}.pt'\n",
    "    path_head = f'checkpoints/TS2Vec/class_models{adv}/{glob_dataset_name}/{dataset_name}_{model_id}.pt'\n",
    "    path_save = f'checkpoints/TS2Vec/entire_model/{glob_dataset_name}/{dataset_name}/model_{model_id}_{dataset_name}.pth'\n",
    "\n",
    "    model.load_old(path_emb, path_head)\n",
    "\n",
    "    path = '/'.join(path_save.split('/')[:-1])\n",
    "    print(path)\n",
    "\n",
    "    if not os.path.isdir(path):\n",
    "        os.makedirs(path)\n",
    "    \n",
    "\n",
    "    model.save(path_save)\n"
   ]
  },
  {
   "attachments": {},
   "cell_type": "markdown",
   "metadata": {},
   "source": [
    "# check ts2vec metrics"
   ]
  },
  {
   "cell_type": "code",
   "execution_count": 2,
   "metadata": {},
   "outputs": [],
   "source": [
    "import os\n",
    "\n",
    "import numpy as np\n",
    "import torch\n",
    "\n",
    "from utils.TS2Vec.datautils import load_UCR\n",
    "from models.models import  TS2VecClassifier\n",
    "from utils.data import transform_data, MyDataset"
   ]
  },
  {
   "cell_type": "code",
   "execution_count": 3,
   "metadata": {},
   "outputs": [
    {
     "name": "stdout",
     "output_type": "stream",
     "text": [
      "(1320, 500, 1)\n",
      "(1320, 500)\n",
      "torch.Size([1320, 500]) torch.Size([1320])\n"
     ]
    },
    {
     "ename": "OutOfMemoryError",
     "evalue": "CUDA out of memory. Tried to allocate 20.00 MiB (GPU 2; 15.78 GiB total capacity; 1.18 MiB already allocated; 3.00 MiB free; 2.00 MiB reserved in total by PyTorch) If reserved memory is >> allocated memory try setting max_split_size_mb to avoid fragmentation.  See documentation for Memory Management and PYTORCH_CUDA_ALLOC_CONF",
     "output_type": "error",
     "traceback": [
      "\u001b[0;31m---------------------------------------------------------------------------\u001b[0m",
      "\u001b[0;31mOutOfMemoryError\u001b[0m                          Traceback (most recent call last)",
      "\u001b[0;32m<ipython-input-3-6717654a3f0c>\u001b[0m in \u001b[0;36m<module>\u001b[0;34m\u001b[0m\n\u001b[1;32m     31\u001b[0m \u001b[0mdisc_model\u001b[0m \u001b[0;34m=\u001b[0m \u001b[0mTS2VecClassifier\u001b[0m\u001b[0;34m(\u001b[0m\u001b[0mdropout\u001b[0m\u001b[0;34m=\u001b[0m\u001b[0;36m0.0\u001b[0m\u001b[0;34m,\u001b[0m \u001b[0mn_layers\u001b[0m\u001b[0;34m=\u001b[0m\u001b[0;36m2\u001b[0m\u001b[0;34m)\u001b[0m\u001b[0;34m\u001b[0m\u001b[0;34m\u001b[0m\u001b[0m\n\u001b[1;32m     32\u001b[0m \u001b[0mpath_save\u001b[0m \u001b[0;34m=\u001b[0m \u001b[0;34mf'results/{dataset_name}/IFGSM/Discriminator_pickle/{disc_model_name}/{model_id}.pt'\u001b[0m\u001b[0;34m\u001b[0m\u001b[0;34m\u001b[0m\u001b[0m\n\u001b[0;32m---> 33\u001b[0;31m \u001b[0mdisc_model\u001b[0m\u001b[0;34m.\u001b[0m\u001b[0mload\u001b[0m\u001b[0;34m(\u001b[0m\u001b[0mpath_save\u001b[0m\u001b[0;34m)\u001b[0m\u001b[0;34m\u001b[0m\u001b[0;34m\u001b[0m\u001b[0m\n\u001b[0m\u001b[1;32m     34\u001b[0m \u001b[0mdisc_model\u001b[0m \u001b[0;34m=\u001b[0m \u001b[0mdisc_model\u001b[0m\u001b[0;34m.\u001b[0m\u001b[0meval\u001b[0m\u001b[0;34m(\u001b[0m\u001b[0;34m)\u001b[0m\u001b[0;34m\u001b[0m\u001b[0;34m\u001b[0m\u001b[0m\n\u001b[1;32m     35\u001b[0m \u001b[0;34m\u001b[0m\u001b[0m\n",
      "\u001b[0;32m~/AA/Package/models/models.py\u001b[0m in \u001b[0;36mload\u001b[0;34m(self, path)\u001b[0m\n\u001b[1;32m    134\u001b[0m \u001b[0;34m\u001b[0m\u001b[0m\n\u001b[1;32m    135\u001b[0m     \u001b[0;32mdef\u001b[0m \u001b[0mload\u001b[0m\u001b[0;34m(\u001b[0m\u001b[0mself\u001b[0m\u001b[0;34m,\u001b[0m \u001b[0mpath\u001b[0m\u001b[0;34m)\u001b[0m\u001b[0;34m:\u001b[0m\u001b[0;34m\u001b[0m\u001b[0;34m\u001b[0m\u001b[0m\n\u001b[0;32m--> 136\u001b[0;31m         \u001b[0mself\u001b[0m\u001b[0;34m.\u001b[0m\u001b[0mload_state_dict\u001b[0m\u001b[0;34m(\u001b[0m\u001b[0mtorch\u001b[0m\u001b[0;34m.\u001b[0m\u001b[0mload\u001b[0m\u001b[0;34m(\u001b[0m\u001b[0mpath\u001b[0m\u001b[0;34m)\u001b[0m\u001b[0;34m)\u001b[0m\u001b[0;34m\u001b[0m\u001b[0;34m\u001b[0m\u001b[0m\n\u001b[0m\u001b[1;32m    137\u001b[0m \u001b[0;34m\u001b[0m\u001b[0m\n\u001b[1;32m    138\u001b[0m \u001b[0;34m\u001b[0m\u001b[0m\n",
      "\u001b[0;32m~/.local/lib/python3.8/site-packages/torch/serialization.py\u001b[0m in \u001b[0;36mload\u001b[0;34m(f, map_location, pickle_module, weights_only, **pickle_load_args)\u001b[0m\n\u001b[1;32m    787\u001b[0m                     \u001b[0;32mexcept\u001b[0m \u001b[0mRuntimeError\u001b[0m \u001b[0;32mas\u001b[0m \u001b[0me\u001b[0m\u001b[0;34m:\u001b[0m\u001b[0;34m\u001b[0m\u001b[0;34m\u001b[0m\u001b[0m\n\u001b[1;32m    788\u001b[0m                         \u001b[0;32mraise\u001b[0m \u001b[0mpickle\u001b[0m\u001b[0;34m.\u001b[0m\u001b[0mUnpicklingError\u001b[0m\u001b[0;34m(\u001b[0m\u001b[0mUNSAFE_MESSAGE\u001b[0m \u001b[0;34m+\u001b[0m \u001b[0mstr\u001b[0m\u001b[0;34m(\u001b[0m\u001b[0me\u001b[0m\u001b[0;34m)\u001b[0m\u001b[0;34m)\u001b[0m \u001b[0;32mfrom\u001b[0m \u001b[0;32mNone\u001b[0m\u001b[0;34m\u001b[0m\u001b[0;34m\u001b[0m\u001b[0m\n\u001b[0;32m--> 789\u001b[0;31m                 \u001b[0;32mreturn\u001b[0m \u001b[0m_load\u001b[0m\u001b[0;34m(\u001b[0m\u001b[0mopened_zipfile\u001b[0m\u001b[0;34m,\u001b[0m \u001b[0mmap_location\u001b[0m\u001b[0;34m,\u001b[0m \u001b[0mpickle_module\u001b[0m\u001b[0;34m,\u001b[0m \u001b[0;34m**\u001b[0m\u001b[0mpickle_load_args\u001b[0m\u001b[0;34m)\u001b[0m\u001b[0;34m\u001b[0m\u001b[0;34m\u001b[0m\u001b[0m\n\u001b[0m\u001b[1;32m    790\u001b[0m         \u001b[0;32mif\u001b[0m \u001b[0mweights_only\u001b[0m\u001b[0;34m:\u001b[0m\u001b[0;34m\u001b[0m\u001b[0;34m\u001b[0m\u001b[0m\n\u001b[1;32m    791\u001b[0m             \u001b[0;32mtry\u001b[0m\u001b[0;34m:\u001b[0m\u001b[0;34m\u001b[0m\u001b[0;34m\u001b[0m\u001b[0m\n",
      "\u001b[0;32m~/.local/lib/python3.8/site-packages/torch/serialization.py\u001b[0m in \u001b[0;36m_load\u001b[0;34m(zip_file, map_location, pickle_module, pickle_file, **pickle_load_args)\u001b[0m\n\u001b[1;32m   1129\u001b[0m     \u001b[0munpickler\u001b[0m \u001b[0;34m=\u001b[0m \u001b[0mUnpicklerWrapper\u001b[0m\u001b[0;34m(\u001b[0m\u001b[0mdata_file\u001b[0m\u001b[0;34m,\u001b[0m \u001b[0;34m**\u001b[0m\u001b[0mpickle_load_args\u001b[0m\u001b[0;34m)\u001b[0m\u001b[0;34m\u001b[0m\u001b[0;34m\u001b[0m\u001b[0m\n\u001b[1;32m   1130\u001b[0m     \u001b[0munpickler\u001b[0m\u001b[0;34m.\u001b[0m\u001b[0mpersistent_load\u001b[0m \u001b[0;34m=\u001b[0m \u001b[0mpersistent_load\u001b[0m\u001b[0;34m\u001b[0m\u001b[0;34m\u001b[0m\u001b[0m\n\u001b[0;32m-> 1131\u001b[0;31m     \u001b[0mresult\u001b[0m \u001b[0;34m=\u001b[0m \u001b[0munpickler\u001b[0m\u001b[0;34m.\u001b[0m\u001b[0mload\u001b[0m\u001b[0;34m(\u001b[0m\u001b[0;34m)\u001b[0m\u001b[0;34m\u001b[0m\u001b[0;34m\u001b[0m\u001b[0m\n\u001b[0m\u001b[1;32m   1132\u001b[0m \u001b[0;34m\u001b[0m\u001b[0m\n\u001b[1;32m   1133\u001b[0m     \u001b[0mtorch\u001b[0m\u001b[0;34m.\u001b[0m\u001b[0m_utils\u001b[0m\u001b[0;34m.\u001b[0m\u001b[0m_validate_loaded_sparse_tensors\u001b[0m\u001b[0;34m(\u001b[0m\u001b[0;34m)\u001b[0m\u001b[0;34m\u001b[0m\u001b[0;34m\u001b[0m\u001b[0m\n",
      "\u001b[0;32m~/.local/lib/python3.8/site-packages/torch/serialization.py\u001b[0m in \u001b[0;36mpersistent_load\u001b[0;34m(saved_id)\u001b[0m\n\u001b[1;32m   1099\u001b[0m         \u001b[0;32mif\u001b[0m \u001b[0mkey\u001b[0m \u001b[0;32mnot\u001b[0m \u001b[0;32min\u001b[0m \u001b[0mloaded_storages\u001b[0m\u001b[0;34m:\u001b[0m\u001b[0;34m\u001b[0m\u001b[0;34m\u001b[0m\u001b[0m\n\u001b[1;32m   1100\u001b[0m             \u001b[0mnbytes\u001b[0m \u001b[0;34m=\u001b[0m \u001b[0mnumel\u001b[0m \u001b[0;34m*\u001b[0m \u001b[0mtorch\u001b[0m\u001b[0;34m.\u001b[0m\u001b[0m_utils\u001b[0m\u001b[0;34m.\u001b[0m\u001b[0m_element_size\u001b[0m\u001b[0;34m(\u001b[0m\u001b[0mdtype\u001b[0m\u001b[0;34m)\u001b[0m\u001b[0;34m\u001b[0m\u001b[0;34m\u001b[0m\u001b[0m\n\u001b[0;32m-> 1101\u001b[0;31m             \u001b[0mload_tensor\u001b[0m\u001b[0;34m(\u001b[0m\u001b[0mdtype\u001b[0m\u001b[0;34m,\u001b[0m \u001b[0mnbytes\u001b[0m\u001b[0;34m,\u001b[0m \u001b[0mkey\u001b[0m\u001b[0;34m,\u001b[0m \u001b[0m_maybe_decode_ascii\u001b[0m\u001b[0;34m(\u001b[0m\u001b[0mlocation\u001b[0m\u001b[0;34m)\u001b[0m\u001b[0;34m)\u001b[0m\u001b[0;34m\u001b[0m\u001b[0;34m\u001b[0m\u001b[0m\n\u001b[0m\u001b[1;32m   1102\u001b[0m \u001b[0;34m\u001b[0m\u001b[0m\n\u001b[1;32m   1103\u001b[0m         \u001b[0;32mreturn\u001b[0m \u001b[0mloaded_storages\u001b[0m\u001b[0;34m[\u001b[0m\u001b[0mkey\u001b[0m\u001b[0;34m]\u001b[0m\u001b[0;34m\u001b[0m\u001b[0;34m\u001b[0m\u001b[0m\n",
      "\u001b[0;32m~/.local/lib/python3.8/site-packages/torch/serialization.py\u001b[0m in \u001b[0;36mload_tensor\u001b[0;34m(dtype, numel, key, location)\u001b[0m\n\u001b[1;32m   1081\u001b[0m         \u001b[0;31m# stop wrapping with TypedStorage\u001b[0m\u001b[0;34m\u001b[0m\u001b[0;34m\u001b[0m\u001b[0;34m\u001b[0m\u001b[0m\n\u001b[1;32m   1082\u001b[0m         loaded_storages[key] = torch.storage.TypedStorage(\n\u001b[0;32m-> 1083\u001b[0;31m             \u001b[0mwrap_storage\u001b[0m\u001b[0;34m=\u001b[0m\u001b[0mrestore_location\u001b[0m\u001b[0;34m(\u001b[0m\u001b[0mstorage\u001b[0m\u001b[0;34m,\u001b[0m \u001b[0mlocation\u001b[0m\u001b[0;34m)\u001b[0m\u001b[0;34m,\u001b[0m\u001b[0;34m\u001b[0m\u001b[0;34m\u001b[0m\u001b[0m\n\u001b[0m\u001b[1;32m   1084\u001b[0m             dtype=dtype)\n\u001b[1;32m   1085\u001b[0m \u001b[0;34m\u001b[0m\u001b[0m\n",
      "\u001b[0;32m~/.local/lib/python3.8/site-packages/torch/serialization.py\u001b[0m in \u001b[0;36mdefault_restore_location\u001b[0;34m(storage, location)\u001b[0m\n\u001b[1;32m    213\u001b[0m \u001b[0;32mdef\u001b[0m \u001b[0mdefault_restore_location\u001b[0m\u001b[0;34m(\u001b[0m\u001b[0mstorage\u001b[0m\u001b[0;34m,\u001b[0m \u001b[0mlocation\u001b[0m\u001b[0;34m)\u001b[0m\u001b[0;34m:\u001b[0m\u001b[0;34m\u001b[0m\u001b[0;34m\u001b[0m\u001b[0m\n\u001b[1;32m    214\u001b[0m     \u001b[0;32mfor\u001b[0m \u001b[0m_\u001b[0m\u001b[0;34m,\u001b[0m \u001b[0m_\u001b[0m\u001b[0;34m,\u001b[0m \u001b[0mfn\u001b[0m \u001b[0;32min\u001b[0m \u001b[0m_package_registry\u001b[0m\u001b[0;34m:\u001b[0m\u001b[0;34m\u001b[0m\u001b[0;34m\u001b[0m\u001b[0m\n\u001b[0;32m--> 215\u001b[0;31m         \u001b[0mresult\u001b[0m \u001b[0;34m=\u001b[0m \u001b[0mfn\u001b[0m\u001b[0;34m(\u001b[0m\u001b[0mstorage\u001b[0m\u001b[0;34m,\u001b[0m \u001b[0mlocation\u001b[0m\u001b[0;34m)\u001b[0m\u001b[0;34m\u001b[0m\u001b[0;34m\u001b[0m\u001b[0m\n\u001b[0m\u001b[1;32m    216\u001b[0m         \u001b[0;32mif\u001b[0m \u001b[0mresult\u001b[0m \u001b[0;32mis\u001b[0m \u001b[0;32mnot\u001b[0m \u001b[0;32mNone\u001b[0m\u001b[0;34m:\u001b[0m\u001b[0;34m\u001b[0m\u001b[0;34m\u001b[0m\u001b[0m\n\u001b[1;32m    217\u001b[0m             \u001b[0;32mreturn\u001b[0m \u001b[0mresult\u001b[0m\u001b[0;34m\u001b[0m\u001b[0;34m\u001b[0m\u001b[0m\n",
      "\u001b[0;32m~/.local/lib/python3.8/site-packages/torch/serialization.py\u001b[0m in \u001b[0;36m_cuda_deserialize\u001b[0;34m(obj, location)\u001b[0m\n\u001b[1;32m    185\u001b[0m                 \u001b[0;32mreturn\u001b[0m \u001b[0mtorch\u001b[0m\u001b[0;34m.\u001b[0m\u001b[0mUntypedStorage\u001b[0m\u001b[0;34m(\u001b[0m\u001b[0mobj\u001b[0m\u001b[0;34m.\u001b[0m\u001b[0mnbytes\u001b[0m\u001b[0;34m(\u001b[0m\u001b[0;34m)\u001b[0m\u001b[0;34m,\u001b[0m \u001b[0mdevice\u001b[0m\u001b[0;34m=\u001b[0m\u001b[0mtorch\u001b[0m\u001b[0;34m.\u001b[0m\u001b[0mdevice\u001b[0m\u001b[0;34m(\u001b[0m\u001b[0mlocation\u001b[0m\u001b[0;34m)\u001b[0m\u001b[0;34m)\u001b[0m\u001b[0;34m\u001b[0m\u001b[0;34m\u001b[0m\u001b[0m\n\u001b[1;32m    186\u001b[0m         \u001b[0;32melse\u001b[0m\u001b[0;34m:\u001b[0m\u001b[0;34m\u001b[0m\u001b[0;34m\u001b[0m\u001b[0m\n\u001b[0;32m--> 187\u001b[0;31m             \u001b[0;32mreturn\u001b[0m \u001b[0mobj\u001b[0m\u001b[0;34m.\u001b[0m\u001b[0mcuda\u001b[0m\u001b[0;34m(\u001b[0m\u001b[0mdevice\u001b[0m\u001b[0;34m)\u001b[0m\u001b[0;34m\u001b[0m\u001b[0;34m\u001b[0m\u001b[0m\n\u001b[0m\u001b[1;32m    188\u001b[0m \u001b[0;34m\u001b[0m\u001b[0m\n\u001b[1;32m    189\u001b[0m \u001b[0;32mdef\u001b[0m \u001b[0m_mps_deserialize\u001b[0m\u001b[0;34m(\u001b[0m\u001b[0mobj\u001b[0m\u001b[0;34m,\u001b[0m \u001b[0mlocation\u001b[0m\u001b[0;34m)\u001b[0m\u001b[0;34m:\u001b[0m\u001b[0;34m\u001b[0m\u001b[0;34m\u001b[0m\u001b[0m\n",
      "\u001b[0;32m~/.local/lib/python3.8/site-packages/torch/_utils.py\u001b[0m in \u001b[0;36m_cuda\u001b[0;34m(self, device, non_blocking, **kwargs)\u001b[0m\n\u001b[1;32m     78\u001b[0m             \u001b[0;32mreturn\u001b[0m \u001b[0mnew_type\u001b[0m\u001b[0;34m(\u001b[0m\u001b[0mindices\u001b[0m\u001b[0;34m,\u001b[0m \u001b[0mvalues\u001b[0m\u001b[0;34m,\u001b[0m \u001b[0mself\u001b[0m\u001b[0;34m.\u001b[0m\u001b[0msize\u001b[0m\u001b[0;34m(\u001b[0m\u001b[0;34m)\u001b[0m\u001b[0;34m)\u001b[0m\u001b[0;34m\u001b[0m\u001b[0;34m\u001b[0m\u001b[0m\n\u001b[1;32m     79\u001b[0m         \u001b[0;32melse\u001b[0m\u001b[0;34m:\u001b[0m\u001b[0;34m\u001b[0m\u001b[0;34m\u001b[0m\u001b[0m\n\u001b[0;32m---> 80\u001b[0;31m             untyped_storage = torch.UntypedStorage(\n\u001b[0m\u001b[1;32m     81\u001b[0m                 \u001b[0mself\u001b[0m\u001b[0;34m.\u001b[0m\u001b[0msize\u001b[0m\u001b[0;34m(\u001b[0m\u001b[0;34m)\u001b[0m\u001b[0;34m,\u001b[0m \u001b[0mdevice\u001b[0m\u001b[0;34m=\u001b[0m\u001b[0mtorch\u001b[0m\u001b[0;34m.\u001b[0m\u001b[0mdevice\u001b[0m\u001b[0;34m(\u001b[0m\u001b[0;34m\"cuda\"\u001b[0m\u001b[0;34m)\u001b[0m\u001b[0;34m\u001b[0m\u001b[0;34m\u001b[0m\u001b[0m\n\u001b[1;32m     82\u001b[0m             )\n",
      "\u001b[0;31mOutOfMemoryError\u001b[0m: CUDA out of memory. Tried to allocate 20.00 MiB (GPU 2; 15.78 GiB total capacity; 1.18 MiB already allocated; 3.00 MiB free; 2.00 MiB reserved in total by PyTorch) If reserved memory is >> allocated memory try setting max_split_size_mb to avoid fragmentation.  See documentation for Memory Management and PYTORCH_CUDA_ALLOC_CONF"
     ]
    }
   ],
   "source": [
    "model_id = 1\n",
    "dataset_name = 'FordA'\n",
    "disc_model_name = 'fgsm_reg_attack_new_eps=0.13_alpha=0.0001_nsteps=10'\n",
    "glob_dataset_name = 'UCR'\n",
    "adv = ''\n",
    "\n",
    "X_train, y_train, X_test, y_test = load_UCR(dataset_name)\n",
    "\n",
    "print(X_test.shape)\n",
    "X_train = X_train.reshape(X_train.shape[0], X_train.shape[1])\n",
    "X_test = X_test.reshape(X_test.shape[0], X_test.shape[1])\n",
    "\n",
    "print(X_test.shape)\n",
    "\n",
    "X_train, X_test, y_train, y_test = transform_data(X_train, X_test, y_train, y_test, slice_data=False)\n",
    "\n",
    "# X_train = np.where(np.isnan(X_train), 0, X_train)\n",
    "# X_test = np.where(np.isnan(X_test), 0, X_test)\n",
    "\n",
    "# X_train, y_train = torch.from_numpy(X_train).to(torch.float), torch.from_numpy(y_train).to(torch.float)\n",
    "# X_test, y_test = torch.from_numpy(X_test).to(torch.float), torch.from_numpy(y_test).to(torch.float)\n",
    "\n",
    "print(X_test.shape, y_test.shape)\n",
    "\n",
    "model = TS2VecClassifier()\n",
    "path_save = f'checkpoints/TS2Vec/entire_model/{glob_dataset_name}/{dataset_name}/model_{model_id}_{dataset_name}.pth'\n",
    "model.load(path_save)\n",
    "model = model.eval()\n",
    "\n",
    "\n",
    "disc_model = TS2VecClassifier(dropout=0.0, n_layers=2)\n",
    "path_save = f'results/{dataset_name}/IFGSM/Discriminator_pickle/{disc_model_name}/{model_id}.pt'\n",
    "disc_model.load(path_save)\n",
    "disc_model = disc_model.eval()\n",
    "\n",
    "y_pred = disc_model(X_test.unsqueeze(-1))\n",
    "disc_prediction = torch.mean(y_pred.to(float).cpu())\n",
    "disc_prediction"
   ]
  },
  {
   "cell_type": "markdown",
   "metadata": {},
   "source": []
  },
  {
   "cell_type": "code",
   "execution_count": 19,
   "metadata": {},
   "outputs": [
    {
     "data": {
      "text/plain": [
       "tensor(0.9295, dtype=torch.float64)"
      ]
     },
     "execution_count": 19,
     "metadata": {},
     "output_type": "execute_result"
    }
   ],
   "source": [
    "y_pred = model(X_test.unsqueeze(-1))\n",
    "y_pred_real = (y_pred.flatten() > 0.5).to(int).cpu()\n",
    "\n",
    "acc = torch.mean((y_pred_real == y_test).to(float))\n",
    "acc"
   ]
  },
  {
   "cell_type": "code",
   "execution_count": 20,
   "metadata": {},
   "outputs": [
    {
     "data": {
      "text/plain": [
       "tensor(0.1055, dtype=torch.float64, grad_fn=<MeanBackward0>)"
      ]
     },
     "execution_count": 20,
     "metadata": {},
     "output_type": "execute_result"
    }
   ],
   "source": [
    "y_pred = disc_model(X_test.unsqueeze(-1))\n",
    "disc_prediction = torch.mean(y_pred.to(float).cpu())\n",
    "disc_prediction"
   ]
  },
  {
   "cell_type": "code",
   "execution_count": 11,
   "metadata": {},
   "outputs": [
    {
     "data": {
      "text/plain": [
       "tensor(0.8929, dtype=torch.float64)"
      ]
     },
     "execution_count": 11,
     "metadata": {},
     "output_type": "execute_result"
    }
   ],
   "source": [
    "y_pred = model(X_test.unsqueeze(-1))\n",
    "y_pred_real = (y_pred.flatten() > 0.5).to(int).cpu()\n",
    "acc = torch.mean((y_pred_real == y_test).to(float))\n",
    "acc"
   ]
  },
  {
   "cell_type": "code",
   "execution_count": 16,
   "metadata": {},
   "outputs": [
    {
     "data": {
      "text/plain": [
       "tensor(0.5000, dtype=torch.float64)"
      ]
     },
     "execution_count": 16,
     "metadata": {},
     "output_type": "execute_result"
    }
   ],
   "source": [
    "y_pred = model(X_train.unsqueeze(-1))\n",
    "y_pred_real = (y_pred > 0.5).to(int)\n",
    "\n",
    "acc = torch.mean((y_pred_real == y_train).to(float))\n",
    "acc"
   ]
  },
  {
   "attachments": {},
   "cell_type": "markdown",
   "metadata": {},
   "source": [
    "# Resave disc models"
   ]
  },
  {
   "cell_type": "code",
   "execution_count": 3,
   "metadata": {},
   "outputs": [
    {
     "data": {
      "application/vnd.jupyter.widget-view+json": {
       "model_id": "a7c5013aad8d4c3f95dd92a5f7fa040c",
       "version_major": 2,
       "version_minor": 0
      },
      "text/plain": [
       "  0%|          | 0/16 [00:00<?, ?it/s]"
      ]
     },
     "metadata": {},
     "output_type": "display_data"
    },
    {
     "name": "stdout",
     "output_type": "stream",
     "text": [
      "FAIL results/Ford_A/IFGSM/Discriminator_pickle/fgsm_attack_eps=0.005_nsteps=10 0.pt\n",
      "FAIL results/Ford_A/IFGSM/Discriminator_pickle/fgsm_attack_eps=0.005_nsteps=10 1.pt\n",
      "FAIL results/Ford_A/IFGSM/Discriminator_pickle/fgsm_attack_eps=0.005_nsteps=10 2.pt\n",
      "FAIL results/Ford_A/IFGSM/Discriminator_pickle/fgsm_attack_eps=0.005_nsteps=10 3.pt\n",
      "FAIL results/Ford_A/IFGSM/Discriminator_pickle/fgsm_attack_eps=0.005_nsteps=10 4.pt\n",
      "FAIL results/Ford_A/IFGSM/Discriminator_pickle/fgsm_attack_eps=0.005_nsteps=10 5.pt\n",
      "FAIL results/Ford_A/IFGSM/Discriminator_pickle/fgsm_attack_eps=0.005_nsteps=10 6.pt\n",
      "FAIL results/Ford_A/IFGSM/Discriminator_pickle/fgsm_attack_eps=0.005_nsteps=10 7.pt\n",
      "FAIL results/Ford_A/IFGSM/Discriminator_pickle/fgsm_attack_eps=0.005_nsteps=10 8.pt\n",
      "FAIL results/Ford_A/IFGSM/Discriminator_pickle/fgsm_attack_eps=0.005_nsteps=10 9.pt\n",
      "FAIL results/Ford_A/IFGSM/Discriminator_pickle/fgsm_attack_eps=0.01_nsteps=10 0.pt\n",
      "FAIL results/Ford_A/IFGSM/Discriminator_pickle/fgsm_attack_eps=0.01_nsteps=10 1.pt\n",
      "FAIL results/Ford_A/IFGSM/Discriminator_pickle/fgsm_attack_eps=0.01_nsteps=10 2.pt\n",
      "FAIL results/Ford_A/IFGSM/Discriminator_pickle/fgsm_attack_eps=0.01_nsteps=10 3.pt\n",
      "FAIL results/Ford_A/IFGSM/Discriminator_pickle/fgsm_attack_eps=0.01_nsteps=10 4.pt\n",
      "FAIL results/Ford_A/IFGSM/Discriminator_pickle/fgsm_attack_eps=0.01_nsteps=10 5.pt\n",
      "FAIL results/Ford_A/IFGSM/Discriminator_pickle/fgsm_attack_eps=0.01_nsteps=10 6.pt\n",
      "FAIL results/Ford_A/IFGSM/Discriminator_pickle/fgsm_attack_eps=0.01_nsteps=10 7.pt\n",
      "FAIL results/Ford_A/IFGSM/Discriminator_pickle/fgsm_attack_eps=0.01_nsteps=10 8.pt\n",
      "FAIL results/Ford_A/IFGSM/Discriminator_pickle/fgsm_attack_eps=0.01_nsteps=10 9.pt\n",
      "FAIL results/Ford_A/IFGSM/Discriminator_pickle/fgsm_attack_eps=0.03_nsteps=10 0.pt\n",
      "FAIL results/Ford_A/IFGSM/Discriminator_pickle/fgsm_attack_eps=0.03_nsteps=10 1.pt\n",
      "FAIL results/Ford_A/IFGSM/Discriminator_pickle/fgsm_attack_eps=0.03_nsteps=10 2.pt\n",
      "FAIL results/Ford_A/IFGSM/Discriminator_pickle/fgsm_attack_eps=0.03_nsteps=10 3.pt\n",
      "FAIL results/Ford_A/IFGSM/Discriminator_pickle/fgsm_attack_eps=0.05_nsteps=1 0.pt\n",
      "FAIL results/Ford_A/IFGSM/Discriminator_pickle/fgsm_attack_eps=0.05_nsteps=1 1.pt\n",
      "FAIL results/Ford_A/IFGSM/Discriminator_pickle/fgsm_attack_eps=0.05_nsteps=1 2.pt\n",
      "FAIL results/Ford_A/IFGSM/Discriminator_pickle/fgsm_attack_eps=0.05_nsteps=1 3.pt\n",
      "FAIL results/Ford_A/IFGSM/Discriminator_pickle/fgsm_attack_eps=0.05_nsteps=1 4.pt\n",
      "FAIL results/Ford_A/IFGSM/Discriminator_pickle/fgsm_attack_eps=0.3_nsteps=1 0.pt\n",
      "FAIL results/Ford_A/IFGSM/Discriminator_pickle/fgsm_attack_eps=0.3_nsteps=1 1.pt\n",
      "FAIL results/Ford_A/IFGSM/Discriminator_pickle/fgsm_attack_eps=0.3_nsteps=1 2.pt\n",
      "FAIL results/Ford_A/IFGSM/Discriminator_pickle/fgsm_attack_eps=0.3_nsteps=1 3.pt\n",
      "FAIL results/Ford_A/IFGSM/Discriminator_pickle/fgsm_attack_eps=0.3_nsteps=1 4.pt\n",
      "FAIL results/Ford_A/IFGSM/Discriminator_pickle/fgsm_reg_attack_eps=0.005_alpha=0.01_nsteps=10 0.pt\n",
      "FAIL results/Ford_A/IFGSM/Discriminator_pickle/fgsm_reg_attack_eps=0.005_alpha=0.01_nsteps=10 1.pt\n",
      "FAIL results/Ford_A/IFGSM/Discriminator_pickle/fgsm_reg_attack_eps=0.005_alpha=0.01_nsteps=10 2.pt\n",
      "FAIL results/Ford_A/IFGSM/Discriminator_pickle/fgsm_reg_attack_eps=0.005_alpha=0.01_nsteps=10 3.pt\n",
      "FAIL results/Ford_A/IFGSM/Discriminator_pickle/fgsm_reg_attack_eps=0.005_alpha=0.01_nsteps=10 4.pt\n",
      "FAIL results/Ford_A/IFGSM/Discriminator_pickle/fgsm_reg_attack_eps=0.005_alpha=0.01_nsteps=10 5.pt\n",
      "FAIL results/Ford_A/IFGSM/Discriminator_pickle/fgsm_reg_attack_eps=0.005_alpha=0.01_nsteps=10 6.pt\n",
      "FAIL results/Ford_A/IFGSM/Discriminator_pickle/fgsm_reg_attack_eps=0.005_alpha=0.01_nsteps=10 7.pt\n",
      "FAIL results/Ford_A/IFGSM/Discriminator_pickle/fgsm_reg_attack_eps=0.005_alpha=0.01_nsteps=10 8.pt\n",
      "FAIL results/Ford_A/IFGSM/Discriminator_pickle/fgsm_reg_attack_eps=0.005_alpha=0.01_nsteps=10 9.pt\n",
      "FAIL results/Ford_A/IFGSM/Discriminator_pickle/fgsm_reg_attack_eps=0.005_alpha=0.1_nsteps=10 0.pt\n",
      "FAIL results/Ford_A/IFGSM/Discriminator_pickle/fgsm_reg_attack_eps=0.005_alpha=0.1_nsteps=10 1.pt\n",
      "FAIL results/Ford_A/IFGSM/Discriminator_pickle/fgsm_reg_attack_eps=0.005_alpha=0.1_nsteps=10 2.pt\n",
      "FAIL results/Ford_A/IFGSM/Discriminator_pickle/fgsm_reg_attack_eps=0.005_alpha=0.1_nsteps=10 3.pt\n",
      "FAIL results/Ford_A/IFGSM/Discriminator_pickle/fgsm_reg_attack_eps=0.005_alpha=0.1_nsteps=10 4.pt\n",
      "FAIL results/Ford_A/IFGSM/Discriminator_pickle/fgsm_reg_attack_eps=0.01_alpha=0.01_nsteps=10 0.pickle\n",
      "FAIL results/Ford_A/IFGSM/Discriminator_pickle/fgsm_reg_attack_eps=0.01_alpha=0.01_nsteps=10 1.pt\n",
      "FAIL results/Ford_A/IFGSM/Discriminator_pickle/fgsm_reg_attack_eps=0.01_alpha=0.01_nsteps=10 2.pt\n",
      "FAIL results/Ford_A/IFGSM/Discriminator_pickle/fgsm_reg_attack_eps=0.01_alpha=0.01_nsteps=10 3.pt\n"
     ]
    }
   ],
   "source": [
    "path = 'results/Ford_A/IFGSM/Discriminator_pickle'\n",
    "folders = sorted(os.listdir(path))\n",
    "folders = [fold for fold in folders if '.pickle' not in fold]\n",
    "\n",
    "\n",
    "for fold in tqdm(folders):\n",
    "    path_loc = path + '/' + fold\n",
    "    pickles = sorted(os.listdir(path_loc))\n",
    "    pickles = [file for file in pickles if 'log' not in file or 'pt' in file]\n",
    "\n",
    "    for pickle_file in pickles:\n",
    "        try:\n",
    "            with open(path_loc + '/' + pickle_file, 'rb') as f:\n",
    "                experiment = pickle.load(f)\n",
    "            \n",
    "            model_weights_name = path_loc + '/' + pickle_file.replace('pickle', 'pt')\n",
    "            torch.save(experiment.disc_model.state_dict(), model_weights_name)\n",
    "\n",
    "            logs_name =  path_loc + '/' + pickle_file.replace('.pickle', '_logs.pickle')\n",
    "            with open(logs_name, 'wb') as f:\n",
    "                pickle.dump(experiment.dict_logging, f)\n",
    "        except:\n",
    "            print('FAIL', path_loc, pickle_file)"
   ]
  },
  {
   "cell_type": "code",
   "execution_count": 2,
   "metadata": {},
   "outputs": [
    {
     "data": {
      "text/plain": [
       "array([0.001     , 0.00562341, 0.03162278, 0.17782794, 1.        ])"
      ]
     },
     "execution_count": 2,
     "metadata": {},
     "output_type": "execute_result"
    }
   ],
   "source": [
    "import numpy as np\n",
    "np.geomspace(0.001, 1.0, 5)"
   ]
  },
  {
   "cell_type": "code",
   "execution_count": null,
   "metadata": {},
   "outputs": [],
   "source": []
  }
 ],
 "metadata": {
  "kernelspec": {
   "display_name": "cuda10",
   "language": "python",
   "name": "python3"
  },
  "language_info": {
   "codemirror_mode": {
    "name": "ipython",
    "version": 3
   },
   "file_extension": ".py",
   "mimetype": "text/x-python",
   "name": "python",
   "nbconvert_exporter": "python",
   "pygments_lexer": "ipython3",
   "version": "3.8.5"
  },
  "orig_nbformat": 4
 },
 "nbformat": 4,
 "nbformat_minor": 2
}
