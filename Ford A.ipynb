{
 "cells": [
  {
   "cell_type": "markdown",
   "metadata": {},
   "source": [
    "# Тестирование"
   ]
  },
  {
   "cell_type": "code",
   "execution_count": 23,
   "metadata": {},
   "outputs": [],
   "source": [
    "import pandas as pd\n",
    "import numpy as np\n",
    "import matplotlib.pyplot as plt\n",
    "import torch\n",
    "from tqdm.notebook import tqdm\n",
    "import pickle\n",
    "import copy\n",
    "\n",
    "from torch.utils.data import Dataset, DataLoader\n",
    "from torch import nn\n",
    "\n",
    "from ignite.handlers.param_scheduler import create_lr_scheduler_with_warmup\n",
    "\n",
    "from sklearn.metrics import mean_squared_error as MSE\n",
    "from sklearn.metrics import mean_absolute_error as MAE\n",
    "from sklearn.metrics import mean_absolute_percentage_error as MAPE\n",
    "\n",
    "from typing import Dict, Any, Tuple, List, Union, Sequence, Callable\n",
    "\n",
    "from sklearn.metrics import accuracy_score, precision_score, recall_score, f1_score, roc_auc_score, average_precision_score\n",
    "\n",
    "import warnings\n",
    "warnings.filterwarnings(\"ignore\")"
   ]
  },
  {
   "cell_type": "code",
   "execution_count": 24,
   "metadata": {},
   "outputs": [],
   "source": [
    "col = 'FordA'\n",
    "\n",
    "import sktime\n",
    "from sktime.datasets import load_from_tsfile\n",
    "\n",
    "x_train, y_train = load_from_tsfile(\"data/Ford_A/FordA_TRAIN.ts\")\n",
    "x_test, y_test = load_from_tsfile(\"data/Ford_A/FordA_TEST.ts\")"
   ]
  },
  {
   "cell_type": "code",
   "execution_count": 25,
   "metadata": {},
   "outputs": [
    {
     "name": "stdout",
     "output_type": "stream",
     "text": [
      "(array([-1,  1]), array([1846, 1755]))\n",
      "(array([-1,  1]), array([681, 639]))\n"
     ]
    },
    {
     "data": {
      "text/plain": [
       "((3601, 500), (1320, 500), (3601,), (1320,))"
      ]
     },
     "execution_count": 25,
     "metadata": {},
     "output_type": "execute_result"
    }
   ],
   "source": [
    "def readucr(filename):\n",
    "    data = np.loadtxt(filename, delimiter=\"\\t\")\n",
    "    y = data[:, 0]\n",
    "    x = data[:, 1:]\n",
    "    return x, y.astype(int)\n",
    "\n",
    "\n",
    "root_url = \"https://raw.githubusercontent.com/hfawaz/cd-diagram/master/FordA/\"\n",
    "\n",
    "x_train, y_train = readucr(root_url + \"FordA_TRAIN.tsv\")\n",
    "x_test, y_test = readucr(root_url + \"FordA_TEST.tsv\")\n",
    "\n",
    "print(np.unique(y_train, return_counts=True))\n",
    "print(np.unique(y_test, return_counts=True))\n",
    "\n",
    "x_train.shape, x_test.shape, y_train.shape, y_test.shape"
   ]
  },
  {
   "cell_type": "code",
   "execution_count": 26,
   "metadata": {},
   "outputs": [],
   "source": [
    "def transform_X(X):\n",
    "    np_data = []\n",
    "    lens = []\n",
    "    for i in range(len(X)):\n",
    "        line = X.iloc[i, 0]\n",
    "        lens.append(len(line))\n",
    "        np_data.append(line)\n",
    "        \n",
    "    #print(np.mean(lens), np.std(lens))\n",
    "    return np.array(np_data)"
   ]
  },
  {
   "cell_type": "code",
   "execution_count": 27,
   "metadata": {},
   "outputs": [
    {
     "name": "stdout",
     "output_type": "stream",
     "text": [
      "(36010, 50) (13200, 50) (36010, 1) (13200, 1)\n"
     ]
    },
    {
     "data": {
      "text/plain": [
       "[<matplotlib.lines.Line2D at 0x7f0d9c702040>]"
      ]
     },
     "execution_count": 27,
     "metadata": {},
     "output_type": "execute_result"
    },
    {
     "data": {
      "image/png": "[encoded data removed]",
      "text/plain": [
       "<Figure size 432x288 with 1 Axes>"
      ]
     },
     "metadata": {
      "needs_background": "light"
     },
     "output_type": "display_data"
    }
   ],
   "source": [
    "window = 50\n",
    "len_seq = x_train.shape[1]\n",
    "n_patches = len_seq//window\n",
    "\n",
    "X_train = np.vstack([x_train[:, i:i+window] for i in range(n_patches)])\n",
    "X_test = np.vstack([x_test[:, i:i+window] for i in range(n_patches)])\n",
    "\n",
    "y_train = np.array([(int(y)+1) // 2 for y in y_train])\n",
    "y_test = np.array([(int(y)+1) // 2 for y in y_test])\n",
    "\n",
    "y_train = np.vstack([y_train.reshape(-1, 1) for i in range(n_patches)])\n",
    "y_test = np.vstack([y_test.reshape(-1, 1) for i in range(n_patches)])\n",
    "\n",
    "print(X_train.shape, X_test.shape, y_train.shape, y_test.shape)\n",
    "\n",
    "plt.plot(X_train[1])"
   ]
  },
  {
   "cell_type": "code",
   "execution_count": 28,
   "metadata": {},
   "outputs": [],
   "source": [
    "X_train_tensor = torch.tensor(X_train, dtype=torch.float32)\n",
    "X_test_tensor =torch.tensor(X_test, dtype=torch.float32)\n",
    "\n",
    "y_train_tensor = torch.tensor(y_train, dtype=torch.int32)\n",
    "y_test_tensor = torch.tensor(y_test, dtype=torch.int32)"
   ]
  },
  {
   "cell_type": "markdown",
   "metadata": {},
   "source": [
    "## modelling"
   ]
  },
  {
   "cell_type": "code",
   "execution_count": 29,
   "metadata": {},
   "outputs": [],
   "source": [
    "class MyDataset(Dataset):\n",
    "    def __init__(self, X, y, window=50):\n",
    "        super().__init__()\n",
    "        self.X = X\n",
    "        self.y = y\n",
    "        self.window=window\n",
    "        \n",
    "    def __len__(self):\n",
    "        return len(self.y)\n",
    "    \n",
    "    def __getitem__(self, idx):\n",
    "        X = torch.tensor(self.X[idx], dtype=torch.float32)\n",
    "        \n",
    "#         start_ind = np.random.randint(0, len(X) - self.window)\n",
    "#         X = X[start_ind:start_ind+self.window]\n",
    "        X = X.reshape([-1, 1])\n",
    "        y = torch.tensor(self.y[idx], dtype=torch.float32)\n",
    "        return X, y\n",
    "\n",
    "    \n",
    "BS = 64    \n",
    "train_loader = DataLoader(MyDataset(X_train, y_train), batch_size=BS, shuffle=True)\n",
    "test_loader = DataLoader(MyDataset(X_test, y_test), batch_size=BS, shuffle=False)"
   ]
  },
  {
   "cell_type": "code",
   "execution_count": 30,
   "metadata": {},
   "outputs": [],
   "source": [
    "class LSTM_net(nn.Module):\n",
    "    def __init__(self, hidden_dim, n_layers, output_dim=1, dropout=0.2):\n",
    "        super().__init__()\n",
    "        self.rnn = nn.LSTM(1, \n",
    "                           hidden_dim, \n",
    "                           num_layers=n_layers, \n",
    "                           dropout=dropout,\n",
    "                           batch_first=True)\n",
    "        \n",
    "        self.fc1 = nn.Linear(hidden_dim, hidden_dim)\n",
    "        self.relu = nn.ReLU()\n",
    "        self.fc2 = nn.Linear(hidden_dim, output_dim)\n",
    "        self.dropout = nn.Dropout(dropout)\n",
    "        \n",
    "        \n",
    "    def forward(self, data):\n",
    "        \n",
    "        packed_output, (hidden, cell) = self.rnn(data)\n",
    "        hidden = hidden.reshape(hidden.shape[1], hidden.shape[2])\n",
    "        \n",
    "        hidden = self.dropout(hidden)\n",
    "        output = self.relu(self.fc1(hidden))\n",
    "        output = self.fc2(self.dropout(output))\n",
    "        output = torch.sigmoid(output)\n",
    "            \n",
    "        return output\n"
   ]
  },
  {
   "cell_type": "code",
   "execution_count": 35,
   "metadata": {},
   "outputs": [],
   "source": [
    "def train_step(model, loader, criterion, device, optimizer, scheduler=None):\n",
    "    losses, n_batches = 0, 0\n",
    "    model.train(True)\n",
    "    for x, labels in loader:\n",
    "\n",
    "        optimizer.zero_grad()\n",
    "        x = x.to(device)\n",
    "        labels = labels.reshape(-1, 1).to(device)\n",
    "        \n",
    "        y_out = model(x)\n",
    "        loss = criterion(y_out, labels) \n",
    "        \n",
    "        loss.backward()     \n",
    "        optimizer.step()\n",
    "        losses += loss\n",
    "        n_batches += 1\n",
    "\n",
    "    mean_loss = losses / n_batches\n",
    "\n",
    "    if scheduler:\n",
    "        scheduler.step()\n",
    "    \n",
    "    return mean_loss\n",
    "\n",
    "def valid_step(model, loader, criterion, device):\n",
    "    \n",
    "    losses, n_batches = 0, 0\n",
    "    model.eval()    \n",
    "    for x, labels in loader:\n",
    "        with torch.no_grad():\n",
    "            x = x.to(device)\n",
    "            labels = labels.reshape(-1, 1).to(device)\n",
    "\n",
    "            y_out = model(x)\n",
    "            loss = criterion(y_out, labels)\n",
    "            losses += loss\n",
    "\n",
    "            n_batches += 1\n",
    "\n",
    "    mean_loss = losses / n_batches\n",
    "    return mean_loss\n",
    "\n",
    "\n",
    "def calculate_metrics(y_true, y_pred):\n",
    "    acc = accuracy_score(y_true, y_pred)\n",
    "    pr = precision_score(y_true, y_pred)\n",
    "    rec = recall_score(y_true, y_pred)\n",
    "    f1 = f1_score(y_true, y_pred)\n",
    "    return acc, pr, rec, f1\n",
    "    \n",
    "def estimate_epoch(loader, model=None, device='cpu', round_=True, multiclass=False):\n",
    "    \n",
    "    y_all_pred = torch.tensor([])\n",
    "    y_all_true = torch.tensor([])\n",
    "    \n",
    "    for X, y_true in loader:\n",
    "        X = X.to(device)\n",
    "        y_pred = model(X)\n",
    "        \n",
    "        if multiclass:\n",
    "            y_pred = torch.argmax(y_pred, axis=1)\n",
    "        else:\n",
    "            y_pred = torch.round(y_pred)\n",
    "        \n",
    "        y_all_true = torch.cat((y_all_true, y_true.cpu().detach()), dim=0)\n",
    "        y_all_pred = torch.cat((y_all_pred, y_pred.cpu().detach()), dim=0)\n",
    "        \n",
    "    y_all_pred = y_all_pred.numpy().reshape([-1, 1])\n",
    "    y_all_true = y_all_true.numpy().reshape([-1, 1])\n",
    "    \n",
    "    acc, pr, rec, f1 = calculate_metrics(y_all_true, y_all_pred)\n",
    "    \n",
    "    return acc, pr, rec, f1\n",
    "\n",
    "def train_procedure(model, train_loader, test_loader, criterion, optimizer, scheduler=None,\n",
    "                   num_epochs=30, step_print=5):\n",
    "    \n",
    "    for epoch in tqdm(range(num_epochs)):\n",
    "        train_loss = train_step(model, train_loader, criterion, device, optimizer, scheduler)\n",
    "        test_loss = valid_step(model, test_loader, criterion, device) \n",
    "\n",
    "        acc_train, pr_train, rec_train, f1_train = estimate_epoch(train_loader, model, device=device)\n",
    "        acc_test, pr_test, rec_test, f1_test = estimate_epoch(test_loader, model, device=device)\n",
    "\n",
    "        if epoch % step_print == 0:\n",
    "            print(f'[Epoch {epoch + 1}] train loss: {train_loss:.3f}; acc_train {acc_train:.3f}; f1_train {f1_train:.3f}; test loss: {test_loss:.3f}; acc_test {acc_test:.3f}; f1_test {f1_test:.3f};')\n",
    "            #plt.hist(y_test_pred)\n",
    "            plt.show()\n",
    "            \n",
    "    return model\n"
   ]
  },
  {
   "cell_type": "code",
   "execution_count": 36,
   "metadata": {},
   "outputs": [],
   "source": [
    "X_train_tensor = torch.tensor(X_train, dtype=torch.float32)\n",
    "X_test_tensor =torch.tensor(X_test, dtype=torch.float32)\n",
    "X_train_tensor = X_train_tensor.reshape([X_train_tensor.shape[0],X_train_tensor.shape[1], 1])\n",
    "X_test_tensor = X_test_tensor.reshape([X_test_tensor.shape[0],X_test_tensor.shape[1], 1])\n",
    "\n",
    "y_train_tensor = torch.tensor(y_train, dtype=torch.int32)\n",
    "y_test_tensor = torch.tensor(y_test, dtype=torch.int32)"
   ]
  },
  {
   "cell_type": "code",
   "execution_count": 37,
   "metadata": {},
   "outputs": [],
   "source": [
    "def calculate_metrics(y_true, y_pred):\n",
    "    acc = accuracy_score(y_true, y_pred)\n",
    "    pr = precision_score(y_true, y_pred)\n",
    "    rec = recall_score(y_true, y_pred)\n",
    "    f1 = f1_score(y_true, y_pred)\n",
    "    return acc, pr, rec, f1\n",
    "\n",
    "def plotting(y_true, y_pred, window=1000):\n",
    "    plt.figure(figsize=(8, 5))\n",
    "    plt.plot(y_true[-window:], label = 'True')\n",
    "    plt.plot(y_pred[-window:], label = 'Pred')\n",
    "    plt.grid()\n",
    "    plt.legend()\n",
    "    plt.show()"
   ]
  },
  {
   "cell_type": "markdown",
   "metadata": {},
   "source": [
    "## Stop here"
   ]
  },
  {
   "cell_type": "code",
   "execution_count": 38,
   "metadata": {},
   "outputs": [
    {
     "data": {
      "text/plain": [
       "<torch._C.Generator at 0x7f0c58e2c6b0>"
      ]
     },
     "execution_count": 38,
     "metadata": {},
     "output_type": "execute_result"
    }
   ],
   "source": [
    "model_id = 0\n",
    "torch.manual_seed(model_id)"
   ]
  },
  {
   "cell_type": "code",
   "execution_count": 13,
   "metadata": {},
   "outputs": [
    {
     "name": "stdout",
     "output_type": "stream",
     "text": [
      "30\n"
     ]
    },
    {
     "data": {
      "text/plain": [
       "LSTM_net(\n",
       "  (rnn): LSTM(1, 50, batch_first=True, dropout=0.3)\n",
       "  (fc1): Linear(in_features=50, out_features=50, bias=True)\n",
       "  (relu): ReLU()\n",
       "  (fc2): Linear(in_features=50, out_features=1, bias=True)\n",
       "  (dropout): Dropout(p=0.3, inplace=False)\n",
       ")"
      ]
     },
     "execution_count": 13,
     "metadata": {},
     "output_type": "execute_result"
    }
   ],
   "source": [
    "device= torch.device('cuda:2' if torch.cuda.is_available() else 'cpu')\n",
    "#device = 'cpu'\n",
    "\n",
    "num_epochs = 30\n",
    "print(num_epochs)\n",
    "LR = 0.001\n",
    "\n",
    "HIDDEN_DIM = 50\n",
    "OUTPUT_DIM = 1\n",
    "N_LAYERS = 1\n",
    "DROPOUT = 0.3\n",
    "\n",
    "model = LSTM_net(HIDDEN_DIM, N_LAYERS, OUTPUT_DIM, DROPOUT).to(device)\n",
    "\n",
    "criterion = torch.nn.BCELoss()\n",
    "optimizer = torch.optim.Adam(model.parameters(), lr=LR)\n",
    "scheduler = torch.optim.lr_scheduler.StepLR(optimizer, 12, gamma=0.1)\n",
    "\n",
    "model"
   ]
  },
  {
   "cell_type": "code",
   "execution_count": 14,
   "metadata": {},
   "outputs": [],
   "source": [
    "# model = train_procedure(model, train_loader, test_loader, criterion, optimizer,\n",
    "#                 num_epochs=15, step_print=5)\n",
    "\n",
    "#torch.save(model.state_dict(), f'checkpoints/Ford_A/model_{RS}_{col}.pth'"
   ]
  },
  {
   "cell_type": "code",
   "execution_count": 39,
   "metadata": {},
   "outputs": [
    {
     "name": "stdout",
     "output_type": "stream",
     "text": [
      "5\n"
     ]
    },
    {
     "data": {
      "application/vnd.jupyter.widget-view+json": {
       "model_id": "40f754768b1148b29af91d5a075dd90f",
       "version_major": 2,
       "version_minor": 0
      },
      "text/plain": [
       "  0%|          | 0/15 [00:00<?, ?it/s]"
      ]
     },
     "metadata": {},
     "output_type": "display_data"
    },
    {
     "name": "stdout",
     "output_type": "stream",
     "text": [
      "[Epoch 1] train loss: 0.693; acc_train 0.513; f1_train 0.002; test loss: 0.693; acc_test 0.517; f1_test 0.003;\n",
      "[Epoch 6] train loss: 0.622; acc_train 0.648; f1_train 0.723; test loss: 0.596; acc_test 0.656; f1_test 0.728;\n",
      "[Epoch 11] train loss: 0.460; acc_train 0.786; f1_train 0.776; test loss: 0.476; acc_test 0.764; f1_test 0.755;\n",
      "6\n"
     ]
    },
    {
     "data": {
      "application/vnd.jupyter.widget-view+json": {
       "model_id": "98c81bf89488417e8779b454157885e2",
       "version_major": 2,
       "version_minor": 0
      },
      "text/plain": [
       "  0%|          | 0/15 [00:00<?, ?it/s]"
      ]
     },
     "metadata": {},
     "output_type": "display_data"
    },
    {
     "name": "stdout",
     "output_type": "stream",
     "text": [
      "[Epoch 1] train loss: 0.693; acc_train 0.513; f1_train 0.000; test loss: 0.692; acc_test 0.516; f1_test 0.001;\n",
      "[Epoch 6] train loss: 0.583; acc_train 0.687; f1_train 0.741; test loss: 0.572; acc_test 0.677; f1_test 0.733;\n",
      "[Epoch 11] train loss: 0.454; acc_train 0.782; f1_train 0.756; test loss: 0.486; acc_test 0.756; f1_test 0.726;\n",
      "7\n"
     ]
    },
    {
     "data": {
      "application/vnd.jupyter.widget-view+json": {
       "model_id": "25bd5e00e33644b7b16e4cf488dd4bdf",
       "version_major": 2,
       "version_minor": 0
      },
      "text/plain": [
       "  0%|          | 0/15 [00:00<?, ?it/s]"
      ]
     },
     "metadata": {},
     "output_type": "display_data"
    },
    {
     "name": "stdout",
     "output_type": "stream",
     "text": [
      "[Epoch 1] train loss: 0.693; acc_train 0.499; f1_train 0.512; test loss: 0.693; acc_test 0.508; f1_test 0.523;\n",
      "[Epoch 6] train loss: 0.670; acc_train 0.638; f1_train 0.676; test loss: 0.620; acc_test 0.634; f1_test 0.673;\n",
      "[Epoch 11] train loss: 0.466; acc_train 0.783; f1_train 0.771; test loss: 0.482; acc_test 0.754; f1_test 0.740;\n",
      "8\n"
     ]
    },
    {
     "data": {
      "application/vnd.jupyter.widget-view+json": {
       "model_id": "3c54f731c5d64f008a37667558455760",
       "version_major": 2,
       "version_minor": 0
      },
      "text/plain": [
       "  0%|          | 0/15 [00:00<?, ?it/s]"
      ]
     },
     "metadata": {},
     "output_type": "display_data"
    },
    {
     "name": "stdout",
     "output_type": "stream",
     "text": [
      "[Epoch 1] train loss: 0.693; acc_train 0.513; f1_train 0.000; test loss: 0.693; acc_test 0.516; f1_test 0.000;\n",
      "[Epoch 6] train loss: 0.561; acc_train 0.693; f1_train 0.689; test loss: 0.539; acc_test 0.699; f1_test 0.698;\n",
      "[Epoch 11] train loss: 0.448; acc_train 0.790; f1_train 0.774; test loss: 0.473; acc_test 0.758; f1_test 0.739;\n",
      "9\n"
     ]
    },
    {
     "data": {
      "application/vnd.jupyter.widget-view+json": {
       "model_id": "a92b893f12264712b4304bed61e8ca27",
       "version_major": 2,
       "version_minor": 0
      },
      "text/plain": [
       "  0%|          | 0/15 [00:00<?, ?it/s]"
      ]
     },
     "metadata": {},
     "output_type": "display_data"
    },
    {
     "name": "stdout",
     "output_type": "stream",
     "text": [
      "[Epoch 1] train loss: 0.693; acc_train 0.513; f1_train 0.000; test loss: 0.692; acc_test 0.516; f1_test 0.000;\n",
      "[Epoch 6] train loss: 0.550; acc_train 0.719; f1_train 0.691; test loss: 0.524; acc_test 0.720; f1_test 0.691;\n",
      "[Epoch 11] train loss: 0.442; acc_train 0.788; f1_train 0.761; test loss: 0.477; acc_test 0.761; f1_test 0.730;\n"
     ]
    }
   ],
   "source": [
    "device= torch.device('cuda:2' if torch.cuda.is_available() else 'cpu')\n",
    "#device = 'cpu'\n",
    "\n",
    "num_epochs = 15\n",
    "#print(num_epochs)\n",
    "LR = 0.001\n",
    "\n",
    "HIDDEN_DIM = 50\n",
    "OUTPUT_DIM = 1\n",
    "N_LAYERS = 1\n",
    "DROPOUT = 0.3\n",
    "\n",
    "for model_id in range(5, 10):\n",
    "    print(model_id)\n",
    "    torch.manual_seed(model_id)\n",
    "\n",
    "    model = LSTM_net(HIDDEN_DIM, N_LAYERS, OUTPUT_DIM, DROPOUT).to(device)\n",
    "\n",
    "    criterion = torch.nn.BCELoss()\n",
    "    optimizer = torch.optim.Adam(model.parameters(), lr=LR)\n",
    "    scheduler = torch.optim.lr_scheduler.StepLR(optimizer, 12, gamma=0.1)\n",
    "    \n",
    "    model = train_procedure(model, train_loader, test_loader, criterion, optimizer,\n",
    "                num_epochs=15, step_print=5)\n",
    "    \n",
    "    torch.save(model.state_dict(), f'checkpoints/Ford_A/model_{model_id}_{col}.pth') "
   ]
  },
  {
   "cell_type": "code",
   "execution_count": 16,
   "metadata": {},
   "outputs": [],
   "source": [
    "# for epoch in tqdm(range(num_epochs)):\n",
    "\n",
    "#     train_loss = train_step(train_loader, model)\n",
    "#     test_loss = valid_step(test_loader, model) \n",
    "    \n",
    "#     X_test_tensor_loc = X_test_tensor #.reshape([X_test_tensor.shape[0], 1, X_test_tensor.shape[1]])\n",
    "#     X_train_tensor_loc = X_train_tensor #.reshape([X_train_tensor.shape[0], 1, X_train_tensor.shape[1]])\n",
    "    \n",
    "#     y_test_pred = all_predict_training(X_test_tensor_loc.to(device), model).astype('int').reshape(-1)\n",
    "#     y_train_pred = all_predict_training(X_train_tensor_loc.to(device), model).astype('int').reshape(-1)\n",
    "       \n",
    "#     acc_train, pr_train, rec_train, f1_train = calculate_metrics(y_train, y_train_pred)\n",
    "#     acc_test, pr_test, rec_test, f1_test = calculate_metrics(y_test, y_test_pred)\n",
    "    \n",
    "#     if epoch % 5 == 0:\n",
    "#         #print(f'[Epoch {epoch + 1}] train loss: {train_loss:.3f}; test loss: {test_loss:.3f};')\n",
    "#         print(f'[Epoch {epoch + 1}] train loss: {train_loss:.3f}; acc_train {acc_train:.3f}; f1_train {f1_train:.3f}; test loss: {test_loss:.3f}; acc_test {acc_test:.3f}; f1_test {f1_test:.3f};')\n",
    "#         plt.hist(y_test_pred)\n",
    "#         plt.show()\n",
    "        \n",
    "#     torch.save(model.state_dict(), f'checkpoints/Ford_A/model_{RS}_{col}.pth')\n",
    "\n",
    "    "
   ]
  },
  {
   "cell_type": "markdown",
   "metadata": {},
   "source": [
    "## attacks"
   ]
  },
  {
   "cell_type": "code",
   "execution_count": 17,
   "metadata": {},
   "outputs": [],
   "source": [
    "from utils.estimation import (plot_aa_metrics, rejection_curves_procedure, \n",
    "                              build_basic_dict_curve, build_custom_dict_curve,\n",
    "                             draw_rejection_curves)\n",
    "from utils.attacks import ifgsm_procedure"
   ]
  },
  {
   "cell_type": "code",
   "execution_count": 18,
   "metadata": {},
   "outputs": [],
   "source": [
    "class LSTM_net(nn.Module):\n",
    "    def __init__(self, hidden_dim, n_layers, output_dim=1, dropout=0.2):\n",
    "        super().__init__()\n",
    "        self.rnn = nn.LSTM(1, \n",
    "                           hidden_dim, \n",
    "                           num_layers=n_layers, \n",
    "                           dropout=dropout,\n",
    "                           batch_first=True)\n",
    "        \n",
    "        self.fc1 = nn.Linear(hidden_dim, hidden_dim)\n",
    "        self.relu = nn.ReLU()\n",
    "        self.fc2 = nn.Linear(hidden_dim, output_dim)\n",
    "        self.dropout = nn.Dropout(dropout)\n",
    "        \n",
    "        \n",
    "    def forward(self, data):\n",
    "        \n",
    "        packed_output, (hidden, cell) = self.rnn(data)\n",
    "        hidden = hidden.reshape(hidden.shape[1], hidden.shape[2])\n",
    "        \n",
    "        hidden = self.dropout(hidden)\n",
    "        output = self.relu(self.fc1(hidden))\n",
    "        output = self.fc2(self.dropout(output))\n",
    "        output = torch.sigmoid(output)\n",
    "            \n",
    "        return output"
   ]
  },
  {
   "cell_type": "code",
   "execution_count": 19,
   "metadata": {},
   "outputs": [
    {
     "data": {
      "application/vnd.jupyter.widget-view+json": {
       "model_id": "1610ca0de033453e866c510e2e549547",
       "version_major": 2,
       "version_minor": 0
      },
      "text/plain": [
       "  0%|          | 0/5 [00:00<?, ?it/s]"
      ]
     },
     "metadata": {},
     "output_type": "display_data"
    },
    {
     "name": "stdout",
     "output_type": "stream",
     "text": [
      "*****************  EPS=0.001  ****************\n"
     ]
    },
    {
     "data": {
      "application/vnd.jupyter.widget-view+json": {
       "model_id": "9bd0175efa024411b7c81dfcc8274927",
       "version_major": 2,
       "version_minor": 0
      },
      "text/plain": [
       "  0%|          | 0/50 [00:00<?, ?it/s]"
      ]
     },
     "metadata": {},
     "output_type": "display_data"
    },
    {
     "name": "stdout",
     "output_type": "stream",
     "text": [
      "*****************  EPS=0.005623413251903491  ****************\n"
     ]
    },
    {
     "data": {
      "application/vnd.jupyter.widget-view+json": {
       "model_id": "f72a0f4b549c4db5a26954b178bdeccb",
       "version_major": 2,
       "version_minor": 0
      },
      "text/plain": [
       "  0%|          | 0/50 [00:00<?, ?it/s]"
      ]
     },
     "metadata": {},
     "output_type": "display_data"
    },
    {
     "name": "stdout",
     "output_type": "stream",
     "text": [
      "*****************  EPS=0.03162277660168379  ****************\n"
     ]
    },
    {
     "data": {
      "application/vnd.jupyter.widget-view+json": {
       "model_id": "c224255fbe8a41f1808b8b42794e003f",
       "version_major": 2,
       "version_minor": 0
      },
      "text/plain": [
       "  0%|          | 0/50 [00:00<?, ?it/s]"
      ]
     },
     "metadata": {},
     "output_type": "display_data"
    },
    {
     "name": "stdout",
     "output_type": "stream",
     "text": [
      "*****************  EPS=0.1778279410038923  ****************\n"
     ]
    },
    {
     "data": {
      "application/vnd.jupyter.widget-view+json": {
       "model_id": "f599c7f23c764116980bd06dfe9d09f1",
       "version_major": 2,
       "version_minor": 0
      },
      "text/plain": [
       "  0%|          | 0/50 [00:00<?, ?it/s]"
      ]
     },
     "metadata": {},
     "output_type": "display_data"
    },
    {
     "name": "stdout",
     "output_type": "stream",
     "text": [
      "*****************  EPS=1.0  ****************\n"
     ]
    },
    {
     "data": {
      "application/vnd.jupyter.widget-view+json": {
       "model_id": "cec454738d654faea627c4ef2b97167f",
       "version_major": 2,
       "version_minor": 0
      },
      "text/plain": [
       "  0%|          | 0/50 [00:00<?, ?it/s]"
      ]
     },
     "metadata": {},
     "output_type": "display_data"
    }
   ],
   "source": [
    "n_iters = 50\n",
    "eps_params = (1e-3, 1e0, 5)\n",
    "criterion = torch.nn.BCELoss()\n",
    "batch_size = BS\n",
    "n_objects = y_test.shape[0]\n",
    "\n",
    "HIDDEN_DIM = 50\n",
    "OUTPUT_DIM = 1\n",
    "N_LAYERS = 1\n",
    "DROPOUT = 0.0\n",
    "\n",
    "device= torch.device('cuda:2' if torch.cuda.is_available() else 'cpu')\n",
    "train_mode=True\n",
    "\n",
    "for model_id in range(1):\n",
    "    \n",
    "    path_to_saves = 'checkpoints/Ford_A/'\n",
    "\n",
    "    model = LSTM_net(HIDDEN_DIM, N_LAYERS, OUTPUT_DIM, DROPOUT).to(device)\n",
    "    model_path = path_to_saves + f'model_{0}_{col}.pth'\n",
    "    model.load_state_dict(copy.deepcopy(torch.load(model_path)))\n",
    "\n",
    "    aa_res_df, rej_curves_dict = ifgsm_procedure(model=model, loader=test_loader, criterion=criterion, eps_params=eps_params,\n",
    "                                                 n_steps=n_iters, n_objects=n_objects, train_mode=train_mode)\n",
    "\n",
    "#     aa_res_df.to_csv(f'results/Ford_A/aa_res_Ford_A_{model_id}.csv')\n",
    "#     with open(f'results/Ford_A/rej_curves_dict_Ford_A_model_{model_id}.pickle', 'wb') as file:\n",
    "#         pickle.dump(rej_curves_dict, file)"
   ]
  },
  {
   "cell_type": "code",
   "execution_count": null,
   "metadata": {},
   "outputs": [],
   "source": [
    "# aa_res_df= pd.read_csv(f'results/Ford_A/aa_res_Ford_A_{0}.csv', index_col=0)\n",
    "# aa_res_df"
   ]
  },
  {
   "cell_type": "code",
   "execution_count": 20,
   "metadata": {},
   "outputs": [
    {
     "data": {
      "image/png": "[encoded data removed]",
      "text/plain": [
       "<Figure size 1080x864 with 5 Axes>"
      ]
     },
     "metadata": {
      "needs_background": "light"
     },
     "output_type": "display_data"
    }
   ],
   "source": [
    "plot_aa_metrics(aa_res_df, method='eps')"
   ]
  },
  {
   "cell_type": "code",
   "execution_count": 21,
   "metadata": {},
   "outputs": [
    {
     "data": {
      "image/png": "[encoded data removed]",
      "text/plain": [
       "<Figure size 1440x1080 with 3 Axes>"
      ]
     },
     "metadata": {
      "needs_background": "light"
     },
     "output_type": "display_data"
    }
   ],
   "source": [
    "plot_aa_metrics(aa_res_df, method='metric')"
   ]
  },
  {
   "cell_type": "code",
   "execution_count": null,
   "metadata": {},
   "outputs": [],
   "source": [
    "def load_LSTM(model, model_path):\n",
    "    model.load_state_dict(copy.deepcopy(torch.load(model_path)))\n",
    "    return model\n",
    "\n",
    "\n",
    "device= torch.device('cuda:2' if torch.cuda.is_available() else 'cpu')\n",
    "criterion = torch.nn.BCELoss()\n",
    "\n",
    "\n",
    "\n",
    "model_params = {\"hidden_dim\":50,\n",
    "                \"output_dim\":1,\n",
    "                \"n_layers\":1,\n",
    "                \"dropout\":0.0,\n",
    "                }\n",
    "model = LSTM_net(**model_params).to(device)\n",
    "\n",
    "\n",
    "basic_path = 'checkpoints/Ford_A/model_{}_{}.pth'\n",
    "load_path = [basic_path.format(i, col) for i in range(5)]\n",
    "\n",
    "\n",
    "preds, norms = rejection_curves_procedure(model, test_loader,\n",
    "                               criterion, load_LSTM, load_path, y_test, device,\n",
    "                               n_models=5)"
   ]
  },
  {
   "cell_type": "code",
   "execution_count": null,
   "metadata": {},
   "outputs": [],
   "source": [
    "model_id = 0\n",
    "\n",
    "with open(f'results/Ford_A/rej_curves_dict_Ford_A_model_{model_id}.pickle', 'rb') as file:\n",
    "    rej_curves_dict = pickle.load(file)\n",
    "\n",
    "\n",
    "rejection_rates = np.linspace(0, 1.0, 20)\n",
    "iter_to_break = 49\n",
    "dict_metrics = {'Acc':accuracy_score,\n",
    "               #'ROC AUC':roc_auc_score,\n",
    "               #'PR AUC':average_precision_score\n",
    "               }\n",
    "\n",
    "all_eps = list(rej_curves_dict.keys())\n",
    "\n",
    "\n",
    "dict_curves = build_basic_dict_curve(y_test, preds, norms, rejection_rates, dict_metrics)\n",
    "dict_curves = build_custom_dict_curve(dict_curves, y_test, preds, norms, rejection_rates, \n",
    "                                     dict_metrics, rej_curves_dict, all_eps, iter_to_break)\n",
    "\n",
    "draw_rejection_curves(dict_curves, rejection_rates)"
   ]
  },
  {
   "cell_type": "code",
   "execution_count": null,
   "metadata": {},
   "outputs": [],
   "source": [
    "df_ROC_RC = pd.DataFrame(columns=['metric', 'method', 'value'])\n",
    "\n",
    "for metric_name, dict_curve_metric in dict_curves.items():\n",
    "    \n",
    "    for method_name, list_val in dict_curve_metric.items():\n",
    "        val = np.array(list_val)\n",
    "        val_start = val[:-1]\n",
    "        val_post = val[1:]\n",
    "\n",
    "        val_mean = np.sum(np.array([val_start, val_post]))/(2*(len(rejection_rates)-1))\n",
    "        \n",
    "        dict_res = dict(zip(df_ROC_RC.columns,[metric_name, method_name, val_mean]))\n",
    "        df_ROC_RC = df_ROC_RC.append(dict_res, ignore_index=True)\n",
    "        \n",
    "df_ROC_RC"
   ]
  },
  {
   "cell_type": "markdown",
   "metadata": {},
   "source": [
    "# Получение адверсальных данных"
   ]
  },
  {
   "cell_type": "code",
   "execution_count": null,
   "metadata": {},
   "outputs": [],
   "source": [
    "def req_grad(model: nn.Module, state: bool = True) -> None:\n",
    "    \"\"\"Set requires_grad of all model parameters to the desired value.\n",
    "\n",
    "    :param model: the model\n",
    "    :param state: desired value for requires_grad\n",
    "    \"\"\"\n",
    "    for param in model.parameters():\n",
    "        param.requires_grad_(state)\n",
    "\n",
    "def prepare_adv_data(\n",
    "        model: nn.Module,  # model for attack\n",
    "        loader: DataLoader,  # dataloader with data\n",
    "        criterion: nn.Module,\n",
    "        eps: float,\n",
    "        device='cpu',\n",
    "        train_mode=False):  # params_dict with eps and iter number\n",
    "\n",
    "    model.train(train_mode)\n",
    "    req_grad(model, state=False)  # detach all model's parameters\n",
    "\n",
    "    all_y_true = torch.tensor([]) # logging y_true for rebuilding dataloader and calculation difference with preds\n",
    "    x_adv_tensor = torch.FloatTensor([])  # logging x_adv for rebuilding dataloader\n",
    "\n",
    "    for x, y_true in loader:\n",
    "        \n",
    "        all_y_true = torch.cat((all_y_true, y_true.cpu().detach()), dim=0)\n",
    "        x.grad = None\n",
    "        x.requires_grad = True\n",
    "\n",
    "        # prediction for original input\n",
    "        x = x.to(device, non_blocking=True)\n",
    "        y_true = y_true.to(device)\n",
    "\n",
    "        y_pred = model(x)\n",
    "\n",
    "        # attack for adv input\n",
    "        loss_val = criterion(y_pred, y_true.reshape(-1, 1))\n",
    "        grad_ = torch.autograd.grad(loss_val, x, retain_graph=True)[0]\n",
    "        x_adv = x.data + eps * torch.sign(grad_)\n",
    "        x_adv_tensor = torch.cat((x_adv_tensor, x_adv.cpu().detach()), dim=0)\n",
    "\n",
    "    return x_adv_tensor.detach(), all_y_true.detach()"
   ]
  },
  {
   "cell_type": "code",
   "execution_count": null,
   "metadata": {},
   "outputs": [],
   "source": [
    "X_train_tensor.shape, X_test_tensor.shape, y_train_tensor.shape, y_test_tensor.shape"
   ]
  },
  {
   "cell_type": "code",
   "execution_count": null,
   "metadata": {},
   "outputs": [],
   "source": [
    "X_adv.shape, y_adv.shape"
   ]
  },
  {
   "cell_type": "code",
   "execution_count": null,
   "metadata": {},
   "outputs": [],
   "source": [
    "eps = 1\n",
    "criterion = torch.nn.BCELoss()\n",
    "batch_size = 256\n",
    "n_objects = y_train.shape[0]\n",
    "device= torch.device('cuda:2' if torch.cuda.is_available() else 'cpu')\n",
    "train_mode=True\n",
    "\n",
    "HIDDEN_DIM = 50\n",
    "OUTPUT_DIM = 1\n",
    "N_LAYERS = 1\n",
    "DROPOUT = 0.0\n",
    "\n",
    "num_epochs = 30\n",
    "\n",
    "for model_id in tqdm(range(1, 5)):\n",
    "    \n",
    "    path_to_saves = 'checkpoints/Ford_A/'\n",
    "\n",
    "    model = LSTM_net(HIDDEN_DIM, N_LAYERS, OUTPUT_DIM, DROPOUT).to(device)\n",
    "    model_path = path_to_saves + f'model_{model_id}_{col}.pth'\n",
    "    model.load_state_dict(copy.deepcopy(torch.load(model_path)))\n",
    "    \n",
    "    # attack data    \n",
    "    X_adv, y_adv = prepare_adv_data(model, train_loader, criterion, eps, device, train_mode=train_mode)\n",
    "            \n",
    "    #rebuild dataset and dataloader\n",
    "    new_x_train, new_y_train = torch.concat([X_train_tensor, X_adv], dim=0), torch.concat([y_train_tensor, y_adv], dim=0)\n",
    "    train_adv_loader = DataLoader(MyDataset(new_x_train, new_y_train), batch_size=BS, shuffle=True)\n",
    "\n",
    "    \n",
    "    #train model on attacked data\n",
    "    torch.manual_seed(model_id)\n",
    "    model = LSTM_net(HIDDEN_DIM, N_LAYERS, OUTPUT_DIM, DROPOUT).to(device)\n",
    "    optimizer = torch.optim.Adam(model.parameters(), lr=LR)\n",
    "    scheduler = torch.optim.lr_scheduler.StepLR(optimizer, 12, gamma=0.1)\n",
    "\n",
    "    model = train_procedure(model, train_loader, test_loader, criterion, optimizer,\n",
    "                num_epochs=15, step_print=3)\n",
    "    #save model\n",
    "    torch.save(model.state_dict(), f'checkpoints/Ford_A/model_{model_id}_{col}_adv.pth') \n",
    "    "
   ]
  },
  {
   "cell_type": "code",
   "execution_count": null,
   "metadata": {},
   "outputs": [],
   "source": [
    "from utils.TS2Vec import datautils\n",
    "\n",
    "datautils.load_UCR('Coffee')[0].shape"
   ]
  },
  {
   "cell_type": "markdown",
   "metadata": {},
   "source": [
    "# Documentation"
   ]
  },
  {
   "cell_type": "code",
   "execution_count": null,
   "metadata": {},
   "outputs": [],
   "source": [
    "# import numpy as np\n",
    "# import torch\n",
    "# from torch.utils.data import Dataset, DataLoader\n",
    "# from torch import nn\n",
    "\n",
    "# from typing import Dict, Any, Tuple, List, Union, Sequence, Callable"
   ]
  },
  {
   "cell_type": "markdown",
   "metadata": {},
   "source": [
    "# Attacks"
   ]
  },
  {
   "cell_type": "code",
   "execution_count": null,
   "metadata": {},
   "outputs": [],
   "source": [
    "# def calculate_metrics_class(y_true, y_pred):\n",
    "#     acc = accuracy_score(y_true, y_pred)\n",
    "#     roc = roc_auc_score(y_true, y_pred)\n",
    "#     pr = average_precision_score(y_true, y_pred)\n",
    "#     return acc, roc, pr\n",
    "\n",
    "# def calc_accuracy(y_true, y_pred, y_pred_adv):\n",
    "#     acc_val = np.mean((y_pred == y_true))\n",
    "#     acc_adv = np.mean((y_pred_adv == y_true)) \n",
    "#     return acc_val, acc_adv\n",
    "\n",
    "# def req_grad(model: nn.Module, state: bool = True) -> None:\n",
    "#     \"\"\"Set requires_grad of all model parameters to the desired value.\n",
    "\n",
    "#     :param model: the model\n",
    "#     :param state: desired value for requires_grad\n",
    "#     \"\"\"\n",
    "#     for param in model.parameters():\n",
    "#         param.requires_grad_(state)"
   ]
  },
  {
   "cell_type": "code",
   "execution_count": null,
   "metadata": {},
   "outputs": [],
   "source": [
    "# def build_df_aa_metrics(metric_dict, eps):\n",
    "    \n",
    "#     results_df = pd.DataFrame.from_dict(metric_dict, orient=\"index\")\n",
    "#     results_df.set_axis(\n",
    "#         pd.Index([\"ACC\", \"ROC AUC\", \"PR AUC\"], name=\"metric\"), axis=1, inplace=True\n",
    "#     )\n",
    "#     results_df.set_axis(\n",
    "#         pd.Index(results_df.index, name=\"n steps\",), axis=0, inplace=True,\n",
    "#     )\n",
    "\n",
    "#     results_df = results_df.reset_index()\n",
    "#     results_df['eps'] = eps\n",
    "#     return results_df\n",
    "\n",
    "# def ifgsm_one_iter(\n",
    "#     model: nn.Module, #model for attack\n",
    "#     loader: DataLoader, #dataloader with data\n",
    "#     criterion: nn.Module,\n",
    "#     eps: float,\n",
    "#     train_mode=False): #params_dict with eps and iter number\n",
    "\n",
    "#     model.train(train_mode)\n",
    "#     req_grad(model, state=False)  # detach all model's parameters\n",
    "\n",
    "#     all_y_true = [] #logging y_true for rebuilding dataloader and calculation difference with preds\n",
    "#     all_preds = [] #logging predictions original for calculation difference with data\n",
    "#     all_preds_adv = [] #logging predictions for calculation difference with data\n",
    "#     x_adv_tensor = torch.FloatTensor([]) #logging x_adv for rebuilding dataloader\n",
    "    \n",
    "\n",
    "#     for x, y_true in loader:\n",
    "\n",
    "#         all_y_true.extend(y_true.detach().data.numpy())\n",
    "        \n",
    "#         x.grad = None\n",
    "#         x.requires_grad = True\n",
    "        \n",
    "#         # prediction for original input\n",
    "#         x = x.to(device, non_blocking=True)\n",
    "#         y_true = y_true.to(device)\n",
    "        \n",
    "#         y_pred = model(x) \n",
    "           \n",
    "#         # attack for adv input\n",
    "#         loss_val = criterion(y_pred, y_true.reshape(-1, 1))        \n",
    "#         grad_ = torch.autograd.grad(loss_val, x, retain_graph=True)[0]\n",
    "#         x_adv = x.data + eps * torch.sign(grad_)\n",
    "#         x_adv_tensor = torch.cat((x_adv_tensor, x_adv.cpu().detach()), dim=0)\n",
    "        \n",
    "#         #assert (x_adv == x).sum() == 0, \"Data doesn't change after attack\"\n",
    "        \n",
    "#         #class prediction\n",
    "#         preds = torch.argmax(y_pred, dim=1).clone().cpu().detach()\n",
    "#         all_preds.extend(y_pred.cpu().detach().data.numpy())\n",
    "        \n",
    "#         # prediction for adv input\n",
    "#         with torch.no_grad():\n",
    "#             y_pred_adv = model(x_adv)\n",
    "#             preds_adv = torch.argmax(y_pred_adv, dim=1).clone().cpu().detach() #class prediction\n",
    "#             all_preds_adv.extend(y_pred_adv.cpu().detach().data.numpy())\n",
    "        \n",
    "#         #assert (y_pred_adv == y_pred).sum() == 0, \"Predicitions doesn't change after attack\"\n",
    "    \n",
    "#     return x_adv_tensor, all_y_true, all_preds, all_preds_adv\n",
    "    \n",
    "\n",
    "    \n",
    "# def ifgsm_iterations(model: nn.Module,\n",
    "#                      loader: DataLoader,\n",
    "#                      dataset: Dataset,\n",
    "#                      criterion: nn.Module,\n",
    "#                      eps: float,\n",
    "#                      n_steps: int,\n",
    "#                      metric_fun,\n",
    "#                      batch_size = 8,\n",
    "#                      n_objects=100,\n",
    "#                      multiclass=False,\n",
    "#                      train_mode=False,\n",
    "#                     ):\n",
    "    \n",
    "#     aa_res_dict = dict()    \n",
    "    \n",
    "#     rejection_dict = dict()\n",
    "#     rejection_dict['diff'] = dict()\n",
    "#     iter_broken_objs = np.array([10**7]*n_objects)\n",
    "    \n",
    "#     for iter_ in tqdm(range(n_steps)):\n",
    "        \n",
    "#         #attack\n",
    "#         x_adv_tensor, y_true, preds_original, preds_adv = ifgsm_one_iter(model, loader, criterion, \n",
    "#                                                                          eps, train_mode=train_mode) \n",
    "        \n",
    "#         if multiclass:\n",
    "#             preds_flat_round = np.argmax(np.array(preds_original), axis=1).flatten()\n",
    "#             preds_adv_flat_round = np.argmax(np.array(preds_adv), axis=1).flatten()\n",
    "#             y_true_flat =  np.array(y_true).flatten()\n",
    "#             shape_diff = (1, 2)\n",
    "            \n",
    "#         else:\n",
    "#             preds_flat_round = np.round_(np.array(preds_original)).flatten()\n",
    "#             preds_adv_flat_round = np.round_(np.array(preds_adv)).flatten()\n",
    "#             y_true_flat =  np.array(y_true).flatten()\n",
    "#             shape_diff = (1)\n",
    "            \n",
    "#         #estimation        \n",
    "#         if iter_ == 0:\n",
    "#             iter_broken_objs[preds_flat_round != y_true_flat] = iter_\n",
    "#             aa_res_dict[iter_] = metric_fun(y_true_flat, preds_flat_round)\n",
    "#             preds_iter_1 = np.array(preds_original)         \n",
    "            \n",
    "#         iter_broken_objs[(preds_adv_flat_round != y_true_flat) & (iter_broken_objs > iter_)] = iter_+1\n",
    "        \n",
    "#         rejection_dict['diff'][iter_+1] = np.sum((preds_iter_1 - np.array(preds_adv))**2, axis=shape_diff)\n",
    "        \n",
    "        \n",
    "#         rejection_dict['iter_broke'] = iter_broken_objs\n",
    "#         aa_res_dict[iter_+1] = metric_fun(y_true_flat, preds_flat_round)\n",
    "\n",
    "#         # rebuilding dataloader for new iteration\n",
    "#         it_dataset = dataset(x_adv_tensor, torch.tensor(y_true)) \n",
    "#         loader=DataLoader(it_dataset, batch_size=batch_size)\n",
    "        \n",
    "#     return aa_res_dict, rejection_dict\n",
    "\n",
    "# def ifgsm_procedure(model: nn.Module,\n",
    "#                     loader: DataLoader,\n",
    "#                     dataset: Dataset,\n",
    "#                     criterion: nn.Module,\n",
    "#                     eps_params: Tuple[float, float, int],\n",
    "#                     n_steps: int,\n",
    "#                     metric_fun,\n",
    "#                     batch_size = 8,\n",
    "#                     n_objects=100,\n",
    "#                     train_mode=False,\n",
    "#                    ):\n",
    "#     aa_res_df = pd.DataFrame()  \n",
    "    \n",
    "#     rej_curves_dict = dict() # multilevel dict  eps -> diff and object \n",
    "#     # diff -> #n_iteration -> np.array difference between original prediction without attack and broken predictions\n",
    "#     # object -> np.array n_iter when wrong prediction\n",
    "    \n",
    "#     eps_for_check = np.geomspace(*eps_params)\n",
    "    \n",
    "#     for eps in tqdm(eps_for_check):\n",
    "#         print(f'*****************  EPS={eps}  ****************')\n",
    "\n",
    "#         aa_res_iter_dict, rej_curves_iter_dict = ifgsm_iterations(model, loader, dataset, criterion, eps,  \n",
    "#                                                                   n_steps, metric_fun, batch_size, n_objects, \n",
    "#                                                                   train_mode=train_mode)\n",
    "\n",
    "#         rej_curves_dict[eps] = rej_curves_iter_dict\n",
    "#         aa_res_df = pd.concat([aa_res_df, build_df_aa_metrics(aa_res_iter_dict, eps)])\n",
    "        \n",
    "#     return aa_res_df, rej_curves_dict\n"
   ]
  },
  {
   "cell_type": "code",
   "execution_count": null,
   "metadata": {},
   "outputs": [],
   "source": [
    "# n_iters = 50\n",
    "# #eps_params = (1e-2, 1e0, 10)\n",
    "# eps_params = (0.3, 1e0, 1)\n",
    "# eps_params = (1e-3, 1e0, 5)\n",
    "# criterion = torch.nn.CrossEntropyLoss()\n",
    "\n",
    "# aa_res_df, rej_curves_dict = ifgsm_procedure(model=model, dataloader=test_loader, criterion=criterion, \n",
    "#                                              eps_params=eps_params, n_steps=n_iters, \n",
    "#                                              metric_fun=calculate_metrics_class, batch_size=batch_size)\n",
    "\n",
    "# aa_res_df.to_csv(f'results/aa_res_{col}.csv')\n",
    "# with open(f'results/rej_curves_dict_{col}.pickle', 'wb') as file:\n",
    "#     pickle.dump(result_broket_dict, file)"
   ]
  },
  {
   "cell_type": "markdown",
   "metadata": {},
   "source": [
    "# Visualisation AA res"
   ]
  },
  {
   "cell_type": "code",
   "execution_count": null,
   "metadata": {},
   "outputs": [],
   "source": [
    "# def plot_aa_metrics(res_df, method='eps'):\n",
    "    \n",
    "#     metrics = [\"ACC\", \"ROC AUC\", \"PR AUC\"]    \n",
    "#     if method=='eps':\n",
    "#         plt.figure(figsize=(15, 12))\n",
    "\n",
    "#         for i, eps in enumerate(res_df['eps'].unique()):    \n",
    "#             plt.subplot(2, 3, i+1)\n",
    "            \n",
    "#             for metric in metrics:\n",
    "#                 df_loc = res_df[res_df['eps'] == eps].copy()\n",
    "#                 plt.plot(df_loc.index, df_loc[metric], label=metric)\n",
    "#             plt.title(f'Eps = {round(eps, 4)}')\n",
    "#             plt.xlabel('n iterations')\n",
    "#             plt.legend()\n",
    "#             plt.grid()\n",
    "\n",
    "#     elif method=='metric':\n",
    "#         plt.figure(figsize=(20, 15))\n",
    "        \n",
    "#         for i, metric in enumerate(metrics):\n",
    "#             plt.subplot(2, 3, i+1)\n",
    "            \n",
    "#             for eps in res_df['eps'].unique():\n",
    "#                 df_loc = res_df[res_df['eps'] == eps].copy()\n",
    "#                 plt.plot(df_loc.index, df_loc[metric],  label=f'Eps = {round(eps, 4)}')\n",
    "#             plt.title(metric)\n",
    "#             plt.xlabel('n iterations')\n",
    "#             plt.legend()\n",
    "#             plt.grid()\n",
    "        \n",
    "#     else:\n",
    "#         raise ValueError('metho should be eps or metric')\n",
    "        \n",
    "\n",
    "#     plt.show()"
   ]
  },
  {
   "cell_type": "markdown",
   "metadata": {},
   "source": [
    "# Rejection curves"
   ]
  },
  {
   "cell_type": "code",
   "execution_count": null,
   "metadata": {},
   "outputs": [],
   "source": [
    "# def get_ensemble_mi(preds:  np.ndarray) -> np.ndarray:\n",
    "#     \"\"\"Calculate entropy of a given 1d numpy array. Input values are clipped to [0, 1].\n",
    "\n",
    "#     :param p: numpy array of numerics\n",
    "#     :return: numpy array of entropy values\n",
    "#     \"\"\"\n",
    "#     _, pentropy = get_ensemble_predictive_entropy(preds)\n",
    "#     ave_preds, eentropy = get_ensemble_expected_entropy(preds)\n",
    "\n",
    "#     return ave_preds, (pentropy - eentropy)\n",
    "\n",
    "# def get_minprob(pred: np.ndarray) -> np.ndarray:\n",
    "#     \"\"\"Calculate minprob uncertainty estimate. Input values are clipped to [0, 1].\n",
    "#     :param pred: numpy array of numerics\n",
    "#     :return: numpy array of minprob estimates\n",
    "#     \"\"\"\n",
    "\n",
    "#     def func(pred):\n",
    "#         if pred < 0.5:\n",
    "#             return pred, pred\n",
    "#         else:\n",
    "#             return pred, (1 - pred)\n",
    "\n",
    "#     func_vec = np.vectorize(func)\n",
    "#     clipped_pred = np.clip(pred, 1e-5, 1 - 1e-5)\n",
    "\n",
    "#     return func_vec(clipped_pred)\n",
    "\n",
    "# def get_entropy(p: np.ndarray) -> np.ndarray:\n",
    "#     \"\"\"Calculate entropy of a given 1d numpy array. Input values are clipped to [0, 1].\n",
    "\n",
    "#     :param p: numpy array of numerics\n",
    "#     :return: numpy array of entropy values\n",
    "#     \"\"\"\n",
    "#     cp = np.clip(p, 1e-5, 1 - 1e-5)\n",
    "#     entropy = -cp * np.log2(cp) - (1 - cp) * np.log2(1 - cp)\n",
    "\n",
    "#     return entropy\n",
    "\n",
    "\n",
    "\n",
    "# def get_ensemble_predictive_entropy(preds: np.ndarray) -> np.ndarray:\n",
    "#     \"\"\"Calculate predictive entropy of ensemble predictions.\n",
    "#     :param preds: numpy array of ensemble predictions. Expects first dimension to represent members of ensemble\n",
    "#     :return: numpy array of predictive entropy estimates\n",
    "#     \"\"\"\n",
    "#     ave_preds = np.average(np.copy(preds), axis=0)\n",
    "\n",
    "#     return ave_preds, get_entropy(ave_preds)\n",
    "\n",
    "\n",
    "# def get_ensemble_expected_entropy(preds: np.ndarray) -> np.ndarray:\n",
    "#     \"\"\"Calculate expected entropy of ensemble predictions.\n",
    "#     :param preds: numpy array of ensemble predictions. Expects first dimension to represent members of ensemble\n",
    "#     :return: numpy array of predictive entropy estimates\n",
    "#     \"\"\"\n",
    "#     ave_preds = np.average(np.copy(preds), axis=0)\n",
    "\n",
    "#     return ave_preds, np.apply_along_axis(get_entropy, 0, preds).mean(axis=0)\n",
    "\n",
    "\n",
    "# def get_ensemble_std(preds: np.ndarray) -> np.ndarray:\n",
    "#     \"\"\"Calculate estimate of standard deviation of ensemble predictions.\n",
    "#     :param preds: numpy array of ensemble predictions. Expects first dimension to represent members of ensemble\n",
    "#     :return: numpy array of standard deviation estimates estimates\n",
    "#     \"\"\"\n",
    "#     ave_preds = np.average(np.copy(preds), axis=0)\n",
    "\n",
    "#     return ave_preds, np.std(preds, axis=0)\n",
    "\n",
    "\n",
    "# def sort_data_by_metric(\n",
    "#     metric: Sequence, preds: np.ndarray, labels: np.ndarray\n",
    "# ) -> Tuple[List, List]:\n",
    "#     \"\"\"Sort preds and labels by descending uncertainty metric.\n",
    "#     :param metric: uncertainty metric according to which preds and labels will be sorted\n",
    "#     :param preds: model predictions\n",
    "#     :param labels: ground truth labels\n",
    "#     :return: a tuple of\n",
    "#         - np.ndarray of predictions, sorted according to metric\n",
    "#         - np.ndarray of labels, sorted according to metric\n",
    "#     \"\"\"\n",
    "#     sorted_metric_idx = np.argsort(metric)\n",
    "\n",
    "#     return preds[sorted_metric_idx].flatten(), labels[sorted_metric_idx].flatten()\n",
    "\n",
    "\n",
    "# def get_upper_bound_idx(data_len: int, rejection_rates: Sequence[float]) -> List[float]:\n",
    "#     \"\"\"Calculate upped bounds on indices of data arrays.\n",
    "#     Based on corresponding list of rejection rates is applied.\n",
    "#     :param data_len: length of data array\n",
    "#     :param rejection_rates: array of rejection rates to calculate upper bounds for\n",
    "#     :return: list of upper bounds\n",
    "#     \"\"\"\n",
    "#     idx = []\n",
    "#     for rate in rejection_rates:\n",
    "#         idx.append(\n",
    "#             min(np.ceil(data_len * (1 - rate)), np.array(data_len)).astype(int).item()\n",
    "#         )\n",
    "\n",
    "#     return idx\n",
    "\n",
    "\n",
    "# def reject_and_eval(\n",
    "#     preds: np.ndarray,\n",
    "#     labels: np.ndarray,\n",
    "#     upper_bounds: Sequence[float],\n",
    "#     scoring_func: Callable,\n",
    "# ) -> List:\n",
    "#     \"\"\"Clip preds and labels arrays.\n",
    "#     Using list of upper bounds, and calculate scoring metric for\n",
    "#     predictions after rejection.\n",
    "#     :param preds: model label predictions or predicted class probabilities\n",
    "#     :param labels: ground truth labels\n",
    "#     :param upper_bounds: list of upper bounds to clip preds and labels to\n",
    "#     :param scoring_func: scoring function that takes labels and predictions or probabilities (in that order)\n",
    "#     :return: list of scores calculated for each upper bound\n",
    "#     \"\"\"\n",
    "#     scores = []\n",
    "#     predicted_labels = np.where(preds > 0.5, 1, 0)\n",
    "    \n",
    "    \n",
    "#     i = 0\n",
    "#     for upper_bound in upper_bounds:\n",
    "#         predicted_labels_below_thresh = predicted_labels[0:upper_bound]\n",
    "#         preds_below_thresh = preds[0:upper_bound]\n",
    "#         labels_below_thresh = labels[0:upper_bound]\n",
    "\n",
    "#         try:\n",
    "#             if preds_below_thresh.size > 0 and labels_below_thresh.mean() not in [0, 1]:\n",
    "#                 scores.append(scoring_func(labels_below_thresh, preds_below_thresh))\n",
    "                \n",
    "#         except ValueError:\n",
    "#             if (\n",
    "#                 predicted_labels_below_thresh.size > 0\n",
    "#                 and labels_below_thresh.mean() not in [0, 1]\n",
    "#             ):\n",
    "#                 scores.append(\n",
    "#                     scoring_func(labels_below_thresh, predicted_labels_below_thresh)\n",
    "#                 )\n",
    "#         i += 1\n",
    "    \n",
    "#     #print(scores)\n",
    "#     return scores\n",
    "\n",
    "\n",
    "# def reject_by_metric(\n",
    "#     get_metric: Callable,\n",
    "#     preds: np.ndarray,\n",
    "#     labels: np.ndarray,\n",
    "#     rejection_rates: List[float],\n",
    "#     scoring_func: Callable,\n",
    "# ) -> List:\n",
    "#     \"\"\"Reject points from preds and labels based on uncertainty estimate of choice.\n",
    "#     :param get_metric: function that returns uncertainty metric for given model predictions\n",
    "#     :param preds: model label predictions or predicted class probabilities\n",
    "#     :param labels: ground truth labels\n",
    "#     :param rejection_rates: list of rejection rates to use\n",
    "#     :param scoring_func: scoring function that takes labels and predictions or probabilities (in that order)\n",
    "#     :return: list of scores calculated for each upper bound\n",
    "#     \"\"\"\n",
    "    \n",
    "#     #print(scoring_func)\n",
    "\n",
    "#     preds, metric_values = get_metric(preds)\n",
    "    \n",
    "#     preds_sorted, labels_sorted = sort_data_by_metric(metric_values, preds, labels)\n",
    "#     #print(preds_sorted.shape, labels_sorted.shape)\n",
    "    \n",
    "#     upper_indices = get_upper_bound_idx(preds.size, rejection_rates)\n",
    "    \n",
    "#     res = reject_and_eval(preds_sorted, labels_sorted, upper_indices, scoring_func)\n",
    "#     return res"
   ]
  },
  {
   "cell_type": "code",
   "execution_count": null,
   "metadata": {},
   "outputs": [],
   "source": [
    "# def reject_by_iters_obj(\n",
    "#     iters_vec: np.ndarray,\n",
    "#     preds: np.ndarray,\n",
    "#     labels: np.ndarray,\n",
    "#     rejection_rates: List[float],\n",
    "#     scoring_func: Callable,\n",
    "# ) -> List:\n",
    "    \n",
    "#     preds = np.average(np.copy(preds), axis=0)\n",
    "#     preds_sorted, labels_sorted = sort_data_by_metric(1/(iters_vec+0.001), preds, labels)\n",
    "#     #preds_sorted, labels_sorted = sort_data_by_metric(iters_vec, preds, labels)\n",
    "    \n",
    "#     upper_indices = get_upper_bound_idx(preds.size, rejection_rates)\n",
    "#     res = reject_and_eval(preds_sorted, labels_sorted, upper_indices, scoring_func)\n",
    "#     return res\n",
    "\n",
    "# def reject_by_diff(\n",
    "#     diff_vec: np.ndarray,\n",
    "#     preds: np.ndarray,\n",
    "#     labels: np.ndarray,\n",
    "#     rejection_rates: List[float],\n",
    "#     scoring_func: Callable,\n",
    "# ) -> List:\n",
    "    \n",
    "#     preds = np.average(np.copy(preds), axis=0)\n",
    "    \n",
    "#     preds_sorted, labels_sorted = sort_data_by_metric(1/(diff_vec+0.001), preds, labels)\n",
    "#     #preds_sorted, labels_sorted = sort_data_by_metric(diff_vec, preds, labels)\n",
    "    \n",
    "#     upper_indices = get_upper_bound_idx(preds.size, rejection_rates)\n",
    "#     res = reject_and_eval(preds_sorted, labels_sorted, upper_indices, scoring_func)\n",
    "#     return res\n",
    "\n",
    "# def reject_by_norm(\n",
    "#     norm_vec: np.ndarray,\n",
    "#     preds: np.ndarray,\n",
    "#     labels: np.ndarray,\n",
    "#     rejection_rates: List[float],\n",
    "#     scoring_func: Callable,\n",
    "# ) -> List:\n",
    "    \n",
    "#     preds = np.average(np.copy(preds), axis=0)\n",
    "\n",
    "#     #print(len(iters_vec), len(preds), len(labels))\n",
    "#     #preds_sorted, labels_sorted = sort_data_by_metric(1/(norm_vec+1), preds, labels)\n",
    "#     preds_sorted, labels_sorted = sort_data_by_metric(norm_vec, preds, labels)\n",
    "    \n",
    "#     upper_indices = get_upper_bound_idx(preds.size, rejection_rates)\n",
    "#     res = reject_and_eval(preds_sorted, labels_sorted, upper_indices, scoring_func)\n",
    "#     return res\n",
    "\n",
    "# def reject_randomly(\n",
    "#     preds: np.ndarray,\n",
    "#     labels: np.ndarray,\n",
    "#     rejection_rates: List[float],\n",
    "#     num_samples: int,\n",
    "#     scoring_func: Callable,\n",
    "# ) -> np.ndarray:\n",
    "#     \"\"\"Reject predictions after random shuffling.\n",
    "\n",
    "#     Perform sampling num_samples times for each rejection rate and average over them\n",
    "\n",
    "#     :param preds: model label predictions or predicted class probabilities\n",
    "#     :param labels: ground truth labels\n",
    "#     :param rejection_rates: list of rejection rates to use\n",
    "#     :param num_samples: number of repetitions of shuffling + rejection\n",
    "#     :param scoring_func: scoring function that takes labels and predictions or probabilities (in that order)\n",
    "#     :return: list of scores calculated for each upper bound\n",
    "#     \"\"\"\n",
    "#     accs = []\n",
    "#     upper_indices = get_upper_bound_idx(preds.size, rejection_rates)\n",
    "\n",
    "#     for _ in range(num_samples):\n",
    "#         shuffle_indices = np.random.permutation(preds.size)\n",
    "#         accs.append(\n",
    "#             reject_and_eval(\n",
    "#                 preds[shuffle_indices],\n",
    "#                 labels[shuffle_indices],\n",
    "#                 upper_indices,\n",
    "#                 scoring_func,\n",
    "#             )\n",
    "#         )\n",
    "\n",
    "#     return np.mean(accs, axis=0)"
   ]
  },
  {
   "cell_type": "code",
   "execution_count": null,
   "metadata": {},
   "outputs": [],
   "source": [
    "# def build_basic_dict_curve(\n",
    "#     labels, \n",
    "#     preds:list,\n",
    "#     norms:np.array,\n",
    "#     rejection_rates:np.array, \n",
    "#     dict_metrics:dict,\n",
    "#     ):\n",
    "\n",
    "#     dict_curves = dict()\n",
    "    \n",
    "#     preds = np.array(preds)\n",
    "#     ave_preds = np.average(preds, axis=0)\n",
    "\n",
    "#     for metric_name, metric in  dict_metrics.items():\n",
    "        \n",
    "\n",
    "#         dict_curve_metric = dict()\n",
    "\n",
    "\n",
    "#         dict_curve_metric['Predictive entropy'] = reject_by_metric(get_ensemble_predictive_entropy,\n",
    "#                                          preds,\n",
    "#                                          labels, \n",
    "#                                          rejection_rates,\n",
    "#                                          metric)\n",
    "\n",
    "\n",
    "#         dict_curve_metric['StD'] = reject_by_metric(get_ensemble_std,\n",
    "#                                     preds,\n",
    "#                                     labels, \n",
    "#                                     rejection_rates,\n",
    "#                                     metric)\n",
    "\n",
    "#         dict_curve_metric['MaxProb'] = reject_by_metric(get_minprob,\n",
    "#                                         preds[0, :],\n",
    "#                                         labels, \n",
    "#                                         rejection_rates,\n",
    "#                                         metric)\n",
    "\n",
    "#         dict_curve_metric['Random'] = reject_randomly(ave_preds,\n",
    "#                                       labels, \n",
    "#                                       rejection_rates,\n",
    "#                                       1000,\n",
    "#                                       metric)\n",
    "\n",
    "#         dict_curve_metric['Grad_Norm'] = reject_by_norm(norms,\n",
    "#                                     preds,\n",
    "#                                     labels, \n",
    "#                                     rejection_rates,\n",
    "#                                     metric)\n",
    "        \n",
    "        \n",
    "#         dict_curves[metric_name] = dict_curve_metric\n",
    "#     return dict_curves\n",
    "\n",
    "\n",
    "# def build_custom_dict_curve(dict_curves:dict,\n",
    "#                         labels, \n",
    "#                         preds:list,\n",
    "#                         norms:np.array,\n",
    "#                         rejection_rates:np.array, \n",
    "#                         dict_metrics:dict,\n",
    "#                         rej_curves_dict:dict, \n",
    "#                         all_eps:list,\n",
    "#                         iter_to_break:int, ):\n",
    "\n",
    "#     for metric_name, metric in dict_metrics.items():\n",
    "    \n",
    "\n",
    "#         dict_curve_metric = dict()\n",
    "        \n",
    "#         type_ = 'diff'\n",
    "#         eps = all_eps[0]\n",
    "#         iter_ = iter_to_break\n",
    "#         rej_vec = abs(rej_curves_dict[eps][type_][iter_])\n",
    "        \n",
    "#         dict_curve_metric[f'Iter_{type_}_eps={round(eps, 4)}_iter={iter_}'] = reject_by_diff(rej_vec,\n",
    "#                                          preds,\n",
    "#                                          labels, \n",
    "#                                          rejection_rates,\n",
    "#                                          metric)\n",
    "\n",
    "\n",
    "#         type_ = 'diff'\n",
    "#         eps = all_eps[2]\n",
    "#         iter_ = iter_to_break\n",
    "#         rej_vec = abs(rej_curves_dict[eps][type_][iter_])\n",
    "#         dict_curve_metric[f'Iter_{type_}_eps={round(eps, 4)}_iter={iter_}'] = reject_by_diff(rej_vec,\n",
    "#                                          preds,\n",
    "#                                          labels, \n",
    "#                                          rejection_rates,\n",
    "#                                          metric)\n",
    "\n",
    "\n",
    "#         type_ = 'iter_broke'\n",
    "#         eps = all_eps[4]\n",
    "#         iter_ = ''\n",
    "#         dict_curve_metric[f'Iter_{type_}_eps={round(eps, 4)}'] = reject_by_iters_obj(rej_curves_dict[eps][type_],\n",
    "#                                          preds,\n",
    "#                                          labels, \n",
    "#                                          rejection_rates,\n",
    "#                                          metric)\n",
    "        \n",
    "#         # Union 2 dicts\n",
    "#         dict_curves[metric_name] = {**dict_curves[metric_name], **dict_curve_metric}\n",
    "\n",
    "        \n",
    "#     return dict_curves\n",
    "    \n",
    "# def draw_rejection_curves(dict_curves):\n",
    "#     plt.figure(figsize=(17, 9))\n",
    "\n",
    "#     for i, (metric_name, curves_dict) in enumerate(dict_curves.items()):\n",
    "\n",
    "#         plt.subplot(1, 3, i+1)\n",
    "\n",
    "#         for label, metric in curves_dict.items():\n",
    "#             if 'Iter_diff' in label:\n",
    "#                 plt.plot(rejection_rates[0:len(metric)], metric, \n",
    "#                          label=label, linewidth = 3, linestyle='--')\n",
    "#             elif 'Iter_object' in label:\n",
    "#                 plt.plot(rejection_rates[0:len(metric)], metric, \n",
    "#                          label=label, linewidth = 3, linestyle='-')\n",
    "\n",
    "#             elif 'Norm' in label:\n",
    "#                 plt.plot(rejection_rates[0:len(metric)], metric, \n",
    "#                          label=label, linewidth = 3, linestyle=':')\n",
    "#             else:\n",
    "#                 plt.plot(rejection_rates[0:len(metric)], metric, label=label)\n",
    "#         plt.title(metric_name)\n",
    "#         plt.xlabel('Rejection rate')\n",
    "#         plt.ylabel(metric_name)\n",
    "#         plt.legend()\n",
    "#         plt.grid()\n",
    "\n",
    "#     plt.show()"
   ]
  },
  {
   "cell_type": "code",
   "execution_count": null,
   "metadata": {},
   "outputs": [],
   "source": [
    "# import copy\n",
    "\n",
    "# def all_predict(model, loader, round_=True, multiclass=False, device='cpu'):\n",
    "    \n",
    "#     y_all_pred = torch.FloatTensor([])\n",
    "    \n",
    "#     for x, y_true in loader:\n",
    "            \n",
    "#         x = x.to(device)\n",
    "#         y_true = y_true.to(device)\n",
    "#         y_pred = model(x)\n",
    "        \n",
    "#         if round_: \n",
    "#             if multiclass:\n",
    "#                 y_pred = torch.argmax(y_pred, dim=1)\n",
    "#             else:\n",
    "#                 y_pred = torch.round_(y_pred)\n",
    "#         else:\n",
    "#             if multiclass:\n",
    "#                 y_pred = torch.nn.functional.softmax(y_pred)\n",
    "            \n",
    "            \n",
    "#         y_all_pred = torch.cat((y_all_pred, y_pred.cpu().detach()), dim=0)\n",
    "        \n",
    "#     if round_:\n",
    "#         y_all_pred = torch.round(y_all_pred)\n",
    "#     y_all_pred = y_all_pred.cpu().detach().numpy()\n",
    "#     y_all_pred = y_all_pred.reshape([-1, 1])\n",
    "#     return y_all_pred\n",
    "\n",
    "# def get_grad_norm(model:nn.Module,\n",
    "#                   loader:DataLoader,\n",
    "#                   criterion:nn.Module,\n",
    "#                   ):\n",
    "#     grad_norm_model = torch.tensor(np.array([]))\n",
    "    \n",
    "\n",
    "#     for x, y_true in loader:\n",
    "        \n",
    "#         x.grad = None\n",
    "#         x.requires_grad = True\n",
    "        \n",
    "#         x = x.to(device)\n",
    "#         y_true = y_true.to(device)\n",
    "\n",
    "#         y_pred = model(x)\n",
    "#         loss_val = criterion(y_pred, y_true)\n",
    "\n",
    "#         grad = torch.autograd.grad(loss_val, x, retain_graph=True)[0]\n",
    "#         grad_norm = torch.linalg.norm(grad, ord=2, dim=(1,2)).cpu().detach()\n",
    "#         grad_norm_model = torch.cat((grad_norm_model, grad_norm))\n",
    "        \n",
    "#     return np.array(grad_norm_model)\n",
    "\n",
    "# def rejection_curves_procedure(model:nn.Module, \n",
    "#                                loader:DataLoader,\n",
    "#                                criterion:nn.Module,\n",
    "#                                load_fun, \n",
    "#                                load_params,\n",
    "#                                labels,\n",
    "#                                device,\n",
    "#                                n_models=1,\n",
    "#                               ):\n",
    "    \n",
    "#     norms_all = []\n",
    "#     preds_all = []\n",
    "    \n",
    "#     for i, model_path in enumerate(load_path):\n",
    "\n",
    "#         #loading_weights\n",
    "        \n",
    "#         model = load_fun(model=model, model_path=model_path)\n",
    "#         model = model.to(device)\n",
    "#         model.eval()\n",
    "\n",
    "#         #estimate results        \n",
    "#         preds_round = all_predict(model=model, loader=loader, \n",
    "#                               round_=True, device=device)\n",
    "#         metrics = calculate_metrics_class(labels, preds_round)\n",
    "#         acc, roc, pr_auc = metrics\n",
    "#         print(f\"{i}th models Accuracy {acc:.3f}, ROC-AUC {roc:.3f}, PR-AUC {pr_auc:.3f}\")\n",
    "        \n",
    "#         preds = all_predict(model=model, loader=loader, \n",
    "#                               round_=False, device=device)\n",
    "#         preds_all.append(preds)\n",
    "        \n",
    "#         model.train()\n",
    "#         norm = get_grad_norm(model=model, loader=loader, criterion=criterion)\n",
    "#         norms_all.append(norm)\n",
    "        \n",
    "#     preds = np.array(preds_all).reshape(len(preds_all), preds.shape[0])\n",
    "#     return preds, np.sum(np.array(norms_all), axis=0)\n",
    "    \n",
    "    "
   ]
  },
  {
   "cell_type": "code",
   "execution_count": null,
   "metadata": {},
   "outputs": [],
   "source": [
    "# model_params = {\"HIDDEN_DIM\":50,\n",
    "#                 \"OUTPUT_DIM\":1,\n",
    "#                 \"N_LAYERS\":1,\n",
    "#                 \"DROPOUT\":0.3,\n",
    "#                 }\n",
    "\n",
    "# basic_path = 'checkpoint/model_{}_{}.pth'\n",
    "# load_path = [basic_path.format(i, col) for i in range(5)]\n",
    "\n",
    "# model = LSTM_net(**model_params).to(device)\n",
    "# preds, norms = rejection_curves_procedure(model, test_loader,\n",
    "#                                criterion, load_path, \n",
    "#                                n_models=5)"
   ]
  },
  {
   "cell_type": "code",
   "execution_count": null,
   "metadata": {},
   "outputs": [],
   "source": [
    "# model_params = {\"HIDDEN_DIM\":50,\n",
    "#                 \"OUTPUT_DIM\":1,\n",
    "#                 \"N_LAYERS\":1,\n",
    "#                 \"DROPOUT\":0.3,\n",
    "#                 }\n",
    "\n",
    "# basic_path = 'checkpoint/model_{}_{}.pth'\n",
    "# load_path = [basic_path.format(i, col) for i in range(5)]\n",
    "# preds, norms = rejection_curves_procedure(model, loader,\n",
    "#                                criterion, load_path, \n",
    "#                                n_models=5, model_params)\n",
    "\n",
    "# rejection_rates = np.linspace(0, 1.0, 20)\n",
    "# iter_to_break = 49\n",
    "# dict_metrics = {'Acc':accuracy_score,\n",
    "#                'ROC AUC':roc_auc_score,\n",
    "#                'PR AUC':average_precision_score}\n",
    "\n",
    "# all_eps = list(result_broket_dict.keys())\n",
    "\n",
    "\n",
    "# dict_curves = build_basic_dict_curve(y_test, preds, norms, rejection_rates, dict_metrics)\n",
    "# dict_curves = build_basic_dict_curve(dict_curves, y_test, preds, norms, rejection_rates, \n",
    "#                                      dict_metrics, rej_curves_dict, all_eps, iter_to_break)\n",
    "\n",
    "\n",
    "# dict_curves[metric_name] = dict_curve_metric\n",
    "# draw_rejection_curves(dict_curves)"
   ]
  },
  {
   "cell_type": "code",
   "execution_count": null,
   "metadata": {},
   "outputs": [],
   "source": [
    "# draw_rejection_curves(dict_curves)"
   ]
  }
 ],
 "metadata": {
  "kernelspec": {
   "display_name": "Python 3",
   "language": "python",
   "name": "python3"
  },
  "language_info": {
   "codemirror_mode": {
    "name": "ipython",
    "version": 3
   },
   "file_extension": ".py",
   "mimetype": "text/x-python",
   "name": "python",
   "nbconvert_exporter": "python",
   "pygments_lexer": "ipython3",
   "version": "3.8.5"
  }
 },
 "nbformat": 4,
 "nbformat_minor": 4
}
